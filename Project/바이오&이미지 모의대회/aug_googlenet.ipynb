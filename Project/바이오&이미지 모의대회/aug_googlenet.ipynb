{
 "cells": [
  {
   "cell_type": "markdown",
   "id": "6c50f01a-72fd-4804-9f54-d77b52d3991f",
   "metadata": {
    "id": "6c50f01a-72fd-4804-9f54-d77b52d3991f"
   },
   "source": [
    "# [모의 캐글-의료] 흉부 CT 코로나 감염 여부 분류\n",
    "- 이미지 binary 분류 과제\n",
    "- 담당: 이녕민M"
   ]
  },
  {
   "cell_type": "markdown",
   "id": "f51ba7c1-0393-47ec-89d9-f6f97072773b",
   "metadata": {
    "id": "f51ba7c1-0393-47ec-89d9-f6f97072773b"
   },
   "source": [
    "## Import Libraries"
   ]
  },
  {
   "cell_type": "code",
   "execution_count": 1,
   "id": "e4325d39-6344-4116-b343-df51696905ec",
   "metadata": {
    "colab": {
     "base_uri": "https://localhost:8080/"
    },
    "executionInfo": {
     "elapsed": 13761,
     "status": "ok",
     "timestamp": 1644456224427,
     "user": {
      "displayName": "고주연",
      "photoUrl": "https://lh3.googleusercontent.com/a/default-user=s64",
      "userId": "03650257558653620468"
     },
     "user_tz": -540
    },
    "id": "e4325d39-6344-4116-b343-df51696905ec",
    "outputId": "125ec319-a5cb-4ae7-d422-511b09b8a2ed",
    "tags": []
   },
   "outputs": [
    {
     "name": "stdout",
     "output_type": "stream",
     "text": [
      "Ign:1 https://developer.download.nvidia.com/compute/cuda/repos/ubuntu1804/x86_64  InRelease\n",
      "Ign:2 https://developer.download.nvidia.com/compute/machine-learning/repos/ubuntu1804/x86_64  InRelease\n",
      "Hit:3 https://developer.download.nvidia.com/compute/cuda/repos/ubuntu1804/x86_64  Release\n",
      "Hit:4 http://archive.ubuntu.com/ubuntu bionic InRelease                        \n",
      "Hit:5 https://developer.download.nvidia.com/compute/machine-learning/repos/ubuntu1804/x86_64  Release\n",
      "Hit:7 http://archive.ubuntu.com/ubuntu bionic-updates InRelease                \n",
      "Hit:8 http://security.ubuntu.com/ubuntu bionic-security InRelease       \n",
      "Hit:9 http://archive.ubuntu.com/ubuntu bionic-backports InRelease\n",
      "Reading package lists... Done                    \n",
      "Reading package lists... Done\n",
      "Building dependency tree       \n",
      "Reading state information... Done\n",
      "python3-opencv is already the newest version (3.2.0+dfsg-4ubuntu0.1).\n",
      "0 upgraded, 0 newly installed, 0 to remove and 78 not upgraded.\n"
     ]
    }
   ],
   "source": [
    "!apt-get update && apt-get install -y python3-opencv"
   ]
  },
  {
   "cell_type": "code",
   "execution_count": 2,
   "id": "6f475804-13db-484c-a348-f01580e80a1e",
   "metadata": {
    "colab": {
     "base_uri": "https://localhost:8080/"
    },
    "executionInfo": {
     "elapsed": 6647,
     "status": "ok",
     "timestamp": 1644456231064,
     "user": {
      "displayName": "고주연",
      "photoUrl": "https://lh3.googleusercontent.com/a/default-user=s64",
      "userId": "03650257558653620468"
     },
     "user_tz": -540
    },
    "id": "6f475804-13db-484c-a348-f01580e80a1e",
    "outputId": "72b7e495-19a1-4d21-d6dd-7fed7d811b43",
    "tags": []
   },
   "outputs": [
    {
     "name": "stdout",
     "output_type": "stream",
     "text": [
      "Requirement already satisfied: sklearn in /opt/conda/lib/python3.8/site-packages (0.0)\n",
      "Requirement already satisfied: scikit-learn in /opt/conda/lib/python3.8/site-packages (from sklearn) (1.0.2)\n",
      "Requirement already satisfied: threadpoolctl>=2.0.0 in /opt/conda/lib/python3.8/site-packages (from scikit-learn->sklearn) (3.1.0)\n",
      "Requirement already satisfied: numpy>=1.14.6 in /opt/conda/lib/python3.8/site-packages (from scikit-learn->sklearn) (1.19.2)\n",
      "Requirement already satisfied: scipy>=1.1.0 in /opt/conda/lib/python3.8/site-packages (from scikit-learn->sklearn) (1.8.0)\n",
      "Requirement already satisfied: joblib>=0.11 in /opt/conda/lib/python3.8/site-packages (from scikit-learn->sklearn) (1.1.0)\n"
     ]
    }
   ],
   "source": [
    "!pip install sklearn"
   ]
  },
  {
   "cell_type": "code",
   "execution_count": 3,
   "id": "e67324d2-a250-4284-88b2-dd47495a6680",
   "metadata": {},
   "outputs": [
    {
     "name": "stdout",
     "output_type": "stream",
     "text": [
      "Requirement already satisfied: pandas in /opt/conda/lib/python3.8/site-packages (1.4.0)\n",
      "Requirement already satisfied: numpy>=1.18.5; platform_machine != \"aarch64\" and platform_machine != \"arm64\" and python_version < \"3.10\" in /opt/conda/lib/python3.8/site-packages (from pandas) (1.19.2)\n",
      "Requirement already satisfied: pytz>=2020.1 in /opt/conda/lib/python3.8/site-packages (from pandas) (2020.5)\n",
      "Requirement already satisfied: python-dateutil>=2.8.1 in /opt/conda/lib/python3.8/site-packages (from pandas) (2.8.2)\n",
      "Requirement already satisfied: six>=1.5 in /opt/conda/lib/python3.8/site-packages (from python-dateutil>=2.8.1->pandas) (1.15.0)\n"
     ]
    }
   ],
   "source": [
    "!pip install pandas"
   ]
  },
  {
   "cell_type": "code",
   "execution_count": 4,
   "id": "54eebecd-0220-4d20-bdd1-1d2dc978d602",
   "metadata": {},
   "outputs": [
    {
     "name": "stdout",
     "output_type": "stream",
     "text": [
      "Requirement already satisfied: wandb in /opt/conda/lib/python3.8/site-packages (0.12.10)\n",
      "Requirement already satisfied: protobuf>=3.12.0 in /opt/conda/lib/python3.8/site-packages (from wandb) (3.19.4)\n",
      "Requirement already satisfied: GitPython>=1.0.0 in /opt/conda/lib/python3.8/site-packages (from wandb) (3.1.26)\n",
      "Requirement already satisfied: sentry-sdk>=1.0.0 in /opt/conda/lib/python3.8/site-packages (from wandb) (1.5.4)\n",
      "Requirement already satisfied: psutil>=5.0.0 in /opt/conda/lib/python3.8/site-packages (from wandb) (5.7.2)\n",
      "Requirement already satisfied: Click!=8.0.0,>=7.0 in /opt/conda/lib/python3.8/site-packages (from wandb) (8.0.3)\n",
      "Requirement already satisfied: shortuuid>=0.5.0 in /opt/conda/lib/python3.8/site-packages (from wandb) (1.0.8)\n",
      "Requirement already satisfied: six>=1.13.0 in /opt/conda/lib/python3.8/site-packages (from wandb) (1.15.0)\n",
      "Requirement already satisfied: requests<3,>=2.0.0 in /opt/conda/lib/python3.8/site-packages (from wandb) (2.24.0)\n",
      "Requirement already satisfied: PyYAML in /opt/conda/lib/python3.8/site-packages (from wandb) (5.3.1)\n",
      "Requirement already satisfied: yaspin>=1.0.0 in /opt/conda/lib/python3.8/site-packages (from wandb) (2.1.0)\n",
      "Requirement already satisfied: python-dateutil>=2.6.1 in /opt/conda/lib/python3.8/site-packages (from wandb) (2.8.2)\n",
      "Requirement already satisfied: pathtools in /opt/conda/lib/python3.8/site-packages (from wandb) (0.1.2)\n",
      "Requirement already satisfied: promise<3,>=2.0 in /opt/conda/lib/python3.8/site-packages (from wandb) (2.3)\n",
      "Requirement already satisfied: docker-pycreds>=0.4.0 in /opt/conda/lib/python3.8/site-packages (from wandb) (0.4.0)\n",
      "Requirement already satisfied: gitdb<5,>=4.0.1 in /opt/conda/lib/python3.8/site-packages (from GitPython>=1.0.0->wandb) (4.0.9)\n",
      "Requirement already satisfied: urllib3>=1.10.0 in /opt/conda/lib/python3.8/site-packages (from sentry-sdk>=1.0.0->wandb) (1.25.11)\n",
      "Requirement already satisfied: certifi in /opt/conda/lib/python3.8/site-packages (from sentry-sdk>=1.0.0->wandb) (2020.12.5)\n",
      "Requirement already satisfied: chardet<4,>=3.0.2 in /opt/conda/lib/python3.8/site-packages (from requests<3,>=2.0.0->wandb) (3.0.4)\n",
      "Requirement already satisfied: idna<3,>=2.5 in /opt/conda/lib/python3.8/site-packages (from requests<3,>=2.0.0->wandb) (2.10)\n",
      "Requirement already satisfied: termcolor<2.0.0,>=1.1.0 in /opt/conda/lib/python3.8/site-packages (from yaspin>=1.0.0->wandb) (1.1.0)\n",
      "Requirement already satisfied: smmap<6,>=3.0.1 in /opt/conda/lib/python3.8/site-packages (from gitdb<5,>=4.0.1->GitPython>=1.0.0->wandb) (5.0.0)\n"
     ]
    }
   ],
   "source": [
    "!pip install wandb"
   ]
  },
  {
   "cell_type": "code",
   "execution_count": 5,
   "id": "98a45c7e-10ca-4fd1-9fd4-6326313a631a",
   "metadata": {
    "colab": {
     "base_uri": "https://localhost:8080/"
    },
    "executionInfo": {
     "elapsed": 2275,
     "status": "ok",
     "timestamp": 1644456233329,
     "user": {
      "displayName": "고주연",
      "photoUrl": "https://lh3.googleusercontent.com/a/default-user=s64",
      "userId": "03650257558653620468"
     },
     "user_tz": -540
    },
    "id": "98a45c7e-10ca-4fd1-9fd4-6326313a631a",
    "outputId": "75b214bc-251e-48d4-8966-ff2e13cbd083"
   },
   "outputs": [],
   "source": [
    "import os, torch, copy, cv2, sys, random\n",
    "# from datetime import datetime, timezone, timedelta\n",
    "from PIL import Image\n",
    "import numpy as np\n",
    "import pandas as pd\n",
    "from tqdm import tqdm\n",
    "import torch\n",
    "import torch.nn as nn\n",
    "import torch.optim as optim\n",
    "from torch.utils.data import DataLoader, Dataset\n",
    "import torchvision.transforms as transforms\n",
    "import torchvision.models as models\n",
    "import albumentations as A # augmentation을 위한 라이브러리(pytorch.transform보다 속도가 4배 빠르다)\n",
    "import albumentations.pytorch\n",
    "import matplotlib.pyplot as plt\n",
    "%matplotlib inline\n",
    "from torchvision.utils import make_grid"
   ]
  },
  {
   "cell_type": "code",
   "execution_count": 6,
   "id": "f2a93d2f-6579-49a1-9697-7eb82568f529",
   "metadata": {},
   "outputs": [
    {
     "name": "stderr",
     "output_type": "stream",
     "text": [
      "Failed to detect the name of this notebook, you can set it manually with the WANDB_NOTEBOOK_NAME environment variable to enable code saving.\n",
      "\u001b[34m\u001b[1mwandb\u001b[0m: Currently logged in as: \u001b[33mjuyeonn\u001b[0m (use `wandb login --relogin` to force relogin)\n"
     ]
    },
    {
     "data": {
      "text/plain": [
       "True"
      ]
     },
     "execution_count": 6,
     "metadata": {},
     "output_type": "execute_result"
    }
   ],
   "source": [
    "# import wandb\n",
    "# wandb.login()"
   ]
  },
  {
   "cell_type": "markdown",
   "id": "3a6c255b-b30d-4ffd-a663-bc01a2c37954",
   "metadata": {
    "id": "3a6c255b-b30d-4ffd-a663-bc01a2c37954"
   },
   "source": [
    "## Set Arguments & hyperparameters"
   ]
  },
  {
   "cell_type": "code",
   "execution_count": 7,
   "id": "8f9c4250-2257-404f-941d-58eff1e9eb38",
   "metadata": {
    "executionInfo": {
     "elapsed": 53,
     "status": "ok",
     "timestamp": 1644456233334,
     "user": {
      "displayName": "고주연",
      "photoUrl": "https://lh3.googleusercontent.com/a/default-user=s64",
      "userId": "03650257558653620468"
     },
     "user_tz": -540
    },
    "id": "8f9c4250-2257-404f-941d-58eff1e9eb38"
   },
   "outputs": [],
   "source": [
    "# 시드(seed) 설정\n",
    "# 실험을 동일하게 진행하기 위해서 동일한 난수의 사용이 필요 -> 시드 고정\n",
    "\n",
    "RANDOM_SEED = 2022\n",
    "\n",
    "torch.manual_seed(RANDOM_SEED) # random seed를 고정하기 위한 함수 \n",
    "\n",
    "# Nondeterministic 한 작업 피하기\n",
    "# Nondeterministic = 비결정론적 = 동일한 입력이 주어지더라도 매번 다른 과정을 거쳐 다른 결과를 도출\n",
    "# cudnn = 딥러닝에 특화된 CUDA library\n",
    "torch.backends.cudnn.deterministic = True # Deterministic 한 알고리즘만 사용 # Deterministic = 결정론적 =  어떤 입력이 들어오면 언제나 똑같은 과정을 거쳐서 언제나 똑같은 결과\n",
    "# cudnn은 convolution을 수행하는 과정에 벤치마킹을 통해서 지금 환경에 가장 적합한 알고리즘을 선정해 수행한다고 함,\n",
    "# 이 과정에서 다른 알고리즘이 선정되면 연산 후 값이 달라질 수 있기 때문에 False로 설정\n",
    "torch.backends.cudnn.benchmark = False \n",
    "np.random.seed(RANDOM_SEED) # 넘파이 시드 고정\n",
    "random.seed(RANDOM_SEED)"
   ]
  },
  {
   "cell_type": "raw",
   "id": "a9c63836-0a7a-48f7-a5ea-e16b617fec65",
   "metadata": {
    "id": "a9c63836-0a7a-48f7-a5ea-e16b617fec65"
   },
   "source": [
    "# 데이터 디렉토리 구조\n",
    "\n",
    "data/  \n",
    "  \\_train/  \n",
    "    \\_0.png  \n",
    "    \\_1.png  \n",
    "    \\_...  \n",
    "  \\_test/  \n",
    "    \\_0.png  \n",
    "    \\_1.png  \n",
    "    \\_...  \n",
    "  \\_train.csv  \n",
    "  \\_sample_submission.csv"
   ]
  },
  {
   "cell_type": "code",
   "execution_count": 8,
   "id": "9d69a8bc-2e64-4de6-928f-4e16957f6af9",
   "metadata": {
    "executionInfo": {
     "elapsed": 52,
     "status": "ok",
     "timestamp": 1644456233335,
     "user": {
      "displayName": "고주연",
      "photoUrl": "https://lh3.googleusercontent.com/a/default-user=s64",
      "userId": "03650257558653620468"
     },
     "user_tz": -540
    },
    "id": "9d69a8bc-2e64-4de6-928f-4e16957f6af9"
   },
   "outputs": [],
   "source": [
    "# parameters\n",
    "\n",
    "### 데이터 디렉토리 설정 ###\n",
    "DATA_DIR= 'data'\n",
    "NUM_CLS = 2 # binary classification\n",
    "\n",
    "EPOCHS = 100\n",
    "BATCH_SIZE = 32\n",
    "LEARNING_RATE = 0.0005\n",
    "EARLY_STOPPING_PATIENCE = 50\n",
    "INPUT_SHAPE = 256\n",
    "\n",
    "\n",
    "os.environ[\"CUDA_VISIBLE_DEVICES\"]=\"0\" # 0번 gpu 사용 (특정 gpu 지정)\n",
    "DEVICE = torch.device('cuda' if torch.cuda.is_available() else 'cpu') # device에 cuda (GPU)를 설정"
   ]
  },
  {
   "cell_type": "code",
   "execution_count": 9,
   "id": "ce600520-cf65-4d2f-a1f1-688adfda6d28",
   "metadata": {},
   "outputs": [],
   "source": [
    "# wandb config 모델의 하이퍼파라미터, 데이터명 등 학습에 필요한 구성들을 그룹화\n",
    "config = {\n",
    "    'epochs': 100,\n",
    "    'classes': 2,\n",
    "    'batch_size': 32,\n",
    "    'learning late': 0.0005, # 3배씩 늘린다 0.001\n",
    "    'early_stopping_patience': 50,\n",
    "    'input_shape': 256,\n",
    "    'architecture': 'GoogLeNet'\n",
    "}"
   ]
  },
  {
   "cell_type": "markdown",
   "id": "ad55fd8d-b099-4d1d-8acb-773a16f5aaca",
   "metadata": {},
   "source": [
    "## Dataloader"
   ]
  },
  {
   "cell_type": "markdown",
   "id": "a5b81fa5-3756-46aa-b3cb-6f19879aba05",
   "metadata": {
    "id": "a5b81fa5-3756-46aa-b3cb-6f19879aba05"
   },
   "source": [
    "#### Train & Validation Set loader"
   ]
  },
  {
   "cell_type": "code",
   "execution_count": 11,
   "id": "04642777-c2e0-439b-9692-f6c571a86521",
   "metadata": {
    "executionInfo": {
     "elapsed": 54,
     "status": "ok",
     "timestamp": 1644456233338,
     "user": {
      "displayName": "고주연",
      "photoUrl": "https://lh3.googleusercontent.com/a/default-user=s64",
      "userId": "03650257558653620468"
     },
     "user_tz": -540
    },
    "id": "04642777-c2e0-439b-9692-f6c571a86521"
   },
   "outputs": [],
   "source": [
    "class CustomDataset(Dataset):\n",
    "    def __init__(self, data_dir, mode, input_shape):\n",
    "        self.data_dir = data_dir\n",
    "        self.mode = mode\n",
    "        self.input_shape = input_shape\n",
    "        \n",
    "        # Loading dataset\n",
    "        self.db = self.data_loader()\n",
    "        \n",
    "        # Dataset split\n",
    "        if self.mode == 'train':\n",
    "            self.db = self.db[:int(len(self.db) * 0.9)]\n",
    "        elif self.mode == 'val':\n",
    "            self.db = self.db[int(len(self.db) * 0.9):]\n",
    "            self.db.reset_index(inplace=True)\n",
    "        else:\n",
    "            print(f'!!! Invalid split {self.mode}... !!!')\n",
    "            \n",
    "        # Transform function\n",
    "        # 이미지를 input_shape로 Resize하고, Tensor화, Normalize하는 함수 \n",
    "        \n",
    "        # Albumentation 적용전\n",
    "         '''\n",
    "            if self.mode == 'train':\n",
    "            self.transform = transforms.Compose([\n",
    "                transforms.RandomChoice([\n",
    "                    transforms.RandomHorizontalFlip(),\n",
    "                    transforms.RandomVerticalFlip(),\n",
    "                    transforms.RandomRotation(30)\n",
    "                ]),\n",
    "                transforms.Resize(self.input_shape),\n",
    "                transforms.ToTensor(),\n",
    "                transforms.Normalize([0.485, 0.456, 0.406], [0.229, 0.224, 0.225])\n",
    "            ]) \n",
    "        elif self.mode == 'val':\n",
    "            self.transform = transforms.Compose([transforms.Resize(self.input_shape),\n",
    "                                                 transforms.ToTensor(),\n",
    "                                                 transforms.Normalize([0.485, 0.456, 0.406], [0.229, 0.224, 0.225])])\n",
    "        else:\n",
    "            print(f'!!! Invalid transform {self.mode}... !!!')\n",
    "            '''\n",
    "        \n",
    "        # Albumentation 적용후\n",
    "        # RandomHorizontalFlip, RandomVerticalFlip 과 같은 augmentation은 CT사진에는 성능개선에 크게 영향을 주지 못하였기 때문에 제외 시킨후\n",
    "        # CLAHE, Blur, Cutout등 다른 요소들을 고려하여 Albumentation으로 augmentation을 진행하였더니 속도도 더 빠르고, 모델 성능도 올라가게 되었다.\n",
    "        if self.mode == 'train':\n",
    "            self.transform = A.Compose([\n",
    "                                    A.Resize(self.input_shape, self.input_shape),\n",
    "                                    A.OneOf([\n",
    "                                        A.Blur(blur_limit=7, always_apply=False, p=0.5),\n",
    "                                        A.CLAHE(clip_limit=5.0, always_apply=False, p=0.5),\n",
    "                                    ],p=0.5),\n",
    "                                    A.OneOf([\n",
    "                                        A.Cutout(num_holes=8, max_h_size=15, max_w_size=15, fill_value=0, always_apply=False, p=0.5),\n",
    "                                        A.Rotate(always_apply=False, p=0.5),\n",
    "                                        A.ToSepia(always_apply=False, p=0.5)\n",
    "                                    ],p=0.5),\n",
    "                                    A.Normalize(mean=[0.485, 0.456, 0.406],std=[0.229, 0.224, 0.225]),\n",
    "                                    A.pytorch.transforms.ToTensorV2()\n",
    "                                ])\n",
    "           \n",
    "            \n",
    "        elif self.mode == 'val':\n",
    "            self.transform = A.Compose([\n",
    "                                    A.Resize(self.input_shape, self.input_shape),\n",
    "                                    A.Normalize(mean=[0.485, 0.456, 0.406],std=[0.229, 0.224, 0.225]),\n",
    "                                    A.pytorch.transforms.ToTensorV2()\n",
    "                                ])\n",
    "        else:\n",
    "            print(f'!!! Invalid transform {self.mode}... !!!')\n",
    " \n",
    "\n",
    "    def data_loader(self):\n",
    "        print('Loading ' + self.mode + ' dataset..')\n",
    "        if not os.path.isdir(self.data_dir): # 폴더가 없으면 \n",
    "            print(f'!!! Cannot find {self.data_dir}... !!!')\n",
    "            sys.exit() # 프로그램 중단 \n",
    "        \n",
    "        # (COVID : 1, No : 0)\n",
    "        db = pd.read_csv(os.path.join(self.data_dir, 'train.csv')) # os.path.join() = 인수에 전달된 2개의 문자열을 결합하여, 1개의 경로로 만드는 함수 \n",
    "        \n",
    "        return db\n",
    "\n",
    "    def __len__(self):\n",
    "        return len(self.db)\n",
    "\n",
    "    def __getitem__(self, index): # 각 데이터의 이미지 텐서, 라벨값 리턴\n",
    "        data = copy.deepcopy(self.db.loc[index]) # db의 index row를 깊은 복사 \n",
    "\n",
    "        # Loading image\n",
    "        # cv2.imread(filename, flag) = 이미지 읽어오는 함수 filename: 이미지 경로, flag: 이미지 파일 읽을 때 option -> return type: numpy.ndarray\n",
    "        # cv2.IMREAD_COLOR: 이미지 파일을 Color로 읽어들임, 투명한 부분은 무시\n",
    "        # cv2.IMREAD_IGNORE_ORIENTATION: EXIF에 저장된 방향 정보를 사용하지 않음\n",
    "        cvimg = cv2.imread(os.path.join(self.data_dir,'train',data['file_name']), cv2.IMREAD_COLOR | cv2.IMREAD_IGNORE_ORIENTATION)\n",
    "        if not isinstance(cvimg, np.ndarray): # cvimg의 np.ndarray가 int형이 아니면 \n",
    "            raise IOError(\"Fail to read %s\" % data['file_name'])\n",
    "\n",
    "        # Preprocessing images 이미지 전처리 \n",
    "        transformed = self.transform(image=cvimg)\n",
    "        trans_image = transformed[\"image\"]\n",
    "\n",
    "\n",
    "        return trans_image, data['COVID']\n"
   ]
  },
  {
   "cell_type": "markdown",
   "id": "61b27520-c82c-4ec8-ae0b-119a79167f09",
   "metadata": {
    "id": "61b27520-c82c-4ec8-ae0b-119a79167f09"
   },
   "source": [
    "## Model"
   ]
  },
  {
   "cell_type": "code",
   "execution_count": 12,
   "id": "685e0b73-f323-40ea-b372-6c1d607618a9",
   "metadata": {
    "executionInfo": {
     "elapsed": 53,
     "status": "ok",
     "timestamp": 1644456233339,
     "user": {
      "displayName": "고주연",
      "photoUrl": "https://lh3.googleusercontent.com/a/default-user=s64",
      "userId": "03650257558653620468"
     },
     "user_tz": -540
    },
    "id": "685e0b73-f323-40ea-b372-6c1d607618a9"
   },
   "outputs": [],
   "source": [
    "#import torch.nn.functional as F"
   ]
  },
  {
   "cell_type": "code",
   "execution_count": 13,
   "id": "820eb65b-260e-4726-8e03-470c98014e74",
   "metadata": {},
   "outputs": [],
   "source": [
    "#Model 정의\n",
    "class GoogLeNet(nn.Module):\n",
    "    def __init__(self, num_classes):\n",
    "        super(GoogLeNet, self).__init__()\n",
    "        self.model = models.googlenet(pretrained=False, aux_logits=False) # AttributeError:  'GoogLeNetOutputs' object has no attribute 'softmax'에러가 발생하여 aux_logits=False로 해결\n",
    "        self.model.fc = nn.Linear(self.model.fc.in_features, num_classes)\n",
    "        self.softmax = nn.Softmax(dim=1) \n",
    "\n",
    "    \n",
    "    def forward(self, input_img):\n",
    "        x = self.model(input_img)\n",
    "        x = self.softmax(x)\n",
    "        return x"
   ]
  },
  {
   "cell_type": "markdown",
   "id": "1d056905-1f77-4579-a260-07bb1056f6db",
   "metadata": {
    "id": "1d056905-1f77-4579-a260-07bb1056f6db"
   },
   "source": [
    "## Utils\n",
    "### EarlyStopper"
   ]
  },
  {
   "cell_type": "code",
   "execution_count": 14,
   "id": "1b4c3315-ebca-4e6b-a8f2-1281ccd0bb87",
   "metadata": {
    "executionInfo": {
     "elapsed": 55,
     "status": "ok",
     "timestamp": 1644456233343,
     "user": {
      "displayName": "고주연",
      "photoUrl": "https://lh3.googleusercontent.com/a/default-user=s64",
      "userId": "03650257558653620468"
     },
     "user_tz": -540
    },
    "id": "1b4c3315-ebca-4e6b-a8f2-1281ccd0bb87"
   },
   "outputs": [],
   "source": [
    "class LossEarlyStopper():\n",
    "    \"\"\"Early stopper\n",
    "    \n",
    "    Attributes:\n",
    "        patience (int): loss가 줄어들지 않아도 학습할 epoch 수\n",
    "        patience_counter (int): loss 가 줄어들지 않을 때 마다 1씩 증가, 감소 시 0으로 리셋\n",
    "        min_loss (float): 최소 loss\n",
    "        stop (bool): True 일 때 학습 중단\n",
    "\n",
    "    \"\"\"\n",
    "\n",
    "    def __init__(self, patience: int)-> None:\n",
    "        self.patience = patience\n",
    "\n",
    "        self.patience_counter = 0\n",
    "        self.min_loss = np.Inf\n",
    "        self.stop = False\n",
    "        self.save_model = False\n",
    "\n",
    "    def check_early_stopping(self, loss: float)-> None:\n",
    "        \"\"\"Early stopping 여부 판단\"\"\"  \n",
    "\n",
    "        if self.min_loss == np.Inf:\n",
    "            self.min_loss = loss\n",
    "            return None\n",
    "\n",
    "        elif loss > self.min_loss:\n",
    "            self.patience_counter += 1\n",
    "            msg = f\"Early stopping counter {self.patience_counter}/{self.patience}\"\n",
    "\n",
    "            if self.patience_counter == self.patience:\n",
    "                self.stop = True\n",
    "                \n",
    "        elif loss <= self.min_loss:\n",
    "            self.patience_counter = 0\n",
    "            self.save_model = True\n",
    "            msg = f\"Validation loss decreased {self.min_loss} -> {loss}\"\n",
    "            self.min_loss = loss\n",
    "        \n",
    "        print(msg)"
   ]
  },
  {
   "cell_type": "markdown",
   "id": "1aaffd8d-b025-42c1-8dd8-69529487389e",
   "metadata": {
    "id": "1aaffd8d-b025-42c1-8dd8-69529487389e"
   },
   "source": [
    "### Trainer"
   ]
  },
  {
   "cell_type": "code",
   "execution_count": 15,
   "id": "5faaac1b-64c3-4659-82de-d4309502f29a",
   "metadata": {
    "executionInfo": {
     "elapsed": 56,
     "status": "ok",
     "timestamp": 1644456233345,
     "user": {
      "displayName": "고주연",
      "photoUrl": "https://lh3.googleusercontent.com/a/default-user=s64",
      "userId": "03650257558653620468"
     },
     "user_tz": -540
    },
    "id": "5faaac1b-64c3-4659-82de-d4309502f29a"
   },
   "outputs": [],
   "source": [
    "class Trainer():\n",
    "    \"\"\" epoch에 대한 학습 및 검증 절차 정의\"\"\"\n",
    "    \n",
    "    def __init__(self, loss_fn, model, device, metric_fn, optimizer=None, scheduler=None):\n",
    "        \"\"\" 초기화\n",
    "        \"\"\"\n",
    "        self.loss_fn = loss_fn\n",
    "        self.model = model\n",
    "        self.device = device\n",
    "        self.optimizer = optimizer # 최적화 \n",
    "        self.scheduler = scheduler\n",
    "        self.metric_fn = metric_fn\n",
    "\n",
    "    def train_epoch(self, dataloader, epoch_index):\n",
    "        \"\"\" 한 epoch에서 수행되는 학습 절차\"\"\"\n",
    "        \n",
    "        self.model.train()\n",
    "        train_total_loss = 0\n",
    "        target_lst = []\n",
    "        pred_lst = []\n",
    "        prob_lst = []\n",
    "\n",
    "        for batch_index, (img, label) in enumerate(dataloader): # enumerate: 인덱스와 값이 함께 출력 \n",
    "            img = img.to(self.device) # gpu에 올리기\n",
    "            label = label.to(self.device).float()\n",
    "            \n",
    "            pred = self.model(img)\n",
    "            \n",
    "            loss = self.loss_fn(pred[:,1], label)\n",
    "            self.optimizer.zero_grad() # gradients를 zero로 만들어줌 \n",
    "            loss.backward() #  gradient 계산, 역전파 단계 \n",
    "            self.optimizer.step() # 매개변수 갱신\n",
    "            self.scheduler.step() # 학습률 스케쥴러 학습과정에서 learning rate를 조정하는 learning rate scheduler\n",
    "            \n",
    "            train_total_loss += loss.item()\n",
    "            prob_lst.extend(pred[:, 1].cpu().tolist()) # iterable 자료형의 항목 각각을 array의 끝에 하나씩 추가 \n",
    "                                                      # iterable: member를 하나씩 차례로 반환 가능한 object, 예로는 list, str, tuple \n",
    "                                                      # cpu(): GPU 메모리에 올려져 있는 tensor를 cpu 메모리로 복사하는 method\n",
    "                                                      \n",
    "            target_lst.extend(label.cpu().tolist())\n",
    "            pred_lst.extend(pred.argmax(dim=1).cpu().tolist()) # argmax: arguments of the maxima 차원에 따라 가장 큰 값의 인덱스들을 반환해주는 함수 \n",
    "        self.train_mean_loss = train_total_loss / batch_index\n",
    "        self.train_score, f1 = self.metric_fn(y_pred=pred_lst, y_answer=target_lst)\n",
    "        msg = f'Epoch {epoch_index}, Train loss: {self.train_mean_loss}, Acc: {self.train_score}, F1-Macro: {f1}'\n",
    "        print(msg)\n",
    "\n",
    "    def validate_epoch(self, dataloader, epoch_index):\n",
    "        \"\"\" 한 epoch에서 수행되는 검증 절차\n",
    "        \"\"\"\n",
    "        self.model.eval()\n",
    "        val_total_loss = 0\n",
    "        target_lst = []\n",
    "        pred_lst = []\n",
    "        prob_lst = []\n",
    "\n",
    "        for batch_index, (img, label) in enumerate(dataloader):\n",
    "            img = img.to(self.device)\n",
    "            label = label.to(self.device).float()\n",
    "            pred = self.model(img)\n",
    "            \n",
    "            loss = self.loss_fn(pred[:,1], label)\n",
    "            val_total_loss += loss.item()\n",
    "            prob_lst.extend(pred[:, 1].cpu().tolist())\n",
    "            target_lst.extend(label.cpu().tolist())\n",
    "            pred_lst.extend(pred.argmax(dim=1).cpu().tolist())\n",
    "        self.val_mean_loss = val_total_loss / batch_index\n",
    "        self.validation_score, f1 = self.metric_fn(y_pred=pred_lst, y_answer=target_lst)\n",
    "        msg = f'Epoch {epoch_index}, Val loss: {self.val_mean_loss}, Acc: {self.validation_score}, F1-Macro: {f1}'\n",
    "        print(msg)"
   ]
  },
  {
   "cell_type": "markdown",
   "id": "e2aca506-d168-4c9f-8eca-5cdecb122961",
   "metadata": {
    "id": "e2aca506-d168-4c9f-8eca-5cdecb122961"
   },
   "source": [
    "### Metrics"
   ]
  },
  {
   "cell_type": "code",
   "execution_count": 16,
   "id": "33678d90-a254-48d5-bf09-2a817eeafea3",
   "metadata": {
    "executionInfo": {
     "elapsed": 56,
     "status": "ok",
     "timestamp": 1644456233346,
     "user": {
      "displayName": "고주연",
      "photoUrl": "https://lh3.googleusercontent.com/a/default-user=s64",
      "userId": "03650257558653620468"
     },
     "user_tz": -540
    },
    "id": "33678d90-a254-48d5-bf09-2a817eeafea3"
   },
   "outputs": [],
   "source": [
    "from sklearn.metrics import accuracy_score, f1_score\n",
    "\n",
    "def get_metric_fn(y_pred, y_answer):\n",
    "    \"\"\" 성능을 반환하는 함수\"\"\"\n",
    "    \n",
    "    assert len(y_pred) == len(y_answer), 'The size of prediction and answer are not same.'\n",
    "    accuracy = accuracy_score(y_answer, y_pred)\n",
    "    f1 = f1_score(y_answer, y_pred, average='macro')\n",
    "    return accuracy, f1"
   ]
  },
  {
   "cell_type": "markdown",
   "id": "d729c079-9d85-49ce-857f-320b0c56a3a8",
   "metadata": {
    "id": "d729c079-9d85-49ce-857f-320b0c56a3a8",
    "tags": []
   },
   "source": [
    "## Train\n",
    "### 학습을 위한 객체 선언"
   ]
  },
  {
   "cell_type": "markdown",
   "id": "b19610a4-ad7c-44a0-80cd-9734b5015100",
   "metadata": {
    "id": "b19610a4-ad7c-44a0-80cd-9734b5015100",
    "tags": []
   },
   "source": [
    "#### Load Dataset & Dataloader"
   ]
  },
  {
   "cell_type": "code",
   "execution_count": 17,
   "id": "7cea68f0-dfad-47ce-a8ca-00ea01988886",
   "metadata": {
    "colab": {
     "base_uri": "https://localhost:8080/"
    },
    "executionInfo": {
     "elapsed": 54,
     "status": "ok",
     "timestamp": 1644456233347,
     "user": {
      "displayName": "고주연",
      "photoUrl": "https://lh3.googleusercontent.com/a/default-user=s64",
      "userId": "03650257558653620468"
     },
     "user_tz": -540
    },
    "id": "7cea68f0-dfad-47ce-a8ca-00ea01988886",
    "outputId": "a1ff3db5-4bde-4e59-cc7e-adab58c65964"
   },
   "outputs": [
    {
     "name": "stdout",
     "output_type": "stream",
     "text": [
      "Loading train dataset..\n",
      "Loading val dataset..\n",
      "Train set samples: 581 Val set samples: 65\n"
     ]
    },
    {
     "name": "stderr",
     "output_type": "stream",
     "text": [
      "/opt/conda/lib/python3.8/site-packages/albumentations/augmentations/transforms.py:689: FutureWarning: This class has been deprecated. Please use CoarseDropout\n",
      "  warnings.warn(\n"
     ]
    }
   ],
   "source": [
    "# Load dataset & dataloader\n",
    "train_dataset = CustomDataset(data_dir=DATA_DIR, mode='train', input_shape=INPUT_SHAPE)\n",
    "validation_dataset = CustomDataset(data_dir=DATA_DIR, mode='val', input_shape=INPUT_SHAPE)\n",
    "train_dataloader = DataLoader(train_dataset, batch_size=BATCH_SIZE, shuffle=True)\n",
    "validation_dataloader = DataLoader(validation_dataset, batch_size=BATCH_SIZE, shuffle=True)\n",
    "print('Train set samples:',len(train_dataset),  'Val set samples:', len(validation_dataset))"
   ]
  },
  {
   "cell_type": "code",
   "execution_count": 19,
   "id": "a4a16071-8193-40eb-8679-23d5dc6cd1ab",
   "metadata": {},
   "outputs": [],
   "source": [
    "# 이미지를 보여주는 함수\n",
    "def show_batch(image):\n",
    "    for images, labels in image:\n",
    "        fig, ax = plt.subplots(figsize=(12, 6))\n",
    "        ax.set_xticks([])\n",
    "        ax.set_yticks([])\n",
    "        ax.imshow(make_grid(images, nrow = 8).permute(1, 2, 0))\n",
    "        break"
   ]
  },
  {
   "cell_type": "code",
   "execution_count": 20,
   "id": "b6d3b2c6-0df1-48cc-bdc2-bd4c45f35055",
   "metadata": {},
   "outputs": [
    {
     "name": "stderr",
     "output_type": "stream",
     "text": [
      "Clipping input data to the valid range for imshow with RGB data ([0..1] for floats or [0..255] for integers).\n"
     ]
    },
    {
     "data": {
      "image/png": "[encoded data removed]",
      "text/plain": [
       "<Figure size 864x432 with 1 Axes>"
      ]
     },
     "metadata": {},
     "output_type": "display_data"
    }
   ],
   "source": [
    "show_batch(train_dataloader)"
   ]
  },
  {
   "cell_type": "markdown",
   "id": "3bb8dae0-8e32-4ac0-a585-858a7095d2a4",
   "metadata": {
    "id": "3bb8dae0-8e32-4ac0-a585-858a7095d2a4"
   },
   "source": [
    "#### Load model and other utils"
   ]
  },
  {
   "cell_type": "code",
   "execution_count": 21,
   "id": "cb4d52e1-752a-40d5-9b34-c06d3dbdd45a",
   "metadata": {
    "executionInfo": {
     "elapsed": 49,
     "status": "ok",
     "timestamp": 1644456233348,
     "user": {
      "displayName": "고주연",
      "photoUrl": "https://lh3.googleusercontent.com/a/default-user=s64",
      "userId": "03650257558653620468"
     },
     "user_tz": -540
    },
    "id": "cb4d52e1-752a-40d5-9b34-c06d3dbdd45a"
   },
   "outputs": [
    {
     "name": "stderr",
     "output_type": "stream",
     "text": [
      "/opt/conda/lib/python3.8/site-packages/torchvision/models/googlenet.py:71: FutureWarning: The default weight initialization of GoogleNet will be changed in future releases of torchvision. If you wish to keep the old behavior (which leads to long initialization times due to scipy/scipy#11299), please set init_weights=True.\n",
      "  warnings.warn('The default weight initialization of GoogleNet will be changed in future releases of '\n"
     ]
    }
   ],
   "source": [
    "# Load Model\n",
    "model = GoogLeNet(NUM_CLS).to(DEVICE)\n",
    "\n",
    "# # Save Initial Model\n",
    "# torch.save(model.state_dict(), 'initial.pt')\n",
    "\n",
    "# Set optimizer, scheduler, loss function, metric function\n",
    "optimizer = optim.Adam(model.parameters(), lr=LEARNING_RATE)\n",
    "# OneCycleLR: 초기 learing rate에서 1cycle annealing하는 scheduler\n",
    "# 1주기 전략은 초기 learning rate에서 최대 learning rate까지 올라간 후 초기 learning rate보다 훨씬 낮은 learning rate로 annealing함 \n",
    "# pct_start: learning rate를 언제까지 증가시킬지 epoch에 대한 비율로 나타냄\n",
    "# div_factor: initial_lr = max_lr/div_factor 로 lr 초기화 \n",
    "# max_lr: 최대 lr\n",
    "# steps_per_epoch: epoch당 step수\n",
    "scheduler =  optim.lr_scheduler.OneCycleLR(\n",
    "    optimizer=optimizer, pct_start=0.1, div_factor=1e5, max_lr=0.0001, epochs=EPOCHS, steps_per_epoch=len(train_dataloader))\n",
    "# BCELoss에서는 CrossEntropyLoss와 같이 softmax를 포함한 것이 아닌, Cross Entropy만 구함\n",
    "loss_fn = nn.BCELoss()\n",
    "metric_fn = get_metric_fn\n",
    "\n",
    "\n",
    "# Set trainer\n",
    "trainer = Trainer(loss_fn, model, DEVICE, metric_fn, optimizer, scheduler)\n",
    "\n",
    "# Set earlystopper\n",
    "early_stopper = LossEarlyStopper(patience=EARLY_STOPPING_PATIENCE)"
   ]
  },
  {
   "cell_type": "code",
   "execution_count": 22,
   "id": "9b881024-3921-4c2c-b9ec-e6b23c4f5ad2",
   "metadata": {
    "colab": {
     "base_uri": "https://localhost:8080/"
    },
    "executionInfo": {
     "elapsed": 456,
     "status": "ok",
     "timestamp": 1644456233758,
     "user": {
      "displayName": "고주연",
      "photoUrl": "https://lh3.googleusercontent.com/a/default-user=s64",
      "userId": "03650257558653620468"
     },
     "user_tz": -540
    },
    "id": "9b881024-3921-4c2c-b9ec-e6b23c4f5ad2",
    "outputId": "69ba97e8-a8d2-4483-aa92-974d2e6c1fa2",
    "tags": []
   },
   "outputs": [
    {
     "data": {
      "text/plain": [
       "GoogLeNet(\n",
       "  (model): GoogLeNet(\n",
       "    (conv1): BasicConv2d(\n",
       "      (conv): Conv2d(3, 64, kernel_size=(7, 7), stride=(2, 2), padding=(3, 3), bias=False)\n",
       "      (bn): BatchNorm2d(64, eps=0.001, momentum=0.1, affine=True, track_running_stats=True)\n",
       "    )\n",
       "    (maxpool1): MaxPool2d(kernel_size=3, stride=2, padding=0, dilation=1, ceil_mode=True)\n",
       "    (conv2): BasicConv2d(\n",
       "      (conv): Conv2d(64, 64, kernel_size=(1, 1), stride=(1, 1), bias=False)\n",
       "      (bn): BatchNorm2d(64, eps=0.001, momentum=0.1, affine=True, track_running_stats=True)\n",
       "    )\n",
       "    (conv3): BasicConv2d(\n",
       "      (conv): Conv2d(64, 192, kernel_size=(3, 3), stride=(1, 1), padding=(1, 1), bias=False)\n",
       "      (bn): BatchNorm2d(192, eps=0.001, momentum=0.1, affine=True, track_running_stats=True)\n",
       "    )\n",
       "    (maxpool2): MaxPool2d(kernel_size=3, stride=2, padding=0, dilation=1, ceil_mode=True)\n",
       "    (inception3a): Inception(\n",
       "      (branch1): BasicConv2d(\n",
       "        (conv): Conv2d(192, 64, kernel_size=(1, 1), stride=(1, 1), bias=False)\n",
       "        (bn): BatchNorm2d(64, eps=0.001, momentum=0.1, affine=True, track_running_stats=True)\n",
       "      )\n",
       "      (branch2): Sequential(\n",
       "        (0): BasicConv2d(\n",
       "          (conv): Conv2d(192, 96, kernel_size=(1, 1), stride=(1, 1), bias=False)\n",
       "          (bn): BatchNorm2d(96, eps=0.001, momentum=0.1, affine=True, track_running_stats=True)\n",
       "        )\n",
       "        (1): BasicConv2d(\n",
       "          (conv): Conv2d(96, 128, kernel_size=(3, 3), stride=(1, 1), padding=(1, 1), bias=False)\n",
       "          (bn): BatchNorm2d(128, eps=0.001, momentum=0.1, affine=True, track_running_stats=True)\n",
       "        )\n",
       "      )\n",
       "      (branch3): Sequential(\n",
       "        (0): BasicConv2d(\n",
       "          (conv): Conv2d(192, 16, kernel_size=(1, 1), stride=(1, 1), bias=False)\n",
       "          (bn): BatchNorm2d(16, eps=0.001, momentum=0.1, affine=True, track_running_stats=True)\n",
       "        )\n",
       "        (1): BasicConv2d(\n",
       "          (conv): Conv2d(16, 32, kernel_size=(3, 3), stride=(1, 1), padding=(1, 1), bias=False)\n",
       "          (bn): BatchNorm2d(32, eps=0.001, momentum=0.1, affine=True, track_running_stats=True)\n",
       "        )\n",
       "      )\n",
       "      (branch4): Sequential(\n",
       "        (0): MaxPool2d(kernel_size=3, stride=1, padding=1, dilation=1, ceil_mode=True)\n",
       "        (1): BasicConv2d(\n",
       "          (conv): Conv2d(192, 32, kernel_size=(1, 1), stride=(1, 1), bias=False)\n",
       "          (bn): BatchNorm2d(32, eps=0.001, momentum=0.1, affine=True, track_running_stats=True)\n",
       "        )\n",
       "      )\n",
       "    )\n",
       "    (inception3b): Inception(\n",
       "      (branch1): BasicConv2d(\n",
       "        (conv): Conv2d(256, 128, kernel_size=(1, 1), stride=(1, 1), bias=False)\n",
       "        (bn): BatchNorm2d(128, eps=0.001, momentum=0.1, affine=True, track_running_stats=True)\n",
       "      )\n",
       "      (branch2): Sequential(\n",
       "        (0): BasicConv2d(\n",
       "          (conv): Conv2d(256, 128, kernel_size=(1, 1), stride=(1, 1), bias=False)\n",
       "          (bn): BatchNorm2d(128, eps=0.001, momentum=0.1, affine=True, track_running_stats=True)\n",
       "        )\n",
       "        (1): BasicConv2d(\n",
       "          (conv): Conv2d(128, 192, kernel_size=(3, 3), stride=(1, 1), padding=(1, 1), bias=False)\n",
       "          (bn): BatchNorm2d(192, eps=0.001, momentum=0.1, affine=True, track_running_stats=True)\n",
       "        )\n",
       "      )\n",
       "      (branch3): Sequential(\n",
       "        (0): BasicConv2d(\n",
       "          (conv): Conv2d(256, 32, kernel_size=(1, 1), stride=(1, 1), bias=False)\n",
       "          (bn): BatchNorm2d(32, eps=0.001, momentum=0.1, affine=True, track_running_stats=True)\n",
       "        )\n",
       "        (1): BasicConv2d(\n",
       "          (conv): Conv2d(32, 96, kernel_size=(3, 3), stride=(1, 1), padding=(1, 1), bias=False)\n",
       "          (bn): BatchNorm2d(96, eps=0.001, momentum=0.1, affine=True, track_running_stats=True)\n",
       "        )\n",
       "      )\n",
       "      (branch4): Sequential(\n",
       "        (0): MaxPool2d(kernel_size=3, stride=1, padding=1, dilation=1, ceil_mode=True)\n",
       "        (1): BasicConv2d(\n",
       "          (conv): Conv2d(256, 64, kernel_size=(1, 1), stride=(1, 1), bias=False)\n",
       "          (bn): BatchNorm2d(64, eps=0.001, momentum=0.1, affine=True, track_running_stats=True)\n",
       "        )\n",
       "      )\n",
       "    )\n",
       "    (maxpool3): MaxPool2d(kernel_size=3, stride=2, padding=0, dilation=1, ceil_mode=True)\n",
       "    (inception4a): Inception(\n",
       "      (branch1): BasicConv2d(\n",
       "        (conv): Conv2d(480, 192, kernel_size=(1, 1), stride=(1, 1), bias=False)\n",
       "        (bn): BatchNorm2d(192, eps=0.001, momentum=0.1, affine=True, track_running_stats=True)\n",
       "      )\n",
       "      (branch2): Sequential(\n",
       "        (0): BasicConv2d(\n",
       "          (conv): Conv2d(480, 96, kernel_size=(1, 1), stride=(1, 1), bias=False)\n",
       "          (bn): BatchNorm2d(96, eps=0.001, momentum=0.1, affine=True, track_running_stats=True)\n",
       "        )\n",
       "        (1): BasicConv2d(\n",
       "          (conv): Conv2d(96, 208, kernel_size=(3, 3), stride=(1, 1), padding=(1, 1), bias=False)\n",
       "          (bn): BatchNorm2d(208, eps=0.001, momentum=0.1, affine=True, track_running_stats=True)\n",
       "        )\n",
       "      )\n",
       "      (branch3): Sequential(\n",
       "        (0): BasicConv2d(\n",
       "          (conv): Conv2d(480, 16, kernel_size=(1, 1), stride=(1, 1), bias=False)\n",
       "          (bn): BatchNorm2d(16, eps=0.001, momentum=0.1, affine=True, track_running_stats=True)\n",
       "        )\n",
       "        (1): BasicConv2d(\n",
       "          (conv): Conv2d(16, 48, kernel_size=(3, 3), stride=(1, 1), padding=(1, 1), bias=False)\n",
       "          (bn): BatchNorm2d(48, eps=0.001, momentum=0.1, affine=True, track_running_stats=True)\n",
       "        )\n",
       "      )\n",
       "      (branch4): Sequential(\n",
       "        (0): MaxPool2d(kernel_size=3, stride=1, padding=1, dilation=1, ceil_mode=True)\n",
       "        (1): BasicConv2d(\n",
       "          (conv): Conv2d(480, 64, kernel_size=(1, 1), stride=(1, 1), bias=False)\n",
       "          (bn): BatchNorm2d(64, eps=0.001, momentum=0.1, affine=True, track_running_stats=True)\n",
       "        )\n",
       "      )\n",
       "    )\n",
       "    (inception4b): Inception(\n",
       "      (branch1): BasicConv2d(\n",
       "        (conv): Conv2d(512, 160, kernel_size=(1, 1), stride=(1, 1), bias=False)\n",
       "        (bn): BatchNorm2d(160, eps=0.001, momentum=0.1, affine=True, track_running_stats=True)\n",
       "      )\n",
       "      (branch2): Sequential(\n",
       "        (0): BasicConv2d(\n",
       "          (conv): Conv2d(512, 112, kernel_size=(1, 1), stride=(1, 1), bias=False)\n",
       "          (bn): BatchNorm2d(112, eps=0.001, momentum=0.1, affine=True, track_running_stats=True)\n",
       "        )\n",
       "        (1): BasicConv2d(\n",
       "          (conv): Conv2d(112, 224, kernel_size=(3, 3), stride=(1, 1), padding=(1, 1), bias=False)\n",
       "          (bn): BatchNorm2d(224, eps=0.001, momentum=0.1, affine=True, track_running_stats=True)\n",
       "        )\n",
       "      )\n",
       "      (branch3): Sequential(\n",
       "        (0): BasicConv2d(\n",
       "          (conv): Conv2d(512, 24, kernel_size=(1, 1), stride=(1, 1), bias=False)\n",
       "          (bn): BatchNorm2d(24, eps=0.001, momentum=0.1, affine=True, track_running_stats=True)\n",
       "        )\n",
       "        (1): BasicConv2d(\n",
       "          (conv): Conv2d(24, 64, kernel_size=(3, 3), stride=(1, 1), padding=(1, 1), bias=False)\n",
       "          (bn): BatchNorm2d(64, eps=0.001, momentum=0.1, affine=True, track_running_stats=True)\n",
       "        )\n",
       "      )\n",
       "      (branch4): Sequential(\n",
       "        (0): MaxPool2d(kernel_size=3, stride=1, padding=1, dilation=1, ceil_mode=True)\n",
       "        (1): BasicConv2d(\n",
       "          (conv): Conv2d(512, 64, kernel_size=(1, 1), stride=(1, 1), bias=False)\n",
       "          (bn): BatchNorm2d(64, eps=0.001, momentum=0.1, affine=True, track_running_stats=True)\n",
       "        )\n",
       "      )\n",
       "    )\n",
       "    (inception4c): Inception(\n",
       "      (branch1): BasicConv2d(\n",
       "        (conv): Conv2d(512, 128, kernel_size=(1, 1), stride=(1, 1), bias=False)\n",
       "        (bn): BatchNorm2d(128, eps=0.001, momentum=0.1, affine=True, track_running_stats=True)\n",
       "      )\n",
       "      (branch2): Sequential(\n",
       "        (0): BasicConv2d(\n",
       "          (conv): Conv2d(512, 128, kernel_size=(1, 1), stride=(1, 1), bias=False)\n",
       "          (bn): BatchNorm2d(128, eps=0.001, momentum=0.1, affine=True, track_running_stats=True)\n",
       "        )\n",
       "        (1): BasicConv2d(\n",
       "          (conv): Conv2d(128, 256, kernel_size=(3, 3), stride=(1, 1), padding=(1, 1), bias=False)\n",
       "          (bn): BatchNorm2d(256, eps=0.001, momentum=0.1, affine=True, track_running_stats=True)\n",
       "        )\n",
       "      )\n",
       "      (branch3): Sequential(\n",
       "        (0): BasicConv2d(\n",
       "          (conv): Conv2d(512, 24, kernel_size=(1, 1), stride=(1, 1), bias=False)\n",
       "          (bn): BatchNorm2d(24, eps=0.001, momentum=0.1, affine=True, track_running_stats=True)\n",
       "        )\n",
       "        (1): BasicConv2d(\n",
       "          (conv): Conv2d(24, 64, kernel_size=(3, 3), stride=(1, 1), padding=(1, 1), bias=False)\n",
       "          (bn): BatchNorm2d(64, eps=0.001, momentum=0.1, affine=True, track_running_stats=True)\n",
       "        )\n",
       "      )\n",
       "      (branch4): Sequential(\n",
       "        (0): MaxPool2d(kernel_size=3, stride=1, padding=1, dilation=1, ceil_mode=True)\n",
       "        (1): BasicConv2d(\n",
       "          (conv): Conv2d(512, 64, kernel_size=(1, 1), stride=(1, 1), bias=False)\n",
       "          (bn): BatchNorm2d(64, eps=0.001, momentum=0.1, affine=True, track_running_stats=True)\n",
       "        )\n",
       "      )\n",
       "    )\n",
       "    (inception4d): Inception(\n",
       "      (branch1): BasicConv2d(\n",
       "        (conv): Conv2d(512, 112, kernel_size=(1, 1), stride=(1, 1), bias=False)\n",
       "        (bn): BatchNorm2d(112, eps=0.001, momentum=0.1, affine=True, track_running_stats=True)\n",
       "      )\n",
       "      (branch2): Sequential(\n",
       "        (0): BasicConv2d(\n",
       "          (conv): Conv2d(512, 144, kernel_size=(1, 1), stride=(1, 1), bias=False)\n",
       "          (bn): BatchNorm2d(144, eps=0.001, momentum=0.1, affine=True, track_running_stats=True)\n",
       "        )\n",
       "        (1): BasicConv2d(\n",
       "          (conv): Conv2d(144, 288, kernel_size=(3, 3), stride=(1, 1), padding=(1, 1), bias=False)\n",
       "          (bn): BatchNorm2d(288, eps=0.001, momentum=0.1, affine=True, track_running_stats=True)\n",
       "        )\n",
       "      )\n",
       "      (branch3): Sequential(\n",
       "        (0): BasicConv2d(\n",
       "          (conv): Conv2d(512, 32, kernel_size=(1, 1), stride=(1, 1), bias=False)\n",
       "          (bn): BatchNorm2d(32, eps=0.001, momentum=0.1, affine=True, track_running_stats=True)\n",
       "        )\n",
       "        (1): BasicConv2d(\n",
       "          (conv): Conv2d(32, 64, kernel_size=(3, 3), stride=(1, 1), padding=(1, 1), bias=False)\n",
       "          (bn): BatchNorm2d(64, eps=0.001, momentum=0.1, affine=True, track_running_stats=True)\n",
       "        )\n",
       "      )\n",
       "      (branch4): Sequential(\n",
       "        (0): MaxPool2d(kernel_size=3, stride=1, padding=1, dilation=1, ceil_mode=True)\n",
       "        (1): BasicConv2d(\n",
       "          (conv): Conv2d(512, 64, kernel_size=(1, 1), stride=(1, 1), bias=False)\n",
       "          (bn): BatchNorm2d(64, eps=0.001, momentum=0.1, affine=True, track_running_stats=True)\n",
       "        )\n",
       "      )\n",
       "    )\n",
       "    (inception4e): Inception(\n",
       "      (branch1): BasicConv2d(\n",
       "        (conv): Conv2d(528, 256, kernel_size=(1, 1), stride=(1, 1), bias=False)\n",
       "        (bn): BatchNorm2d(256, eps=0.001, momentum=0.1, affine=True, track_running_stats=True)\n",
       "      )\n",
       "      (branch2): Sequential(\n",
       "        (0): BasicConv2d(\n",
       "          (conv): Conv2d(528, 160, kernel_size=(1, 1), stride=(1, 1), bias=False)\n",
       "          (bn): BatchNorm2d(160, eps=0.001, momentum=0.1, affine=True, track_running_stats=True)\n",
       "        )\n",
       "        (1): BasicConv2d(\n",
       "          (conv): Conv2d(160, 320, kernel_size=(3, 3), stride=(1, 1), padding=(1, 1), bias=False)\n",
       "          (bn): BatchNorm2d(320, eps=0.001, momentum=0.1, affine=True, track_running_stats=True)\n",
       "        )\n",
       "      )\n",
       "      (branch3): Sequential(\n",
       "        (0): BasicConv2d(\n",
       "          (conv): Conv2d(528, 32, kernel_size=(1, 1), stride=(1, 1), bias=False)\n",
       "          (bn): BatchNorm2d(32, eps=0.001, momentum=0.1, affine=True, track_running_stats=True)\n",
       "        )\n",
       "        (1): BasicConv2d(\n",
       "          (conv): Conv2d(32, 128, kernel_size=(3, 3), stride=(1, 1), padding=(1, 1), bias=False)\n",
       "          (bn): BatchNorm2d(128, eps=0.001, momentum=0.1, affine=True, track_running_stats=True)\n",
       "        )\n",
       "      )\n",
       "      (branch4): Sequential(\n",
       "        (0): MaxPool2d(kernel_size=3, stride=1, padding=1, dilation=1, ceil_mode=True)\n",
       "        (1): BasicConv2d(\n",
       "          (conv): Conv2d(528, 128, kernel_size=(1, 1), stride=(1, 1), bias=False)\n",
       "          (bn): BatchNorm2d(128, eps=0.001, momentum=0.1, affine=True, track_running_stats=True)\n",
       "        )\n",
       "      )\n",
       "    )\n",
       "    (maxpool4): MaxPool2d(kernel_size=2, stride=2, padding=0, dilation=1, ceil_mode=True)\n",
       "    (inception5a): Inception(\n",
       "      (branch1): BasicConv2d(\n",
       "        (conv): Conv2d(832, 256, kernel_size=(1, 1), stride=(1, 1), bias=False)\n",
       "        (bn): BatchNorm2d(256, eps=0.001, momentum=0.1, affine=True, track_running_stats=True)\n",
       "      )\n",
       "      (branch2): Sequential(\n",
       "        (0): BasicConv2d(\n",
       "          (conv): Conv2d(832, 160, kernel_size=(1, 1), stride=(1, 1), bias=False)\n",
       "          (bn): BatchNorm2d(160, eps=0.001, momentum=0.1, affine=True, track_running_stats=True)\n",
       "        )\n",
       "        (1): BasicConv2d(\n",
       "          (conv): Conv2d(160, 320, kernel_size=(3, 3), stride=(1, 1), padding=(1, 1), bias=False)\n",
       "          (bn): BatchNorm2d(320, eps=0.001, momentum=0.1, affine=True, track_running_stats=True)\n",
       "        )\n",
       "      )\n",
       "      (branch3): Sequential(\n",
       "        (0): BasicConv2d(\n",
       "          (conv): Conv2d(832, 32, kernel_size=(1, 1), stride=(1, 1), bias=False)\n",
       "          (bn): BatchNorm2d(32, eps=0.001, momentum=0.1, affine=True, track_running_stats=True)\n",
       "        )\n",
       "        (1): BasicConv2d(\n",
       "          (conv): Conv2d(32, 128, kernel_size=(3, 3), stride=(1, 1), padding=(1, 1), bias=False)\n",
       "          (bn): BatchNorm2d(128, eps=0.001, momentum=0.1, affine=True, track_running_stats=True)\n",
       "        )\n",
       "      )\n",
       "      (branch4): Sequential(\n",
       "        (0): MaxPool2d(kernel_size=3, stride=1, padding=1, dilation=1, ceil_mode=True)\n",
       "        (1): BasicConv2d(\n",
       "          (conv): Conv2d(832, 128, kernel_size=(1, 1), stride=(1, 1), bias=False)\n",
       "          (bn): BatchNorm2d(128, eps=0.001, momentum=0.1, affine=True, track_running_stats=True)\n",
       "        )\n",
       "      )\n",
       "    )\n",
       "    (inception5b): Inception(\n",
       "      (branch1): BasicConv2d(\n",
       "        (conv): Conv2d(832, 384, kernel_size=(1, 1), stride=(1, 1), bias=False)\n",
       "        (bn): BatchNorm2d(384, eps=0.001, momentum=0.1, affine=True, track_running_stats=True)\n",
       "      )\n",
       "      (branch2): Sequential(\n",
       "        (0): BasicConv2d(\n",
       "          (conv): Conv2d(832, 192, kernel_size=(1, 1), stride=(1, 1), bias=False)\n",
       "          (bn): BatchNorm2d(192, eps=0.001, momentum=0.1, affine=True, track_running_stats=True)\n",
       "        )\n",
       "        (1): BasicConv2d(\n",
       "          (conv): Conv2d(192, 384, kernel_size=(3, 3), stride=(1, 1), padding=(1, 1), bias=False)\n",
       "          (bn): BatchNorm2d(384, eps=0.001, momentum=0.1, affine=True, track_running_stats=True)\n",
       "        )\n",
       "      )\n",
       "      (branch3): Sequential(\n",
       "        (0): BasicConv2d(\n",
       "          (conv): Conv2d(832, 48, kernel_size=(1, 1), stride=(1, 1), bias=False)\n",
       "          (bn): BatchNorm2d(48, eps=0.001, momentum=0.1, affine=True, track_running_stats=True)\n",
       "        )\n",
       "        (1): BasicConv2d(\n",
       "          (conv): Conv2d(48, 128, kernel_size=(3, 3), stride=(1, 1), padding=(1, 1), bias=False)\n",
       "          (bn): BatchNorm2d(128, eps=0.001, momentum=0.1, affine=True, track_running_stats=True)\n",
       "        )\n",
       "      )\n",
       "      (branch4): Sequential(\n",
       "        (0): MaxPool2d(kernel_size=3, stride=1, padding=1, dilation=1, ceil_mode=True)\n",
       "        (1): BasicConv2d(\n",
       "          (conv): Conv2d(832, 128, kernel_size=(1, 1), stride=(1, 1), bias=False)\n",
       "          (bn): BatchNorm2d(128, eps=0.001, momentum=0.1, affine=True, track_running_stats=True)\n",
       "        )\n",
       "      )\n",
       "    )\n",
       "    (avgpool): AdaptiveAvgPool2d(output_size=(1, 1))\n",
       "    (dropout): Dropout(p=0.2, inplace=False)\n",
       "    (fc): Linear(in_features=1024, out_features=2, bias=True)\n",
       "  )\n",
       "  (softmax): Softmax(dim=1)\n",
       ")"
      ]
     },
     "execution_count": 22,
     "metadata": {},
     "output_type": "execute_result"
    }
   ],
   "source": [
    "model"
   ]
  },
  {
   "cell_type": "markdown",
   "id": "d5aa8aef-b984-4133-b6b2-e1c85900f724",
   "metadata": {
    "id": "d5aa8aef-b984-4133-b6b2-e1c85900f724"
   },
   "source": [
    "### epoch 단위 학습 진행"
   ]
  },
  {
   "cell_type": "code",
   "execution_count": 23,
   "id": "dcc35f70-25fc-48e1-92f8-8633b3b8be80",
   "metadata": {
    "colab": {
     "base_uri": "https://localhost:8080/"
    },
    "executionInfo": {
     "elapsed": 205821,
     "status": "ok",
     "timestamp": 1644456439564,
     "user": {
      "displayName": "고주연",
      "photoUrl": "https://lh3.googleusercontent.com/a/default-user=s64",
      "userId": "03650257558653620468"
     },
     "user_tz": -540
    },
    "id": "dcc35f70-25fc-48e1-92f8-8633b3b8be80",
    "outputId": "6e17db72-d963-4e9a-804b-eaba3220b7d1"
   },
   "outputs": [
    {
     "data": {
      "text/html": [
       "\n",
       "                    Syncing run <strong><a href=\"https://wandb.ai/juyeonn/Image%20Augmentation/runs/19qf4l58\" target=\"_blank\">GoogLeNet_aug+</a></strong> to <a href=\"https://wandb.ai/juyeonn/Image%20Augmentation\" target=\"_blank\">Weights & Biases</a> (<a href=\"https://docs.wandb.com/integrations/jupyter.html\" target=\"_blank\">docs</a>).<br/>\n",
       "\n",
       "                "
      ],
      "text/plain": [
       "<IPython.core.display.HTML object>"
      ]
     },
     "metadata": {},
     "output_type": "display_data"
    },
    {
     "name": "stderr",
     "output_type": "stream",
     "text": [
      "  0% 0/100 [00:00<?, ?it/s]"
     ]
    },
    {
     "name": "stdout",
     "output_type": "stream",
     "text": [
      "Epoch 0, Train loss: 0.7499755124251047, Acc: 0.5060240963855421, F1-Macro: 0.41795556486377994\n"
     ]
    },
    {
     "name": "stderr",
     "output_type": "stream",
     "text": [
      "  1% 1/100 [00:24<41:06, 24.91s/it]"
     ]
    },
    {
     "name": "stdout",
     "output_type": "stream",
     "text": [
      "Epoch 0, Val loss: 1.0195680558681488, Acc: 0.5076923076923077, F1-Macro: 0.336734693877551\n",
      "Epoch 1, Train loss: 0.7201056943999397, Acc: 0.5352839931153184, F1-Macro: 0.4646805896805897\n"
     ]
    },
    {
     "name": "stderr",
     "output_type": "stream",
     "text": [
      "  2% 2/100 [00:49<40:42, 24.92s/it]"
     ]
    },
    {
     "name": "stdout",
     "output_type": "stream",
     "text": [
      "Epoch 1, Val loss: 1.0205411612987518, Acc: 0.49230769230769234, F1-Macro: 0.32989690721649484\n",
      "Early stopping counter 1/50\n",
      "Epoch 2, Train loss: 0.667271700170305, Acc: 0.6471600688468159, F1-Macro: 0.6363883368288654\n",
      "Epoch 2, Val loss: 0.8984079584479332, Acc: 0.5076923076923077, F1-Macro: 0.336734693877551\n",
      "Validation loss decreased 1.0195680558681488 -> 0.8984079584479332\n"
     ]
    },
    {
     "name": "stderr",
     "output_type": "stream",
     "text": [
      "  3% 3/100 [01:15<40:47, 25.23s/it]"
     ]
    },
    {
     "name": "stdout",
     "output_type": "stream",
     "text": [
      "Epoch 3, Train loss: 0.6391357448365953, Acc: 0.6592082616179001, F1-Macro: 0.6567669172932331\n",
      "Epoch 3, Val loss: 1.0970030426979065, Acc: 0.676923076923077, F1-Macro: 0.675694939415538\n",
      "Early stopping counter 1/50\n"
     ]
    },
    {
     "name": "stderr",
     "output_type": "stream",
     "text": [
      "  4% 4/100 [01:42<41:01, 25.64s/it]"
     ]
    },
    {
     "name": "stdout",
     "output_type": "stream",
     "text": [
      "Epoch 4, Train loss: 0.5740668094820447, Acc: 0.7194492254733219, F1-Macro: 0.7175211852399801\n",
      "Epoch 4, Val loss: 1.073778748512268, Acc: 0.6615384615384615, F1-Macro: 0.6474358974358974\n",
      "Early stopping counter 2/50\n"
     ]
    },
    {
     "name": "stderr",
     "output_type": "stream",
     "text": [
      "  5% 5/100 [02:11<42:22, 26.77s/it]"
     ]
    },
    {
     "name": "stdout",
     "output_type": "stream",
     "text": [
      "Epoch 5, Train loss: 0.5796348634693358, Acc: 0.7039586919104991, F1-Macro: 0.7030005468508524\n",
      "Epoch 5, Val loss: 0.8685396602377295, Acc: 0.6615384615384615, F1-Macro: 0.6299171842650102\n",
      "Validation loss decreased 0.8984079584479332 -> 0.8685396602377295\n"
     ]
    },
    {
     "name": "stderr",
     "output_type": "stream",
     "text": [
      "  6% 6/100 [02:38<41:44, 26.65s/it]"
     ]
    },
    {
     "name": "stdout",
     "output_type": "stream",
     "text": [
      "Epoch 6, Train loss: 0.5893033925029967, Acc: 0.7314974182444062, F1-Macro: 0.7288879848764029\n",
      "Epoch 6, Val loss: 0.6462420485913754, Acc: 0.7076923076923077, F1-Macro: 0.7074153044302298\n",
      "Validation loss decreased 0.8685396602377295 -> 0.6462420485913754\n"
     ]
    },
    {
     "name": "stderr",
     "output_type": "stream",
     "text": [
      "  7% 7/100 [03:04<41:08, 26.54s/it]"
     ]
    },
    {
     "name": "stdout",
     "output_type": "stream",
     "text": [
      "Epoch 7, Train loss: 0.5493849060601659, Acc: 0.7314974182444062, F1-Macro: 0.728699712643678\n",
      "Epoch 7, Val loss: 2.0783014595508575, Acc: 0.5230769230769231, F1-Macro: 0.41441441441441446\n",
      "Early stopping counter 1/50\n"
     ]
    },
    {
     "name": "stderr",
     "output_type": "stream",
     "text": [
      "  8% 8/100 [03:31<40:57, 26.71s/it]"
     ]
    },
    {
     "name": "stdout",
     "output_type": "stream",
     "text": [
      "Epoch 8, Train loss: 0.5643716835313373, Acc: 0.7349397590361446, F1-Macro: 0.7336131951887579\n",
      "Epoch 8, Val loss: 1.6790823936462402, Acc: 0.6307692307692307, F1-Macro: 0.577922077922078\n",
      "Early stopping counter 2/50\n"
     ]
    },
    {
     "name": "stderr",
     "output_type": "stream",
     "text": [
      "  9% 9/100 [03:57<39:59, 26.37s/it]"
     ]
    },
    {
     "name": "stdout",
     "output_type": "stream",
     "text": [
      "Epoch 9, Train loss: 0.5736780083841748, Acc: 0.7142857142857143, F1-Macro: 0.7083333333333333\n",
      "Epoch 9, Val loss: 1.325559314340353, Acc: 0.6615384615384615, F1-Macro: 0.6366869918699187\n",
      "Early stopping counter 3/50\n"
     ]
    },
    {
     "name": "stderr",
     "output_type": "stream",
     "text": [
      " 10% 10/100 [04:25<40:18, 26.87s/it]"
     ]
    },
    {
     "name": "stdout",
     "output_type": "stream",
     "text": [
      "Epoch 10, Train loss: 0.5412010302146276, Acc: 0.7693631669535284, F1-Macro: 0.7672776621948012\n",
      "Epoch 10, Val loss: 1.0605607330799103, Acc: 0.5384615384615384, F1-Macro: 0.4422196796338673\n",
      "Early stopping counter 4/50\n"
     ]
    },
    {
     "name": "stderr",
     "output_type": "stream",
     "text": [
      " 11% 11/100 [04:51<39:30, 26.64s/it]"
     ]
    },
    {
     "name": "stdout",
     "output_type": "stream",
     "text": [
      "Epoch 11, Train loss: 0.5465902719232771, Acc: 0.7641996557659209, F1-Macro: 0.7634821728368649\n",
      "Epoch 11, Val loss: 0.9235511720180511, Acc: 0.7846153846153846, F1-Macro: 0.7833333333333333\n",
      "Early stopping counter 5/50\n"
     ]
    },
    {
     "name": "stderr",
     "output_type": "stream",
     "text": [
      " 12% 12/100 [05:16<38:24, 26.19s/it]"
     ]
    },
    {
     "name": "stdout",
     "output_type": "stream",
     "text": [
      "Epoch 12, Train loss: 0.512110013100836, Acc: 0.7762478485370051, F1-Macro: 0.7750154894671623\n",
      "Epoch 12, Val loss: 0.8122935891151428, Acc: 0.7230769230769231, F1-Macro: 0.7214285714285714\n",
      "Early stopping counter 6/50\n"
     ]
    },
    {
     "name": "stderr",
     "output_type": "stream",
     "text": [
      " 13% 13/100 [05:43<38:34, 26.60s/it]"
     ]
    },
    {
     "name": "stdout",
     "output_type": "stream",
     "text": [
      "Epoch 13, Train loss: 0.49038948118686676, Acc: 0.7814113597246127, F1-Macro: 0.7799091443280826\n",
      "Epoch 13, Val loss: 0.6834511682391167, Acc: 0.5692307692307692, F1-Macro: 0.5666666666666667\n",
      "Early stopping counter 7/50\n"
     ]
    },
    {
     "name": "stderr",
     "output_type": "stream",
     "text": [
      " 14% 14/100 [06:11<38:27, 26.83s/it]"
     ]
    },
    {
     "name": "stdout",
     "output_type": "stream",
     "text": [
      "Epoch 14, Train loss: 0.45434312025705975, Acc: 0.7951807228915663, F1-Macro: 0.7916150519161506\n",
      "Epoch 14, Val loss: 0.9826778769493103, Acc: 0.6923076923076923, F1-Macro: 0.6916508538899431\n",
      "Early stopping counter 8/50\n"
     ]
    },
    {
     "name": "stderr",
     "output_type": "stream",
     "text": [
      " 15% 15/100 [06:39<38:45, 27.36s/it]"
     ]
    },
    {
     "name": "stdout",
     "output_type": "stream",
     "text": [
      "Epoch 15, Train loss: 0.4432423561811447, Acc: 0.8227194492254734, F1-Macro: 0.8217881636822246\n",
      "Epoch 15, Val loss: 0.9010930955410004, Acc: 0.6923076923076923, F1-Macro: 0.6916508538899431\n",
      "Early stopping counter 9/50\n"
     ]
    },
    {
     "name": "stderr",
     "output_type": "stream",
     "text": [
      " 16% 16/100 [07:07<38:32, 27.53s/it]"
     ]
    },
    {
     "name": "stdout",
     "output_type": "stream",
     "text": [
      "Epoch 16, Train loss: 0.4351535596781307, Acc: 0.8141135972461274, F1-Macro: 0.8139543158044545\n",
      "Epoch 16, Val loss: 0.6807420421391726, Acc: 0.6923076923076923, F1-Macro: 0.6886973180076628\n",
      "Early stopping counter 10/50\n"
     ]
    },
    {
     "name": "stderr",
     "output_type": "stream",
     "text": [
      " 17% 17/100 [07:35<37:57, 27.44s/it]"
     ]
    },
    {
     "name": "stdout",
     "output_type": "stream",
     "text": [
      "Epoch 17, Train loss: 0.3695835914048884, Acc: 0.846815834767642, F1-Macro: 0.845763101143302\n",
      "Epoch 17, Val loss: 1.4137142896652222, Acc: 0.7538461538461538, F1-Macro: 0.74\n",
      "Early stopping counter 11/50\n"
     ]
    },
    {
     "name": "stderr",
     "output_type": "stream",
     "text": [
      " 18% 18/100 [08:01<37:07, 27.17s/it]"
     ]
    },
    {
     "name": "stdout",
     "output_type": "stream",
     "text": [
      "Epoch 18, Train loss: 0.40354785074790317, Acc: 0.8209982788296041, F1-Macro: 0.8194962240703566\n",
      "Epoch 18, Val loss: 0.7018851186148822, Acc: 0.676923076923077, F1-Macro: 0.656084656084656\n",
      "Early stopping counter 12/50\n"
     ]
    },
    {
     "name": "stderr",
     "output_type": "stream",
     "text": [
      " 19% 19/100 [08:27<36:17, 26.89s/it]"
     ]
    },
    {
     "name": "stdout",
     "output_type": "stream",
     "text": [
      "Epoch 19, Train loss: 0.3713937567340003, Acc: 0.846815834767642, F1-Macro: 0.8462894427847386\n",
      "Epoch 19, Val loss: 0.9541209004819393, Acc: 0.6461538461538462, F1-Macro: 0.6458185264155414\n",
      "Early stopping counter 13/50\n"
     ]
    },
    {
     "name": "stderr",
     "output_type": "stream",
     "text": [
      " 20% 20/100 [08:55<36:02, 27.03s/it]"
     ]
    },
    {
     "name": "stdout",
     "output_type": "stream",
     "text": [
      "Epoch 20, Train loss: 0.4190882411268022, Acc: 0.8364888123924269, F1-Macro: 0.8350640230692226\n",
      "Epoch 20, Val loss: 1.8085289597511292, Acc: 0.5076923076923077, F1-Macro: 0.3627450980392157\n",
      "Early stopping counter 14/50\n"
     ]
    },
    {
     "name": "stderr",
     "output_type": "stream",
     "text": [
      " 21% 21/100 [09:23<35:55, 27.29s/it]"
     ]
    },
    {
     "name": "stdout",
     "output_type": "stream",
     "text": [
      "Epoch 21, Train loss: 0.4993610108892123, Acc: 0.7710843373493976, F1-Macro: 0.7698818035896686\n",
      "Epoch 21, Val loss: 2.0934038013219833, Acc: 0.6615384615384615, F1-Macro: 0.6425000000000001\n",
      "Early stopping counter 15/50\n"
     ]
    },
    {
     "name": "stderr",
     "output_type": "stream",
     "text": [
      " 22% 22/100 [09:50<35:36, 27.39s/it]"
     ]
    },
    {
     "name": "stdout",
     "output_type": "stream",
     "text": [
      "Epoch 22, Train loss: 0.4713180214166641, Acc: 0.8003442340791739, F1-Macro: 0.7986688653092439\n",
      "Epoch 22, Val loss: 1.191918846219778, Acc: 0.5846153846153846, F1-Macro: 0.5830363506771205\n",
      "Early stopping counter 16/50\n"
     ]
    },
    {
     "name": "stderr",
     "output_type": "stream",
     "text": [
      " 23% 23/100 [10:18<35:17, 27.50s/it]"
     ]
    },
    {
     "name": "stdout",
     "output_type": "stream",
     "text": [
      "Epoch 23, Train loss: 0.5122662054167854, Acc: 0.7555938037865749, F1-Macro: 0.754370608550673\n",
      "Epoch 23, Val loss: 1.2433051187545061, Acc: 0.5538461538461539, F1-Macro: 0.45219412961348443\n",
      "Early stopping counter 17/50\n"
     ]
    },
    {
     "name": "stderr",
     "output_type": "stream",
     "text": [
      " 24% 24/100 [10:45<34:47, 27.47s/it]"
     ]
    },
    {
     "name": "stdout",
     "output_type": "stream",
     "text": [
      "Epoch 24, Train loss: 0.4743514127201504, Acc: 0.774526678141136, F1-Macro: 0.772561968653349\n",
      "Epoch 24, Val loss: 0.7696742676198483, Acc: 0.7538461538461538, F1-Macro: 0.7537878787878789\n",
      "Early stopping counter 18/50\n"
     ]
    },
    {
     "name": "stderr",
     "output_type": "stream",
     "text": [
      " 25% 25/100 [11:15<35:08, 28.12s/it]"
     ]
    },
    {
     "name": "stdout",
     "output_type": "stream",
     "text": [
      "Epoch 25, Train loss: 0.41617782910664874, Acc: 0.8209982788296041, F1-Macro: 0.8202693698838759\n",
      "Epoch 25, Val loss: 0.4817627677693963, Acc: 0.8, F1-Macro: 0.7969238163902908\n",
      "Validation loss decreased 0.6462420485913754 -> 0.4817627677693963\n"
     ]
    },
    {
     "name": "stderr",
     "output_type": "stream",
     "text": [
      " 26% 26/100 [11:42<34:17, 27.80s/it]"
     ]
    },
    {
     "name": "stdout",
     "output_type": "stream",
     "text": [
      "Epoch 26, Train loss: 0.4126659250921673, Acc: 0.8399311531841652, F1-Macro: 0.8383199131051446\n",
      "Epoch 26, Val loss: 0.6287296637892723, Acc: 0.7076923076923077, F1-Macro: 0.7076923076923077\n",
      "Early stopping counter 1/50\n"
     ]
    },
    {
     "name": "stderr",
     "output_type": "stream",
     "text": [
      " 27% 27/100 [12:10<33:58, 27.93s/it]"
     ]
    },
    {
     "name": "stdout",
     "output_type": "stream",
     "text": [
      "Epoch 27, Train loss: 0.41530565669139224, Acc: 0.8296041308089501, F1-Macro: 0.8287926277157169\n",
      "Epoch 27, Val loss: 0.5348832309246063, Acc: 0.7846153846153846, F1-Macro: 0.7833333333333334\n",
      "Early stopping counter 2/50\n"
     ]
    },
    {
     "name": "stderr",
     "output_type": "stream",
     "text": [
      " 28% 28/100 [12:38<33:24, 27.84s/it]"
     ]
    },
    {
     "name": "stdout",
     "output_type": "stream",
     "text": [
      "Epoch 28, Train loss: 0.40828008784188163, Acc: 0.8244406196213425, F1-Macro: 0.8241149654533798\n",
      "Epoch 28, Val loss: 2.3504458656534553, Acc: 0.5230769230769231, F1-Macro: 0.39398496240601505\n",
      "Early stopping counter 3/50\n"
     ]
    },
    {
     "name": "stderr",
     "output_type": "stream",
     "text": [
      " 29% 29/100 [13:05<32:35, 27.55s/it]"
     ]
    },
    {
     "name": "stdout",
     "output_type": "stream",
     "text": [
      "Epoch 29, Train loss: 0.3985358575979869, Acc: 0.8485370051635112, F1-Macro: 0.8468487898394441\n",
      "Epoch 29, Val loss: 1.009480208158493, Acc: 0.7538461538461538, F1-Macro: 0.749034749034749\n",
      "Early stopping counter 4/50\n"
     ]
    },
    {
     "name": "stderr",
     "output_type": "stream",
     "text": [
      " 30% 30/100 [13:34<32:33, 27.90s/it]"
     ]
    },
    {
     "name": "stdout",
     "output_type": "stream",
     "text": [
      "Epoch 30, Train loss: 0.36837156034178203, Acc: 0.8605851979345955, F1-Macro: 0.859921240858314\n",
      "Epoch 30, Val loss: 0.7307131662964821, Acc: 0.7076923076923077, F1-Macro: 0.7006060606060607\n",
      "Early stopping counter 5/50\n"
     ]
    },
    {
     "name": "stderr",
     "output_type": "stream",
     "text": [
      " 31% 31/100 [14:00<31:43, 27.59s/it]"
     ]
    },
    {
     "name": "stdout",
     "output_type": "stream",
     "text": [
      "Epoch 31, Train loss: 0.33066462104519206, Acc: 0.8760757314974182, F1-Macro: 0.8754555198285101\n",
      "Epoch 31, Val loss: 2.4877278208732605, Acc: 0.7230769230769231, F1-Macro: 0.7224857685009487\n",
      "Early stopping counter 6/50\n"
     ]
    },
    {
     "name": "stderr",
     "output_type": "stream",
     "text": [
      " 32% 32/100 [14:27<31:04, 27.43s/it]"
     ]
    },
    {
     "name": "stdout",
     "output_type": "stream",
     "text": [
      "Epoch 32, Train loss: 0.30803344895442325, Acc: 0.8605851979345955, F1-Macro: 0.8593703775642846\n",
      "Epoch 32, Val loss: 0.6128313783556223, Acc: 0.7384615384615385, F1-Macro: 0.7321212121212121\n",
      "Early stopping counter 7/50\n"
     ]
    },
    {
     "name": "stderr",
     "output_type": "stream",
     "text": [
      " 33% 33/100 [14:54<30:16, 27.11s/it]"
     ]
    },
    {
     "name": "stdout",
     "output_type": "stream",
     "text": [
      "Epoch 33, Train loss: 0.3480534582502312, Acc: 0.8588640275387264, F1-Macro: 0.8585585692570777\n",
      "Epoch 33, Val loss: 0.8664458841085434, Acc: 0.6615384615384615, F1-Macro: 0.6608159392789374\n",
      "Early stopping counter 8/50\n"
     ]
    },
    {
     "name": "stderr",
     "output_type": "stream",
     "text": [
      " 34% 34/100 [15:21<29:41, 26.99s/it]"
     ]
    },
    {
     "name": "stdout",
     "output_type": "stream",
     "text": [
      "Epoch 34, Train loss: 0.3074003863665793, Acc: 0.8743545611015491, F1-Macro: 0.8734910829602365\n",
      "Epoch 34, Val loss: 0.7235526707954705, Acc: 0.7230769230769231, F1-Macro: 0.7176640926640927\n",
      "Early stopping counter 9/50\n"
     ]
    },
    {
     "name": "stderr",
     "output_type": "stream",
     "text": [
      " 35% 35/100 [15:50<29:56, 27.64s/it]"
     ]
    },
    {
     "name": "stdout",
     "output_type": "stream",
     "text": [
      "Epoch 35, Train loss: 0.30841455111900967, Acc: 0.8846815834767642, F1-Macro: 0.8840757957932919\n",
      "Epoch 35, Val loss: 1.45693439245224, Acc: 0.7076923076923077, F1-Macro: 0.7006060606060607\n",
      "Early stopping counter 10/50\n"
     ]
    },
    {
     "name": "stderr",
     "output_type": "stream",
     "text": [
      " 36% 36/100 [16:18<29:37, 27.77s/it]"
     ]
    },
    {
     "name": "stdout",
     "output_type": "stream",
     "text": [
      "Epoch 36, Train loss: 0.30548885216315586, Acc: 0.8691910499139415, F1-Macro: 0.8685363820412051\n",
      "Epoch 36, Val loss: 0.6282322406768799, Acc: 0.7538461538461538, F1-Macro: 0.7533206831119544\n",
      "Early stopping counter 11/50\n"
     ]
    },
    {
     "name": "stderr",
     "output_type": "stream",
     "text": [
      " 37% 37/100 [16:47<29:39, 28.25s/it]"
     ]
    },
    {
     "name": "stdout",
     "output_type": "stream",
     "text": [
      "Epoch 37, Train loss: 0.3500015222364002, Acc: 0.8743545611015491, F1-Macro: 0.8735619848261265\n",
      "Epoch 37, Val loss: 0.64536112267524, Acc: 0.7846153846153846, F1-Macro: 0.7841555977229602\n",
      "Early stopping counter 12/50\n"
     ]
    },
    {
     "name": "stderr",
     "output_type": "stream",
     "text": [
      " 38% 38/100 [17:15<29:07, 28.19s/it]"
     ]
    },
    {
     "name": "stdout",
     "output_type": "stream",
     "text": [
      "Epoch 38, Train loss: 0.34823660055796307, Acc: 0.8485370051635112, F1-Macro: 0.8481587075314801\n",
      "Epoch 38, Val loss: 0.6501685008406639, Acc: 0.7384615384615385, F1-Macro: 0.7321212121212122\n",
      "Early stopping counter 13/50\n"
     ]
    },
    {
     "name": "stderr",
     "output_type": "stream",
     "text": [
      " 39% 39/100 [17:43<28:41, 28.22s/it]"
     ]
    },
    {
     "name": "stdout",
     "output_type": "stream",
     "text": [
      "Epoch 39, Train loss: 0.2656256664130423, Acc: 0.9018932874354562, F1-Macro: 0.9010384138415336\n",
      "Epoch 39, Val loss: 0.6791503578424454, Acc: 0.7692307692307693, F1-Macro: 0.7656813266041816\n",
      "Early stopping counter 14/50\n"
     ]
    },
    {
     "name": "stderr",
     "output_type": "stream",
     "text": [
      " 40% 40/100 [18:13<28:40, 28.67s/it]"
     ]
    },
    {
     "name": "stdout",
     "output_type": "stream",
     "text": [
      "Epoch 40, Train loss: 0.35209351778030396, Acc: 0.8623063683304647, F1-Macro: 0.8618607194655127\n",
      "Epoch 40, Val loss: 1.2728483527898788, Acc: 0.7538461538461538, F1-Macro: 0.7537878787878789\n",
      "Early stopping counter 15/50\n"
     ]
    },
    {
     "name": "stderr",
     "output_type": "stream",
     "text": [
      " 41% 41/100 [18:39<27:22, 27.83s/it]"
     ]
    },
    {
     "name": "stdout",
     "output_type": "stream",
     "text": [
      "Epoch 41, Train loss: 0.29855883597499794, Acc: 0.8795180722891566, F1-Macro: 0.8785070738935092\n",
      "Epoch 41, Val loss: 0.6482367515563965, Acc: 0.7384615384615385, F1-Macro: 0.7384615384615384\n",
      "Early stopping counter 16/50\n"
     ]
    },
    {
     "name": "stderr",
     "output_type": "stream",
     "text": [
      " 42% 42/100 [19:08<27:16, 28.22s/it]"
     ]
    },
    {
     "name": "stdout",
     "output_type": "stream",
     "text": [
      "Epoch 42, Train loss: 0.29825901405678856, Acc: 0.8967297762478486, F1-Macro: 0.8964349376114082\n",
      "Epoch 42, Val loss: 1.6353163868188858, Acc: 0.7692307692307693, F1-Macro: 0.7690120824449184\n",
      "Early stopping counter 17/50\n"
     ]
    },
    {
     "name": "stderr",
     "output_type": "stream",
     "text": [
      " 43% 43/100 [19:36<26:40, 28.07s/it]"
     ]
    },
    {
     "name": "stdout",
     "output_type": "stream",
     "text": [
      "Epoch 43, Train loss: 0.2750462434358067, Acc: 0.882960413080895, F1-Macro: 0.8821219715956559\n",
      "Epoch 43, Val loss: 3.2298166155815125, Acc: 0.7538461538461538, F1-Macro: 0.7537878787878788\n",
      "Early stopping counter 18/50\n"
     ]
    },
    {
     "name": "stderr",
     "output_type": "stream",
     "text": [
      " 44% 44/100 [20:05<26:31, 28.42s/it]"
     ]
    },
    {
     "name": "stdout",
     "output_type": "stream",
     "text": [
      "Epoch 44, Train loss: 0.3099999692704942, Acc: 0.891566265060241, F1-Macro: 0.8912763878203891\n",
      "Epoch 44, Val loss: 0.6267305947840214, Acc: 0.7538461538461538, F1-Macro: 0.746588693957115\n",
      "Early stopping counter 19/50\n"
     ]
    },
    {
     "name": "stderr",
     "output_type": "stream",
     "text": [
      " 45% 45/100 [20:34<26:06, 28.48s/it]"
     ]
    },
    {
     "name": "stdout",
     "output_type": "stream",
     "text": [
      "Epoch 45, Train loss: 0.3175652420355214, Acc: 0.8950086058519794, F1-Macro: 0.8947279310641862\n",
      "Epoch 45, Val loss: 0.7139332592487335, Acc: 0.7692307692307693, F1-Macro: 0.7656813266041816\n",
      "Early stopping counter 20/50\n"
     ]
    },
    {
     "name": "stderr",
     "output_type": "stream",
     "text": [
      " 46% 46/100 [21:01<25:20, 28.16s/it]"
     ]
    },
    {
     "name": "stdout",
     "output_type": "stream",
     "text": [
      "Epoch 46, Train loss: 0.2879727292391989, Acc: 0.9036144578313253, F1-Macro: 0.9029795558100147\n",
      "Epoch 46, Val loss: 0.5429666246054694, Acc: 0.7692307692307693, F1-Macro: 0.7656813266041816\n",
      "Early stopping counter 21/50\n"
     ]
    },
    {
     "name": "stderr",
     "output_type": "stream",
     "text": [
      " 47% 47/100 [21:28<24:37, 27.87s/it]"
     ]
    },
    {
     "name": "stdout",
     "output_type": "stream",
     "text": [
      "Epoch 47, Train loss: 0.324034430914455, Acc: 0.8984509466437177, F1-Macro: 0.8978651769087524\n",
      "Epoch 47, Val loss: 0.6706733256578445, Acc: 0.7846153846153846, F1-Macro: 0.7845643939393939\n",
      "Early stopping counter 22/50\n"
     ]
    },
    {
     "name": "stderr",
     "output_type": "stream",
     "text": [
      " 48% 48/100 [21:57<24:22, 28.13s/it]"
     ]
    },
    {
     "name": "stdout",
     "output_type": "stream",
     "text": [
      "Epoch 48, Train loss: 0.25845931139257217, Acc: 0.9053356282271945, F1-Macro: 0.9047895716945995\n",
      "Epoch 48, Val loss: 4.011931121349335, Acc: 0.7230769230769231, F1-Macro: 0.7115384615384615\n",
      "Early stopping counter 23/50\n"
     ]
    },
    {
     "name": "stderr",
     "output_type": "stream",
     "text": [
      " 49% 49/100 [22:24<23:35, 27.76s/it]"
     ]
    },
    {
     "name": "stdout",
     "output_type": "stream",
     "text": [
      "Epoch 49, Train loss: 0.23736139055755404, Acc: 0.9156626506024096, F1-Macro: 0.9151761638733705\n",
      "Epoch 49, Val loss: 0.7785233836621046, Acc: 0.6923076923076923, F1-Macro: 0.6904761904761905\n",
      "Early stopping counter 24/50\n"
     ]
    },
    {
     "name": "stderr",
     "output_type": "stream",
     "text": [
      " 50% 50/100 [22:52<23:11, 27.83s/it]"
     ]
    },
    {
     "name": "stdout",
     "output_type": "stream",
     "text": [
      "Epoch 50, Train loss: 0.20924381290872893, Acc: 0.9225473321858864, F1-Macro: 0.9223116626106489\n",
      "Epoch 50, Val loss: 0.642171286046505, Acc: 0.6923076923076923, F1-Macro: 0.6904761904761905\n",
      "Early stopping counter 25/50\n"
     ]
    },
    {
     "name": "stderr",
     "output_type": "stream",
     "text": [
      " 51% 51/100 [23:20<22:44, 27.85s/it]"
     ]
    },
    {
     "name": "stdout",
     "output_type": "stream",
     "text": [
      "Epoch 51, Train loss: 0.22007454062501589, Acc: 0.9208261617900172, F1-Macro: 0.9204299154459927\n",
      "Epoch 51, Val loss: 0.4848269149661064, Acc: 0.7538461538461538, F1-Macro: 0.7537878787878789\n",
      "Early stopping counter 26/50\n"
     ]
    },
    {
     "name": "stderr",
     "output_type": "stream",
     "text": [
      " 52% 52/100 [23:46<21:51, 27.33s/it]"
     ]
    },
    {
     "name": "stdout",
     "output_type": "stream",
     "text": [
      "Epoch 52, Train loss: 0.19170593842864037, Acc: 0.9294320137693631, F1-Macro: 0.9291288450152775\n",
      "Epoch 52, Val loss: 0.6368736503645778, Acc: 0.7538461538461538, F1-Macro: 0.7533206831119544\n",
      "Early stopping counter 27/50\n"
     ]
    },
    {
     "name": "stderr",
     "output_type": "stream",
     "text": [
      " 53% 53/100 [24:13<21:14, 27.12s/it]"
     ]
    },
    {
     "name": "stdout",
     "output_type": "stream",
     "text": [
      "Epoch 53, Train loss: 0.22927820020251805, Acc: 0.9087779690189329, F1-Macro: 0.9081510602314047\n",
      "Epoch 53, Val loss: 3.649736702442169, Acc: 0.7076923076923077, F1-Macro: 0.6934723256391164\n",
      "Early stopping counter 28/50\n"
     ]
    },
    {
     "name": "stderr",
     "output_type": "stream",
     "text": [
      " 54% 54/100 [24:39<20:40, 26.96s/it]"
     ]
    },
    {
     "name": "stdout",
     "output_type": "stream",
     "text": [
      "Epoch 54, Train loss: 0.1554548347161876, Acc: 0.9518072289156626, F1-Macro: 0.9516696375519904\n",
      "Epoch 54, Val loss: 1.4294198751449585, Acc: 0.6923076923076923, F1-Macro: 0.6794871794871795\n",
      "Early stopping counter 29/50\n"
     ]
    },
    {
     "name": "stderr",
     "output_type": "stream",
     "text": [
      " 55% 55/100 [25:08<20:41, 27.59s/it]"
     ]
    },
    {
     "name": "stdout",
     "output_type": "stream",
     "text": [
      "Epoch 55, Train loss: 0.18842648507820237, Acc: 0.9483648881239243, F1-Macro: 0.9481064665952126\n",
      "Epoch 55, Val loss: 0.5055818499968154, Acc: 0.7846153846153846, F1-Macro: 0.7845643939393939\n",
      "Early stopping counter 30/50\n"
     ]
    },
    {
     "name": "stderr",
     "output_type": "stream",
     "text": [
      " 56% 56/100 [25:36<20:13, 27.57s/it]"
     ]
    },
    {
     "name": "stdout",
     "output_type": "stream",
     "text": [
      "Epoch 56, Train loss: 0.1702815012799369, Acc: 0.9363166953528399, F1-Macro: 0.9361229225909781\n",
      "Epoch 56, Val loss: 0.8981099873781204, Acc: 0.7230769230769231, F1-Macro: 0.7176640926640927\n",
      "Early stopping counter 31/50\n"
     ]
    },
    {
     "name": "stderr",
     "output_type": "stream",
     "text": [
      " 57% 57/100 [26:01<19:16, 26.89s/it]"
     ]
    },
    {
     "name": "stdout",
     "output_type": "stream",
     "text": [
      "Epoch 57, Train loss: 0.15126278375585875, Acc: 0.9449225473321858, F1-Macro: 0.9446732531841446\n",
      "Epoch 57, Val loss: 0.6645309589803219, Acc: 0.7384615384615385, F1-Macro: 0.7321212121212122\n",
      "Early stopping counter 32/50\n"
     ]
    },
    {
     "name": "stderr",
     "output_type": "stream",
     "text": [
      " 58% 58/100 [26:26<18:27, 26.38s/it]"
     ]
    },
    {
     "name": "stdout",
     "output_type": "stream",
     "text": [
      "Epoch 58, Train loss: 0.1578657409797112, Acc: 0.9466437177280551, F1-Macro: 0.9462770352296894\n",
      "Epoch 58, Val loss: 0.48940982203930616, Acc: 0.7846153846153846, F1-Macro: 0.7833333333333333\n",
      "Early stopping counter 33/50\n"
     ]
    },
    {
     "name": "stderr",
     "output_type": "stream",
     "text": [
      " 59% 59/100 [26:52<17:49, 26.08s/it]"
     ]
    },
    {
     "name": "stdout",
     "output_type": "stream",
     "text": [
      "Epoch 59, Train loss: 0.12849286219312084, Acc: 0.9586919104991394, F1-Macro: 0.9585049398881086\n",
      "Epoch 59, Val loss: 0.8029025048017502, Acc: 0.7230769230769231, F1-Macro: 0.7149122807017543\n",
      "Early stopping counter 34/50\n"
     ]
    },
    {
     "name": "stderr",
     "output_type": "stream",
     "text": [
      " 60% 60/100 [27:18<17:23, 26.10s/it]"
     ]
    },
    {
     "name": "stdout",
     "output_type": "stream",
     "text": [
      "Epoch 60, Train loss: 0.14839166423512828, Acc: 0.9569707401032702, F1-Macro: 0.9567225325884543\n",
      "Epoch 60, Val loss: 0.46897296351380646, Acc: 0.8307692307692308, F1-Macro: 0.8307692307692308\n",
      "Validation loss decreased 0.4817627677693963 -> 0.46897296351380646\n"
     ]
    },
    {
     "name": "stderr",
     "output_type": "stream",
     "text": [
      " 61% 61/100 [27:42<16:39, 25.64s/it]"
     ]
    },
    {
     "name": "stdout",
     "output_type": "stream",
     "text": [
      "Epoch 61, Train loss: 0.12618208904233244, Acc: 0.9483648881239243, F1-Macro: 0.9480804975693452\n",
      "Epoch 61, Val loss: 0.44108106940984726, Acc: 0.8461538461538461, F1-Macro: 0.8458254269449716\n",
      "Validation loss decreased 0.46897296351380646 -> 0.44108106940984726\n"
     ]
    },
    {
     "name": "stderr",
     "output_type": "stream",
     "text": [
      " 62% 62/100 [28:07<16:04, 25.39s/it]"
     ]
    },
    {
     "name": "stdout",
     "output_type": "stream",
     "text": [
      "Epoch 62, Train loss: 0.12188343827923138, Acc: 0.9586919104991394, F1-Macro: 0.9584851732761701\n",
      "Epoch 62, Val loss: 0.44737033190904185, Acc: 0.8461538461538461, F1-Macro: 0.8461174242424243\n",
      "Early stopping counter 1/50\n"
     ]
    },
    {
     "name": "stderr",
     "output_type": "stream",
     "text": [
      " 63% 63/100 [28:32<15:28, 25.09s/it]"
     ]
    },
    {
     "name": "stdout",
     "output_type": "stream",
     "text": [
      "Epoch 63, Train loss: 0.09544050465855333, Acc: 0.9672977624784854, F1-Macro: 0.9671982575467185\n",
      "Epoch 63, Val loss: 0.3892476102337241, Acc: 0.8307692307692308, F1-Macro: 0.8306088604596067\n",
      "Validation loss decreased 0.44108106940984726 -> 0.3892476102337241\n"
     ]
    },
    {
     "name": "stderr",
     "output_type": "stream",
     "text": [
      " 64% 64/100 [28:56<14:59, 24.97s/it]"
     ]
    },
    {
     "name": "stdout",
     "output_type": "stream",
     "text": [
      "Epoch 64, Train loss: 0.11130270527468787, Acc: 0.9741824440619621, F1-Macro: 0.9740195859231766\n",
      "Epoch 64, Val loss: 0.7354384660720825, Acc: 0.7538461538461538, F1-Macro: 0.7509578544061302\n",
      "Early stopping counter 1/50\n"
     ]
    },
    {
     "name": "stderr",
     "output_type": "stream",
     "text": [
      " 65% 65/100 [29:23<14:57, 25.64s/it]"
     ]
    },
    {
     "name": "stdout",
     "output_type": "stream",
     "text": [
      "Epoch 65, Train loss: 0.12377578889330228, Acc: 0.9535283993115319, F1-Macro: 0.9533869975663894\n",
      "Epoch 65, Val loss: 0.9082869291305542, Acc: 0.8615384615384616, F1-Macro: 0.8614072494669509\n",
      "Early stopping counter 2/50\n"
     ]
    },
    {
     "name": "stderr",
     "output_type": "stream",
     "text": [
      " 66% 66/100 [29:49<14:26, 25.47s/it]"
     ]
    },
    {
     "name": "stdout",
     "output_type": "stream",
     "text": [
      "Epoch 66, Train loss: 0.11795553254584472, Acc: 0.9655765920826161, F1-Macro: 0.9654512154512154\n",
      "Epoch 66, Val loss: 0.6597443222999573, Acc: 0.8153846153846154, F1-Macro: 0.8153409090909092\n",
      "Early stopping counter 3/50\n"
     ]
    },
    {
     "name": "stderr",
     "output_type": "stream",
     "text": [
      " 67% 67/100 [30:13<13:53, 25.26s/it]"
     ]
    },
    {
     "name": "stdout",
     "output_type": "stream",
     "text": [
      "Epoch 67, Train loss: 0.09789874114924008, Acc: 0.9672977624784854, F1-Macro: 0.9671420194605921\n",
      "Epoch 67, Val loss: 0.7179787202258012, Acc: 0.7538461538461538, F1-Macro: 0.7465886939571151\n",
      "Early stopping counter 4/50\n"
     ]
    },
    {
     "name": "stderr",
     "output_type": "stream",
     "text": [
      " 68% 68/100 [30:38<13:22, 25.08s/it]"
     ]
    },
    {
     "name": "stdout",
     "output_type": "stream",
     "text": [
      "Epoch 68, Train loss: 0.11138913428617848, Acc: 0.9672977624784854, F1-Macro: 0.9671717246814269\n",
      "Epoch 68, Val loss: 0.7381101669743657, Acc: 0.7538461538461538, F1-Macro: 0.7509578544061302\n",
      "Early stopping counter 5/50\n"
     ]
    },
    {
     "name": "stderr",
     "output_type": "stream",
     "text": [
      " 69% 69/100 [31:02<12:52, 24.90s/it]"
     ]
    },
    {
     "name": "stdout",
     "output_type": "stream",
     "text": [
      "Epoch 69, Train loss: 0.11303595122363833, Acc: 0.9569707401032702, F1-Macro: 0.9568049008966143\n",
      "Epoch 69, Val loss: 0.5697914784250315, Acc: 0.8, F1-Macro: 0.7969238163902908\n",
      "Early stopping counter 6/50\n"
     ]
    },
    {
     "name": "stderr",
     "output_type": "stream",
     "text": [
      " 70% 70/100 [31:28<12:36, 25.23s/it]"
     ]
    },
    {
     "name": "stdout",
     "output_type": "stream",
     "text": [
      "Epoch 70, Train loss: 0.1053519451783763, Acc: 0.9690189328743546, F1-Macro: 0.9688482985416071\n",
      "Epoch 70, Val loss: 0.5068177987996023, Acc: 0.7384615384615385, F1-Macro: 0.738213693437574\n",
      "Early stopping counter 7/50\n"
     ]
    },
    {
     "name": "stderr",
     "output_type": "stream",
     "text": [
      " 71% 71/100 [31:54<12:10, 25.18s/it]"
     ]
    },
    {
     "name": "stdout",
     "output_type": "stream",
     "text": [
      "Epoch 71, Train loss: 0.10139617665360372, Acc: 0.9604130808950087, F1-Macro: 0.9602051239290406\n",
      "Epoch 71, Val loss: 0.8782476112246513, Acc: 0.7076923076923077, F1-Macro: 0.6934723256391164\n",
      "Early stopping counter 8/50\n"
     ]
    },
    {
     "name": "stderr",
     "output_type": "stream",
     "text": [
      " 72% 72/100 [32:19<11:50, 25.36s/it]"
     ]
    },
    {
     "name": "stdout",
     "output_type": "stream",
     "text": [
      "Epoch 72, Train loss: 0.07849236939930254, Acc: 0.9724612736660929, F1-Macro: 0.9723491338282886\n",
      "Epoch 72, Val loss: 0.4675350156612694, Acc: 0.7846153846153846, F1-Macro: 0.7841555977229602\n",
      "Early stopping counter 9/50\n"
     ]
    },
    {
     "name": "stderr",
     "output_type": "stream",
     "text": [
      " 73% 73/100 [32:45<11:24, 25.34s/it]"
     ]
    },
    {
     "name": "stdout",
     "output_type": "stream",
     "text": [
      "Epoch 73, Train loss: 0.07801161789231831, Acc: 0.9827882960413081, F1-Macro: 0.9827103916200453\n",
      "Epoch 73, Val loss: 1.4410514533519745, Acc: 0.7692307692307693, F1-Macro: 0.7656813266041816\n",
      "Early stopping counter 10/50\n"
     ]
    },
    {
     "name": "stderr",
     "output_type": "stream",
     "text": [
      " 74% 74/100 [33:11<11:07, 25.66s/it]"
     ]
    },
    {
     "name": "stdout",
     "output_type": "stream",
     "text": [
      "Epoch 74, Train loss: 0.07693417096096608, Acc: 0.9707401032702238, F1-Macro: 0.970600754254214\n",
      "Epoch 74, Val loss: 0.4742593595292419, Acc: 0.8153846153846154, F1-Macro: 0.8153409090909092\n",
      "Early stopping counter 11/50\n"
     ]
    },
    {
     "name": "stderr",
     "output_type": "stream",
     "text": [
      " 75% 75/100 [33:39<10:56, 26.27s/it]"
     ]
    },
    {
     "name": "stdout",
     "output_type": "stream",
     "text": [
      "Epoch 75, Train loss: 0.07112221026586162, Acc: 0.9776247848537005, F1-Macro: 0.9775182238414578\n",
      "Epoch 75, Val loss: 2.887782782316208, Acc: 0.7692307692307693, F1-Macro: 0.767247553115302\n",
      "Early stopping counter 12/50\n"
     ]
    },
    {
     "name": "stderr",
     "output_type": "stream",
     "text": [
      " 76% 76/100 [34:04<10:21, 25.89s/it]"
     ]
    },
    {
     "name": "stdout",
     "output_type": "stream",
     "text": [
      "Epoch 76, Train loss: 0.1008564362095462, Acc: 0.9655765920826161, F1-Macro: 0.9654207832400905\n",
      "Epoch 76, Val loss: 0.5330201452015899, Acc: 0.7846153846153846, F1-Macro: 0.7804054054054055\n",
      "Early stopping counter 13/50\n"
     ]
    },
    {
     "name": "stderr",
     "output_type": "stream",
     "text": [
      " 77% 77/100 [34:29<09:49, 25.65s/it]"
     ]
    },
    {
     "name": "stdout",
     "output_type": "stream",
     "text": [
      "Epoch 77, Train loss: 0.05496765978427397, Acc: 0.9862306368330465, F1-Macro: 0.9861745669141443\n",
      "Epoch 77, Val loss: 2.223116174340248, Acc: 0.7846153846153846, F1-Macro: 0.782088122605364\n",
      "Early stopping counter 14/50\n"
     ]
    },
    {
     "name": "stderr",
     "output_type": "stream",
     "text": [
      " 78% 78/100 [34:54<09:21, 25.52s/it]"
     ]
    },
    {
     "name": "stdout",
     "output_type": "stream",
     "text": [
      "Epoch 78, Train loss: 0.06810428634182447, Acc: 0.9827882960413081, F1-Macro: 0.9826934991897818\n",
      "Epoch 78, Val loss: 0.7481819540262222, Acc: 0.7846153846153846, F1-Macro: 0.7833333333333333\n",
      "Early stopping counter 15/50\n"
     ]
    },
    {
     "name": "stderr",
     "output_type": "stream",
     "text": [
      " 79% 79/100 [35:19<08:55, 25.50s/it]"
     ]
    },
    {
     "name": "stdout",
     "output_type": "stream",
     "text": [
      "Epoch 79, Train loss: 0.1886437238038828, Acc: 0.963855421686747, F1-Macro: 0.9637454425516362\n",
      "Epoch 79, Val loss: 0.6109037292189896, Acc: 0.7384615384615385, F1-Macro: 0.738213693437574\n",
      "Early stopping counter 16/50\n"
     ]
    },
    {
     "name": "stderr",
     "output_type": "stream",
     "text": [
      " 80% 80/100 [35:46<08:37, 25.89s/it]"
     ]
    },
    {
     "name": "stdout",
     "output_type": "stream",
     "text": [
      "Epoch 80, Train loss: 0.1020396960278352, Acc: 0.9690189328743546, F1-Macro: 0.9688927755568246\n",
      "Epoch 80, Val loss: 1.5980717688798904, Acc: 0.7846153846153846, F1-Macro: 0.7804054054054055\n",
      "Early stopping counter 17/50\n"
     ]
    },
    {
     "name": "stderr",
     "output_type": "stream",
     "text": [
      " 81% 81/100 [36:11<08:06, 25.59s/it]"
     ]
    },
    {
     "name": "stdout",
     "output_type": "stream",
     "text": [
      "Epoch 81, Train loss: 0.11136853606957528, Acc: 0.9724612736660929, F1-Macro: 0.9723491338282886\n",
      "Epoch 81, Val loss: 0.5428398912772536, Acc: 0.7846153846153846, F1-Macro: 0.7833333333333333\n",
      "Early stopping counter 18/50\n"
     ]
    },
    {
     "name": "stderr",
     "output_type": "stream",
     "text": [
      " 82% 82/100 [36:36<07:35, 25.31s/it]"
     ]
    },
    {
     "name": "stdout",
     "output_type": "stream",
     "text": [
      "Epoch 82, Train loss: 0.06910168658941984, Acc: 0.9845094664371773, F1-Macro: 0.9844429171984754\n",
      "Epoch 82, Val loss: 0.4336166880093515, Acc: 0.7846153846153846, F1-Macro: 0.7841555977229602\n",
      "Early stopping counter 19/50\n"
     ]
    },
    {
     "name": "stderr",
     "output_type": "stream",
     "text": [
      " 83% 83/100 [37:01<07:07, 25.12s/it]"
     ]
    },
    {
     "name": "stdout",
     "output_type": "stream",
     "text": [
      "Epoch 83, Train loss: 0.09852814043147697, Acc: 0.9759036144578314, F1-Macro: 0.9758256259064646\n",
      "Epoch 83, Val loss: 0.48013167292810977, Acc: 0.7538461538461538, F1-Macro: 0.7537878787878789\n",
      "Early stopping counter 20/50\n"
     ]
    },
    {
     "name": "stderr",
     "output_type": "stream",
     "text": [
      " 84% 84/100 [37:26<06:43, 25.21s/it]"
     ]
    },
    {
     "name": "stdout",
     "output_type": "stream",
     "text": [
      "Epoch 84, Train loss: 0.05463487272047334, Acc: 0.9810671256454389, F1-Macro: 0.9809857876870256\n",
      "Epoch 84, Val loss: 0.6225478150881827, Acc: 0.7692307692307693, F1-Macro: 0.7683535281539557\n",
      "Early stopping counter 21/50\n"
     ]
    },
    {
     "name": "stderr",
     "output_type": "stream",
     "text": [
      " 85% 85/100 [37:53<06:27, 25.86s/it]"
     ]
    },
    {
     "name": "stdout",
     "output_type": "stream",
     "text": [
      "Epoch 85, Train loss: 0.06705738345368041, Acc: 0.9793459552495697, F1-Macro: 0.9792618503712165\n",
      "Epoch 85, Val loss: 0.7072591744363308, Acc: 0.7846153846153846, F1-Macro: 0.7804054054054055\n",
      "Early stopping counter 22/50\n"
     ]
    },
    {
     "name": "stderr",
     "output_type": "stream",
     "text": [
      " 86% 86/100 [38:18<05:57, 25.54s/it]"
     ]
    },
    {
     "name": "stdout",
     "output_type": "stream",
     "text": [
      "Epoch 86, Train loss: 0.04816098278388381, Acc: 0.9879518072289156, F1-Macro: 0.987905372251052\n",
      "Epoch 86, Val loss: 0.5201068534515798, Acc: 0.7846153846153846, F1-Macro: 0.7833333333333333\n",
      "Early stopping counter 23/50\n"
     ]
    },
    {
     "name": "stderr",
     "output_type": "stream",
     "text": [
      " 87% 87/100 [38:44<05:33, 25.63s/it]"
     ]
    },
    {
     "name": "stdout",
     "output_type": "stream",
     "text": [
      "Epoch 87, Train loss: 0.07363890183882581, Acc: 0.9759036144578314, F1-Macro: 0.9757448889525037\n",
      "Epoch 87, Val loss: 0.7891075611114502, Acc: 0.8, F1-Macro: 0.7982812126999284\n",
      "Early stopping counter 24/50\n"
     ]
    },
    {
     "name": "stderr",
     "output_type": "stream",
     "text": [
      " 88% 88/100 [39:09<05:06, 25.52s/it]"
     ]
    },
    {
     "name": "stdout",
     "output_type": "stream",
     "text": [
      "Epoch 88, Train loss: 0.06982017318821615, Acc: 0.9741824440619621, F1-Macro: 0.974103887536883\n",
      "Epoch 88, Val loss: 0.665580227971077, Acc: 0.8, F1-Macro: 0.7969238163902908\n",
      "Early stopping counter 25/50\n"
     ]
    },
    {
     "name": "stderr",
     "output_type": "stream",
     "text": [
      " 89% 89/100 [39:34<04:39, 25.44s/it]"
     ]
    },
    {
     "name": "stdout",
     "output_type": "stream",
     "text": [
      "Epoch 89, Train loss: 0.06269754929881957, Acc: 0.9776247848537005, F1-Macro: 0.9775649689153183\n",
      "Epoch 89, Val loss: 1.8409215807914734, Acc: 0.7846153846153846, F1-Macro: 0.782088122605364\n",
      "Early stopping counter 26/50\n"
     ]
    },
    {
     "name": "stderr",
     "output_type": "stream",
     "text": [
      " 90% 90/100 [40:01<04:16, 25.68s/it]"
     ]
    },
    {
     "name": "stdout",
     "output_type": "stream",
     "text": [
      "Epoch 90, Train loss: 0.10622980347317126, Acc: 0.9759036144578314, F1-Macro: 0.9757581898812646\n",
      "Epoch 90, Val loss: 1.9778265357017517, Acc: 0.7846153846153846, F1-Macro: 0.782088122605364\n",
      "Early stopping counter 27/50\n"
     ]
    },
    {
     "name": "stderr",
     "output_type": "stream",
     "text": [
      " 91% 91/100 [40:26<03:50, 25.56s/it]"
     ]
    },
    {
     "name": "stdout",
     "output_type": "stream",
     "text": [
      "Epoch 91, Train loss: 0.05093243314574162, Acc: 0.9862306368330465, F1-Macro: 0.98616172442539\n",
      "Epoch 91, Val loss: 0.6094461954198778, Acc: 0.7692307692307693, F1-Macro: 0.767247553115302\n",
      "Early stopping counter 28/50\n"
     ]
    },
    {
     "name": "stderr",
     "output_type": "stream",
     "text": [
      " 92% 92/100 [40:51<03:23, 25.46s/it]"
     ]
    },
    {
     "name": "stdout",
     "output_type": "stream",
     "text": [
      "Epoch 92, Train loss: 0.0554041117688434, Acc: 0.9862306368330465, F1-Macro: 0.9861683132960362\n",
      "Epoch 92, Val loss: 0.6342180664651096, Acc: 0.8, F1-Macro: 0.7969238163902908\n",
      "Early stopping counter 29/50\n"
     ]
    },
    {
     "name": "stderr",
     "output_type": "stream",
     "text": [
      " 93% 93/100 [41:16<02:57, 25.30s/it]"
     ]
    },
    {
     "name": "stdout",
     "output_type": "stream",
     "text": [
      "Epoch 93, Train loss: 0.07556063661144839, Acc: 0.9759036144578314, F1-Macro: 0.9757581898812646\n",
      "Epoch 93, Val loss: 2.4116992354393005, Acc: 0.7692307692307693, F1-Macro: 0.767247553115302\n",
      "Early stopping counter 30/50\n"
     ]
    },
    {
     "name": "stderr",
     "output_type": "stream",
     "text": [
      " 94% 94/100 [41:41<02:30, 25.08s/it]"
     ]
    },
    {
     "name": "stdout",
     "output_type": "stream",
     "text": [
      "Epoch 94, Train loss: 0.0676462225512498, Acc: 0.9776247848537005, F1-Macro: 0.9775385484662393\n",
      "Epoch 94, Val loss: 1.9445078670978546, Acc: 0.7846153846153846, F1-Macro: 0.782088122605364\n",
      "Early stopping counter 31/50\n"
     ]
    },
    {
     "name": "stderr",
     "output_type": "stream",
     "text": [
      " 95% 95/100 [42:07<02:07, 25.53s/it]"
     ]
    },
    {
     "name": "stdout",
     "output_type": "stream",
     "text": [
      "Epoch 95, Train loss: 0.048553162487223744, Acc: 0.9913941480206541, F1-Macro: 0.9913531630159453\n",
      "Epoch 95, Val loss: 0.6257276732940227, Acc: 0.7692307692307693, F1-Macro: 0.767247553115302\n",
      "Early stopping counter 32/50\n"
     ]
    },
    {
     "name": "stderr",
     "output_type": "stream",
     "text": [
      " 96% 96/100 [42:33<01:42, 25.59s/it]"
     ]
    },
    {
     "name": "stdout",
     "output_type": "stream",
     "text": [
      "Epoch 96, Train loss: 0.06246235630371504, Acc: 0.9776247848537005, F1-Macro: 0.9775286581755758\n",
      "Epoch 96, Val loss: 0.6437770436168648, Acc: 0.7692307692307693, F1-Macro: 0.767247553115302\n",
      "Early stopping counter 33/50\n"
     ]
    },
    {
     "name": "stderr",
     "output_type": "stream",
     "text": [
      " 97% 97/100 [42:58<01:16, 25.48s/it]"
     ]
    },
    {
     "name": "stdout",
     "output_type": "stream",
     "text": [
      "Epoch 97, Train loss: 0.059141552800105676, Acc: 0.9793459552495697, F1-Macro: 0.9792425866380849\n",
      "Epoch 97, Val loss: 0.6071240946403123, Acc: 0.7692307692307693, F1-Macro: 0.767247553115302\n",
      "Early stopping counter 34/50\n"
     ]
    },
    {
     "name": "stderr",
     "output_type": "stream",
     "text": [
      " 98% 98/100 [43:23<00:50, 25.39s/it]"
     ]
    },
    {
     "name": "stdout",
     "output_type": "stream",
     "text": [
      "Epoch 98, Train loss: 0.08046290019734038, Acc: 0.9827882960413081, F1-Macro: 0.9827103916200453\n",
      "Epoch 98, Val loss: 0.6178863146342337, Acc: 0.7692307692307693, F1-Macro: 0.7683535281539557\n",
      "Early stopping counter 35/50\n"
     ]
    },
    {
     "name": "stderr",
     "output_type": "stream",
     "text": [
      " 99% 99/100 [43:49<00:25, 25.36s/it]"
     ]
    },
    {
     "name": "stdout",
     "output_type": "stream",
     "text": [
      "Epoch 99, Train loss: 0.06906607803992099, Acc: 0.9810671256454389, F1-Macro: 0.9809769586350796\n",
      "Epoch 99, Val loss: 1.9123190492391586, Acc: 0.7846153846153846, F1-Macro: 0.782088122605364\n",
      "Early stopping counter 36/50\n"
     ]
    },
    {
     "name": "stderr",
     "output_type": "stream",
     "text": [
      "100% 100/100 [44:17<00:00, 26.58s/it]\n"
     ]
    },
    {
     "data": {
      "text/html": [
       "<br/>Waiting for W&B process to finish, PID 38451... <strong style=\"color:green\">(success).</strong>"
      ],
      "text/plain": [
       "<IPython.core.display.HTML object>"
      ]
     },
     "metadata": {},
     "output_type": "display_data"
    },
    {
     "data": {
      "text/html": [
       "<style>\n",
       "    table.wandb td:nth-child(1) { padding: 0 10px; text-align: right }\n",
       "    .wandb-row { display: flex; flex-direction: row; flex-wrap: wrap; width: 100% }\n",
       "    .wandb-col { display: flex; flex-direction: column; flex-basis: 100%; flex: 1; padding: 10px; }\n",
       "    </style>\n",
       "<div class=\"wandb-row\"><div class=\"wandb-col\">\n",
       "<h3>Run history:</h3><br/><table class=\"wandb\"><tr><td>train_loss</td><td>█▇▆▆▆▆▅▄▅▅▅▅▄▄▄▄▄▃▄▃▃▃▂▂▂▁▂▂▂▁▂▁▂▂▁▁▁▁▁▁</td></tr><tr><td>train_score</td><td>▁▃▄▄▅▅▆▆▆▅▆▆▆▆▆▆▆▆▇▇▇▇▇▇████████████████</td></tr><tr><td>val_loss</td><td>▂▂▂▄▂▂▂▃▄▃▁▁▂▂▃▂▃▆▂█▁▇▁▁▁▁▂▂▂▃▁▂▁▁▁▂▁▅▁▄</td></tr><tr><td>val_score</td><td>▁▁▄▁▂▆▅▆▁▃▇▇▅▄▅▆▆▆▇▆▅▅▇▇███▆▅▇▇▇▇▆▇▇▇▇▇▇</td></tr></table><br/></div><div class=\"wandb-col\">\n",
       "<h3>Run summary:</h3><br/><table class=\"wandb\"><tr><td>train_loss</td><td>0.06907</td></tr><tr><td>train_score</td><td>0.98107</td></tr><tr><td>val_loss</td><td>1.91232</td></tr><tr><td>val_score</td><td>0.78462</td></tr></table>\n",
       "</div></div>\n",
       "Synced 5 W&B file(s), 0 media file(s), 0 artifact file(s) and 0 other file(s)\n",
       "<br/>Synced <strong style=\"color:#cdcd00\">GoogLeNet_aug+</strong>: <a href=\"https://wandb.ai/juyeonn/Image%20Augmentation/runs/19qf4l58\" target=\"_blank\">https://wandb.ai/juyeonn/Image%20Augmentation/runs/19qf4l58</a><br/>\n",
       "Find logs at: <code>./wandb/run-20220214_172658-19qf4l58/logs</code><br/>\n"
      ],
      "text/plain": [
       "<IPython.core.display.HTML object>"
      ]
     },
     "metadata": {},
     "output_type": "display_data"
    }
   ],
   "source": [
    "# wandb.init(project='Image Augmentation', name='GoogLeNet_aug+', config=config)\n",
    "# wandb.watch(model, metric_fn, log='all', log_freq=10)\n",
    "\n",
    "# tqdm: 진행상황을 제공하는 라이브러리\n",
    "for epoch_index in tqdm(range(EPOCHS)):\n",
    "\n",
    "    trainer.train_epoch(train_dataloader, epoch_index)\n",
    "    trainer.validate_epoch(validation_dataloader, epoch_index)\n",
    "\n",
    "    # early_stopping check\n",
    "    early_stopper.check_early_stopping(loss=trainer.val_mean_loss)\n",
    "    \n",
    "    # wandb.log({\"train_loss\": trainer.train_mean_loss}, step=epoch_index)\n",
    "    # wandb.log({\"train_score\": trainer.train_score}, step=epoch_index)\n",
    "    # wandb.log({\"val_loss\": trainer.val_mean_loss}, step=epoch_index)\n",
    "    # wandb.log({\"val_score\": trainer.validation_score}, step=epoch_index)\n",
    "\n",
    "    if early_stopper.stop:\n",
    "        print('Early stopped')\n",
    "        break\n",
    "\n",
    "    if early_stopper.save_model:\n",
    "        check_point = {\n",
    "            'model': model.state_dict(), # 모델의 실제 내용 (가중치, 양자화 방법, 옵티마이저 등)을 저장\n",
    "            'optimizer': optimizer.state_dict(),\n",
    "            'scheduler': scheduler.state_dict()\n",
    "        }\n",
    "        torch.save(check_point, 'best.pt')\n",
    "\n",
    "# wandb.finish()"
   ]
  },
  {
   "cell_type": "markdown",
   "id": "fe53514a-e83f-4795-9589-640f26cc2993",
   "metadata": {
    "id": "fe53514a-e83f-4795-9589-640f26cc2993"
   },
   "source": [
    "## Inference\n",
    "### 모델 로드"
   ]
  },
  {
   "cell_type": "code",
   "execution_count": 24,
   "id": "6729cfde-c4b3-4d36-938e-f8bb8d8afef3",
   "metadata": {
    "executionInfo": {
     "elapsed": 25,
     "status": "ok",
     "timestamp": 1644456439566,
     "user": {
      "displayName": "고주연",
      "photoUrl": "https://lh3.googleusercontent.com/a/default-user=s64",
      "userId": "03650257558653620468"
     },
     "user_tz": -540
    },
    "id": "6729cfde-c4b3-4d36-938e-f8bb8d8afef3"
   },
   "outputs": [],
   "source": [
    "TRAINED_MODEL_PATH = 'best.pt'"
   ]
  },
  {
   "cell_type": "markdown",
   "id": "75bbba92-b53c-499f-b5f9-b6ac3edde331",
   "metadata": {
    "id": "75bbba92-b53c-499f-b5f9-b6ac3edde331"
   },
   "source": [
    "### Load dataset"
   ]
  },
  {
   "cell_type": "code",
   "execution_count": 25,
   "id": "ced90de9-50ec-4e18-9f42-5a1b493941a5",
   "metadata": {
    "executionInfo": {
     "elapsed": 25,
     "status": "ok",
     "timestamp": 1644456439567,
     "user": {
      "displayName": "고주연",
      "photoUrl": "https://lh3.googleusercontent.com/a/default-user=s64",
      "userId": "03650257558653620468"
     },
     "user_tz": -540
    },
    "id": "ced90de9-50ec-4e18-9f42-5a1b493941a5"
   },
   "outputs": [],
   "source": [
    "class TestDataset(Dataset):\n",
    "    def __init__(self, data_dir, input_shape):\n",
    "        self.data_dir = data_dir\n",
    "        self.input_shape = input_shape\n",
    "        \n",
    "        # Loading dataset\n",
    "        self.db = self.data_loader()\n",
    "        \n",
    "        # Transform function\n",
    "        self.transform = A.Compose([\n",
    "                                    A.Resize(self.input_shape, self.input_shape),\n",
    "                                    A.Normalize(mean=[0.485, 0.456, 0.406],std=[0.229, 0.224, 0.225]),\n",
    "                                    A.pytorch.transforms.ToTensorV2()\n",
    "                                ])\n",
    "\n",
    "    def data_loader(self):\n",
    "        print('Loading test dataset..')\n",
    "        if not os.path.isdir(self.data_dir):\n",
    "            print(f'!!! Cannot find {self.data_dir}... !!!')\n",
    "            sys.exit()\n",
    "        \n",
    "        db = pd.read_csv(os.path.join(self.data_dir, 'sample_submission.csv'))\n",
    "        return db\n",
    "    \n",
    "    def __len__(self):\n",
    "        return len(self.db)\n",
    "    \n",
    "    def __getitem__(self, index):\n",
    "        data = copy.deepcopy(self.db.loc[index])\n",
    "        \n",
    "        # Loading image\n",
    "        cvimg = cv2.imread(os.path.join(self.data_dir,'test',data['file_name']), cv2.IMREAD_COLOR | cv2.IMREAD_IGNORE_ORIENTATION)\n",
    "        if not isinstance(cvimg, np.ndarray):\n",
    "            raise IOError(\"Fail to read %s\" % data['file_name'])\n",
    "\n",
    "        # Preprocessing images\n",
    "        transformed = self.transform(image=cvimg)\n",
    "        trans_image = transformed[\"image\"]\n",
    "\n",
    "        return trans_image, data['file_name']"
   ]
  },
  {
   "cell_type": "code",
   "execution_count": 26,
   "id": "cdd31a3d-08cd-48fc-87b0-137976d4d4bb",
   "metadata": {
    "colab": {
     "base_uri": "https://localhost:8080/"
    },
    "executionInfo": {
     "elapsed": 25,
     "status": "ok",
     "timestamp": 1644456439568,
     "user": {
      "displayName": "고주연",
      "photoUrl": "https://lh3.googleusercontent.com/a/default-user=s64",
      "userId": "03650257558653620468"
     },
     "user_tz": -540
    },
    "id": "cdd31a3d-08cd-48fc-87b0-137976d4d4bb",
    "outputId": "4fda5a4d-4c8c-493d-b259-91a1d6ae045c"
   },
   "outputs": [
    {
     "name": "stdout",
     "output_type": "stream",
     "text": [
      "Loading test dataset..\n"
     ]
    }
   ],
   "source": [
    "# Load dataset & dataloader\n",
    "test_dataset = TestDataset(data_dir=DATA_DIR, input_shape=INPUT_SHAPE)\n",
    "test_dataloader = DataLoader(dataset=test_dataset, batch_size=BATCH_SIZE, shuffle=False)"
   ]
  },
  {
   "cell_type": "markdown",
   "id": "53efd72b-172d-4e34-a1dd-65ed8c745b58",
   "metadata": {
    "id": "53efd72b-172d-4e34-a1dd-65ed8c745b58"
   },
   "source": [
    "### 추론 진행"
   ]
  },
  {
   "cell_type": "code",
   "execution_count": 27,
   "id": "16a090ea-bb34-4d3d-a127-b1190e8c416c",
   "metadata": {
    "colab": {
     "base_uri": "https://localhost:8080/"
    },
    "executionInfo": {
     "elapsed": 1056,
     "status": "ok",
     "timestamp": 1644456440604,
     "user": {
      "displayName": "고주연",
      "photoUrl": "https://lh3.googleusercontent.com/a/default-user=s64",
      "userId": "03650257558653620468"
     },
     "user_tz": -540
    },
    "id": "16a090ea-bb34-4d3d-a127-b1190e8c416c",
    "outputId": "2c28ea6f-7df4-4505-f8e4-e07c08158ef6",
    "tags": []
   },
   "outputs": [
    {
     "name": "stderr",
     "output_type": "stream",
     "text": [
      "1it [00:00,  1.46it/s]"
     ]
    },
    {
     "name": "stdout",
     "output_type": "stream",
     "text": [
      "tensor([[9.9984e-01, 1.5791e-04],\n",
      "        [9.8846e-01, 1.1537e-02],\n",
      "        [9.9689e-01, 3.1082e-03],\n",
      "        [1.8277e-03, 9.9817e-01],\n",
      "        [9.7581e-01, 2.4189e-02],\n",
      "        [2.8533e-04, 9.9971e-01],\n",
      "        [9.1498e-04, 9.9909e-01],\n",
      "        [7.7238e-03, 9.9228e-01],\n",
      "        [9.9958e-01, 4.2128e-04],\n",
      "        [3.3078e-05, 9.9997e-01],\n",
      "        [9.9981e-01, 1.9473e-04],\n",
      "        [9.9973e-01, 2.6573e-04],\n",
      "        [9.9994e-01, 5.5605e-05],\n",
      "        [9.4900e-01, 5.0998e-02],\n",
      "        [4.2757e-01, 5.7243e-01],\n",
      "        [9.9622e-01, 3.7782e-03],\n",
      "        [1.7058e-02, 9.8294e-01],\n",
      "        [9.9994e-01, 5.9161e-05],\n",
      "        [9.9988e-01, 1.1931e-04],\n",
      "        [9.9771e-01, 2.2866e-03],\n",
      "        [9.1318e-01, 8.6819e-02],\n",
      "        [9.9960e-01, 4.0309e-04],\n",
      "        [9.7020e-01, 2.9800e-02],\n",
      "        [9.9962e-01, 3.8253e-04],\n",
      "        [6.4552e-02, 9.3545e-01],\n",
      "        [9.9989e-01, 1.1176e-04],\n",
      "        [9.4711e-01, 5.2888e-02],\n",
      "        [9.9995e-01, 5.0110e-05],\n",
      "        [8.7986e-05, 9.9991e-01],\n",
      "        [1.2967e-03, 9.9870e-01],\n",
      "        [5.0738e-03, 9.9493e-01],\n",
      "        [1.9013e-03, 9.9810e-01]], device='cuda:0')\n"
     ]
    },
    {
     "name": "stderr",
     "output_type": "stream",
     "text": [
      "2it [00:01,  1.48it/s]"
     ]
    },
    {
     "name": "stdout",
     "output_type": "stream",
     "text": [
      "tensor([[1.0556e-02, 9.8944e-01],\n",
      "        [9.9901e-01, 9.9166e-04],\n",
      "        [9.7730e-01, 2.2702e-02],\n",
      "        [8.5476e-02, 9.1452e-01],\n",
      "        [1.2908e-01, 8.7092e-01],\n",
      "        [3.9695e-01, 6.0305e-01],\n",
      "        [1.0716e-03, 9.9893e-01],\n",
      "        [9.7111e-01, 2.8888e-02],\n",
      "        [2.4632e-02, 9.7537e-01],\n",
      "        [1.2990e-01, 8.7010e-01],\n",
      "        [9.9173e-01, 8.2745e-03],\n",
      "        [1.9790e-04, 9.9980e-01],\n",
      "        [4.4404e-05, 9.9996e-01],\n",
      "        [2.8241e-02, 9.7176e-01],\n",
      "        [8.3503e-01, 1.6497e-01],\n",
      "        [9.8639e-01, 1.3614e-02],\n",
      "        [2.5554e-01, 7.4446e-01],\n",
      "        [9.9955e-01, 4.4599e-04],\n",
      "        [2.5070e-01, 7.4930e-01],\n",
      "        [8.0305e-04, 9.9920e-01],\n",
      "        [3.0499e-02, 9.6950e-01],\n",
      "        [5.6921e-01, 4.3079e-01],\n",
      "        [4.9283e-01, 5.0717e-01],\n",
      "        [2.6412e-02, 9.7359e-01],\n",
      "        [1.9121e-01, 8.0879e-01],\n",
      "        [7.5822e-03, 9.9242e-01],\n",
      "        [9.5142e-01, 4.8584e-02],\n",
      "        [6.3183e-01, 3.6817e-01],\n",
      "        [5.8581e-03, 9.9414e-01],\n",
      "        [9.9659e-01, 3.4103e-03],\n",
      "        [9.9989e-01, 1.1219e-04],\n",
      "        [9.9595e-01, 4.0508e-03]], device='cuda:0')\n"
     ]
    },
    {
     "name": "stderr",
     "output_type": "stream",
     "text": [
      "4it [00:02,  1.87it/s]"
     ]
    },
    {
     "name": "stdout",
     "output_type": "stream",
     "text": [
      "tensor([[8.8057e-03, 9.9119e-01],\n",
      "        [3.4174e-05, 9.9997e-01],\n",
      "        [9.3309e-01, 6.6907e-02],\n",
      "        [1.3119e-01, 8.6881e-01],\n",
      "        [9.7222e-01, 2.7785e-02],\n",
      "        [9.9358e-01, 6.4201e-03],\n",
      "        [9.0865e-01, 9.1347e-02],\n",
      "        [9.8674e-01, 1.3260e-02],\n",
      "        [8.9182e-01, 1.0818e-01],\n",
      "        [9.9974e-01, 2.5711e-04],\n",
      "        [2.0145e-03, 9.9799e-01],\n",
      "        [9.9609e-01, 3.9129e-03],\n",
      "        [9.9992e-01, 7.9706e-05],\n",
      "        [9.9960e-01, 3.9736e-04],\n",
      "        [1.3526e-03, 9.9865e-01],\n",
      "        [6.5483e-04, 9.9935e-01],\n",
      "        [3.9893e-04, 9.9960e-01],\n",
      "        [9.6727e-01, 3.2728e-02],\n",
      "        [9.9779e-01, 2.2086e-03],\n",
      "        [1.1238e-01, 8.8762e-01],\n",
      "        [2.8033e-02, 9.7197e-01],\n",
      "        [9.7268e-01, 2.7319e-02],\n",
      "        [9.9606e-01, 3.9351e-03],\n",
      "        [2.6339e-03, 9.9737e-01],\n",
      "        [9.9885e-01, 1.1491e-03],\n",
      "        [6.9374e-02, 9.3063e-01],\n",
      "        [9.4804e-01, 5.1955e-02],\n",
      "        [9.9719e-01, 2.8148e-03],\n",
      "        [9.5711e-01, 4.2891e-02],\n",
      "        [1.1158e-04, 9.9989e-01],\n",
      "        [9.9960e-01, 3.9753e-04],\n",
      "        [9.9935e-01, 6.4609e-04]], device='cuda:0')\n",
      "tensor([[6.4676e-05, 9.9994e-01],\n",
      "        [1.0791e-03, 9.9892e-01],\n",
      "        [1.9240e-02, 9.8076e-01],\n",
      "        [1.2803e-03, 9.9872e-01]], device='cuda:0')\n"
     ]
    },
    {
     "name": "stderr",
     "output_type": "stream",
     "text": [
      "\n"
     ]
    }
   ],
   "source": [
    "model.load_state_dict(torch.load(TRAINED_MODEL_PATH)['model']) # 저장된 모델을 로드\n",
    "\n",
    "# Prediction\n",
    "file_lst = []\n",
    "pred_lst = []\n",
    "prob_lst = []\n",
    "model.eval() # evaluation 과정에서 사용하지 않아야 하는 layer들을 알아서 off 시키도록 하는 함수\n",
    "# test 때는 gradient를 안해도 되니까 no_grad\n",
    "with torch.no_grad():\n",
    "    for batch_index, (img, file_num) in tqdm(enumerate(test_dataloader)):\n",
    "        img = img.to(DEVICE)\n",
    "        pred = model(img)\n",
    "        print(pred)\n",
    "        file_lst.extend(list(file_num))\n",
    "        pred_lst.extend(pred.argmax(dim=1).tolist())\n",
    "        prob_lst.extend(pred[:, 1].tolist())"
   ]
  },
  {
   "cell_type": "markdown",
   "id": "056169d1-64a8-4b81-8daf-722b029cf2b9",
   "metadata": {
    "id": "056169d1-64a8-4b81-8daf-722b029cf2b9"
   },
   "source": [
    "### 결과 저장"
   ]
  },
  {
   "cell_type": "code",
   "execution_count": 28,
   "id": "f133cd86-b87b-4f8b-ae0e-c240655ae9ff",
   "metadata": {
    "executionInfo": {
     "elapsed": 45,
     "status": "ok",
     "timestamp": 1644456440606,
     "user": {
      "displayName": "고주연",
      "photoUrl": "https://lh3.googleusercontent.com/a/default-user=s64",
      "userId": "03650257558653620468"
     },
     "user_tz": -540
    },
    "id": "f133cd86-b87b-4f8b-ae0e-c240655ae9ff"
   },
   "outputs": [],
   "source": [
    "df = pd.DataFrame({'file_name':file_lst, 'COVID':pred_lst})\n",
    "# df.sort_values(by=['file_name'], inplace=True)\n",
    "df.to_csv('GoogLeNet_ver5.csv', index=False)"
   ]
  },
  {
   "cell_type": "code",
   "execution_count": null,
   "id": "03a5b7ae-2810-42c4-9335-ae1c6b6e2746",
   "metadata": {
    "executionInfo": {
     "elapsed": 34,
     "status": "ok",
     "timestamp": 1644456440608,
     "user": {
      "displayName": "고주연",
      "photoUrl": "https://lh3.googleusercontent.com/a/default-user=s64",
      "userId": "03650257558653620468"
     },
     "user_tz": -540
    },
    "id": "03a5b7ae-2810-42c4-9335-ae1c6b6e2746"
   },
   "outputs": [],
   "source": []
  }
 ],
 "metadata": {
  "accelerator": "GPU",
  "colab": {
   "collapsed_sections": [],
   "name": "baseline_cnn.ipynb",
   "provenance": []
  },
  "kernelspec": {
   "display_name": "Python 3 (ipykernel)",
   "language": "python",
   "name": "python3"
  },
  "language_info": {
   "codemirror_mode": {
    "name": "ipython",
    "version": 3
   },
   "file_extension": ".py",
   "mimetype": "text/x-python",
   "name": "python",
   "nbconvert_exporter": "python",
   "pygments_lexer": "ipython3",
   "version": "3.8.5"
  }
 },
 "nbformat": 4,
 "nbformat_minor": 5
}

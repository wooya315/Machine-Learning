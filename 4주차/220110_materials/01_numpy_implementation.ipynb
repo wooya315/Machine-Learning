{
 "cells": [
  {
   "cell_type": "markdown",
   "metadata": {},
   "source": [
    "# 1. Linear Regression Numpy Implementation"
   ]
  },
  {
   "cell_type": "code",
   "execution_count": 3,
   "metadata": {},
   "outputs": [],
   "source": [
    "from sklearn.datasets import make_regression\n",
    "import matplotlib.pyplot as plt\n",
    "import numpy as np"
   ]
  },
  {
   "cell_type": "code",
   "execution_count": 4,
   "metadata": {},
   "outputs": [
    {
     "data": {
      "text/plain": [
       "(100, 1)"
      ]
     },
     "execution_count": 4,
     "metadata": {},
     "output_type": "execute_result"
    }
   ],
   "source": [
    "X, y= make_regression(n_samples=100, n_features=1, noise=0.4, bias=50)"
   ]
  },
  {
   "cell_type": "code",
   "execution_count": null,
   "metadata": {},
   "outputs": [],
   "source": [
    "def plotLine(theta0, theta1, X, y):\n",
    "    max_x = np.max(X) + 100\n",
    "    min_x = np.min(X) - 100\n",
    "\n",
    "\n",
    "    xplot = np.linspace(min_x, max_x, 1000)\n",
    "    yplot = theta0 + theta1 * xplot\n",
    "\n",
    "\n",
    "\n",
    "    plt.plot(xplot, yplot, color='#58b970', label='Regression Line')\n",
    "\n",
    "    plt.scatter(X,y)\n",
    "    plt.axis([-10, 10, 0, 200])\n",
    "    plt.show()"
   ]
  },
  {
   "cell_type": "code",
   "execution_count": 6,
   "metadata": {},
   "outputs": [],
   "source": [
    "def hypothesis(theta0, theta1, x):\n",
    "    return theta0 + (theta1*x) \n",
    "\n",
    "def cost(theta0, theta1, X, y):\n",
    "    costValue = 0 \n",
    "    for (xi, yi) in zip(X, y):\n",
    "        costValue += 0.5 * ((hypothesis(theta0, theta1, xi) - yi)**2)\n",
    "    return costValue\n",
    "\n",
    "def derivatives(theta0, theta1, X, y):\n",
    "    dtheta0 = 0\n",
    "    dtheta1 = 0\n",
    "    for (xi, yi) in zip(X, y):\n",
    "        dtheta0 += hypothesis(theta0, theta1, xi) - yi\n",
    "        dtheta1 += (hypothesis(theta0, theta1, xi) - yi)*xi\n",
    "\n",
    "    dtheta0 /= len(X)\n",
    "    dtheta1 /= len(X)\n",
    "\n",
    "    return dtheta0, dtheta1\n",
    "\n",
    "def updateParameters(theta0, theta1, X, y, alpha):\n",
    "    dtheta0, dtheta1 = derivatives(theta0, theta1, X, y)\n",
    "    theta0 = theta0 - (alpha * dtheta0)\n",
    "    theta1 = theta1 - (alpha * dtheta1)\n",
    "\n",
    "    return theta0, theta1"
   ]
  },
  {
   "cell_type": "code",
   "execution_count": 1,
   "metadata": {},
   "outputs": [],
   "source": [
    "def LinearRegression(X, y):\n",
    "    theta0 = np.random.rand()\n",
    "    theta1 = np.random.rand()\n",
    "    \n",
    "    for i in range(0, 1000):\n",
    "        if i % 100 == 0:\n",
    "            plotLine(theta0, theta1, X, y)\n",
    "            print(cost(theta0, theta1, X, y))\n",
    "        theta0, theta1 = updateParameters(theta0, theta1, X, y, 0.005)"
   ]
  },
  {
   "cell_type": "code",
   "execution_count": null,
   "metadata": {},
   "outputs": [],
   "source": [
    "LinearRegression(X, y)"
   ]
  },
  {
   "cell_type": "markdown",
   "metadata": {},
   "source": [
    "# 2. Ridge Regression Numpy Implementation"
   ]
  },
  {
   "cell_type": "code",
   "execution_count": null,
   "metadata": {},
   "outputs": [],
   "source": [
    "def hypothesis(theta0, theta1, x):\n",
    "    return theta0 + (theta1*x) \n",
    "\n",
    "def Ridge_cost(theta0, theta1, X, y):\n",
    "    costValue = 0 \n",
    "    for (xi, yi) in zip(X, y):\n",
    "        costValue += 0.5 * ((hypothesis(theta0, theta1, xi) - yi)**2)\n",
    "    return costValue\n",
    "\n",
    "def Ridge_derivatives(theta0, theta1, X, y):\n",
    "    dtheta0 = 0\n",
    "    dtheta1 = 0\n",
    "    for (xi, yi) in zip(X, y):\n",
    "        dtheta0 += hypothesis(theta0, theta1, xi) - yi\n",
    "        dtheta1 += (hypothesis(theta0, theta1, xi) - yi)*xi\n",
    "\n",
    "    dtheta0 /= len(X)\n",
    "    dtheta1 /= len(X)\n",
    "\n",
    "    return dtheta0, dtheta1\n",
    "\n",
    "def updateParameters(theta0, theta1, X, y, alpha):\n",
    "    dtheta0, dtheta1 = Ridge_derivatives(theta0, theta1, X, y)\n",
    "    theta0 = theta0 - (alpha * dtheta0)\n",
    "    theta1 = theta1 - (alpha * dtheta1)\n",
    "\n",
    "    return theta0, theta1"
   ]
  },
  {
   "cell_type": "code",
   "execution_count": null,
   "metadata": {},
   "outputs": [],
   "source": [
    "def RidgeRegression(X, y):\n",
    "    theta0 = np.random.rand()\n",
    "    theta1 = np.random.rand()\n",
    "    \n",
    "    for i in range(0, 1000):\n",
    "        if i % 100 == 0:\n",
    "            plotLine(theta0, theta1, X, y)\n",
    "            print(Ridge_cost(theta0, theta1, X, y))\n",
    "        theta0, theta1 = updateParameters(theta0, theta1, X, y, 0.005)"
   ]
  },
  {
   "cell_type": "code",
   "execution_count": null,
   "metadata": {},
   "outputs": [],
   "source": [
    "RidgeRegression(X, y)"
   ]
  },
  {
   "cell_type": "markdown",
   "metadata": {},
   "source": [
    "# 3. Lasso Regression Numpy Implementation"
   ]
  },
  {
   "cell_type": "code",
   "execution_count": null,
   "metadata": {},
   "outputs": [],
   "source": [
    "def hypothesis(theta0, theta1, x):\n",
    "    return theta0 + (theta1*x) \n",
    "\n",
    "def Lasso_cost(theta0, theta1, X, y):\n",
    "    costValue = 0 \n",
    "    for (xi, yi) in zip(X, y):\n",
    "        costValue += 0.5 * ((hypothesis(theta0, theta1, xi) - yi)**2)\n",
    "    return costValue\n",
    "\n",
    "def Lasso_derivatives(theta0, theta1, X, y):\n",
    "    dtheta0 = 0\n",
    "    dtheta1 = 0\n",
    "    for (xi, yi) in zip(X, y):\n",
    "        dtheta0 += hypothesis(theta0, theta1, xi) - yi\n",
    "        dtheta1 += (hypothesis(theta0, theta1, xi) - yi)*xi\n",
    "\n",
    "    dtheta0 /= len(X)\n",
    "    dtheta1 /= len(X)\n",
    "\n",
    "    return dtheta0, dtheta1\n",
    "\n",
    "def updateParameters(theta0, theta1, X, y, alpha):\n",
    "    dtheta0, dtheta1 = Lasso_derivatives(theta0, theta1, X, y)\n",
    "    theta0 = theta0 - (alpha * dtheta0)\n",
    "    theta1 = theta1 - (alpha * dtheta1)\n",
    "\n",
    "    return theta0, theta1"
   ]
  },
  {
   "cell_type": "code",
   "execution_count": null,
   "metadata": {},
   "outputs": [],
   "source": [
    "def LassoRegression(X, y):\n",
    "    theta0 = np.random.rand()\n",
    "    theta1 = np.random.rand()\n",
    "    \n",
    "    for i in range(0, 1000):\n",
    "        if i % 100 == 0:\n",
    "            plotLine(theta0, theta1, X, y)\n",
    "            print(Lasso_cost(theta0, theta1, X, y))\n",
    "        theta0, theta1 = updateParameters(theta0, theta1, X, y, 0.005)"
   ]
  },
  {
   "cell_type": "code",
   "execution_count": null,
   "metadata": {},
   "outputs": [],
   "source": [
    "LassoRegression(X, y)"
   ]
  },
  {
   "cell_type": "markdown",
   "metadata": {},
   "source": [
    "# 4. ElasticNet Numpy Implementation  (HW1)"
   ]
  },
  {
   "cell_type": "code",
   "execution_count": null,
   "metadata": {},
   "outputs": [],
   "source": [
    "def hypothesis(theta0, theta1, x):\n",
    "    return theta0 + (theta1*x) \n",
    "\n",
    "def EN_cost(theta0, theta1, X, y):\n",
    "    costValue = 0 \n",
    "    for (xi, yi) in zip(X, y):\n",
    "        costValue += 0.5 * ((hypothesis(theta0, theta1, xi) - yi)**2)\n",
    "    return costValue\n",
    "\n",
    "def EN_derivatives(theta0, theta1, X, y):\n",
    "    dtheta0 = 0\n",
    "    dtheta1 = 0\n",
    "    for (xi, yi) in zip(X, y):\n",
    "        dtheta0 += hypothesis(theta0, theta1, xi) - yi\n",
    "        dtheta1 += (hypothesis(theta0, theta1, xi) - yi)*xi\n",
    "\n",
    "    dtheta0 /= len(X)\n",
    "    dtheta1 /= len(X)\n",
    "\n",
    "    return dtheta0, dtheta1\n",
    "\n",
    "def updateParameters(theta0, theta1, X, y, alpha):\n",
    "    dtheta0, dtheta1 = EN_derivatives(theta0, theta1, X, y)\n",
    "    theta0 = theta0 - (alpha * dtheta0)\n",
    "    theta1 = theta1 - (alpha * dtheta1)\n",
    "\n",
    "    return theta0, theta1"
   ]
  },
  {
   "cell_type": "code",
   "execution_count": null,
   "metadata": {},
   "outputs": [],
   "source": [
    "def ENRegression(X, y):\n",
    "    theta0 = np.random.rand()\n",
    "    theta1 = np.random.rand()\n",
    "    \n",
    "    for i in range(0, 1000):\n",
    "        if i % 100 == 0:\n",
    "            plotLine(theta0, theta1, X, y)\n",
    "            print(EN_cost(theta0, theta1, X, y))\n",
    "        theta0, theta1 = updateParameters(theta0, theta1, X, y, 0.005)"
   ]
  },
  {
   "cell_type": "code",
   "execution_count": null,
   "metadata": {},
   "outputs": [],
   "source": [
    "ENRegression(X, y)"
   ]
  }
 ],
 "metadata": {
  "kernelspec": {
   "display_name": "Python 3",
   "language": "python",
   "name": "python3"
  },
  "language_info": {
   "codemirror_mode": {
    "name": "ipython",
    "version": 3
   },
   "file_extension": ".py",
   "mimetype": "text/x-python",
   "name": "python",
   "nbconvert_exporter": "python",
   "pygments_lexer": "ipython3",
   "version": "3.7.6"
  }
 },
 "nbformat": 4,
 "nbformat_minor": 4
}

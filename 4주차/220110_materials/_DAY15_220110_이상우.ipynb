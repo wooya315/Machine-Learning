{
  "cells": [
    {
      "cell_type": "markdown",
      "metadata": {
        "id": "TbWry9B_E15r"
      },
      "source": [
        "In this notebook we will explore the three methods and compare their results with a multiple linear regression model applied to Boston Housing dataset. The target variable is price and the features are 10 polynomial features of LSTAT: % lower status of the population. LSTAT2=  LSTAT2 , LSTAT3=  LSTAT3 , and etc."
      ]
    },
    {
      "cell_type": "code",
      "source": [
        "from google.colab import drive\n",
        "drive.mount('/content/drive')"
      ],
      "metadata": {
        "id": "MY0FHl8MFo_R",
        "outputId": "cfde4d93-d9ca-460f-8a3a-45460b48409a",
        "colab": {
          "base_uri": "https://localhost:8080/"
        }
      },
      "execution_count": 1,
      "outputs": [
        {
          "output_type": "stream",
          "name": "stdout",
          "text": [
            "Mounted at /content/drive\n"
          ]
        }
      ]
    },
    {
      "cell_type": "code",
      "execution_count": 2,
      "metadata": {
        "id": "qVXto0loE156",
        "outputId": "669a01fb-77d9-465c-ab16-097a7045b1e6",
        "colab": {
          "base_uri": "https://localhost:8080/"
        }
      },
      "outputs": [
        {
          "output_type": "stream",
          "name": "stderr",
          "text": [
            "/usr/local/lib/python3.7/dist-packages/statsmodels/tools/_testing.py:19: FutureWarning: pandas.util.testing is deprecated. Use the functions in the public API at pandas.testing instead.\n",
            "  import pandas.util.testing as tm\n"
          ]
        }
      ],
      "source": [
        "import numpy as np\n",
        "import pandas as pd\n",
        "import matplotlib.pyplot as plt\n",
        "import seaborn as sns\n",
        "from sklearn.linear_model import LinearRegression\n",
        "import statsmodels.api as sm\n",
        "sns.set()  #if you want to use seaborn themes with matplotlib functions\n",
        "import warnings\n",
        "warnings.filterwarnings('ignore')"
      ]
    },
    {
      "cell_type": "code",
      "execution_count": 3,
      "metadata": {
        "id": "tUKbHCq4E15-"
      },
      "outputs": [],
      "source": [
        "rand_state= 1000"
      ]
    },
    {
      "cell_type": "code",
      "execution_count": 4,
      "metadata": {
        "id": "pmkRFik8E16C"
      },
      "outputs": [],
      "source": [
        "df = pd.read_csv(\"/content/drive/MyDrive/Regularization_Boston.csv\")"
      ]
    },
    {
      "cell_type": "code",
      "execution_count": 5,
      "metadata": {
        "id": "Sl1aNDpOE16E",
        "outputId": "f30caae5-09f0-437c-b694-642190dcc5c2",
        "colab": {
          "base_uri": "https://localhost:8080/",
          "height": 270
        }
      },
      "outputs": [
        {
          "output_type": "execute_result",
          "data": {
            "text/html": [
              "\n",
              "  <div id=\"df-2469151e-bbd8-4b7f-bc3b-ebfc126da746\">\n",
              "    <div class=\"colab-df-container\">\n",
              "      <div>\n",
              "<style scoped>\n",
              "    .dataframe tbody tr th:only-of-type {\n",
              "        vertical-align: middle;\n",
              "    }\n",
              "\n",
              "    .dataframe tbody tr th {\n",
              "        vertical-align: top;\n",
              "    }\n",
              "\n",
              "    .dataframe thead th {\n",
              "        text-align: right;\n",
              "    }\n",
              "</style>\n",
              "<table border=\"1\" class=\"dataframe\">\n",
              "  <thead>\n",
              "    <tr style=\"text-align: right;\">\n",
              "      <th></th>\n",
              "      <th>price</th>\n",
              "      <th>LSTAT</th>\n",
              "      <th>LSTAT2</th>\n",
              "      <th>LSTAT3</th>\n",
              "      <th>LSTAT4</th>\n",
              "      <th>LSTAT5</th>\n",
              "      <th>LSTAT6</th>\n",
              "      <th>LSTAT7</th>\n",
              "      <th>LSTAT8</th>\n",
              "      <th>LSTAT9</th>\n",
              "      <th>LSTAT10</th>\n",
              "    </tr>\n",
              "  </thead>\n",
              "  <tbody>\n",
              "    <tr>\n",
              "      <th>0</th>\n",
              "      <td>24.0</td>\n",
              "      <td>4.98</td>\n",
              "      <td>24.8004</td>\n",
              "      <td>123.505992</td>\n",
              "      <td>615.059840</td>\n",
              "      <td>3062.998004</td>\n",
              "      <td>15253.730060</td>\n",
              "      <td>7.596358e+04</td>\n",
              "      <td>3.782986e+05</td>\n",
              "      <td>1.883927e+06</td>\n",
              "      <td>9.381957e+06</td>\n",
              "    </tr>\n",
              "    <tr>\n",
              "      <th>1</th>\n",
              "      <td>21.6</td>\n",
              "      <td>9.14</td>\n",
              "      <td>83.5396</td>\n",
              "      <td>763.551944</td>\n",
              "      <td>6978.864768</td>\n",
              "      <td>63786.823980</td>\n",
              "      <td>583011.571200</td>\n",
              "      <td>5.328726e+06</td>\n",
              "      <td>4.870455e+07</td>\n",
              "      <td>4.451596e+08</td>\n",
              "      <td>4.068759e+09</td>\n",
              "    </tr>\n",
              "    <tr>\n",
              "      <th>2</th>\n",
              "      <td>34.7</td>\n",
              "      <td>4.03</td>\n",
              "      <td>16.2409</td>\n",
              "      <td>65.450827</td>\n",
              "      <td>263.766833</td>\n",
              "      <td>1062.980336</td>\n",
              "      <td>4283.810755</td>\n",
              "      <td>1.726376e+04</td>\n",
              "      <td>6.957294e+04</td>\n",
              "      <td>2.803790e+05</td>\n",
              "      <td>1.129927e+06</td>\n",
              "    </tr>\n",
              "    <tr>\n",
              "      <th>3</th>\n",
              "      <td>33.4</td>\n",
              "      <td>2.94</td>\n",
              "      <td>8.6436</td>\n",
              "      <td>25.412184</td>\n",
              "      <td>74.711821</td>\n",
              "      <td>219.652754</td>\n",
              "      <td>645.779096</td>\n",
              "      <td>1.898591e+03</td>\n",
              "      <td>5.581856e+03</td>\n",
              "      <td>1.641066e+04</td>\n",
              "      <td>4.824733e+04</td>\n",
              "    </tr>\n",
              "    <tr>\n",
              "      <th>4</th>\n",
              "      <td>36.2</td>\n",
              "      <td>5.33</td>\n",
              "      <td>28.4089</td>\n",
              "      <td>151.419437</td>\n",
              "      <td>807.065599</td>\n",
              "      <td>4301.659644</td>\n",
              "      <td>22927.845900</td>\n",
              "      <td>1.222054e+05</td>\n",
              "      <td>6.513549e+05</td>\n",
              "      <td>3.471722e+06</td>\n",
              "      <td>1.850428e+07</td>\n",
              "    </tr>\n",
              "  </tbody>\n",
              "</table>\n",
              "</div>\n",
              "      <button class=\"colab-df-convert\" onclick=\"convertToInteractive('df-2469151e-bbd8-4b7f-bc3b-ebfc126da746')\"\n",
              "              title=\"Convert this dataframe to an interactive table.\"\n",
              "              style=\"display:none;\">\n",
              "        \n",
              "  <svg xmlns=\"http://www.w3.org/2000/svg\" height=\"24px\"viewBox=\"0 0 24 24\"\n",
              "       width=\"24px\">\n",
              "    <path d=\"M0 0h24v24H0V0z\" fill=\"none\"/>\n",
              "    <path d=\"M18.56 5.44l.94 2.06.94-2.06 2.06-.94-2.06-.94-.94-2.06-.94 2.06-2.06.94zm-11 1L8.5 8.5l.94-2.06 2.06-.94-2.06-.94L8.5 2.5l-.94 2.06-2.06.94zm10 10l.94 2.06.94-2.06 2.06-.94-2.06-.94-.94-2.06-.94 2.06-2.06.94z\"/><path d=\"M17.41 7.96l-1.37-1.37c-.4-.4-.92-.59-1.43-.59-.52 0-1.04.2-1.43.59L10.3 9.45l-7.72 7.72c-.78.78-.78 2.05 0 2.83L4 21.41c.39.39.9.59 1.41.59.51 0 1.02-.2 1.41-.59l7.78-7.78 2.81-2.81c.8-.78.8-2.07 0-2.86zM5.41 20L4 18.59l7.72-7.72 1.47 1.35L5.41 20z\"/>\n",
              "  </svg>\n",
              "      </button>\n",
              "      \n",
              "  <style>\n",
              "    .colab-df-container {\n",
              "      display:flex;\n",
              "      flex-wrap:wrap;\n",
              "      gap: 12px;\n",
              "    }\n",
              "\n",
              "    .colab-df-convert {\n",
              "      background-color: #E8F0FE;\n",
              "      border: none;\n",
              "      border-radius: 50%;\n",
              "      cursor: pointer;\n",
              "      display: none;\n",
              "      fill: #1967D2;\n",
              "      height: 32px;\n",
              "      padding: 0 0 0 0;\n",
              "      width: 32px;\n",
              "    }\n",
              "\n",
              "    .colab-df-convert:hover {\n",
              "      background-color: #E2EBFA;\n",
              "      box-shadow: 0px 1px 2px rgba(60, 64, 67, 0.3), 0px 1px 3px 1px rgba(60, 64, 67, 0.15);\n",
              "      fill: #174EA6;\n",
              "    }\n",
              "\n",
              "    [theme=dark] .colab-df-convert {\n",
              "      background-color: #3B4455;\n",
              "      fill: #D2E3FC;\n",
              "    }\n",
              "\n",
              "    [theme=dark] .colab-df-convert:hover {\n",
              "      background-color: #434B5C;\n",
              "      box-shadow: 0px 1px 3px 1px rgba(0, 0, 0, 0.15);\n",
              "      filter: drop-shadow(0px 1px 2px rgba(0, 0, 0, 0.3));\n",
              "      fill: #FFFFFF;\n",
              "    }\n",
              "  </style>\n",
              "\n",
              "      <script>\n",
              "        const buttonEl =\n",
              "          document.querySelector('#df-2469151e-bbd8-4b7f-bc3b-ebfc126da746 button.colab-df-convert');\n",
              "        buttonEl.style.display =\n",
              "          google.colab.kernel.accessAllowed ? 'block' : 'none';\n",
              "\n",
              "        async function convertToInteractive(key) {\n",
              "          const element = document.querySelector('#df-2469151e-bbd8-4b7f-bc3b-ebfc126da746');\n",
              "          const dataTable =\n",
              "            await google.colab.kernel.invokeFunction('convertToInteractive',\n",
              "                                                     [key], {});\n",
              "          if (!dataTable) return;\n",
              "\n",
              "          const docLinkHtml = 'Like what you see? Visit the ' +\n",
              "            '<a target=\"_blank\" href=https://colab.research.google.com/notebooks/data_table.ipynb>data table notebook</a>'\n",
              "            + ' to learn more about interactive tables.';\n",
              "          element.innerHTML = '';\n",
              "          dataTable['output_type'] = 'display_data';\n",
              "          await google.colab.output.renderOutput(dataTable, element);\n",
              "          const docLink = document.createElement('div');\n",
              "          docLink.innerHTML = docLinkHtml;\n",
              "          element.appendChild(docLink);\n",
              "        }\n",
              "      </script>\n",
              "    </div>\n",
              "  </div>\n",
              "  "
            ],
            "text/plain": [
              "   price  LSTAT   LSTAT2  ...        LSTAT8        LSTAT9       LSTAT10\n",
              "0   24.0   4.98  24.8004  ...  3.782986e+05  1.883927e+06  9.381957e+06\n",
              "1   21.6   9.14  83.5396  ...  4.870455e+07  4.451596e+08  4.068759e+09\n",
              "2   34.7   4.03  16.2409  ...  6.957294e+04  2.803790e+05  1.129927e+06\n",
              "3   33.4   2.94   8.6436  ...  5.581856e+03  1.641066e+04  4.824733e+04\n",
              "4   36.2   5.33  28.4089  ...  6.513549e+05  3.471722e+06  1.850428e+07\n",
              "\n",
              "[5 rows x 11 columns]"
            ]
          },
          "metadata": {},
          "execution_count": 5
        }
      ],
      "source": [
        "df.head()"
      ]
    },
    {
      "cell_type": "code",
      "execution_count": 6,
      "metadata": {
        "id": "LEoNmz1VE16I",
        "outputId": "4824937d-7992-4bb6-ebf1-2306f906bb5e",
        "colab": {
          "base_uri": "https://localhost:8080/",
          "height": 285
        }
      },
      "outputs": [
        {
          "output_type": "display_data",
          "data": {
            "image/png": "[encoded data removed]",
            "text/plain": [
              "<Figure size 432x288 with 1 Axes>"
            ]
          },
          "metadata": {}
        }
      ],
      "source": [
        "sns.scatterplot(x='LSTAT', y='price', data=df)\n",
        "plt.show()"
      ]
    },
    {
      "cell_type": "markdown",
      "metadata": {
        "id": "c_-qLPZWE16K"
      },
      "source": [
        "# 과제: 04_sklearn_penalization_1.ipynb의 과정을 위 데이터셋에 적용해 보는 것입니다!"
      ]
    },
    {
      "cell_type": "markdown",
      "metadata": {
        "id": "Aa-eZwNoE16N"
      },
      "source": [
        "# Q1. normalize the features!"
      ]
    },
    {
      "cell_type": "code",
      "execution_count": 7,
      "metadata": {
        "id": "bm5b-fT1E16T"
      },
      "outputs": [],
      "source": [
        "from sklearn.preprocessing import StandardScaler"
      ]
    },
    {
      "cell_type": "code",
      "execution_count": 8,
      "metadata": {
        "id": "fJY4iKqiE16W",
        "outputId": "34bb5dcb-40bc-4e69-a379-4ef255d378ae",
        "colab": {
          "base_uri": "https://localhost:8080/"
        }
      },
      "outputs": [
        {
          "output_type": "execute_result",
          "data": {
            "text/plain": [
              "array([ 0.15968566, -1.0755623 , -0.78952949, -0.56845926, -0.42533928,\n",
              "       -0.33434062, -0.2740581 , -0.23195975, -0.20115811, -0.1777807 ,\n",
              "       -0.15953586])"
            ]
          },
          "metadata": {},
          "execution_count": 8
        }
      ],
      "source": [
        "scaler=StandardScaler()\n",
        "df_sc= scaler.fit_transform(df)\n",
        "df_sc[0]"
      ]
    },
    {
      "cell_type": "code",
      "execution_count": 9,
      "metadata": {
        "id": "-2GMLvqmE16Y",
        "outputId": "dcfc6062-493c-4c14-fe8c-0391924fef05",
        "colab": {
          "base_uri": "https://localhost:8080/",
          "height": 364
        }
      },
      "outputs": [
        {
          "output_type": "execute_result",
          "data": {
            "text/html": [
              "\n",
              "  <div id=\"df-990c8de0-7e8e-4e3e-b71b-141d6849658d\">\n",
              "    <div class=\"colab-df-container\">\n",
              "      <div>\n",
              "<style scoped>\n",
              "    .dataframe tbody tr th:only-of-type {\n",
              "        vertical-align: middle;\n",
              "    }\n",
              "\n",
              "    .dataframe tbody tr th {\n",
              "        vertical-align: top;\n",
              "    }\n",
              "\n",
              "    .dataframe thead th {\n",
              "        text-align: right;\n",
              "    }\n",
              "</style>\n",
              "<table border=\"1\" class=\"dataframe\">\n",
              "  <thead>\n",
              "    <tr style=\"text-align: right;\">\n",
              "      <th></th>\n",
              "      <th>price</th>\n",
              "      <th>LSTAT</th>\n",
              "      <th>LSTAT2</th>\n",
              "      <th>LSTAT3</th>\n",
              "      <th>LSTAT4</th>\n",
              "      <th>LSTAT5</th>\n",
              "      <th>LSTAT6</th>\n",
              "      <th>LSTAT7</th>\n",
              "      <th>LSTAT8</th>\n",
              "      <th>LSTAT9</th>\n",
              "      <th>LSTAT10</th>\n",
              "    </tr>\n",
              "  </thead>\n",
              "  <tbody>\n",
              "    <tr>\n",
              "      <th>count</th>\n",
              "      <td>506.000000</td>\n",
              "      <td>506.000000</td>\n",
              "      <td>506.000000</td>\n",
              "      <td>506.000000</td>\n",
              "      <td>5.060000e+02</td>\n",
              "      <td>5.060000e+02</td>\n",
              "      <td>5.060000e+02</td>\n",
              "      <td>5.060000e+02</td>\n",
              "      <td>5.060000e+02</td>\n",
              "      <td>5.060000e+02</td>\n",
              "      <td>5.060000e+02</td>\n",
              "    </tr>\n",
              "    <tr>\n",
              "      <th>mean</th>\n",
              "      <td>22.532806</td>\n",
              "      <td>12.653063</td>\n",
              "      <td>210.993989</td>\n",
              "      <td>4285.788793</td>\n",
              "      <td>1.001336e+05</td>\n",
              "      <td>2.587609e+06</td>\n",
              "      <td>7.198029e+07</td>\n",
              "      <td>2.114923e+09</td>\n",
              "      <td>6.477077e+10</td>\n",
              "      <td>2.048399e+12</td>\n",
              "      <td>6.645292e+13</td>\n",
              "    </tr>\n",
              "    <tr>\n",
              "      <th>std</th>\n",
              "      <td>9.197104</td>\n",
              "      <td>7.141062</td>\n",
              "      <td>236.061920</td>\n",
              "      <td>7329.288372</td>\n",
              "      <td>2.342059e+05</td>\n",
              "      <td>7.737927e+06</td>\n",
              "      <td>2.628503e+08</td>\n",
              "      <td>9.126326e+09</td>\n",
              "      <td>3.223061e+11</td>\n",
              "      <td>1.153345e+13</td>\n",
              "      <td>4.169512e+14</td>\n",
              "    </tr>\n",
              "    <tr>\n",
              "      <th>min</th>\n",
              "      <td>5.000000</td>\n",
              "      <td>1.730000</td>\n",
              "      <td>2.992900</td>\n",
              "      <td>5.177717</td>\n",
              "      <td>8.957450e+00</td>\n",
              "      <td>1.549639e+01</td>\n",
              "      <td>2.680875e+01</td>\n",
              "      <td>4.637914e+01</td>\n",
              "      <td>8.023592e+01</td>\n",
              "      <td>1.388081e+02</td>\n",
              "      <td>2.401381e+02</td>\n",
              "    </tr>\n",
              "    <tr>\n",
              "      <th>25%</th>\n",
              "      <td>17.025000</td>\n",
              "      <td>6.950000</td>\n",
              "      <td>48.303700</td>\n",
              "      <td>335.727443</td>\n",
              "      <td>2.333481e+03</td>\n",
              "      <td>1.621932e+04</td>\n",
              "      <td>1.127384e+05</td>\n",
              "      <td>7.836504e+05</td>\n",
              "      <td>5.447333e+06</td>\n",
              "      <td>3.786664e+07</td>\n",
              "      <td>2.632333e+08</td>\n",
              "    </tr>\n",
              "    <tr>\n",
              "      <th>50%</th>\n",
              "      <td>21.200000</td>\n",
              "      <td>11.360000</td>\n",
              "      <td>129.050000</td>\n",
              "      <td>1466.017088</td>\n",
              "      <td>1.665411e+04</td>\n",
              "      <td>1.891930e+05</td>\n",
              "      <td>2.149266e+06</td>\n",
              "      <td>2.441612e+07</td>\n",
              "      <td>2.773731e+08</td>\n",
              "      <td>3.151037e+09</td>\n",
              "      <td>3.579677e+10</td>\n",
              "    </tr>\n",
              "    <tr>\n",
              "      <th>75%</th>\n",
              "      <td>25.000000</td>\n",
              "      <td>16.955000</td>\n",
              "      <td>287.472100</td>\n",
              "      <td>4874.091998</td>\n",
              "      <td>8.264029e+04</td>\n",
              "      <td>1.401168e+06</td>\n",
              "      <td>2.375683e+07</td>\n",
              "      <td>4.027977e+08</td>\n",
              "      <td>6.829447e+09</td>\n",
              "      <td>1.157935e+11</td>\n",
              "      <td>1.963285e+12</td>\n",
              "    </tr>\n",
              "    <tr>\n",
              "      <th>max</th>\n",
              "      <td>50.000000</td>\n",
              "      <td>37.970000</td>\n",
              "      <td>1441.720900</td>\n",
              "      <td>54742.142570</td>\n",
              "      <td>2.078559e+06</td>\n",
              "      <td>7.892289e+07</td>\n",
              "      <td>2.996702e+09</td>\n",
              "      <td>1.137850e+11</td>\n",
              "      <td>4.320410e+12</td>\n",
              "      <td>1.640460e+14</td>\n",
              "      <td>6.228820e+15</td>\n",
              "    </tr>\n",
              "  </tbody>\n",
              "</table>\n",
              "</div>\n",
              "      <button class=\"colab-df-convert\" onclick=\"convertToInteractive('df-990c8de0-7e8e-4e3e-b71b-141d6849658d')\"\n",
              "              title=\"Convert this dataframe to an interactive table.\"\n",
              "              style=\"display:none;\">\n",
              "        \n",
              "  <svg xmlns=\"http://www.w3.org/2000/svg\" height=\"24px\"viewBox=\"0 0 24 24\"\n",
              "       width=\"24px\">\n",
              "    <path d=\"M0 0h24v24H0V0z\" fill=\"none\"/>\n",
              "    <path d=\"M18.56 5.44l.94 2.06.94-2.06 2.06-.94-2.06-.94-.94-2.06-.94 2.06-2.06.94zm-11 1L8.5 8.5l.94-2.06 2.06-.94-2.06-.94L8.5 2.5l-.94 2.06-2.06.94zm10 10l.94 2.06.94-2.06 2.06-.94-2.06-.94-.94-2.06-.94 2.06-2.06.94z\"/><path d=\"M17.41 7.96l-1.37-1.37c-.4-.4-.92-.59-1.43-.59-.52 0-1.04.2-1.43.59L10.3 9.45l-7.72 7.72c-.78.78-.78 2.05 0 2.83L4 21.41c.39.39.9.59 1.41.59.51 0 1.02-.2 1.41-.59l7.78-7.78 2.81-2.81c.8-.78.8-2.07 0-2.86zM5.41 20L4 18.59l7.72-7.72 1.47 1.35L5.41 20z\"/>\n",
              "  </svg>\n",
              "      </button>\n",
              "      \n",
              "  <style>\n",
              "    .colab-df-container {\n",
              "      display:flex;\n",
              "      flex-wrap:wrap;\n",
              "      gap: 12px;\n",
              "    }\n",
              "\n",
              "    .colab-df-convert {\n",
              "      background-color: #E8F0FE;\n",
              "      border: none;\n",
              "      border-radius: 50%;\n",
              "      cursor: pointer;\n",
              "      display: none;\n",
              "      fill: #1967D2;\n",
              "      height: 32px;\n",
              "      padding: 0 0 0 0;\n",
              "      width: 32px;\n",
              "    }\n",
              "\n",
              "    .colab-df-convert:hover {\n",
              "      background-color: #E2EBFA;\n",
              "      box-shadow: 0px 1px 2px rgba(60, 64, 67, 0.3), 0px 1px 3px 1px rgba(60, 64, 67, 0.15);\n",
              "      fill: #174EA6;\n",
              "    }\n",
              "\n",
              "    [theme=dark] .colab-df-convert {\n",
              "      background-color: #3B4455;\n",
              "      fill: #D2E3FC;\n",
              "    }\n",
              "\n",
              "    [theme=dark] .colab-df-convert:hover {\n",
              "      background-color: #434B5C;\n",
              "      box-shadow: 0px 1px 3px 1px rgba(0, 0, 0, 0.15);\n",
              "      filter: drop-shadow(0px 1px 2px rgba(0, 0, 0, 0.3));\n",
              "      fill: #FFFFFF;\n",
              "    }\n",
              "  </style>\n",
              "\n",
              "      <script>\n",
              "        const buttonEl =\n",
              "          document.querySelector('#df-990c8de0-7e8e-4e3e-b71b-141d6849658d button.colab-df-convert');\n",
              "        buttonEl.style.display =\n",
              "          google.colab.kernel.accessAllowed ? 'block' : 'none';\n",
              "\n",
              "        async function convertToInteractive(key) {\n",
              "          const element = document.querySelector('#df-990c8de0-7e8e-4e3e-b71b-141d6849658d');\n",
              "          const dataTable =\n",
              "            await google.colab.kernel.invokeFunction('convertToInteractive',\n",
              "                                                     [key], {});\n",
              "          if (!dataTable) return;\n",
              "\n",
              "          const docLinkHtml = 'Like what you see? Visit the ' +\n",
              "            '<a target=\"_blank\" href=https://colab.research.google.com/notebooks/data_table.ipynb>data table notebook</a>'\n",
              "            + ' to learn more about interactive tables.';\n",
              "          element.innerHTML = '';\n",
              "          dataTable['output_type'] = 'display_data';\n",
              "          await google.colab.output.renderOutput(dataTable, element);\n",
              "          const docLink = document.createElement('div');\n",
              "          docLink.innerHTML = docLinkHtml;\n",
              "          element.appendChild(docLink);\n",
              "        }\n",
              "      </script>\n",
              "    </div>\n",
              "  </div>\n",
              "  "
            ],
            "text/plain": [
              "            price       LSTAT  ...        LSTAT9       LSTAT10\n",
              "count  506.000000  506.000000  ...  5.060000e+02  5.060000e+02\n",
              "mean    22.532806   12.653063  ...  2.048399e+12  6.645292e+13\n",
              "std      9.197104    7.141062  ...  1.153345e+13  4.169512e+14\n",
              "min      5.000000    1.730000  ...  1.388081e+02  2.401381e+02\n",
              "25%     17.025000    6.950000  ...  3.786664e+07  2.632333e+08\n",
              "50%     21.200000   11.360000  ...  3.151037e+09  3.579677e+10\n",
              "75%     25.000000   16.955000  ...  1.157935e+11  1.963285e+12\n",
              "max     50.000000   37.970000  ...  1.640460e+14  6.228820e+15\n",
              "\n",
              "[8 rows x 11 columns]"
            ]
          },
          "metadata": {},
          "execution_count": 9
        }
      ],
      "source": [
        "df.describe()"
      ]
    },
    {
      "cell_type": "code",
      "source": [
        "df_sc = pd.DataFrame(df_sc, columns=df.columns)\n",
        "df_sc.head()"
      ],
      "metadata": {
        "id": "eUp5D4spGG6B",
        "outputId": "aab47edf-3dca-4078-90ea-50049229c426",
        "colab": {
          "base_uri": "https://localhost:8080/",
          "height": 270
        }
      },
      "execution_count": 10,
      "outputs": [
        {
          "output_type": "execute_result",
          "data": {
            "text/html": [
              "\n",
              "  <div id=\"df-da4e8e03-b9c4-478a-b3be-ffa76abfd660\">\n",
              "    <div class=\"colab-df-container\">\n",
              "      <div>\n",
              "<style scoped>\n",
              "    .dataframe tbody tr th:only-of-type {\n",
              "        vertical-align: middle;\n",
              "    }\n",
              "\n",
              "    .dataframe tbody tr th {\n",
              "        vertical-align: top;\n",
              "    }\n",
              "\n",
              "    .dataframe thead th {\n",
              "        text-align: right;\n",
              "    }\n",
              "</style>\n",
              "<table border=\"1\" class=\"dataframe\">\n",
              "  <thead>\n",
              "    <tr style=\"text-align: right;\">\n",
              "      <th></th>\n",
              "      <th>price</th>\n",
              "      <th>LSTAT</th>\n",
              "      <th>LSTAT2</th>\n",
              "      <th>LSTAT3</th>\n",
              "      <th>LSTAT4</th>\n",
              "      <th>LSTAT5</th>\n",
              "      <th>LSTAT6</th>\n",
              "      <th>LSTAT7</th>\n",
              "      <th>LSTAT8</th>\n",
              "      <th>LSTAT9</th>\n",
              "      <th>LSTAT10</th>\n",
              "    </tr>\n",
              "  </thead>\n",
              "  <tbody>\n",
              "    <tr>\n",
              "      <th>0</th>\n",
              "      <td>0.159686</td>\n",
              "      <td>-1.075562</td>\n",
              "      <td>-0.789529</td>\n",
              "      <td>-0.568459</td>\n",
              "      <td>-0.425339</td>\n",
              "      <td>-0.334341</td>\n",
              "      <td>-0.274058</td>\n",
              "      <td>-0.231960</td>\n",
              "      <td>-0.201158</td>\n",
              "      <td>-0.177781</td>\n",
              "      <td>-0.159536</td>\n",
              "    </tr>\n",
              "    <tr>\n",
              "      <th>1</th>\n",
              "      <td>-0.101524</td>\n",
              "      <td>-0.492439</td>\n",
              "      <td>-0.540454</td>\n",
              "      <td>-0.481046</td>\n",
              "      <td>-0.398141</td>\n",
              "      <td>-0.326485</td>\n",
              "      <td>-0.271896</td>\n",
              "      <td>-0.231384</td>\n",
              "      <td>-0.201008</td>\n",
              "      <td>-0.177742</td>\n",
              "      <td>-0.159526</td>\n",
              "    </tr>\n",
              "    <tr>\n",
              "      <th>2</th>\n",
              "      <td>1.324247</td>\n",
              "      <td>-1.208727</td>\n",
              "      <td>-0.825825</td>\n",
              "      <td>-0.576388</td>\n",
              "      <td>-0.426841</td>\n",
              "      <td>-0.334599</td>\n",
              "      <td>-0.274100</td>\n",
              "      <td>-0.231966</td>\n",
              "      <td>-0.201159</td>\n",
              "      <td>-0.177781</td>\n",
              "      <td>-0.159536</td>\n",
              "    </tr>\n",
              "    <tr>\n",
              "      <th>3</th>\n",
              "      <td>1.182758</td>\n",
              "      <td>-1.361517</td>\n",
              "      <td>-0.858040</td>\n",
              "      <td>-0.581856</td>\n",
              "      <td>-0.427649</td>\n",
              "      <td>-0.334708</td>\n",
              "      <td>-0.274114</td>\n",
              "      <td>-0.231968</td>\n",
              "      <td>-0.201159</td>\n",
              "      <td>-0.177781</td>\n",
              "      <td>-0.159536</td>\n",
              "    </tr>\n",
              "    <tr>\n",
              "      <th>4</th>\n",
              "      <td>1.487503</td>\n",
              "      <td>-1.026501</td>\n",
              "      <td>-0.774228</td>\n",
              "      <td>-0.564647</td>\n",
              "      <td>-0.424519</td>\n",
              "      <td>-0.334180</td>\n",
              "      <td>-0.274029</td>\n",
              "      <td>-0.231955</td>\n",
              "      <td>-0.201157</td>\n",
              "      <td>-0.177781</td>\n",
              "      <td>-0.159536</td>\n",
              "    </tr>\n",
              "  </tbody>\n",
              "</table>\n",
              "</div>\n",
              "      <button class=\"colab-df-convert\" onclick=\"convertToInteractive('df-da4e8e03-b9c4-478a-b3be-ffa76abfd660')\"\n",
              "              title=\"Convert this dataframe to an interactive table.\"\n",
              "              style=\"display:none;\">\n",
              "        \n",
              "  <svg xmlns=\"http://www.w3.org/2000/svg\" height=\"24px\"viewBox=\"0 0 24 24\"\n",
              "       width=\"24px\">\n",
              "    <path d=\"M0 0h24v24H0V0z\" fill=\"none\"/>\n",
              "    <path d=\"M18.56 5.44l.94 2.06.94-2.06 2.06-.94-2.06-.94-.94-2.06-.94 2.06-2.06.94zm-11 1L8.5 8.5l.94-2.06 2.06-.94-2.06-.94L8.5 2.5l-.94 2.06-2.06.94zm10 10l.94 2.06.94-2.06 2.06-.94-2.06-.94-.94-2.06-.94 2.06-2.06.94z\"/><path d=\"M17.41 7.96l-1.37-1.37c-.4-.4-.92-.59-1.43-.59-.52 0-1.04.2-1.43.59L10.3 9.45l-7.72 7.72c-.78.78-.78 2.05 0 2.83L4 21.41c.39.39.9.59 1.41.59.51 0 1.02-.2 1.41-.59l7.78-7.78 2.81-2.81c.8-.78.8-2.07 0-2.86zM5.41 20L4 18.59l7.72-7.72 1.47 1.35L5.41 20z\"/>\n",
              "  </svg>\n",
              "      </button>\n",
              "      \n",
              "  <style>\n",
              "    .colab-df-container {\n",
              "      display:flex;\n",
              "      flex-wrap:wrap;\n",
              "      gap: 12px;\n",
              "    }\n",
              "\n",
              "    .colab-df-convert {\n",
              "      background-color: #E8F0FE;\n",
              "      border: none;\n",
              "      border-radius: 50%;\n",
              "      cursor: pointer;\n",
              "      display: none;\n",
              "      fill: #1967D2;\n",
              "      height: 32px;\n",
              "      padding: 0 0 0 0;\n",
              "      width: 32px;\n",
              "    }\n",
              "\n",
              "    .colab-df-convert:hover {\n",
              "      background-color: #E2EBFA;\n",
              "      box-shadow: 0px 1px 2px rgba(60, 64, 67, 0.3), 0px 1px 3px 1px rgba(60, 64, 67, 0.15);\n",
              "      fill: #174EA6;\n",
              "    }\n",
              "\n",
              "    [theme=dark] .colab-df-convert {\n",
              "      background-color: #3B4455;\n",
              "      fill: #D2E3FC;\n",
              "    }\n",
              "\n",
              "    [theme=dark] .colab-df-convert:hover {\n",
              "      background-color: #434B5C;\n",
              "      box-shadow: 0px 1px 3px 1px rgba(0, 0, 0, 0.15);\n",
              "      filter: drop-shadow(0px 1px 2px rgba(0, 0, 0, 0.3));\n",
              "      fill: #FFFFFF;\n",
              "    }\n",
              "  </style>\n",
              "\n",
              "      <script>\n",
              "        const buttonEl =\n",
              "          document.querySelector('#df-da4e8e03-b9c4-478a-b3be-ffa76abfd660 button.colab-df-convert');\n",
              "        buttonEl.style.display =\n",
              "          google.colab.kernel.accessAllowed ? 'block' : 'none';\n",
              "\n",
              "        async function convertToInteractive(key) {\n",
              "          const element = document.querySelector('#df-da4e8e03-b9c4-478a-b3be-ffa76abfd660');\n",
              "          const dataTable =\n",
              "            await google.colab.kernel.invokeFunction('convertToInteractive',\n",
              "                                                     [key], {});\n",
              "          if (!dataTable) return;\n",
              "\n",
              "          const docLinkHtml = 'Like what you see? Visit the ' +\n",
              "            '<a target=\"_blank\" href=https://colab.research.google.com/notebooks/data_table.ipynb>data table notebook</a>'\n",
              "            + ' to learn more about interactive tables.';\n",
              "          element.innerHTML = '';\n",
              "          dataTable['output_type'] = 'display_data';\n",
              "          await google.colab.output.renderOutput(dataTable, element);\n",
              "          const docLink = document.createElement('div');\n",
              "          docLink.innerHTML = docLinkHtml;\n",
              "          element.appendChild(docLink);\n",
              "        }\n",
              "      </script>\n",
              "    </div>\n",
              "  </div>\n",
              "  "
            ],
            "text/plain": [
              "      price     LSTAT    LSTAT2  ...    LSTAT8    LSTAT9   LSTAT10\n",
              "0  0.159686 -1.075562 -0.789529  ... -0.201158 -0.177781 -0.159536\n",
              "1 -0.101524 -0.492439 -0.540454  ... -0.201008 -0.177742 -0.159526\n",
              "2  1.324247 -1.208727 -0.825825  ... -0.201159 -0.177781 -0.159536\n",
              "3  1.182758 -1.361517 -0.858040  ... -0.201159 -0.177781 -0.159536\n",
              "4  1.487503 -1.026501 -0.774228  ... -0.201157 -0.177781 -0.159536\n",
              "\n",
              "[5 rows x 11 columns]"
            ]
          },
          "metadata": {},
          "execution_count": 10
        }
      ]
    },
    {
      "cell_type": "markdown",
      "metadata": {
        "id": "x4JGbjl4E16Z"
      },
      "source": [
        "# Q2. Splitting the data (train / test)\n",
        "test_size=0.2, random_state=rand_state"
      ]
    },
    {
      "cell_type": "code",
      "execution_count": 11,
      "metadata": {
        "id": "-OVnsOchE16b",
        "outputId": "44094feb-ead3-4c87-b574-86ad406afcaf",
        "colab": {
          "base_uri": "https://localhost:8080/",
          "height": 270
        }
      },
      "outputs": [
        {
          "output_type": "execute_result",
          "data": {
            "text/html": [
              "\n",
              "  <div id=\"df-bebfd9c2-8ad7-43c1-9185-de1a54ec1156\">\n",
              "    <div class=\"colab-df-container\">\n",
              "      <div>\n",
              "<style scoped>\n",
              "    .dataframe tbody tr th:only-of-type {\n",
              "        vertical-align: middle;\n",
              "    }\n",
              "\n",
              "    .dataframe tbody tr th {\n",
              "        vertical-align: top;\n",
              "    }\n",
              "\n",
              "    .dataframe thead th {\n",
              "        text-align: right;\n",
              "    }\n",
              "</style>\n",
              "<table border=\"1\" class=\"dataframe\">\n",
              "  <thead>\n",
              "    <tr style=\"text-align: right;\">\n",
              "      <th></th>\n",
              "      <th>LSTAT</th>\n",
              "      <th>LSTAT2</th>\n",
              "      <th>LSTAT3</th>\n",
              "      <th>LSTAT4</th>\n",
              "      <th>LSTAT5</th>\n",
              "      <th>LSTAT6</th>\n",
              "      <th>LSTAT7</th>\n",
              "      <th>LSTAT8</th>\n",
              "      <th>LSTAT9</th>\n",
              "      <th>LSTAT10</th>\n",
              "    </tr>\n",
              "  </thead>\n",
              "  <tbody>\n",
              "    <tr>\n",
              "      <th>300</th>\n",
              "      <td>-0.922773</td>\n",
              "      <td>-0.738456</td>\n",
              "      <td>-0.554782</td>\n",
              "      <td>-0.422166</td>\n",
              "      <td>-0.333671</td>\n",
              "      <td>-0.273926</td>\n",
              "      <td>-0.231935</td>\n",
              "      <td>-0.201154</td>\n",
              "      <td>-0.177780</td>\n",
              "      <td>-0.159536</td>\n",
              "    </tr>\n",
              "    <tr>\n",
              "      <th>32</th>\n",
              "      <td>2.110588</td>\n",
              "      <td>2.361250</td>\n",
              "      <td>2.320551</td>\n",
              "      <td>2.091900</td>\n",
              "      <td>1.778692</td>\n",
              "      <td>1.449896</td>\n",
              "      <td>1.143940</td>\n",
              "      <td>0.878417</td>\n",
              "      <td>0.658205</td>\n",
              "      <td>0.481244</td>\n",
              "    </tr>\n",
              "    <tr>\n",
              "      <th>181</th>\n",
              "      <td>-0.448985</td>\n",
              "      <td>-0.516017</td>\n",
              "      <td>-0.470071</td>\n",
              "      <td>-0.393883</td>\n",
              "      <td>-0.324988</td>\n",
              "      <td>-0.271404</td>\n",
              "      <td>-0.231230</td>\n",
              "      <td>-0.200962</td>\n",
              "      <td>-0.177729</td>\n",
              "      <td>-0.159522</td>\n",
              "    </tr>\n",
              "    <tr>\n",
              "      <th>272</th>\n",
              "      <td>-0.690084</td>\n",
              "      <td>-0.641318</td>\n",
              "      <td>-0.522245</td>\n",
              "      <td>-0.412708</td>\n",
              "      <td>-0.331167</td>\n",
              "      <td>-0.273304</td>\n",
              "      <td>-0.231787</td>\n",
              "      <td>-0.201120</td>\n",
              "      <td>-0.177772</td>\n",
              "      <td>-0.159534</td>\n",
              "    </tr>\n",
              "    <tr>\n",
              "      <th>477</th>\n",
              "      <td>1.718101</td>\n",
              "      <td>1.736491</td>\n",
              "      <td>1.525676</td>\n",
              "      <td>1.217641</td>\n",
              "      <td>0.905982</td>\n",
              "      <td>0.635721</td>\n",
              "      <td>0.420786</td>\n",
              "      <td>0.259256</td>\n",
              "      <td>0.142724</td>\n",
              "      <td>0.061306</td>\n",
              "    </tr>\n",
              "  </tbody>\n",
              "</table>\n",
              "</div>\n",
              "      <button class=\"colab-df-convert\" onclick=\"convertToInteractive('df-bebfd9c2-8ad7-43c1-9185-de1a54ec1156')\"\n",
              "              title=\"Convert this dataframe to an interactive table.\"\n",
              "              style=\"display:none;\">\n",
              "        \n",
              "  <svg xmlns=\"http://www.w3.org/2000/svg\" height=\"24px\"viewBox=\"0 0 24 24\"\n",
              "       width=\"24px\">\n",
              "    <path d=\"M0 0h24v24H0V0z\" fill=\"none\"/>\n",
              "    <path d=\"M18.56 5.44l.94 2.06.94-2.06 2.06-.94-2.06-.94-.94-2.06-.94 2.06-2.06.94zm-11 1L8.5 8.5l.94-2.06 2.06-.94-2.06-.94L8.5 2.5l-.94 2.06-2.06.94zm10 10l.94 2.06.94-2.06 2.06-.94-2.06-.94-.94-2.06-.94 2.06-2.06.94z\"/><path d=\"M17.41 7.96l-1.37-1.37c-.4-.4-.92-.59-1.43-.59-.52 0-1.04.2-1.43.59L10.3 9.45l-7.72 7.72c-.78.78-.78 2.05 0 2.83L4 21.41c.39.39.9.59 1.41.59.51 0 1.02-.2 1.41-.59l7.78-7.78 2.81-2.81c.8-.78.8-2.07 0-2.86zM5.41 20L4 18.59l7.72-7.72 1.47 1.35L5.41 20z\"/>\n",
              "  </svg>\n",
              "      </button>\n",
              "      \n",
              "  <style>\n",
              "    .colab-df-container {\n",
              "      display:flex;\n",
              "      flex-wrap:wrap;\n",
              "      gap: 12px;\n",
              "    }\n",
              "\n",
              "    .colab-df-convert {\n",
              "      background-color: #E8F0FE;\n",
              "      border: none;\n",
              "      border-radius: 50%;\n",
              "      cursor: pointer;\n",
              "      display: none;\n",
              "      fill: #1967D2;\n",
              "      height: 32px;\n",
              "      padding: 0 0 0 0;\n",
              "      width: 32px;\n",
              "    }\n",
              "\n",
              "    .colab-df-convert:hover {\n",
              "      background-color: #E2EBFA;\n",
              "      box-shadow: 0px 1px 2px rgba(60, 64, 67, 0.3), 0px 1px 3px 1px rgba(60, 64, 67, 0.15);\n",
              "      fill: #174EA6;\n",
              "    }\n",
              "\n",
              "    [theme=dark] .colab-df-convert {\n",
              "      background-color: #3B4455;\n",
              "      fill: #D2E3FC;\n",
              "    }\n",
              "\n",
              "    [theme=dark] .colab-df-convert:hover {\n",
              "      background-color: #434B5C;\n",
              "      box-shadow: 0px 1px 3px 1px rgba(0, 0, 0, 0.15);\n",
              "      filter: drop-shadow(0px 1px 2px rgba(0, 0, 0, 0.3));\n",
              "      fill: #FFFFFF;\n",
              "    }\n",
              "  </style>\n",
              "\n",
              "      <script>\n",
              "        const buttonEl =\n",
              "          document.querySelector('#df-bebfd9c2-8ad7-43c1-9185-de1a54ec1156 button.colab-df-convert');\n",
              "        buttonEl.style.display =\n",
              "          google.colab.kernel.accessAllowed ? 'block' : 'none';\n",
              "\n",
              "        async function convertToInteractive(key) {\n",
              "          const element = document.querySelector('#df-bebfd9c2-8ad7-43c1-9185-de1a54ec1156');\n",
              "          const dataTable =\n",
              "            await google.colab.kernel.invokeFunction('convertToInteractive',\n",
              "                                                     [key], {});\n",
              "          if (!dataTable) return;\n",
              "\n",
              "          const docLinkHtml = 'Like what you see? Visit the ' +\n",
              "            '<a target=\"_blank\" href=https://colab.research.google.com/notebooks/data_table.ipynb>data table notebook</a>'\n",
              "            + ' to learn more about interactive tables.';\n",
              "          element.innerHTML = '';\n",
              "          dataTable['output_type'] = 'display_data';\n",
              "          await google.colab.output.renderOutput(dataTable, element);\n",
              "          const docLink = document.createElement('div');\n",
              "          docLink.innerHTML = docLinkHtml;\n",
              "          element.appendChild(docLink);\n",
              "        }\n",
              "      </script>\n",
              "    </div>\n",
              "  </div>\n",
              "  "
            ],
            "text/plain": [
              "        LSTAT    LSTAT2    LSTAT3  ...    LSTAT8    LSTAT9   LSTAT10\n",
              "300 -0.922773 -0.738456 -0.554782  ... -0.201154 -0.177780 -0.159536\n",
              "32   2.110588  2.361250  2.320551  ...  0.878417  0.658205  0.481244\n",
              "181 -0.448985 -0.516017 -0.470071  ... -0.200962 -0.177729 -0.159522\n",
              "272 -0.690084 -0.641318 -0.522245  ... -0.201120 -0.177772 -0.159534\n",
              "477  1.718101  1.736491  1.525676  ...  0.259256  0.142724  0.061306\n",
              "\n",
              "[5 rows x 10 columns]"
            ]
          },
          "metadata": {},
          "execution_count": 11
        }
      ],
      "source": [
        "y = df_sc['price']\n",
        "X = df_sc.drop('price', axis=1)\n",
        "from sklearn.model_selection import train_test_split\n",
        "X_train, X_test, y_train, y_test = train_test_split(X, y, test_size=0.2, random_state=rand_state)\n",
        "X_train.head()"
      ]
    },
    {
      "cell_type": "markdown",
      "metadata": {
        "id": "T7y_LAppE16c"
      },
      "source": [
        "# Q3. Training the models"
      ]
    },
    {
      "cell_type": "markdown",
      "metadata": {
        "id": "_rhy0fDTE16e"
      },
      "source": [
        "1. Linear regression (model_linear)\n",
        "2. Ridge regression (model_ridge)\n",
        "3. Lasso regression (model_lasso)\n",
        "4. Elastic Net regression (model_net)"
      ]
    },
    {
      "cell_type": "code",
      "execution_count": 12,
      "metadata": {
        "id": "1eQsugXNE16h"
      },
      "outputs": [],
      "source": [
        "from sklearn.linear_model import LinearRegression, Ridge,RidgeCV, Lasso, LassoCV, ElasticNet, ElasticNetCV"
      ]
    },
    {
      "cell_type": "code",
      "execution_count": 13,
      "metadata": {
        "id": "HRlK0k2ME16j"
      },
      "outputs": [],
      "source": [
        "# starting with default parameters:\n",
        "model_linear = LinearRegression()\n",
        "model_ridge = Ridge(alpha=0)\n",
        "model_lasso = Lasso(alpha=0)\n",
        "model_net = ElasticNet(alpha=0)"
      ]
    },
    {
      "cell_type": "code",
      "execution_count": 14,
      "metadata": {
        "id": "g4W7YTsGE16k"
      },
      "outputs": [],
      "source": [
        "y_hat_linear= model_linear.fit(X_train, y_train).predict(X_test)\n",
        "y_hat_ridge = model_ridge.fit(X_train, y_train).predict(X_test)\n",
        "y_hat_lasso = model_lasso.fit(X_train, y_train).predict(X_test)\n",
        "y_hat_net   = model_net.fit(X_train, y_train).predict(X_test)"
      ]
    },
    {
      "cell_type": "code",
      "source": [
        "df_predictions = pd.DataFrame({'y_test':y_test,\n",
        "                               'y_hat_linear':y_hat_linear,\n",
        "                               'y_hat_ridge':y_hat_ridge,\n",
        "                               'y_hat_lasso':y_hat_lasso,\n",
        "                               'y_hat_net':y_hat_net})\n",
        "df_predictions.head()"
      ],
      "metadata": {
        "id": "uAIY-wjhHtUw",
        "outputId": "0c439dbd-0dd6-4eff-aadd-74e968f40175",
        "colab": {
          "base_uri": "https://localhost:8080/",
          "height": 206
        }
      },
      "execution_count": 15,
      "outputs": [
        {
          "output_type": "execute_result",
          "data": {
            "text/html": [
              "\n",
              "  <div id=\"df-94b41885-b122-46ec-b14e-0b6793ffbdf3\">\n",
              "    <div class=\"colab-df-container\">\n",
              "      <div>\n",
              "<style scoped>\n",
              "    .dataframe tbody tr th:only-of-type {\n",
              "        vertical-align: middle;\n",
              "    }\n",
              "\n",
              "    .dataframe tbody tr th {\n",
              "        vertical-align: top;\n",
              "    }\n",
              "\n",
              "    .dataframe thead th {\n",
              "        text-align: right;\n",
              "    }\n",
              "</style>\n",
              "<table border=\"1\" class=\"dataframe\">\n",
              "  <thead>\n",
              "    <tr style=\"text-align: right;\">\n",
              "      <th></th>\n",
              "      <th>y_test</th>\n",
              "      <th>y_hat_linear</th>\n",
              "      <th>y_hat_ridge</th>\n",
              "      <th>y_hat_lasso</th>\n",
              "      <th>y_hat_net</th>\n",
              "    </tr>\n",
              "  </thead>\n",
              "  <tbody>\n",
              "    <tr>\n",
              "      <th>483</th>\n",
              "      <td>-0.079757</td>\n",
              "      <td>-0.019459</td>\n",
              "      <td>-0.019450</td>\n",
              "      <td>-0.045446</td>\n",
              "      <td>-0.045446</td>\n",
              "    </tr>\n",
              "    <tr>\n",
              "      <th>426</th>\n",
              "      <td>-1.342272</td>\n",
              "      <td>-0.480570</td>\n",
              "      <td>-0.480577</td>\n",
              "      <td>-0.570717</td>\n",
              "      <td>-0.570717</td>\n",
              "    </tr>\n",
              "    <tr>\n",
              "      <th>22</th>\n",
              "      <td>-0.798084</td>\n",
              "      <td>-0.736176</td>\n",
              "      <td>-0.736168</td>\n",
              "      <td>-0.725662</td>\n",
              "      <td>-0.725662</td>\n",
              "    </tr>\n",
              "    <tr>\n",
              "      <th>268</th>\n",
              "      <td>2.282016</td>\n",
              "      <td>2.053967</td>\n",
              "      <td>2.053988</td>\n",
              "      <td>1.677233</td>\n",
              "      <td>1.677233</td>\n",
              "    </tr>\n",
              "    <tr>\n",
              "      <th>371</th>\n",
              "      <td>2.989460</td>\n",
              "      <td>0.041490</td>\n",
              "      <td>0.041500</td>\n",
              "      <td>0.092521</td>\n",
              "      <td>0.092521</td>\n",
              "    </tr>\n",
              "  </tbody>\n",
              "</table>\n",
              "</div>\n",
              "      <button class=\"colab-df-convert\" onclick=\"convertToInteractive('df-94b41885-b122-46ec-b14e-0b6793ffbdf3')\"\n",
              "              title=\"Convert this dataframe to an interactive table.\"\n",
              "              style=\"display:none;\">\n",
              "        \n",
              "  <svg xmlns=\"http://www.w3.org/2000/svg\" height=\"24px\"viewBox=\"0 0 24 24\"\n",
              "       width=\"24px\">\n",
              "    <path d=\"M0 0h24v24H0V0z\" fill=\"none\"/>\n",
              "    <path d=\"M18.56 5.44l.94 2.06.94-2.06 2.06-.94-2.06-.94-.94-2.06-.94 2.06-2.06.94zm-11 1L8.5 8.5l.94-2.06 2.06-.94-2.06-.94L8.5 2.5l-.94 2.06-2.06.94zm10 10l.94 2.06.94-2.06 2.06-.94-2.06-.94-.94-2.06-.94 2.06-2.06.94z\"/><path d=\"M17.41 7.96l-1.37-1.37c-.4-.4-.92-.59-1.43-.59-.52 0-1.04.2-1.43.59L10.3 9.45l-7.72 7.72c-.78.78-.78 2.05 0 2.83L4 21.41c.39.39.9.59 1.41.59.51 0 1.02-.2 1.41-.59l7.78-7.78 2.81-2.81c.8-.78.8-2.07 0-2.86zM5.41 20L4 18.59l7.72-7.72 1.47 1.35L5.41 20z\"/>\n",
              "  </svg>\n",
              "      </button>\n",
              "      \n",
              "  <style>\n",
              "    .colab-df-container {\n",
              "      display:flex;\n",
              "      flex-wrap:wrap;\n",
              "      gap: 12px;\n",
              "    }\n",
              "\n",
              "    .colab-df-convert {\n",
              "      background-color: #E8F0FE;\n",
              "      border: none;\n",
              "      border-radius: 50%;\n",
              "      cursor: pointer;\n",
              "      display: none;\n",
              "      fill: #1967D2;\n",
              "      height: 32px;\n",
              "      padding: 0 0 0 0;\n",
              "      width: 32px;\n",
              "    }\n",
              "\n",
              "    .colab-df-convert:hover {\n",
              "      background-color: #E2EBFA;\n",
              "      box-shadow: 0px 1px 2px rgba(60, 64, 67, 0.3), 0px 1px 3px 1px rgba(60, 64, 67, 0.15);\n",
              "      fill: #174EA6;\n",
              "    }\n",
              "\n",
              "    [theme=dark] .colab-df-convert {\n",
              "      background-color: #3B4455;\n",
              "      fill: #D2E3FC;\n",
              "    }\n",
              "\n",
              "    [theme=dark] .colab-df-convert:hover {\n",
              "      background-color: #434B5C;\n",
              "      box-shadow: 0px 1px 3px 1px rgba(0, 0, 0, 0.15);\n",
              "      filter: drop-shadow(0px 1px 2px rgba(0, 0, 0, 0.3));\n",
              "      fill: #FFFFFF;\n",
              "    }\n",
              "  </style>\n",
              "\n",
              "      <script>\n",
              "        const buttonEl =\n",
              "          document.querySelector('#df-94b41885-b122-46ec-b14e-0b6793ffbdf3 button.colab-df-convert');\n",
              "        buttonEl.style.display =\n",
              "          google.colab.kernel.accessAllowed ? 'block' : 'none';\n",
              "\n",
              "        async function convertToInteractive(key) {\n",
              "          const element = document.querySelector('#df-94b41885-b122-46ec-b14e-0b6793ffbdf3');\n",
              "          const dataTable =\n",
              "            await google.colab.kernel.invokeFunction('convertToInteractive',\n",
              "                                                     [key], {});\n",
              "          if (!dataTable) return;\n",
              "\n",
              "          const docLinkHtml = 'Like what you see? Visit the ' +\n",
              "            '<a target=\"_blank\" href=https://colab.research.google.com/notebooks/data_table.ipynb>data table notebook</a>'\n",
              "            + ' to learn more about interactive tables.';\n",
              "          element.innerHTML = '';\n",
              "          dataTable['output_type'] = 'display_data';\n",
              "          await google.colab.output.renderOutput(dataTable, element);\n",
              "          const docLink = document.createElement('div');\n",
              "          docLink.innerHTML = docLinkHtml;\n",
              "          element.appendChild(docLink);\n",
              "        }\n",
              "      </script>\n",
              "    </div>\n",
              "  </div>\n",
              "  "
            ],
            "text/plain": [
              "       y_test  y_hat_linear  y_hat_ridge  y_hat_lasso  y_hat_net\n",
              "483 -0.079757     -0.019459    -0.019450    -0.045446  -0.045446\n",
              "426 -1.342272     -0.480570    -0.480577    -0.570717  -0.570717\n",
              "22  -0.798084     -0.736176    -0.736168    -0.725662  -0.725662\n",
              "268  2.282016      2.053967     2.053988     1.677233   1.677233\n",
              "371  2.989460      0.041490     0.041500     0.092521   0.092521"
            ]
          },
          "metadata": {},
          "execution_count": 15
        }
      ]
    },
    {
      "cell_type": "markdown",
      "metadata": {
        "id": "V3w70DKaE16l"
      },
      "source": [
        "# Q4. Performance in the test set for 4 models."
      ]
    },
    {
      "cell_type": "code",
      "execution_count": 16,
      "metadata": {
        "id": "AmVZ-qzZE16m",
        "outputId": "0e178141-f6cb-4f73-ffab-914ccef7da63",
        "colab": {
          "base_uri": "https://localhost:8080/"
        }
      },
      "outputs": [
        {
          "output_type": "execute_result",
          "data": {
            "text/plain": [
              "0.541"
            ]
          },
          "metadata": {},
          "execution_count": 16
        }
      ],
      "source": [
        "MSE_test = np.mean(np.square(df_predictions['y_test'] - df_predictions['y_hat_linear']))\n",
        "RMSE_test = np.sqrt(MSE_test)\n",
        "np.round(RMSE_test,3)"
      ]
    },
    {
      "cell_type": "code",
      "source": [
        "MSE_test = np.mean(np.square(df_predictions['y_test'] - df_predictions['y_hat_ridge']))\n",
        "RMSE_test = np.sqrt(MSE_test)\n",
        "np.round(RMSE_test,3)"
      ],
      "metadata": {
        "id": "DQfnpgMyHx8F",
        "outputId": "0866653d-c542-4d2f-96cc-cf623c81bba2",
        "colab": {
          "base_uri": "https://localhost:8080/"
        }
      },
      "execution_count": 17,
      "outputs": [
        {
          "output_type": "execute_result",
          "data": {
            "text/plain": [
              "0.541"
            ]
          },
          "metadata": {},
          "execution_count": 17
        }
      ]
    },
    {
      "cell_type": "code",
      "source": [
        "MSE_test = np.mean(np.square(df_predictions['y_test'] - df_predictions['y_hat_lasso']))\n",
        "RMSE_test = np.sqrt(MSE_test)\n",
        "np.round(RMSE_test,3)"
      ],
      "metadata": {
        "id": "2SzlbR-iH0l7",
        "outputId": "b3e1f52a-9e5a-49ee-d3c7-fd767539b0d3",
        "colab": {
          "base_uri": "https://localhost:8080/"
        }
      },
      "execution_count": 18,
      "outputs": [
        {
          "output_type": "execute_result",
          "data": {
            "text/plain": [
              "0.556"
            ]
          },
          "metadata": {},
          "execution_count": 18
        }
      ]
    },
    {
      "cell_type": "code",
      "source": [
        "MSE_test = np.mean(np.square(df_predictions['y_test'] - df_predictions['y_hat_net']))\n",
        "RMSE_test = np.sqrt(MSE_test)\n",
        "np.round(RMSE_test,3)"
      ],
      "metadata": {
        "id": "pxpVmN77H1h4",
        "outputId": "8e6a90b9-e146-497c-db7f-0928a9fb7959",
        "colab": {
          "base_uri": "https://localhost:8080/"
        }
      },
      "execution_count": 19,
      "outputs": [
        {
          "output_type": "execute_result",
          "data": {
            "text/plain": [
              "0.556"
            ]
          },
          "metadata": {},
          "execution_count": 19
        }
      ]
    },
    {
      "cell_type": "markdown",
      "metadata": {
        "id": "dq77ADyKE16m"
      },
      "source": [
        "# Q5. Plotting the regression coefficients vs alphas:"
      ]
    },
    {
      "cell_type": "markdown",
      "metadata": {
        "id": "yl4UcmHfE16n"
      },
      "source": [
        "## 1) Ridge"
      ]
    },
    {
      "cell_type": "code",
      "execution_count": 20,
      "metadata": {
        "id": "Fh3csOOsE16o",
        "outputId": "2149c0fe-64ca-453b-aaec-d71963e1b418",
        "colab": {
          "base_uri": "https://localhost:8080/",
          "height": 0
        }
      },
      "outputs": [
        {
          "output_type": "display_data",
          "data": {
            "image/png": "[encoded data removed]",
            "text/plain": [
              "<Figure size 864x360 with 1 Axes>"
            ]
          },
          "metadata": {}
        }
      ],
      "source": [
        "alpha_ridge = 10**np.linspace(-2,4,100)\n",
        "plt.figure(figsize=(12,5))\n",
        "plt.plot(alpha_ridge,'or' )\n",
        "plt.xlabel('steps')\n",
        "plt.ylabel('alpha (lambda)')\n",
        "plt.show()"
      ]
    },
    {
      "cell_type": "code",
      "source": [
        "ridge = Ridge()\n",
        "coefs_ridge = []\n",
        "\n",
        "for i in alpha_ridge:\n",
        "    ridge.set_params(alpha = i)\n",
        "    ridge.fit(X_train, y_train)\n",
        "    coefs_ridge.append(ridge.coef_)\n",
        "    \n",
        "np.shape(coefs_ridge)"
      ],
      "metadata": {
        "id": "VgfTAxnNH9lo",
        "outputId": "e2f6e6a6-18b9-436c-d9d3-ad77a72e9bab",
        "colab": {
          "base_uri": "https://localhost:8080/"
        }
      },
      "execution_count": 21,
      "outputs": [
        {
          "output_type": "execute_result",
          "data": {
            "text/plain": [
              "(100, 10)"
            ]
          },
          "metadata": {},
          "execution_count": 21
        }
      ]
    },
    {
      "cell_type": "code",
      "source": [
        "plt.figure(figsize=(12,10))\n",
        "ax = plt.gca()\n",
        "ax.plot(alpha_ridge, coefs_ridge)\n",
        "ax.set_xscale('log')\n",
        "plt.axis('tight')\n",
        "plt.xlabel('alpha')\n",
        "plt.ylabel('weights: scaled coefficients')\n",
        "plt.title('Ridge regression coefficients Vs. alpha')\n",
        "plt.legend(df.drop('price',axis=1, inplace=False).columns)\n",
        "\n",
        "plt.show()"
      ],
      "metadata": {
        "id": "gSzXm2q1H_Ss",
        "outputId": "8b003b10-616b-4507-f245-85033c44dc6a",
        "colab": {
          "base_uri": "https://localhost:8080/",
          "height": 0
        }
      },
      "execution_count": 22,
      "outputs": [
        {
          "output_type": "display_data",
          "data": {
            "image/png": "[encoded data removed]",
            "text/plain": [
              "<Figure size 864x720 with 1 Axes>"
            ]
          },
          "metadata": {}
        }
      ]
    },
    {
      "cell_type": "markdown",
      "metadata": {
        "id": "j6UBPP_uE16p"
      },
      "source": [
        "## 2) Lasso"
      ]
    },
    {
      "cell_type": "code",
      "execution_count": 23,
      "metadata": {
        "id": "84pWWBmGE16p"
      },
      "outputs": [],
      "source": [
        "alpha_lasso = 10**np.linspace(-3,1,100)"
      ]
    },
    {
      "cell_type": "code",
      "source": [
        "lasso = Lasso()\n",
        "coefs_lasso = []\n",
        "\n",
        "for i in alpha_lasso:\n",
        "    lasso.set_params(alpha = i)\n",
        "    lasso.fit(X_train, y_train)\n",
        "    coefs_lasso.append(lasso.coef_)\n",
        "    \n",
        "np.shape(coefs_lasso)"
      ],
      "metadata": {
        "id": "3x_lfb8RIGYu",
        "outputId": "91af1c48-8b00-4dd6-aa82-37070c04ab1d",
        "colab": {
          "base_uri": "https://localhost:8080/"
        }
      },
      "execution_count": 24,
      "outputs": [
        {
          "output_type": "execute_result",
          "data": {
            "text/plain": [
              "(100, 10)"
            ]
          },
          "metadata": {},
          "execution_count": 24
        }
      ]
    },
    {
      "cell_type": "code",
      "source": [
        "plt.figure(figsize=(12,10))\n",
        "ax = plt.gca()\n",
        "ax.plot(alpha_lasso, coefs_lasso)\n",
        "ax.set_xscale('log')\n",
        "plt.axis('tight')\n",
        "plt.xlabel('alpha')\n",
        "plt.ylabel('weights: scaled coefficients')\n",
        "plt.title('Lasso regression coefficients Vs. alpha')\n",
        "plt.legend(df.drop('price',axis=1, inplace=False).columns)\n",
        "\n",
        "plt.show()"
      ],
      "metadata": {
        "id": "uR2zJ_Y5IH7w",
        "outputId": "14f00400-c6cb-4e43-d19c-55c88ba5d840",
        "colab": {
          "base_uri": "https://localhost:8080/",
          "height": 0
        }
      },
      "execution_count": 25,
      "outputs": [
        {
          "output_type": "display_data",
          "data": {
            "image/png": "[encoded data removed]",
            "text/plain": [
              "<Figure size 864x720 with 1 Axes>"
            ]
          },
          "metadata": {}
        }
      ]
    },
    {
      "cell_type": "markdown",
      "metadata": {
        "id": "vyTExFyRE16q"
      },
      "source": [
        "## 3) ElasticNet"
      ]
    },
    {
      "cell_type": "code",
      "execution_count": 26,
      "metadata": {
        "id": "KxK6PSicE16q"
      },
      "outputs": [],
      "source": [
        "alpha_elasticnet = 10**np.linspace(-3,2,100)"
      ]
    },
    {
      "cell_type": "code",
      "source": [
        "elasticnet = ElasticNet()\n",
        "coefs_elasticnet = []\n",
        "\n",
        "for i in alpha_elasticnet:\n",
        "    elasticnet.set_params(alpha = i)\n",
        "    elasticnet.fit(X_train, y_train)\n",
        "    coefs_elasticnet.append(elasticnet.coef_)\n",
        "    \n",
        "np.shape(coefs_elasticnet)"
      ],
      "metadata": {
        "id": "Zc8Z8VYZIOea",
        "outputId": "bab87b8e-b771-491d-c732-ce06f6389e7e",
        "colab": {
          "base_uri": "https://localhost:8080/"
        }
      },
      "execution_count": 27,
      "outputs": [
        {
          "output_type": "execute_result",
          "data": {
            "text/plain": [
              "(100, 10)"
            ]
          },
          "metadata": {},
          "execution_count": 27
        }
      ]
    },
    {
      "cell_type": "code",
      "source": [
        "plt.figure(figsize=(12,10))\n",
        "ax = plt.gca()\n",
        "ax.plot(alpha_elasticnet, coefs_elasticnet)\n",
        "ax.set_xscale('log')\n",
        "plt.axis('tight')\n",
        "plt.xlabel('alpha')\n",
        "plt.ylabel('weights: scaled coefficients')\n",
        "plt.title('Elastic Net regression coefficients Vs. alpha')\n",
        "plt.legend(df.drop('price',axis=1, inplace=False).columns)\n",
        "\n",
        "plt.show()"
      ],
      "metadata": {
        "id": "pG0vYDoLIQSp",
        "outputId": "3987afc3-8572-4af2-8c6d-f327133580ff",
        "colab": {
          "base_uri": "https://localhost:8080/",
          "height": 0
        }
      },
      "execution_count": 28,
      "outputs": [
        {
          "output_type": "display_data",
          "data": {
            "image/png": "[encoded data removed]",
            "text/plain": [
              "<Figure size 864x720 with 1 Axes>"
            ]
          },
          "metadata": {}
        }
      ]
    },
    {
      "cell_type": "markdown",
      "metadata": {
        "id": "5MeJsvK6E16r"
      },
      "source": [
        "# Q6. Cross Validation"
      ]
    },
    {
      "cell_type": "markdown",
      "metadata": {
        "id": "-O7prXWuE16s"
      },
      "source": [
        "## 1) Ridge"
      ]
    },
    {
      "cell_type": "code",
      "execution_count": 29,
      "metadata": {
        "id": "TAiITkFIE16s",
        "outputId": "fe596467-bf1b-4d3c-ef77-166a686cf325",
        "colab": {
          "base_uri": "https://localhost:8080/"
        }
      },
      "outputs": [
        {
          "output_type": "execute_result",
          "data": {
            "text/plain": [
              "0.1"
            ]
          },
          "metadata": {},
          "execution_count": 29
        }
      ],
      "source": [
        "ridgecv = RidgeCV()\n",
        "ridgecv.fit(X_train, y_train)\n",
        "ridgecv.alpha_"
      ]
    },
    {
      "cell_type": "code",
      "source": [
        "alpha_ridge_opt = ridgecv.alpha_"
      ],
      "metadata": {
        "id": "coBKTsGtIXQ0"
      },
      "execution_count": 30,
      "outputs": []
    },
    {
      "cell_type": "markdown",
      "metadata": {
        "id": "k2hRmJGPE16t"
      },
      "source": [
        "## 2) Lasso"
      ]
    },
    {
      "cell_type": "code",
      "execution_count": 31,
      "metadata": {
        "id": "gmm9aHKiE16u",
        "outputId": "c3ed3367-076f-47e1-8666-a6a6f1e36891",
        "colab": {
          "base_uri": "https://localhost:8080/"
        }
      },
      "outputs": [
        {
          "output_type": "execute_result",
          "data": {
            "text/plain": [
              "0.0007404280761639708"
            ]
          },
          "metadata": {},
          "execution_count": 31
        }
      ],
      "source": [
        "lassocv = LassoCV()\n",
        "lassocv.fit(X_train, y_train)\n",
        "lassocv.alpha_"
      ]
    },
    {
      "cell_type": "code",
      "source": [
        "alpha_lasso_opt = lassocv.alpha_"
      ],
      "metadata": {
        "id": "kQry-RzoIZwC"
      },
      "execution_count": 32,
      "outputs": []
    },
    {
      "cell_type": "markdown",
      "metadata": {
        "id": "H7bB7jW9E16v"
      },
      "source": [
        "## 3) ElasticNet"
      ]
    },
    {
      "cell_type": "code",
      "execution_count": 33,
      "metadata": {
        "id": "9B6c3s3EE16w",
        "outputId": "9bed2489-31c4-4ce0-c4cf-87b73012d5e0",
        "colab": {
          "base_uri": "https://localhost:8080/"
        }
      },
      "outputs": [
        {
          "output_type": "execute_result",
          "data": {
            "text/plain": [
              "0.0014808561523279417"
            ]
          },
          "metadata": {},
          "execution_count": 33
        }
      ],
      "source": [
        "elasticnetcv = ElasticNetCV()\n",
        "elasticnetcv.fit(X_train, y_train)\n",
        "elasticnetcv.alpha_"
      ]
    },
    {
      "cell_type": "code",
      "source": [
        "elasticnetcv.l1_ratio_"
      ],
      "metadata": {
        "id": "dV-KVSQmIdUF",
        "outputId": "ff0c9948-fe7d-48fe-b490-42f06e22e721",
        "colab": {
          "base_uri": "https://localhost:8080/"
        }
      },
      "execution_count": 34,
      "outputs": [
        {
          "output_type": "execute_result",
          "data": {
            "text/plain": [
              "0.5"
            ]
          },
          "metadata": {},
          "execution_count": 34
        }
      ]
    },
    {
      "cell_type": "code",
      "source": [
        "from sklearn.model_selection import cross_val_score\n",
        "import sklearn.metrics"
      ],
      "metadata": {
        "id": "OHuI9IWHIfC2"
      },
      "execution_count": 35,
      "outputs": []
    },
    {
      "cell_type": "code",
      "source": [
        "RMSE_CV=[]\n",
        "iterator= np.arange(0.0,0.02,0.001)\n",
        "for i in iterator:\n",
        "    MSE = -cross_val_score(estimator = ElasticNet(alpha=i), X = X_train, y = y_train, cv = 5 , scoring=\"neg_mean_squared_error\" )\n",
        "    RMSE_CV.append(np.sqrt(MSE).mean())\n",
        "    \n",
        "output = pd.DataFrame(list(iterator), columns=['lambda_ElasticNet'])\n",
        "output['RMSE_CV']=RMSE_CV\n",
        "\n",
        "output.head()"
      ],
      "metadata": {
        "id": "YhWlC3PEIglo",
        "outputId": "7d0f024e-5ac5-49c5-eb1e-e72f7b9bd9fe",
        "colab": {
          "base_uri": "https://localhost:8080/",
          "height": 0
        }
      },
      "execution_count": 36,
      "outputs": [
        {
          "output_type": "execute_result",
          "data": {
            "text/html": [
              "\n",
              "  <div id=\"df-8b2cfd32-e8e2-4523-9e1f-616b32695a1c\">\n",
              "    <div class=\"colab-df-container\">\n",
              "      <div>\n",
              "<style scoped>\n",
              "    .dataframe tbody tr th:only-of-type {\n",
              "        vertical-align: middle;\n",
              "    }\n",
              "\n",
              "    .dataframe tbody tr th {\n",
              "        vertical-align: top;\n",
              "    }\n",
              "\n",
              "    .dataframe thead th {\n",
              "        text-align: right;\n",
              "    }\n",
              "</style>\n",
              "<table border=\"1\" class=\"dataframe\">\n",
              "  <thead>\n",
              "    <tr style=\"text-align: right;\">\n",
              "      <th></th>\n",
              "      <th>lambda_ElasticNet</th>\n",
              "      <th>RMSE_CV</th>\n",
              "    </tr>\n",
              "  </thead>\n",
              "  <tbody>\n",
              "    <tr>\n",
              "      <th>0</th>\n",
              "      <td>0.000</td>\n",
              "      <td>0.591622</td>\n",
              "    </tr>\n",
              "    <tr>\n",
              "      <th>1</th>\n",
              "      <td>0.001</td>\n",
              "      <td>0.597029</td>\n",
              "    </tr>\n",
              "    <tr>\n",
              "      <th>2</th>\n",
              "      <td>0.002</td>\n",
              "      <td>0.602498</td>\n",
              "    </tr>\n",
              "    <tr>\n",
              "      <th>3</th>\n",
              "      <td>0.003</td>\n",
              "      <td>0.606075</td>\n",
              "    </tr>\n",
              "    <tr>\n",
              "      <th>4</th>\n",
              "      <td>0.004</td>\n",
              "      <td>0.609711</td>\n",
              "    </tr>\n",
              "  </tbody>\n",
              "</table>\n",
              "</div>\n",
              "      <button class=\"colab-df-convert\" onclick=\"convertToInteractive('df-8b2cfd32-e8e2-4523-9e1f-616b32695a1c')\"\n",
              "              title=\"Convert this dataframe to an interactive table.\"\n",
              "              style=\"display:none;\">\n",
              "        \n",
              "  <svg xmlns=\"http://www.w3.org/2000/svg\" height=\"24px\"viewBox=\"0 0 24 24\"\n",
              "       width=\"24px\">\n",
              "    <path d=\"M0 0h24v24H0V0z\" fill=\"none\"/>\n",
              "    <path d=\"M18.56 5.44l.94 2.06.94-2.06 2.06-.94-2.06-.94-.94-2.06-.94 2.06-2.06.94zm-11 1L8.5 8.5l.94-2.06 2.06-.94-2.06-.94L8.5 2.5l-.94 2.06-2.06.94zm10 10l.94 2.06.94-2.06 2.06-.94-2.06-.94-.94-2.06-.94 2.06-2.06.94z\"/><path d=\"M17.41 7.96l-1.37-1.37c-.4-.4-.92-.59-1.43-.59-.52 0-1.04.2-1.43.59L10.3 9.45l-7.72 7.72c-.78.78-.78 2.05 0 2.83L4 21.41c.39.39.9.59 1.41.59.51 0 1.02-.2 1.41-.59l7.78-7.78 2.81-2.81c.8-.78.8-2.07 0-2.86zM5.41 20L4 18.59l7.72-7.72 1.47 1.35L5.41 20z\"/>\n",
              "  </svg>\n",
              "      </button>\n",
              "      \n",
              "  <style>\n",
              "    .colab-df-container {\n",
              "      display:flex;\n",
              "      flex-wrap:wrap;\n",
              "      gap: 12px;\n",
              "    }\n",
              "\n",
              "    .colab-df-convert {\n",
              "      background-color: #E8F0FE;\n",
              "      border: none;\n",
              "      border-radius: 50%;\n",
              "      cursor: pointer;\n",
              "      display: none;\n",
              "      fill: #1967D2;\n",
              "      height: 32px;\n",
              "      padding: 0 0 0 0;\n",
              "      width: 32px;\n",
              "    }\n",
              "\n",
              "    .colab-df-convert:hover {\n",
              "      background-color: #E2EBFA;\n",
              "      box-shadow: 0px 1px 2px rgba(60, 64, 67, 0.3), 0px 1px 3px 1px rgba(60, 64, 67, 0.15);\n",
              "      fill: #174EA6;\n",
              "    }\n",
              "\n",
              "    [theme=dark] .colab-df-convert {\n",
              "      background-color: #3B4455;\n",
              "      fill: #D2E3FC;\n",
              "    }\n",
              "\n",
              "    [theme=dark] .colab-df-convert:hover {\n",
              "      background-color: #434B5C;\n",
              "      box-shadow: 0px 1px 3px 1px rgba(0, 0, 0, 0.15);\n",
              "      filter: drop-shadow(0px 1px 2px rgba(0, 0, 0, 0.3));\n",
              "      fill: #FFFFFF;\n",
              "    }\n",
              "  </style>\n",
              "\n",
              "      <script>\n",
              "        const buttonEl =\n",
              "          document.querySelector('#df-8b2cfd32-e8e2-4523-9e1f-616b32695a1c button.colab-df-convert');\n",
              "        buttonEl.style.display =\n",
              "          google.colab.kernel.accessAllowed ? 'block' : 'none';\n",
              "\n",
              "        async function convertToInteractive(key) {\n",
              "          const element = document.querySelector('#df-8b2cfd32-e8e2-4523-9e1f-616b32695a1c');\n",
              "          const dataTable =\n",
              "            await google.colab.kernel.invokeFunction('convertToInteractive',\n",
              "                                                     [key], {});\n",
              "          if (!dataTable) return;\n",
              "\n",
              "          const docLinkHtml = 'Like what you see? Visit the ' +\n",
              "            '<a target=\"_blank\" href=https://colab.research.google.com/notebooks/data_table.ipynb>data table notebook</a>'\n",
              "            + ' to learn more about interactive tables.';\n",
              "          element.innerHTML = '';\n",
              "          dataTable['output_type'] = 'display_data';\n",
              "          await google.colab.output.renderOutput(dataTable, element);\n",
              "          const docLink = document.createElement('div');\n",
              "          docLink.innerHTML = docLinkHtml;\n",
              "          element.appendChild(docLink);\n",
              "        }\n",
              "      </script>\n",
              "    </div>\n",
              "  </div>\n",
              "  "
            ],
            "text/plain": [
              "   lambda_ElasticNet   RMSE_CV\n",
              "0              0.000  0.591622\n",
              "1              0.001  0.597029\n",
              "2              0.002  0.602498\n",
              "3              0.003  0.606075\n",
              "4              0.004  0.609711"
            ]
          },
          "metadata": {},
          "execution_count": 36
        }
      ]
    },
    {
      "cell_type": "markdown",
      "metadata": {
        "id": "80YglECrE16x"
      },
      "source": [
        "# Done!"
      ]
    }
  ],
  "metadata": {
    "kernelspec": {
      "display_name": "Python 3",
      "language": "python",
      "name": "python3"
    },
    "language_info": {
      "codemirror_mode": {
        "name": "ipython",
        "version": 3
      },
      "file_extension": ".py",
      "mimetype": "text/x-python",
      "name": "python",
      "nbconvert_exporter": "python",
      "pygments_lexer": "ipython3",
      "version": "3.7.6"
    },
    "colab": {
      "name": "##DAY15_220110_이상우.ipynb",
      "provenance": [],
      "collapsed_sections": [
        "yl4UcmHfE16n",
        "j6UBPP_uE16p",
        "vyTExFyRE16q",
        "-O7prXWuE16s",
        "k2hRmJGPE16t",
        "H7bB7jW9E16v"
      ]
    },
    "accelerator": "GPU"
  },
  "nbformat": 4,
  "nbformat_minor": 0
}
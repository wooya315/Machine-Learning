{
  "cells": [
    {
      "cell_type": "code",
      "execution_count": 1,
      "metadata": {
        "id": "WPNN6BmXXYvd"
      },
      "outputs": [],
      "source": [
        "import os\n",
        "\n",
        "# 수학 관련 라이브러리\n",
        "import numpy as np\n",
        "import math\n",
        "\n",
        "import sys\n",
        "\n",
        "# pytorch 관련 라이브러리\n",
        "import torch\n",
        "import torch.nn as nn \n",
        "import torch.nn.functional as F \n",
        "\n",
        "# visualization 라이브러리\n",
        "import matplotlib.pyplot as plt"
      ]
    },
    {
      "cell_type": "markdown",
      "metadata": {
        "id": "p77g9I5hXYvi"
      },
      "source": [
        "# sample input"
      ]
    },
    {
      "cell_type": "code",
      "execution_count": 2,
      "metadata": {
        "id": "pJnFPHdaXYvi"
      },
      "outputs": [],
      "source": [
        "sample_input = torch.tensor([[    1,    57,  3518,   155,     6,   943, 10716, 20433,     0,     6,\n",
        "         12181,   362,     4,   588,   245,   243,   230,   241,   231,   240,\n",
        "           233,   238,   239,   232,     4,  1761,    20,     2,  5063,  1007,\n",
        "          2085,  2907,     4, 19454,   658,  5499,  8778,  1132,  4189,   283,\n",
        "             4,     4,    20,     2,     0,     0,     0,     0,     0,     0,\n",
        "             0,     0,     0,     0,     0,     0,     0,     0,     0,     0,\n",
        "             0,     0,     0,     0,     0,     0,     0,     0,     0,     0,\n",
        "             0,     0,     0,     0,     0,     0,     0,     0,     0,     0,\n",
        "             0,     0,     0,     0,     0,     0,     0,     0,     0,     0,\n",
        "             0,     0,     0,     0,     0,     0,     0,     0,     0,     0,\n",
        "             0,     0,     0,     0,     0,     0,     0,     0,     0,     0,\n",
        "             0,     0,     0,     0,     0,     0,     0,     0,     0,     0,\n",
        "             0,     0,     0,     0,     0,     0,     0,     0]])\n",
        "\n",
        "sample_mask1 = torch.tensor([[0, 0, 0, 0, 0, 0, 0, 0, 0, 0, 0, 0, 0, 0, 0, 0, 0, 0, 0, 0, 0, 0, 0, 0,\n",
        "         0, 0, 0, 0, 1, 1, 1, 1, 1, 1, 1, 1, 1, 1, 1, 1, 1, 1, 1, 1, 0, 0, 0, 0,\n",
        "         0, 0, 0, 0, 0, 0, 0, 0, 0, 0, 0, 0, 0, 0, 0, 0, 0, 0, 0, 0, 0, 0, 0, 0,\n",
        "         0, 0, 0, 0, 0, 0, 0, 0, 0, 0, 0, 0, 0, 0, 0, 0, 0, 0, 0, 0, 0, 0, 0, 0,\n",
        "         0, 0, 0, 0, 0, 0, 0, 0, 0, 0, 0, 0, 0, 0, 0, 0, 0, 0, 0, 0, 0, 0, 0, 0,\n",
        "         0, 0, 0, 0, 0, 0, 0, 0]])\n",
        "\n",
        "\n",
        "sample_mask2 = torch.tensor([[1, 1, 1, 1, 1, 1, 1, 1, 1, 1, 1, 1, 1, 1, 1, 1, 1, 1, 1, 1, 1, 1, 1, 1,\n",
        "         1, 1, 1, 1, 1, 1, 1, 1, 1, 1, 1, 1, 1, 1, 1, 1, 1, 1, 1, 1, 0, 0, 0, 0,\n",
        "         0, 0, 0, 0, 0, 0, 0, 0, 0, 0, 0, 0, 0, 0, 0, 0, 0, 0, 0, 0, 0, 0, 0, 0,\n",
        "         0, 0, 0, 0, 0, 0, 0, 0, 0, 0, 0, 0, 0, 0, 0, 0, 0, 0, 0, 0, 0, 0, 0, 0,\n",
        "         0, 0, 0, 0, 0, 0, 0, 0, 0, 0, 0, 0, 0, 0, 0, 0, 0, 0, 0, 0, 0, 0, 0, 0,\n",
        "         0, 0, 0, 0, 0, 0, 0, 0]])\n",
        "\n",
        "\n",
        "\n",
        "sample_label = torch.tensor([0])\n",
        "\n",
        "sample = [sample_input,sample_mask2,sample_mask1,sample_label]\n",
        "\n",
        "sample_config = {\n",
        "    \"dim\": 768,\n",
        "    \"dim_ff\": 3072,\n",
        "    \"n_layers\": 12,\n",
        "    \"p_drop_attn\": 0.1,\n",
        "    \"n_heads\": 12,\n",
        "    \"p_drop_hidden\": 0.1,\n",
        "    \"max_len\": 512,\n",
        "    \"n_segments\": 2,\n",
        "    \"vocab_size\": 30522\n",
        "}\n",
        "\n",
        "class AttributeDict(dict):\n",
        "    def __getattr__(self, name):\n",
        "        return self[name]\n",
        "model_config = AttributeDict(sample_config)"
      ]
    },
    {
      "cell_type": "code",
      "execution_count": 3,
      "metadata": {
        "colab": {
          "base_uri": "https://localhost:8080/"
        },
        "id": "5WUwodJWXYvm",
        "outputId": "9682bee9-e7f2-409b-b094-9327dae8066d"
      },
      "outputs": [
        {
          "output_type": "execute_result",
          "data": {
            "text/plain": [
              "torch.Size([1, 128])"
            ]
          },
          "metadata": {},
          "execution_count": 3
        }
      ],
      "source": [
        "sample_input.size()"
      ]
    },
    {
      "cell_type": "markdown",
      "metadata": {
        "id": "FyI_jPgqXYvo"
      },
      "source": [
        "# Activation function"
      ]
    },
    {
      "cell_type": "code",
      "execution_count": 4,
      "metadata": {
        "id": "he_iYTHsXYvp"
      },
      "outputs": [],
      "source": [
        "def gelu(x):\n",
        "    return x * 0.5 * (1.0 + torch.erf(x / math.sqrt(2.0)))"
      ]
    },
    {
      "cell_type": "code",
      "source": [
        "x = torch.linspace(-5,5,30)\n",
        "plt.plot(x,gelu(x))\n",
        "plt.show()"
      ],
      "metadata": {
        "colab": {
          "base_uri": "https://localhost:8080/",
          "height": 265
        },
        "id": "j-a8Wwa84Mpr",
        "outputId": "9afe0bff-9cd0-467d-cf1c-6632f262abd2"
      },
      "execution_count": 5,
      "outputs": [
        {
          "output_type": "display_data",
          "data": {
            "image/png": "[encoded data removed]",
            "text/plain": [
              "<Figure size 432x288 with 1 Axes>"
            ]
          },
          "metadata": {
            "needs_background": "light"
          }
        }
      ]
    },
    {
      "cell_type": "markdown",
      "metadata": {
        "id": "n817XUUkXYvu"
      },
      "source": [
        "# Layer normalization"
      ]
    },
    {
      "cell_type": "code",
      "execution_count": 6,
      "metadata": {
        "id": "6WDZJoniXYvv"
      },
      "outputs": [],
      "source": [
        "class LayerNorm(nn.Module):\n",
        "    def __init__(self, cfg, variance_epsilon=1e-12):\n",
        "        super().__init__()\n",
        "        self.gamma = nn.Parameter(torch.ones(cfg.dim))\n",
        "        self.beta  = nn.Parameter(torch.zeros(cfg.dim))\n",
        "        self.variance_epsilon = variance_epsilon\n",
        "\n",
        "    def forward(self, x):\n",
        "        # get mean, variance\n",
        "        u = x.mean(-1, keepdim=True) # 각 단어별 mean\n",
        "        s = (x - u).pow(2).mean(-1, keepdim=True) # 각 단어별 variance\n",
        "        \n",
        "        # normalize\n",
        "        x = (x - u) / torch.sqrt(s + self.variance_epsilon) # (x - mean)/std \n",
        "        \n",
        "        return self.gamma * x + self.beta # gamma, beta를 이용해 mean, std 조정"
      ]
    },
    {
      "cell_type": "markdown",
      "metadata": {
        "id": "67vQ81wQXYv0"
      },
      "source": [
        "# Embedding"
      ]
    },
    {
      "cell_type": "code",
      "execution_count": 7,
      "metadata": {
        "id": "5i9AMbZKXYv1"
      },
      "outputs": [],
      "source": [
        "class Embeddings(nn.Module):\n",
        "    \"The embedding module from word, position and token_type embeddings.\"\n",
        "    def __init__(self, cfg):\n",
        "        super().__init__()\n",
        "        self.tok_embed = nn.Embedding(cfg.vocab_size, cfg.dim) # token embedding\n",
        "        self.pos_embed = nn.Embedding(cfg.max_len, cfg.dim) # position embedding\n",
        "        self.seg_embed = nn.Embedding(cfg.n_segments, cfg.dim) # segment(token type) embedding\n",
        "\n",
        "        self.norm = LayerNorm(cfg)\n",
        "        self.drop = nn.Dropout(cfg.p_drop_hidden)\n",
        "\n",
        "    def forward(self, x, seg):\n",
        "        seq_len = x.size(1)\n",
        "        pos = torch.arange(seq_len, dtype=torch.long, device=x.device) # 0,1,2,3,4,5, ..., seq_len-1\n",
        "        pos = pos.unsqueeze(0).expand_as(x) # (S,) -> (B, S)\n",
        "\n",
        "        e = self.tok_embed(x) + self.pos_embed(pos) + self.seg_embed(seg)\n",
        "        return self.drop(self.norm(e))"
      ]
    },
    {
      "cell_type": "code",
      "execution_count": 8,
      "metadata": {
        "id": "rvIadxVfXYv4"
      },
      "outputs": [],
      "source": [
        "model = Embeddings(model_config)"
      ]
    },
    {
      "cell_type": "code",
      "execution_count": 9,
      "metadata": {
        "colab": {
          "base_uri": "https://localhost:8080/"
        },
        "id": "IlkPorndXYv7",
        "outputId": "2698c342-bda2-4319-cb60-d04e178863cf"
      },
      "outputs": [
        {
          "output_type": "execute_result",
          "data": {
            "text/plain": [
              "torch.Size([1, 128, 768])"
            ]
          },
          "metadata": {},
          "execution_count": 9
        }
      ],
      "source": [
        "out = model(*sample[0:2])\n",
        "out.size()\n"
      ]
    },
    {
      "cell_type": "code",
      "execution_count": 10,
      "metadata": {
        "colab": {
          "base_uri": "https://localhost:8080/"
        },
        "id": "CI2c7XzQ29d2",
        "outputId": "007fe82d-cc8f-4c3f-85b0-6deb0832aaa6"
      },
      "outputs": [
        {
          "output_type": "execute_result",
          "data": {
            "text/plain": [
              "tensor([[    1,    57,  3518,   155,     6,   943, 10716, 20433,     0,     6,\n",
              "         12181,   362,     4,   588,   245,   243,   230,   241,   231,   240,\n",
              "           233,   238,   239,   232,     4,  1761,    20,     2,  5063,  1007,\n",
              "          2085,  2907,     4, 19454,   658,  5499,  8778,  1132,  4189,   283,\n",
              "             4,     4,    20,     2,     0,     0,     0,     0,     0,     0,\n",
              "             0,     0,     0,     0,     0,     0,     0,     0,     0,     0,\n",
              "             0,     0,     0,     0,     0,     0,     0,     0,     0,     0,\n",
              "             0,     0,     0,     0,     0,     0,     0,     0,     0,     0,\n",
              "             0,     0,     0,     0,     0,     0,     0,     0,     0,     0,\n",
              "             0,     0,     0,     0,     0,     0,     0,     0,     0,     0,\n",
              "             0,     0,     0,     0,     0,     0,     0,     0,     0,     0,\n",
              "             0,     0,     0,     0,     0,     0,     0,     0,     0,     0,\n",
              "             0,     0,     0,     0,     0,     0,     0,     0]])"
            ]
          },
          "metadata": {},
          "execution_count": 10
        }
      ],
      "source": [
        "sample[0]"
      ]
    },
    {
      "cell_type": "code",
      "execution_count": 11,
      "metadata": {
        "colab": {
          "base_uri": "https://localhost:8080/"
        },
        "id": "7VlEHDC_29d3",
        "outputId": "5cfd04ec-1901-45a3-938f-e3832b73bac3"
      },
      "outputs": [
        {
          "output_type": "execute_result",
          "data": {
            "text/plain": [
              "tensor([[ 0.3233,  1.3021,  0.0000,  ...,  1.2345,  1.3064,  1.1453],\n",
              "        [-1.6845,  1.1804,  0.8632,  ..., -0.0000,  1.2621,  0.3760],\n",
              "        [-0.9437, -1.5301,  1.1847,  ...,  0.0872,  0.9528,  0.3047],\n",
              "        [-0.9913,  0.3079,  1.3523,  ..., -0.0000,  1.3691,  0.1057],\n",
              "        [-1.4005,  0.8539,  2.0624,  ..., -0.8189,  0.7783,  0.5539]],\n",
              "       grad_fn=<SliceBackward0>)"
            ]
          },
          "metadata": {},
          "execution_count": 11
        }
      ],
      "source": [
        "out[0,-5:] # 뒤의 5개는 모두 pad 토큰인데 embedding 값이 다릅니다. 그 이유가 뭘까요?"
      ]
    },
    {
      "cell_type": "markdown",
      "metadata": {
        "id": "PPe3CSN0XYwC"
      },
      "source": [
        "#  Transformer encoder"
      ]
    },
    {
      "cell_type": "code",
      "execution_count": 12,
      "metadata": {
        "id": "MHiJimv_XYwD"
      },
      "outputs": [],
      "source": [
        "class Attention(nn.Module):\n",
        "    #Scaled Dot Product Attention\n",
        "    \n",
        "    def forward(self, query, key, value, mask=None, dropout=None):\n",
        "        scores = torch.matmul(query, key.transpose(-2, -1)) \\\n",
        "                 / math.sqrt(query.size(-1)) # scale\n",
        "\n",
        "        if mask is not None:\n",
        "            scores = scores.masked_fill(mask == 0, -1e9)\n",
        "\n",
        "        p_attn = F.softmax(scores, dim=-1)\n",
        "\n",
        "        if dropout is not None:\n",
        "            p_attn = dropout(p_attn)\n",
        "\n",
        "        return torch.matmul(p_attn, value), p_attn"
      ]
    },
    {
      "cell_type": "code",
      "execution_count": 13,
      "metadata": {
        "id": "CK91Q-b3XYwF"
      },
      "outputs": [],
      "source": [
        "class MultiHeadedSelfAttention(nn.Module):\n",
        "    \"\"\" Multi-Headed Dot Product Attention \"\"\"\n",
        "    def __init__(self, cfg):\n",
        "        super().__init__()\n",
        "        self.proj_q = nn.Linear(cfg.dim, cfg.dim)\n",
        "        self.proj_k = nn.Linear(cfg.dim, cfg.dim)\n",
        "        self.proj_v = nn.Linear(cfg.dim, cfg.dim)\n",
        "        self.drop = nn.Dropout(cfg.p_drop_attn)\n",
        "        self.scores = None # for visualization\n",
        "        self.n_heads = cfg.n_heads\n",
        "\n",
        "    def forward(self, x, mask):\n",
        "        \"\"\"\n",
        "        x, q(query), k(key), v(value) : (B(batch_size), S(seq_len), D(dim))\n",
        "        mask : (B(batch_size) x S(seq_len))\n",
        "        * split D(dim) into (H(n_heads), W(width of head)) ; D = H * W\n",
        "        \"\"\"\n",
        "        B,S,D = x.shape\n",
        "\n",
        "\n",
        "        # (B, S, D) -proj-> (B, S, D) -split-> (B, S, H, W) -trans-> (B, H, S, W)\n",
        "        q, k, v = self.proj_q(x), self.proj_k(x), self.proj_v(x)\n",
        "        \n",
        "        q, k, v = (x.reshape(B,S,self.n_heads,-1).transpose(1, 2)\n",
        "                   for x in [q, k, v])\n",
        "        # (B, H, S, W) @ (B, H, W, S) -> (B, H, S, S) -softmax-> (B, H, S, S)\n",
        "        scores = q @ k.transpose(-2, -1) / np.sqrt(k.size(-1)) # @ == torch.matmul (dot product)\n",
        "        if mask is not None:\n",
        "            mask = mask[:, None, None, :].float()\n",
        "            scores -= 10000.0 * (1.0 - mask)\n",
        "        scores = self.drop(F.softmax(scores, dim=-1))\n",
        "        # (B, H, S, S) @ (B, H, S, W) -> (B, H, S, W) -trans-> (B, S, H, W)\n",
        "        h = (scores @ v).transpose(1, 2).contiguous()\n",
        "        # -merge-> (B, S, D)\n",
        "        h = h.reshape(B,S,D)\n",
        "        self.scores = scores\n",
        "        return h"
      ]
    },
    {
      "cell_type": "markdown",
      "metadata": {
        "id": "aRTC9578XYwI"
      },
      "source": [
        "# Base feedforward network"
      ]
    },
    {
      "cell_type": "code",
      "execution_count": 14,
      "metadata": {
        "id": "luh9VPi4XYwJ"
      },
      "outputs": [],
      "source": [
        "class PositionWiseFeedForward(nn.Module):\n",
        "    \"\"\" FeedForward Neural Networks for each position \"\"\"\n",
        "    def __init__(self, cfg):\n",
        "        super().__init__()\n",
        "        self.fc1 = nn.Linear(cfg.dim, cfg.dim_ff)\n",
        "        self.fc2 = nn.Linear(cfg.dim_ff, cfg.dim)\n",
        "\n",
        "    def forward(self, x):\n",
        "        # (B, S, D) -> (B, S, D_ff) -> (B, S, D)\n",
        "        return self.fc2(gelu(self.fc1(x)))"
      ]
    },
    {
      "cell_type": "markdown",
      "metadata": {
        "id": "_fRUW4DeXYwM"
      },
      "source": [
        "# Transformer"
      ]
    },
    {
      "cell_type": "code",
      "execution_count": 15,
      "metadata": {
        "id": "u0HTaKSgXYwM"
      },
      "outputs": [],
      "source": [
        "class Block(nn.Module):\n",
        "    \"\"\" Transformer Block \"\"\"\n",
        "    def __init__(self, cfg):\n",
        "        super().__init__()\n",
        "        self.attn = MultiHeadedSelfAttention(cfg)\n",
        "        self.proj = nn.Linear(cfg.dim, cfg.dim)\n",
        "        self.norm1 = LayerNorm(cfg)\n",
        "        self.pwff = PositionWiseFeedForward(cfg)\n",
        "        self.norm2 = LayerNorm(cfg)\n",
        "        self.drop = nn.Dropout(cfg.p_drop_hidden)\n",
        "\n",
        "    def forward(self, x, mask):\n",
        "        h = self.attn(x, mask)\n",
        "        h = self.norm1(x + self.drop(self.proj(h)))\n",
        "        h = self.norm2(h + self.drop(self.pwff(h)))\n",
        "        return h\n",
        "\n",
        "\n",
        "class Transformer(nn.Module):\n",
        "    \"\"\" Transformer with Self-Attentive Blocks\"\"\"\n",
        "    def __init__(self, cfg):\n",
        "        super().__init__()\n",
        "        self.embed = Embeddings(cfg)\n",
        "        self.blocks = nn.ModuleList([Block(cfg) for _ in range(cfg.n_layers)])\n",
        "\n",
        "    def forward(self, x, seg, mask):\n",
        "        h = self.embed(x, seg)\n",
        "        for block in self.blocks:\n",
        "            h = block(h, mask)\n",
        "        return h"
      ]
    },
    {
      "cell_type": "code",
      "execution_count": 16,
      "metadata": {
        "colab": {
          "base_uri": "https://localhost:8080/"
        },
        "id": "ii-ll7BbXYwP",
        "outputId": "bd976f36-b91b-4633-a4a0-d96d8dcb7ed3"
      },
      "outputs": [
        {
          "output_type": "execute_result",
          "data": {
            "text/plain": [
              "torch.Size([1, 128, 768])"
            ]
          },
          "metadata": {},
          "execution_count": 16
        }
      ],
      "source": [
        "model = Transformer(model_config)\n",
        "out = model(*sample[:3])\n",
        "out.size()"
      ]
    },
    {
      "cell_type": "code",
      "execution_count": 16,
      "metadata": {
        "id": "xRq3zOSy29d5"
      },
      "outputs": [],
      "source": [
        ""
      ]
    },
    {
      "cell_type": "markdown",
      "metadata": {
        "id": "X5gilSNpXYwT"
      },
      "source": [
        "# BERT (for classification only)"
      ]
    },
    {
      "cell_type": "code",
      "execution_count": 17,
      "metadata": {
        "id": "nfQDGyTjXYwT"
      },
      "outputs": [],
      "source": [
        "class Classifier(nn.Module):\n",
        "    \"\"\" Classifier with Transformer \"\"\"\n",
        "    def __init__(self, cfg, n_labels):\n",
        "        super().__init__()\n",
        "        self.transformer = Transformer(cfg)\n",
        "        self.fc = nn.Linear(cfg.dim, cfg.dim)\n",
        "        self.activ = nn.Tanh()\n",
        "        self.drop = nn.Dropout(cfg.p_drop_hidden)\n",
        "        self.classifier = nn.Linear(cfg.dim, n_labels)\n",
        "\n",
        "    def forward(self, input_ids, segment_ids, input_mask):\n",
        "        h = self.transformer(input_ids, segment_ids, input_mask)\n",
        "        # only use the first h in the sequence\n",
        "        pooled_h = self.activ(self.fc(h[:, 0]))\n",
        "        logits = self.classifier(self.drop(pooled_h))\n",
        "        return logits"
      ]
    },
    {
      "cell_type": "code",
      "execution_count": 18,
      "metadata": {
        "colab": {
          "base_uri": "https://localhost:8080/"
        },
        "id": "l7g9odreXYwW",
        "outputId": "e20c67be-eb51-43a8-f9f0-2810ac9410ba"
      },
      "outputs": [
        {
          "output_type": "execute_result",
          "data": {
            "text/plain": [
              "torch.Size([1, 2])"
            ]
          },
          "metadata": {},
          "execution_count": 18
        }
      ],
      "source": [
        "model = Classifier(model_config, 2)\n",
        "out = model(*sample[:3])\n",
        "out.size()"
      ]
    },
    {
      "cell_type": "code",
      "execution_count": 19,
      "metadata": {
        "colab": {
          "base_uri": "https://localhost:8080/"
        },
        "id": "s2dzZMGpXYwY",
        "outputId": "73bc6599-1bde-4e31-8144-599700bd7b56"
      },
      "outputs": [
        {
          "output_type": "execute_result",
          "data": {
            "text/plain": [
              "tensor([[0.0430, 0.2718]], grad_fn=<AddmmBackward0>)"
            ]
          },
          "metadata": {},
          "execution_count": 19
        }
      ],
      "source": [
        "out"
      ]
    },
    {
      "cell_type": "code",
      "source": [
        ""
      ],
      "metadata": {
        "id": "kDor1UHx6Af8"
      },
      "execution_count": 19,
      "outputs": []
    }
  ],
  "metadata": {
    "colab": {
      "name": "file2_Model.ipynb",
      "provenance": [],
      "collapsed_sections": []
    },
    "kernelspec": {
      "display_name": "Python 3",
      "language": "python",
      "name": "python3"
    },
    "language_info": {
      "codemirror_mode": {
        "name": "ipython",
        "version": 3
      },
      "file_extension": ".py",
      "mimetype": "text/x-python",
      "name": "python",
      "nbconvert_exporter": "python",
      "pygments_lexer": "ipython3",
      "version": "3.7.7"
    }
  },
  "nbformat": 4,
  "nbformat_minor": 0
}
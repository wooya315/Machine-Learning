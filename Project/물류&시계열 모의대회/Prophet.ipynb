{
 "cells": [
  {
   "cell_type": "code",
   "execution_count": 1,
   "id": "d6920ff8-9d22-4d1c-853c-c707db13e555",
   "metadata": {},
   "outputs": [],
   "source": [
    "import os\n",
    "import pandas as pd\n",
    "import numpy as np\n",
    "from datetime import datetime\n",
    "\n",
    "import matplotlib.pyplot as plt\n",
    "from matplotlib import rc, rcParams\n",
    "import seaborn as sns\n",
    "\n",
    "# prophet\n",
    "from fbprophet import Prophet\n",
    "# arima\n",
    "from statsmodels.tsa.arima_model import ARIMA\n",
    "import statsmodels.api as sm\n",
    "from statsmodels.tsa.api import ExponentialSmoothing, SimpleExpSmoothing, Holt"
   ]
  },
  {
   "cell_type": "markdown",
   "id": "7fe6df05-a2e1-4607-90f1-fdbfc8a430bb",
   "metadata": {},
   "source": [
    "# Data load"
   ]
  },
  {
   "cell_type": "code",
   "execution_count": 2,
   "id": "3f42ea03-bea1-4c20-9e32-434c030ba682",
   "metadata": {},
   "outputs": [],
   "source": [
    "DATASET_PATH = os.path.join('/USER/team_project2/data')"
   ]
  },
  {
   "cell_type": "code",
   "execution_count": 3,
   "id": "89435859-9de2-42ba-ba44-fd1643cf6d6a",
   "metadata": {},
   "outputs": [],
   "source": [
    "train_df = pd.read_csv(os.path.join(DATASET_PATH, 'train.csv'))"
   ]
  },
  {
   "cell_type": "code",
   "execution_count": null,
   "id": "2341e674-d9df-49c3-8d74-91042989003f",
   "metadata": {},
   "outputs": [],
   "source": [
    "val_df = pd.read_csv(os.path.join(DATASET_PATH, 'validate.csv'))"
   ]
  },
  {
   "cell_type": "code",
   "execution_count": null,
   "id": "8e48ceab-eda6-451d-8f26-024bf0afff74",
   "metadata": {},
   "outputs": [],
   "source": [
    "test_df = pd.read_csv(os.path.join(DATASET_PATH, 'test.csv'))"
   ]
  },
  {
   "cell_type": "code",
   "execution_count": 6,
   "id": "1d6ccdcd-a62e-4753-b6de-ca53af19a03b",
   "metadata": {},
   "outputs": [],
   "source": [
    "submission_df = pd.read_csv(os.path.join(DATASET_PATH, 'sample_submission.csv'))"
   ]
  },
  {
   "cell_type": "code",
   "execution_count": 7,
   "id": "f77cc959-b37d-414b-9287-c55db2b347e4",
   "metadata": {},
   "outputs": [
    {
     "data": {
      "text/html": [
       "<div>\n",
       "<style scoped>\n",
       "    .dataframe tbody tr th:only-of-type {\n",
       "        vertical-align: middle;\n",
       "    }\n",
       "\n",
       "    .dataframe tbody tr th {\n",
       "        vertical-align: top;\n",
       "    }\n",
       "\n",
       "    .dataframe thead th {\n",
       "        text-align: right;\n",
       "    }\n",
       "</style>\n",
       "<table border=\"1\" class=\"dataframe\">\n",
       "  <thead>\n",
       "    <tr style=\"text-align: right;\">\n",
       "      <th></th>\n",
       "      <th>날짜</th>\n",
       "      <th>시간</th>\n",
       "      <th>10</th>\n",
       "      <th>100</th>\n",
       "      <th>101</th>\n",
       "      <th>120</th>\n",
       "      <th>121</th>\n",
       "      <th>140</th>\n",
       "      <th>150</th>\n",
       "      <th>160</th>\n",
       "      <th>...</th>\n",
       "      <th>1020</th>\n",
       "      <th>1040</th>\n",
       "      <th>1100</th>\n",
       "      <th>1200</th>\n",
       "      <th>1510</th>\n",
       "      <th>2510</th>\n",
       "      <th>3000</th>\n",
       "      <th>4510</th>\n",
       "      <th>5510</th>\n",
       "      <th>6000</th>\n",
       "    </tr>\n",
       "  </thead>\n",
       "  <tbody>\n",
       "    <tr>\n",
       "      <th>0</th>\n",
       "      <td>20200101</td>\n",
       "      <td>0</td>\n",
       "      <td>83247</td>\n",
       "      <td>19128</td>\n",
       "      <td>2611</td>\n",
       "      <td>5161</td>\n",
       "      <td>1588</td>\n",
       "      <td>892</td>\n",
       "      <td>32263</td>\n",
       "      <td>1636</td>\n",
       "      <td>...</td>\n",
       "      <td>1311</td>\n",
       "      <td>3482</td>\n",
       "      <td>11299</td>\n",
       "      <td>7072</td>\n",
       "      <td>1176</td>\n",
       "      <td>3810</td>\n",
       "      <td>748</td>\n",
       "      <td>3920</td>\n",
       "      <td>2133</td>\n",
       "      <td>3799</td>\n",
       "    </tr>\n",
       "    <tr>\n",
       "      <th>1</th>\n",
       "      <td>20200101</td>\n",
       "      <td>1</td>\n",
       "      <td>89309</td>\n",
       "      <td>19027</td>\n",
       "      <td>3337</td>\n",
       "      <td>5502</td>\n",
       "      <td>1650</td>\n",
       "      <td>1043</td>\n",
       "      <td>35609</td>\n",
       "      <td>1644</td>\n",
       "      <td>...</td>\n",
       "      <td>1162</td>\n",
       "      <td>3849</td>\n",
       "      <td>13180</td>\n",
       "      <td>8771</td>\n",
       "      <td>1283</td>\n",
       "      <td>3763</td>\n",
       "      <td>782</td>\n",
       "      <td>3483</td>\n",
       "      <td>2057</td>\n",
       "      <td>4010</td>\n",
       "    </tr>\n",
       "    <tr>\n",
       "      <th>2</th>\n",
       "      <td>20200101</td>\n",
       "      <td>2</td>\n",
       "      <td>66611</td>\n",
       "      <td>14710</td>\n",
       "      <td>2970</td>\n",
       "      <td>4631</td>\n",
       "      <td>1044</td>\n",
       "      <td>921</td>\n",
       "      <td>26821</td>\n",
       "      <td>1104</td>\n",
       "      <td>...</td>\n",
       "      <td>768</td>\n",
       "      <td>2299</td>\n",
       "      <td>7986</td>\n",
       "      <td>5426</td>\n",
       "      <td>1536</td>\n",
       "      <td>3229</td>\n",
       "      <td>491</td>\n",
       "      <td>2634</td>\n",
       "      <td>1526</td>\n",
       "      <td>3388</td>\n",
       "    </tr>\n",
       "    <tr>\n",
       "      <th>3</th>\n",
       "      <td>20200101</td>\n",
       "      <td>3</td>\n",
       "      <td>53290</td>\n",
       "      <td>13753</td>\n",
       "      <td>2270</td>\n",
       "      <td>4242</td>\n",
       "      <td>1021</td>\n",
       "      <td>790</td>\n",
       "      <td>21322</td>\n",
       "      <td>909</td>\n",
       "      <td>...</td>\n",
       "      <td>632</td>\n",
       "      <td>1716</td>\n",
       "      <td>5703</td>\n",
       "      <td>3156</td>\n",
       "      <td>1104</td>\n",
       "      <td>2882</td>\n",
       "      <td>431</td>\n",
       "      <td>2488</td>\n",
       "      <td>1268</td>\n",
       "      <td>3686</td>\n",
       "    </tr>\n",
       "    <tr>\n",
       "      <th>4</th>\n",
       "      <td>20200101</td>\n",
       "      <td>4</td>\n",
       "      <td>52095</td>\n",
       "      <td>17615</td>\n",
       "      <td>2406</td>\n",
       "      <td>3689</td>\n",
       "      <td>1840</td>\n",
       "      <td>922</td>\n",
       "      <td>22711</td>\n",
       "      <td>1354</td>\n",
       "      <td>...</td>\n",
       "      <td>875</td>\n",
       "      <td>2421</td>\n",
       "      <td>5816</td>\n",
       "      <td>2933</td>\n",
       "      <td>1206</td>\n",
       "      <td>2433</td>\n",
       "      <td>499</td>\n",
       "      <td>2952</td>\n",
       "      <td>1927</td>\n",
       "      <td>5608</td>\n",
       "    </tr>\n",
       "    <tr>\n",
       "      <th>...</th>\n",
       "      <td>...</td>\n",
       "      <td>...</td>\n",
       "      <td>...</td>\n",
       "      <td>...</td>\n",
       "      <td>...</td>\n",
       "      <td>...</td>\n",
       "      <td>...</td>\n",
       "      <td>...</td>\n",
       "      <td>...</td>\n",
       "      <td>...</td>\n",
       "      <td>...</td>\n",
       "      <td>...</td>\n",
       "      <td>...</td>\n",
       "      <td>...</td>\n",
       "      <td>...</td>\n",
       "      <td>...</td>\n",
       "      <td>...</td>\n",
       "      <td>...</td>\n",
       "      <td>...</td>\n",
       "      <td>...</td>\n",
       "      <td>...</td>\n",
       "    </tr>\n",
       "    <tr>\n",
       "      <th>3274</th>\n",
       "      <td>20200517</td>\n",
       "      <td>19</td>\n",
       "      <td>311727</td>\n",
       "      <td>101285</td>\n",
       "      <td>10085</td>\n",
       "      <td>30637</td>\n",
       "      <td>10060</td>\n",
       "      <td>8749</td>\n",
       "      <td>148935</td>\n",
       "      <td>6801</td>\n",
       "      <td>...</td>\n",
       "      <td>6726</td>\n",
       "      <td>15431</td>\n",
       "      <td>25597</td>\n",
       "      <td>14292</td>\n",
       "      <td>9300</td>\n",
       "      <td>22238</td>\n",
       "      <td>3786</td>\n",
       "      <td>16936</td>\n",
       "      <td>10729</td>\n",
       "      <td>20194</td>\n",
       "    </tr>\n",
       "    <tr>\n",
       "      <th>3275</th>\n",
       "      <td>20200517</td>\n",
       "      <td>20</td>\n",
       "      <td>305354</td>\n",
       "      <td>91426</td>\n",
       "      <td>8607</td>\n",
       "      <td>26021</td>\n",
       "      <td>8095</td>\n",
       "      <td>7198</td>\n",
       "      <td>136503</td>\n",
       "      <td>6147</td>\n",
       "      <td>...</td>\n",
       "      <td>5501</td>\n",
       "      <td>15378</td>\n",
       "      <td>24661</td>\n",
       "      <td>14747</td>\n",
       "      <td>8239</td>\n",
       "      <td>20604</td>\n",
       "      <td>3203</td>\n",
       "      <td>15018</td>\n",
       "      <td>9767</td>\n",
       "      <td>17962</td>\n",
       "    </tr>\n",
       "    <tr>\n",
       "      <th>3276</th>\n",
       "      <td>20200517</td>\n",
       "      <td>21</td>\n",
       "      <td>306008</td>\n",
       "      <td>75113</td>\n",
       "      <td>6325</td>\n",
       "      <td>19933</td>\n",
       "      <td>5711</td>\n",
       "      <td>4494</td>\n",
       "      <td>129412</td>\n",
       "      <td>5134</td>\n",
       "      <td>...</td>\n",
       "      <td>4216</td>\n",
       "      <td>12558</td>\n",
       "      <td>22781</td>\n",
       "      <td>14081</td>\n",
       "      <td>6392</td>\n",
       "      <td>17937</td>\n",
       "      <td>2447</td>\n",
       "      <td>12403</td>\n",
       "      <td>7825</td>\n",
       "      <td>14031</td>\n",
       "    </tr>\n",
       "    <tr>\n",
       "      <th>3277</th>\n",
       "      <td>20200517</td>\n",
       "      <td>22</td>\n",
       "      <td>237447</td>\n",
       "      <td>49498</td>\n",
       "      <td>4209</td>\n",
       "      <td>12145</td>\n",
       "      <td>3891</td>\n",
       "      <td>2718</td>\n",
       "      <td>96698</td>\n",
       "      <td>3526</td>\n",
       "      <td>...</td>\n",
       "      <td>2578</td>\n",
       "      <td>8870</td>\n",
       "      <td>16640</td>\n",
       "      <td>11066</td>\n",
       "      <td>4427</td>\n",
       "      <td>11955</td>\n",
       "      <td>1495</td>\n",
       "      <td>7507</td>\n",
       "      <td>5387</td>\n",
       "      <td>8889</td>\n",
       "    </tr>\n",
       "    <tr>\n",
       "      <th>3278</th>\n",
       "      <td>20200517</td>\n",
       "      <td>23</td>\n",
       "      <td>150312</td>\n",
       "      <td>27410</td>\n",
       "      <td>2350</td>\n",
       "      <td>6406</td>\n",
       "      <td>1803</td>\n",
       "      <td>1614</td>\n",
       "      <td>55788</td>\n",
       "      <td>1849</td>\n",
       "      <td>...</td>\n",
       "      <td>1377</td>\n",
       "      <td>5021</td>\n",
       "      <td>10058</td>\n",
       "      <td>7139</td>\n",
       "      <td>2250</td>\n",
       "      <td>6844</td>\n",
       "      <td>735</td>\n",
       "      <td>4116</td>\n",
       "      <td>3046</td>\n",
       "      <td>4606</td>\n",
       "    </tr>\n",
       "  </tbody>\n",
       "</table>\n",
       "<p>3279 rows × 37 columns</p>\n",
       "</div>"
      ],
      "text/plain": [
       "            날짜  시간      10     100    101    120    121   140     150   160  \\\n",
       "0     20200101   0   83247   19128   2611   5161   1588   892   32263  1636   \n",
       "1     20200101   1   89309   19027   3337   5502   1650  1043   35609  1644   \n",
       "2     20200101   2   66611   14710   2970   4631   1044   921   26821  1104   \n",
       "3     20200101   3   53290   13753   2270   4242   1021   790   21322   909   \n",
       "4     20200101   4   52095   17615   2406   3689   1840   922   22711  1354   \n",
       "...        ...  ..     ...     ...    ...    ...    ...   ...     ...   ...   \n",
       "3274  20200517  19  311727  101285  10085  30637  10060  8749  148935  6801   \n",
       "3275  20200517  20  305354   91426   8607  26021   8095  7198  136503  6147   \n",
       "3276  20200517  21  306008   75113   6325  19933   5711  4494  129412  5134   \n",
       "3277  20200517  22  237447   49498   4209  12145   3891  2718   96698  3526   \n",
       "3278  20200517  23  150312   27410   2350   6406   1803  1614   55788  1849   \n",
       "\n",
       "      ...  1020   1040   1100   1200  1510   2510  3000   4510   5510   6000  \n",
       "0     ...  1311   3482  11299   7072  1176   3810   748   3920   2133   3799  \n",
       "1     ...  1162   3849  13180   8771  1283   3763   782   3483   2057   4010  \n",
       "2     ...   768   2299   7986   5426  1536   3229   491   2634   1526   3388  \n",
       "3     ...   632   1716   5703   3156  1104   2882   431   2488   1268   3686  \n",
       "4     ...   875   2421   5816   2933  1206   2433   499   2952   1927   5608  \n",
       "...   ...   ...    ...    ...    ...   ...    ...   ...    ...    ...    ...  \n",
       "3274  ...  6726  15431  25597  14292  9300  22238  3786  16936  10729  20194  \n",
       "3275  ...  5501  15378  24661  14747  8239  20604  3203  15018   9767  17962  \n",
       "3276  ...  4216  12558  22781  14081  6392  17937  2447  12403   7825  14031  \n",
       "3277  ...  2578   8870  16640  11066  4427  11955  1495   7507   5387   8889  \n",
       "3278  ...  1377   5021  10058   7139  2250   6844   735   4116   3046   4606  \n",
       "\n",
       "[3279 rows x 37 columns]"
      ]
     },
     "execution_count": 7,
     "metadata": {},
     "output_type": "execute_result"
    }
   ],
   "source": [
    "train_df"
   ]
  },
  {
   "cell_type": "markdown",
   "id": "55bdcc6f-d8ef-459a-ab56-366fd3d422f6",
   "metadata": {},
   "source": [
    "# Data 전처리"
   ]
  },
  {
   "cell_type": "markdown",
   "id": "6405d4d3-ac7f-4ae6-9017-13ecd95ca158",
   "metadata": {},
   "source": [
    "### 1월 25일 평균값으로 대체"
   ]
  },
  {
   "cell_type": "code",
   "execution_count": null,
   "id": "b97b26ac-4d8e-4a6c-99dd-bb1c9a7b657b",
   "metadata": {},
   "outputs": [],
   "source": [
    "mean_pd = []\n",
    "for i in range(24):\n",
    "    zero = train_df[train_df['시간']==int(i)]\n",
    "    mean = zero.mean().astype('int')\n",
    "    mean_pd.append(mean)\n",
    "mean_df = pd.DataFrame(mean_pd)\n",
    "mean_df['날짜']=20200125 # train data 도로별 시간대별 평균 dataframe"
   ]
  },
  {
   "cell_type": "code",
   "execution_count": null,
   "id": "43737def-a2b5-4c09-8a52-ea7b2fcd98ba",
   "metadata": {},
   "outputs": [],
   "source": [
    "mean_df"
   ]
  },
  {
   "cell_type": "markdown",
   "id": "8419ac6f-c61c-4b04-a18f-35d53c84f72f",
   "metadata": {
    "tags": []
   },
   "source": [
    "### 날짜,시간 columns 병합"
   ]
  },
  {
   "cell_type": "code",
   "execution_count": 8,
   "id": "d9dbfcbd-739e-46fc-a860-3466b5ea02cb",
   "metadata": {},
   "outputs": [],
   "source": [
    "train_df['시간'] = train_df['시간'].astype('str')"
   ]
  },
  {
   "cell_type": "code",
   "execution_count": 9,
   "id": "9412a5fe-4f2b-421c-90c3-a9a67b64ec6a",
   "metadata": {},
   "outputs": [],
   "source": [
    "train_df['날짜'] = train_df['날짜'] + train_df['시간']"
   ]
  },
  {
   "cell_type": "code",
   "execution_count": 10,
   "id": "477c1db8-d6a1-4e80-9ad8-fcf04d298e2c",
   "metadata": {},
   "outputs": [],
   "source": [
    "train_df = train_df.drop(\"시간\", axis=1)"
   ]
  },
  {
   "cell_type": "code",
   "execution_count": 11,
   "id": "16ab3a39-f0da-4006-bc31-dbb29559d10f",
   "metadata": {},
   "outputs": [
    {
     "data": {
      "text/html": [
       "<div>\n",
       "<style scoped>\n",
       "    .dataframe tbody tr th:only-of-type {\n",
       "        vertical-align: middle;\n",
       "    }\n",
       "\n",
       "    .dataframe tbody tr th {\n",
       "        vertical-align: top;\n",
       "    }\n",
       "\n",
       "    .dataframe thead th {\n",
       "        text-align: right;\n",
       "    }\n",
       "</style>\n",
       "<table border=\"1\" class=\"dataframe\">\n",
       "  <thead>\n",
       "    <tr style=\"text-align: right;\">\n",
       "      <th></th>\n",
       "      <th>날짜</th>\n",
       "      <th>10</th>\n",
       "      <th>100</th>\n",
       "      <th>101</th>\n",
       "      <th>120</th>\n",
       "      <th>121</th>\n",
       "      <th>140</th>\n",
       "      <th>150</th>\n",
       "      <th>160</th>\n",
       "      <th>200</th>\n",
       "      <th>...</th>\n",
       "      <th>1020</th>\n",
       "      <th>1040</th>\n",
       "      <th>1100</th>\n",
       "      <th>1200</th>\n",
       "      <th>1510</th>\n",
       "      <th>2510</th>\n",
       "      <th>3000</th>\n",
       "      <th>4510</th>\n",
       "      <th>5510</th>\n",
       "      <th>6000</th>\n",
       "    </tr>\n",
       "  </thead>\n",
       "  <tbody>\n",
       "    <tr>\n",
       "      <th>0</th>\n",
       "      <td>202001010</td>\n",
       "      <td>83247</td>\n",
       "      <td>19128</td>\n",
       "      <td>2611</td>\n",
       "      <td>5161</td>\n",
       "      <td>1588</td>\n",
       "      <td>892</td>\n",
       "      <td>32263</td>\n",
       "      <td>1636</td>\n",
       "      <td>7938</td>\n",
       "      <td>...</td>\n",
       "      <td>1311</td>\n",
       "      <td>3482</td>\n",
       "      <td>11299</td>\n",
       "      <td>7072</td>\n",
       "      <td>1176</td>\n",
       "      <td>3810</td>\n",
       "      <td>748</td>\n",
       "      <td>3920</td>\n",
       "      <td>2133</td>\n",
       "      <td>3799</td>\n",
       "    </tr>\n",
       "    <tr>\n",
       "      <th>1</th>\n",
       "      <td>202001011</td>\n",
       "      <td>89309</td>\n",
       "      <td>19027</td>\n",
       "      <td>3337</td>\n",
       "      <td>5502</td>\n",
       "      <td>1650</td>\n",
       "      <td>1043</td>\n",
       "      <td>35609</td>\n",
       "      <td>1644</td>\n",
       "      <td>9896</td>\n",
       "      <td>...</td>\n",
       "      <td>1162</td>\n",
       "      <td>3849</td>\n",
       "      <td>13180</td>\n",
       "      <td>8771</td>\n",
       "      <td>1283</td>\n",
       "      <td>3763</td>\n",
       "      <td>782</td>\n",
       "      <td>3483</td>\n",
       "      <td>2057</td>\n",
       "      <td>4010</td>\n",
       "    </tr>\n",
       "    <tr>\n",
       "      <th>2</th>\n",
       "      <td>202001012</td>\n",
       "      <td>66611</td>\n",
       "      <td>14710</td>\n",
       "      <td>2970</td>\n",
       "      <td>4631</td>\n",
       "      <td>1044</td>\n",
       "      <td>921</td>\n",
       "      <td>26821</td>\n",
       "      <td>1104</td>\n",
       "      <td>9343</td>\n",
       "      <td>...</td>\n",
       "      <td>768</td>\n",
       "      <td>2299</td>\n",
       "      <td>7986</td>\n",
       "      <td>5426</td>\n",
       "      <td>1536</td>\n",
       "      <td>3229</td>\n",
       "      <td>491</td>\n",
       "      <td>2634</td>\n",
       "      <td>1526</td>\n",
       "      <td>3388</td>\n",
       "    </tr>\n",
       "    <tr>\n",
       "      <th>3</th>\n",
       "      <td>202001013</td>\n",
       "      <td>53290</td>\n",
       "      <td>13753</td>\n",
       "      <td>2270</td>\n",
       "      <td>4242</td>\n",
       "      <td>1021</td>\n",
       "      <td>790</td>\n",
       "      <td>21322</td>\n",
       "      <td>909</td>\n",
       "      <td>10009</td>\n",
       "      <td>...</td>\n",
       "      <td>632</td>\n",
       "      <td>1716</td>\n",
       "      <td>5703</td>\n",
       "      <td>3156</td>\n",
       "      <td>1104</td>\n",
       "      <td>2882</td>\n",
       "      <td>431</td>\n",
       "      <td>2488</td>\n",
       "      <td>1268</td>\n",
       "      <td>3686</td>\n",
       "    </tr>\n",
       "    <tr>\n",
       "      <th>4</th>\n",
       "      <td>202001014</td>\n",
       "      <td>52095</td>\n",
       "      <td>17615</td>\n",
       "      <td>2406</td>\n",
       "      <td>3689</td>\n",
       "      <td>1840</td>\n",
       "      <td>922</td>\n",
       "      <td>22711</td>\n",
       "      <td>1354</td>\n",
       "      <td>15497</td>\n",
       "      <td>...</td>\n",
       "      <td>875</td>\n",
       "      <td>2421</td>\n",
       "      <td>5816</td>\n",
       "      <td>2933</td>\n",
       "      <td>1206</td>\n",
       "      <td>2433</td>\n",
       "      <td>499</td>\n",
       "      <td>2952</td>\n",
       "      <td>1927</td>\n",
       "      <td>5608</td>\n",
       "    </tr>\n",
       "    <tr>\n",
       "      <th>...</th>\n",
       "      <td>...</td>\n",
       "      <td>...</td>\n",
       "      <td>...</td>\n",
       "      <td>...</td>\n",
       "      <td>...</td>\n",
       "      <td>...</td>\n",
       "      <td>...</td>\n",
       "      <td>...</td>\n",
       "      <td>...</td>\n",
       "      <td>...</td>\n",
       "      <td>...</td>\n",
       "      <td>...</td>\n",
       "      <td>...</td>\n",
       "      <td>...</td>\n",
       "      <td>...</td>\n",
       "      <td>...</td>\n",
       "      <td>...</td>\n",
       "      <td>...</td>\n",
       "      <td>...</td>\n",
       "      <td>...</td>\n",
       "      <td>...</td>\n",
       "    </tr>\n",
       "    <tr>\n",
       "      <th>3274</th>\n",
       "      <td>2020051719</td>\n",
       "      <td>311727</td>\n",
       "      <td>101285</td>\n",
       "      <td>10085</td>\n",
       "      <td>30637</td>\n",
       "      <td>10060</td>\n",
       "      <td>8749</td>\n",
       "      <td>148935</td>\n",
       "      <td>6801</td>\n",
       "      <td>26101</td>\n",
       "      <td>...</td>\n",
       "      <td>6726</td>\n",
       "      <td>15431</td>\n",
       "      <td>25597</td>\n",
       "      <td>14292</td>\n",
       "      <td>9300</td>\n",
       "      <td>22238</td>\n",
       "      <td>3786</td>\n",
       "      <td>16936</td>\n",
       "      <td>10729</td>\n",
       "      <td>20194</td>\n",
       "    </tr>\n",
       "    <tr>\n",
       "      <th>3275</th>\n",
       "      <td>2020051720</td>\n",
       "      <td>305354</td>\n",
       "      <td>91426</td>\n",
       "      <td>8607</td>\n",
       "      <td>26021</td>\n",
       "      <td>8095</td>\n",
       "      <td>7198</td>\n",
       "      <td>136503</td>\n",
       "      <td>6147</td>\n",
       "      <td>20759</td>\n",
       "      <td>...</td>\n",
       "      <td>5501</td>\n",
       "      <td>15378</td>\n",
       "      <td>24661</td>\n",
       "      <td>14747</td>\n",
       "      <td>8239</td>\n",
       "      <td>20604</td>\n",
       "      <td>3203</td>\n",
       "      <td>15018</td>\n",
       "      <td>9767</td>\n",
       "      <td>17962</td>\n",
       "    </tr>\n",
       "    <tr>\n",
       "      <th>3276</th>\n",
       "      <td>2020051721</td>\n",
       "      <td>306008</td>\n",
       "      <td>75113</td>\n",
       "      <td>6325</td>\n",
       "      <td>19933</td>\n",
       "      <td>5711</td>\n",
       "      <td>4494</td>\n",
       "      <td>129412</td>\n",
       "      <td>5134</td>\n",
       "      <td>14496</td>\n",
       "      <td>...</td>\n",
       "      <td>4216</td>\n",
       "      <td>12558</td>\n",
       "      <td>22781</td>\n",
       "      <td>14081</td>\n",
       "      <td>6392</td>\n",
       "      <td>17937</td>\n",
       "      <td>2447</td>\n",
       "      <td>12403</td>\n",
       "      <td>7825</td>\n",
       "      <td>14031</td>\n",
       "    </tr>\n",
       "    <tr>\n",
       "      <th>3277</th>\n",
       "      <td>2020051722</td>\n",
       "      <td>237447</td>\n",
       "      <td>49498</td>\n",
       "      <td>4209</td>\n",
       "      <td>12145</td>\n",
       "      <td>3891</td>\n",
       "      <td>2718</td>\n",
       "      <td>96698</td>\n",
       "      <td>3526</td>\n",
       "      <td>9363</td>\n",
       "      <td>...</td>\n",
       "      <td>2578</td>\n",
       "      <td>8870</td>\n",
       "      <td>16640</td>\n",
       "      <td>11066</td>\n",
       "      <td>4427</td>\n",
       "      <td>11955</td>\n",
       "      <td>1495</td>\n",
       "      <td>7507</td>\n",
       "      <td>5387</td>\n",
       "      <td>8889</td>\n",
       "    </tr>\n",
       "    <tr>\n",
       "      <th>3278</th>\n",
       "      <td>2020051723</td>\n",
       "      <td>150312</td>\n",
       "      <td>27410</td>\n",
       "      <td>2350</td>\n",
       "      <td>6406</td>\n",
       "      <td>1803</td>\n",
       "      <td>1614</td>\n",
       "      <td>55788</td>\n",
       "      <td>1849</td>\n",
       "      <td>5722</td>\n",
       "      <td>...</td>\n",
       "      <td>1377</td>\n",
       "      <td>5021</td>\n",
       "      <td>10058</td>\n",
       "      <td>7139</td>\n",
       "      <td>2250</td>\n",
       "      <td>6844</td>\n",
       "      <td>735</td>\n",
       "      <td>4116</td>\n",
       "      <td>3046</td>\n",
       "      <td>4606</td>\n",
       "    </tr>\n",
       "  </tbody>\n",
       "</table>\n",
       "<p>3279 rows × 36 columns</p>\n",
       "</div>"
      ],
      "text/plain": [
       "              날짜      10     100    101    120    121   140     150   160  \\\n",
       "0      202001010   83247   19128   2611   5161   1588   892   32263  1636   \n",
       "1      202001011   89309   19027   3337   5502   1650  1043   35609  1644   \n",
       "2      202001012   66611   14710   2970   4631   1044   921   26821  1104   \n",
       "3      202001013   53290   13753   2270   4242   1021   790   21322   909   \n",
       "4      202001014   52095   17615   2406   3689   1840   922   22711  1354   \n",
       "...          ...     ...     ...    ...    ...    ...   ...     ...   ...   \n",
       "3274  2020051719  311727  101285  10085  30637  10060  8749  148935  6801   \n",
       "3275  2020051720  305354   91426   8607  26021   8095  7198  136503  6147   \n",
       "3276  2020051721  306008   75113   6325  19933   5711  4494  129412  5134   \n",
       "3277  2020051722  237447   49498   4209  12145   3891  2718   96698  3526   \n",
       "3278  2020051723  150312   27410   2350   6406   1803  1614   55788  1849   \n",
       "\n",
       "        200  ...  1020   1040   1100   1200  1510   2510  3000   4510   5510  \\\n",
       "0      7938  ...  1311   3482  11299   7072  1176   3810   748   3920   2133   \n",
       "1      9896  ...  1162   3849  13180   8771  1283   3763   782   3483   2057   \n",
       "2      9343  ...   768   2299   7986   5426  1536   3229   491   2634   1526   \n",
       "3     10009  ...   632   1716   5703   3156  1104   2882   431   2488   1268   \n",
       "4     15497  ...   875   2421   5816   2933  1206   2433   499   2952   1927   \n",
       "...     ...  ...   ...    ...    ...    ...   ...    ...   ...    ...    ...   \n",
       "3274  26101  ...  6726  15431  25597  14292  9300  22238  3786  16936  10729   \n",
       "3275  20759  ...  5501  15378  24661  14747  8239  20604  3203  15018   9767   \n",
       "3276  14496  ...  4216  12558  22781  14081  6392  17937  2447  12403   7825   \n",
       "3277   9363  ...  2578   8870  16640  11066  4427  11955  1495   7507   5387   \n",
       "3278   5722  ...  1377   5021  10058   7139  2250   6844   735   4116   3046   \n",
       "\n",
       "       6000  \n",
       "0      3799  \n",
       "1      4010  \n",
       "2      3388  \n",
       "3      3686  \n",
       "4      5608  \n",
       "...     ...  \n",
       "3274  20194  \n",
       "3275  17962  \n",
       "3276  14031  \n",
       "3277   8889  \n",
       "3278   4606  \n",
       "\n",
       "[3279 rows x 36 columns]"
      ]
     },
     "execution_count": 11,
     "metadata": {},
     "output_type": "execute_result"
    }
   ],
   "source": [
    "train_df"
   ]
  },
  {
   "cell_type": "markdown",
   "id": "ff002c3d-9ed8-4566-89f2-199d03c3a7c6",
   "metadata": {},
   "source": [
    "### Datetime으로 변환"
   ]
  },
  {
   "cell_type": "code",
   "execution_count": 14,
   "id": "cc70e5bd-9044-40eb-9d59-e2214bfa87b3",
   "metadata": {},
   "outputs": [],
   "source": [
    "train_df['날짜']=train_df['날짜'].apply(lambda _ : datetime.strptime(_,'%Y%m%d%H'))"
   ]
  },
  {
   "cell_type": "code",
   "execution_count": null,
   "id": "3639242c-407b-405e-977d-978e4d29b7a2",
   "metadata": {},
   "outputs": [],
   "source": [
    "val_df['날짜'] = val_df['날짜'].astype('str')\n",
    "val_df['시간'] = val_df['시간'].astype('str')\n",
    "val_df['날짜'] = val_df['날짜'] + val_df['시간']\n",
    "val_df = val_df.drop(\"시간\", axis=1)\n",
    "val_df['날짜']=val_df['날짜'].apply(lambda _ : datetime.strptime(_,'%Y%m%d%H'))"
   ]
  },
  {
   "cell_type": "code",
   "execution_count": null,
   "id": "b3099849-4300-4e18-8d7e-42ddf7ba7f01",
   "metadata": {},
   "outputs": [],
   "source": [
    "test_df['날짜'] = test_df['날짜'].astype('str')\n",
    "test_df['시간'] = test_df['시간'].astype('str')\n",
    "test_df['날짜'] = test_df['날짜'] + test_df['시간']\n",
    "test_df = test_df.drop(\"시간\", axis=1)\n",
    "test_df['날짜']=test_df['날짜'].apply(lambda _ : datetime.strptime(_,'%Y%m%d%H'))"
   ]
  },
  {
   "cell_type": "markdown",
   "id": "2946bc6c-6115-41fe-861f-120013ac7492",
   "metadata": {},
   "source": [
    "### train data에 validation, test데이터 추가"
   ]
  },
  {
   "cell_type": "code",
   "execution_count": null,
   "id": "24f55dce-1cbb-4757-95f4-8cddb26c4223",
   "metadata": {},
   "outputs": [],
   "source": [
    "s_test_df = test_df[:168] #일부 DataFrame 추출\n",
    "s_test_df"
   ]
  },
  {
   "cell_type": "code",
   "execution_count": null,
   "id": "4f4b0c29-58e4-4c3f-a09e-134e14384e25",
   "metadata": {},
   "outputs": [],
   "source": [
    "train_df = pd.concat([train_df, val_df ,s_test_df]) # train + val + test\n",
    "train_df"
   ]
  },
  {
   "cell_type": "markdown",
   "id": "9ba595a6-fc69-45fc-998e-3b8bcbcfc895",
   "metadata": {
    "tags": []
   },
   "source": [
    "# Prophet 모델학습(10번 도로만 Test)"
   ]
  },
  {
   "cell_type": "code",
   "execution_count": 23,
   "id": "c448951b-5539-48d4-bd6a-59e3653f1067",
   "metadata": {},
   "outputs": [],
   "source": [
    "train_df2 = train_df[['날짜','10']] #10번도로 추출"
   ]
  },
  {
   "cell_type": "code",
   "execution_count": 25,
   "id": "3cc8e28b-4634-493d-ad8a-8633f0f95c7f",
   "metadata": {},
   "outputs": [],
   "source": [
    "train_df2.columns = ['ds','y']"
   ]
  },
  {
   "cell_type": "code",
   "execution_count": 26,
   "id": "e044205e-6d4c-4ad6-af34-c6e6a1400926",
   "metadata": {},
   "outputs": [],
   "source": [
    "model = Prophet()"
   ]
  },
  {
   "cell_type": "code",
   "execution_count": 27,
   "id": "33e92fdd-0f0b-47e9-9b81-c1d1e867c5e4",
   "metadata": {},
   "outputs": [
    {
     "name": "stderr",
     "output_type": "stream",
     "text": [
      "INFO:fbprophet:Disabling yearly seasonality. Run prophet with yearly_seasonality=True to override this.\n",
      "/opt/conda/lib/python3.8/site-packages/fbprophet/forecaster.py:891: FutureWarning: The frame.append method is deprecated and will be removed from pandas in a future version. Use pandas.concat instead.\n",
      "  components = components.append(new_comp)\n"
     ]
    },
    {
     "name": "stdout",
     "output_type": "stream",
     "text": [
      "Initial log joint probability = -141.231\n"
     ]
    },
    {
     "data": {
      "text/plain": [
       "<fbprophet.forecaster.Prophet at 0x7f969dc61c70>"
      ]
     },
     "execution_count": 27,
     "metadata": {},
     "output_type": "execute_result"
    },
    {
     "name": "stdout",
     "output_type": "stream",
     "text": [
      "    Iter      log prob        ||dx||      ||grad||       alpha      alpha0  # evals  Notes \n",
      "      99       7111.31    0.00159191       325.441      0.9087      0.9087      116   \n",
      "    Iter      log prob        ||dx||      ||grad||       alpha      alpha0  # evals  Notes \n",
      "     199       7120.65     0.0151125       607.119           1           1      237   \n",
      "    Iter      log prob        ||dx||      ||grad||       alpha      alpha0  # evals  Notes \n",
      "     225       7123.08   0.000108578       126.264    7.18e-07       0.001      317  LS failed, Hessian reset \n",
      "     299       7124.18   0.000669176       95.9236      0.7428      0.7428      415   \n",
      "    Iter      log prob        ||dx||      ||grad||       alpha      alpha0  # evals  Notes \n",
      "     399       7125.37   7.03839e-05       53.7414      0.7892      0.7892      533   \n",
      "    Iter      log prob        ||dx||      ||grad||       alpha      alpha0  # evals  Notes \n",
      "     460        7126.1   0.000180513       103.876   4.328e-07       0.001      649  LS failed, Hessian reset \n",
      "     499       7126.89   3.77668e-05       67.6315      0.4072      0.4072      697   \n",
      "    Iter      log prob        ||dx||      ||grad||       alpha      alpha0  # evals  Notes \n",
      "     599       7127.34   0.000809563       75.5149           1           1      820   \n",
      "    Iter      log prob        ||dx||      ||grad||       alpha      alpha0  # evals  Notes \n",
      "     648       7127.59   0.000288475       79.9591   3.978e-06       0.001      948  LS failed, Hessian reset \n",
      "     699       7128.11   0.000430164       56.3337      0.7284      0.7284     1003   \n",
      "    Iter      log prob        ||dx||      ||grad||       alpha      alpha0  # evals  Notes \n",
      "     716       7128.18   7.84655e-05       89.8297   5.461e-07       0.001     1070  LS failed, Hessian reset \n",
      "     798       7128.31    0.00020503       139.865   2.422e-06       0.001     1222  LS failed, Hessian reset \n",
      "     799       7128.32    0.00014036       54.8118           1           1     1223   \n",
      "    Iter      log prob        ||dx||      ||grad||       alpha      alpha0  # evals  Notes \n",
      "     853       7128.37   2.29235e-06        49.084    3.15e-08       0.001     1345  LS failed, Hessian reset \n",
      "     856       7128.37   3.54805e-07       60.6519      0.9022      0.9022     1348   \n",
      "Optimization terminated normally: \n",
      "  Convergence detected: relative gradient magnitude is below tolerance\n"
     ]
    }
   ],
   "source": [
    "model.fit(train_df2)"
   ]
  },
  {
   "cell_type": "markdown",
   "id": "82db5e09-7927-4bae-bce7-40f7c7d852b1",
   "metadata": {},
   "source": [
    "### Visualization"
   ]
  },
  {
   "cell_type": "code",
   "execution_count": 28,
   "id": "245f3a8c-ebaf-43db-b5d1-80bd1febde9c",
   "metadata": {},
   "outputs": [
    {
     "name": "stderr",
     "output_type": "stream",
     "text": [
      "/opt/conda/lib/python3.8/site-packages/fbprophet/forecaster.py:891: FutureWarning: The frame.append method is deprecated and will be removed from pandas in a future version. Use pandas.concat instead.\n",
      "  components = components.append(new_comp)\n",
      "/opt/conda/lib/python3.8/site-packages/fbprophet/forecaster.py:891: FutureWarning: The frame.append method is deprecated and will be removed from pandas in a future version. Use pandas.concat instead.\n",
      "  components = components.append(new_comp)\n"
     ]
    },
    {
     "data": {
      "image/png": "[encoded data removed]",
      "text/plain": [
       "<Figure size 720x432 with 1 Axes>"
      ]
     },
     "metadata": {},
     "output_type": "display_data"
    }
   ],
   "source": [
    "future = model.make_future_dataframe(periods = 1464, freq = 'H')\n",
    "fcst = model.predict(future)\n",
    "fig = model.plot(fcst)"
   ]
  },
  {
   "cell_type": "code",
   "execution_count": 34,
   "id": "6c19efd1-7758-4d09-a0fe-81ea09e55c30",
   "metadata": {},
   "outputs": [
    {
     "data": {
      "text/html": [
       "<div>\n",
       "<style scoped>\n",
       "    .dataframe tbody tr th:only-of-type {\n",
       "        vertical-align: middle;\n",
       "    }\n",
       "\n",
       "    .dataframe tbody tr th {\n",
       "        vertical-align: top;\n",
       "    }\n",
       "\n",
       "    .dataframe thead th {\n",
       "        text-align: right;\n",
       "    }\n",
       "</style>\n",
       "<table border=\"1\" class=\"dataframe\">\n",
       "  <thead>\n",
       "    <tr style=\"text-align: right;\">\n",
       "      <th></th>\n",
       "      <th>ds</th>\n",
       "      <th>trend</th>\n",
       "      <th>yhat_lower</th>\n",
       "      <th>yhat_upper</th>\n",
       "      <th>trend_lower</th>\n",
       "      <th>trend_upper</th>\n",
       "      <th>additive_terms</th>\n",
       "      <th>additive_terms_lower</th>\n",
       "      <th>additive_terms_upper</th>\n",
       "      <th>daily</th>\n",
       "      <th>daily_lower</th>\n",
       "      <th>daily_upper</th>\n",
       "      <th>weekly</th>\n",
       "      <th>weekly_lower</th>\n",
       "      <th>weekly_upper</th>\n",
       "      <th>multiplicative_terms</th>\n",
       "      <th>multiplicative_terms_lower</th>\n",
       "      <th>multiplicative_terms_upper</th>\n",
       "      <th>yhat</th>\n",
       "    </tr>\n",
       "  </thead>\n",
       "  <tbody>\n",
       "    <tr>\n",
       "      <th>0</th>\n",
       "      <td>2020-01-01 00:00:00</td>\n",
       "      <td>218020.048702</td>\n",
       "      <td>12460.683465</td>\n",
       "      <td>115249.897997</td>\n",
       "      <td>218020.048702</td>\n",
       "      <td>218020.048702</td>\n",
       "      <td>-151550.666423</td>\n",
       "      <td>-151550.666423</td>\n",
       "      <td>-151550.666423</td>\n",
       "      <td>-141490.096711</td>\n",
       "      <td>-141490.096711</td>\n",
       "      <td>-141490.096711</td>\n",
       "      <td>-10060.569712</td>\n",
       "      <td>-10060.569712</td>\n",
       "      <td>-10060.569712</td>\n",
       "      <td>0.0</td>\n",
       "      <td>0.0</td>\n",
       "      <td>0.0</td>\n",
       "      <td>66469.382279</td>\n",
       "    </tr>\n",
       "    <tr>\n",
       "      <th>1</th>\n",
       "      <td>2020-01-01 01:00:00</td>\n",
       "      <td>218140.383714</td>\n",
       "      <td>-16953.563314</td>\n",
       "      <td>88299.497702</td>\n",
       "      <td>218140.383714</td>\n",
       "      <td>218140.383714</td>\n",
       "      <td>-185018.570962</td>\n",
       "      <td>-185018.570962</td>\n",
       "      <td>-185018.570962</td>\n",
       "      <td>-176032.786756</td>\n",
       "      <td>-176032.786756</td>\n",
       "      <td>-176032.786756</td>\n",
       "      <td>-8985.784206</td>\n",
       "      <td>-8985.784206</td>\n",
       "      <td>-8985.784206</td>\n",
       "      <td>0.0</td>\n",
       "      <td>0.0</td>\n",
       "      <td>0.0</td>\n",
       "      <td>33121.812752</td>\n",
       "    </tr>\n",
       "    <tr>\n",
       "      <th>2</th>\n",
       "      <td>2020-01-01 02:00:00</td>\n",
       "      <td>218260.718725</td>\n",
       "      <td>-38438.658089</td>\n",
       "      <td>63935.869272</td>\n",
       "      <td>218260.718725</td>\n",
       "      <td>218260.718725</td>\n",
       "      <td>-205000.793856</td>\n",
       "      <td>-205000.793856</td>\n",
       "      <td>-205000.793856</td>\n",
       "      <td>-197110.555484</td>\n",
       "      <td>-197110.555484</td>\n",
       "      <td>-197110.555484</td>\n",
       "      <td>-7890.238372</td>\n",
       "      <td>-7890.238372</td>\n",
       "      <td>-7890.238372</td>\n",
       "      <td>0.0</td>\n",
       "      <td>0.0</td>\n",
       "      <td>0.0</td>\n",
       "      <td>13259.924869</td>\n",
       "    </tr>\n",
       "    <tr>\n",
       "      <th>3</th>\n",
       "      <td>2020-01-01 03:00:00</td>\n",
       "      <td>218381.053737</td>\n",
       "      <td>-32106.641938</td>\n",
       "      <td>72146.963155</td>\n",
       "      <td>218381.053737</td>\n",
       "      <td>218381.053737</td>\n",
       "      <td>-200618.877538</td>\n",
       "      <td>-200618.877538</td>\n",
       "      <td>-200618.877538</td>\n",
       "      <td>-193828.670361</td>\n",
       "      <td>-193828.670361</td>\n",
       "      <td>-193828.670361</td>\n",
       "      <td>-6790.207177</td>\n",
       "      <td>-6790.207177</td>\n",
       "      <td>-6790.207177</td>\n",
       "      <td>0.0</td>\n",
       "      <td>0.0</td>\n",
       "      <td>0.0</td>\n",
       "      <td>17762.176199</td>\n",
       "    </tr>\n",
       "    <tr>\n",
       "      <th>4</th>\n",
       "      <td>2020-01-01 04:00:00</td>\n",
       "      <td>218501.388748</td>\n",
       "      <td>-721.429028</td>\n",
       "      <td>105177.311748</td>\n",
       "      <td>218501.388748</td>\n",
       "      <td>218501.388748</td>\n",
       "      <td>-167104.534971</td>\n",
       "      <td>-167104.534971</td>\n",
       "      <td>-167104.534971</td>\n",
       "      <td>-161402.868337</td>\n",
       "      <td>-161402.868337</td>\n",
       "      <td>-161402.868337</td>\n",
       "      <td>-5701.666634</td>\n",
       "      <td>-5701.666634</td>\n",
       "      <td>-5701.666634</td>\n",
       "      <td>0.0</td>\n",
       "      <td>0.0</td>\n",
       "      <td>0.0</td>\n",
       "      <td>51396.853777</td>\n",
       "    </tr>\n",
       "    <tr>\n",
       "      <th>...</th>\n",
       "      <td>...</td>\n",
       "      <td>...</td>\n",
       "      <td>...</td>\n",
       "      <td>...</td>\n",
       "      <td>...</td>\n",
       "      <td>...</td>\n",
       "      <td>...</td>\n",
       "      <td>...</td>\n",
       "      <td>...</td>\n",
       "      <td>...</td>\n",
       "      <td>...</td>\n",
       "      <td>...</td>\n",
       "      <td>...</td>\n",
       "      <td>...</td>\n",
       "      <td>...</td>\n",
       "      <td>...</td>\n",
       "      <td>...</td>\n",
       "      <td>...</td>\n",
       "      <td>...</td>\n",
       "    </tr>\n",
       "    <tr>\n",
       "      <th>4738</th>\n",
       "      <td>2020-07-17 19:00:00</td>\n",
       "      <td>271168.155908</td>\n",
       "      <td>259711.304828</td>\n",
       "      <td>461897.039715</td>\n",
       "      <td>187394.978511</td>\n",
       "      <td>353607.600633</td>\n",
       "      <td>92301.510801</td>\n",
       "      <td>92301.510801</td>\n",
       "      <td>92301.510801</td>\n",
       "      <td>61641.601781</td>\n",
       "      <td>61641.601781</td>\n",
       "      <td>61641.601781</td>\n",
       "      <td>30659.909019</td>\n",
       "      <td>30659.909019</td>\n",
       "      <td>30659.909019</td>\n",
       "      <td>0.0</td>\n",
       "      <td>0.0</td>\n",
       "      <td>0.0</td>\n",
       "      <td>363469.666709</td>\n",
       "    </tr>\n",
       "    <tr>\n",
       "      <th>4739</th>\n",
       "      <td>2020-07-17 20:00:00</td>\n",
       "      <td>271185.037584</td>\n",
       "      <td>220311.895172</td>\n",
       "      <td>413631.105195</td>\n",
       "      <td>187283.686230</td>\n",
       "      <td>353710.653787</td>\n",
       "      <td>47763.367671</td>\n",
       "      <td>47763.367671</td>\n",
       "      <td>47763.367671</td>\n",
       "      <td>17495.304860</td>\n",
       "      <td>17495.304860</td>\n",
       "      <td>17495.304860</td>\n",
       "      <td>30268.062811</td>\n",
       "      <td>30268.062811</td>\n",
       "      <td>30268.062811</td>\n",
       "      <td>0.0</td>\n",
       "      <td>0.0</td>\n",
       "      <td>0.0</td>\n",
       "      <td>318948.405255</td>\n",
       "    </tr>\n",
       "    <tr>\n",
       "      <th>4740</th>\n",
       "      <td>2020-07-17 21:00:00</td>\n",
       "      <td>271201.919260</td>\n",
       "      <td>178518.311968</td>\n",
       "      <td>369182.457797</td>\n",
       "      <td>187178.665058</td>\n",
       "      <td>353813.706941</td>\n",
       "      <td>4148.267540</td>\n",
       "      <td>4148.267540</td>\n",
       "      <td>4148.267540</td>\n",
       "      <td>-25490.097838</td>\n",
       "      <td>-25490.097838</td>\n",
       "      <td>-25490.097838</td>\n",
       "      <td>29638.365378</td>\n",
       "      <td>29638.365378</td>\n",
       "      <td>29638.365378</td>\n",
       "      <td>0.0</td>\n",
       "      <td>0.0</td>\n",
       "      <td>0.0</td>\n",
       "      <td>275350.186800</td>\n",
       "    </tr>\n",
       "    <tr>\n",
       "      <th>4741</th>\n",
       "      <td>2020-07-17 22:00:00</td>\n",
       "      <td>271218.800936</td>\n",
       "      <td>134358.858858</td>\n",
       "      <td>337848.401506</td>\n",
       "      <td>187075.057346</td>\n",
       "      <td>353916.760095</td>\n",
       "      <td>-36321.642616</td>\n",
       "      <td>-36321.642616</td>\n",
       "      <td>-36321.642616</td>\n",
       "      <td>-65093.634253</td>\n",
       "      <td>-65093.634253</td>\n",
       "      <td>-65093.634253</td>\n",
       "      <td>28771.991637</td>\n",
       "      <td>28771.991637</td>\n",
       "      <td>28771.991637</td>\n",
       "      <td>0.0</td>\n",
       "      <td>0.0</td>\n",
       "      <td>0.0</td>\n",
       "      <td>234897.158320</td>\n",
       "    </tr>\n",
       "    <tr>\n",
       "      <th>4742</th>\n",
       "      <td>2020-07-17 23:00:00</td>\n",
       "      <td>271235.682612</td>\n",
       "      <td>94481.135530</td>\n",
       "      <td>291732.159810</td>\n",
       "      <td>186971.449635</td>\n",
       "      <td>354019.813248</td>\n",
       "      <td>-75578.971929</td>\n",
       "      <td>-75578.971929</td>\n",
       "      <td>-75578.971929</td>\n",
       "      <td>-103251.650102</td>\n",
       "      <td>-103251.650102</td>\n",
       "      <td>-103251.650102</td>\n",
       "      <td>27672.678172</td>\n",
       "      <td>27672.678172</td>\n",
       "      <td>27672.678172</td>\n",
       "      <td>0.0</td>\n",
       "      <td>0.0</td>\n",
       "      <td>0.0</td>\n",
       "      <td>195656.710683</td>\n",
       "    </tr>\n",
       "  </tbody>\n",
       "</table>\n",
       "<p>4743 rows × 19 columns</p>\n",
       "</div>"
      ],
      "text/plain": [
       "                      ds          trend     yhat_lower     yhat_upper  \\\n",
       "0    2020-01-01 00:00:00  218020.048702   12460.683465  115249.897997   \n",
       "1    2020-01-01 01:00:00  218140.383714  -16953.563314   88299.497702   \n",
       "2    2020-01-01 02:00:00  218260.718725  -38438.658089   63935.869272   \n",
       "3    2020-01-01 03:00:00  218381.053737  -32106.641938   72146.963155   \n",
       "4    2020-01-01 04:00:00  218501.388748    -721.429028  105177.311748   \n",
       "...                  ...            ...            ...            ...   \n",
       "4738 2020-07-17 19:00:00  271168.155908  259711.304828  461897.039715   \n",
       "4739 2020-07-17 20:00:00  271185.037584  220311.895172  413631.105195   \n",
       "4740 2020-07-17 21:00:00  271201.919260  178518.311968  369182.457797   \n",
       "4741 2020-07-17 22:00:00  271218.800936  134358.858858  337848.401506   \n",
       "4742 2020-07-17 23:00:00  271235.682612   94481.135530  291732.159810   \n",
       "\n",
       "        trend_lower    trend_upper  additive_terms  additive_terms_lower  \\\n",
       "0     218020.048702  218020.048702  -151550.666423        -151550.666423   \n",
       "1     218140.383714  218140.383714  -185018.570962        -185018.570962   \n",
       "2     218260.718725  218260.718725  -205000.793856        -205000.793856   \n",
       "3     218381.053737  218381.053737  -200618.877538        -200618.877538   \n",
       "4     218501.388748  218501.388748  -167104.534971        -167104.534971   \n",
       "...             ...            ...             ...                   ...   \n",
       "4738  187394.978511  353607.600633    92301.510801          92301.510801   \n",
       "4739  187283.686230  353710.653787    47763.367671          47763.367671   \n",
       "4740  187178.665058  353813.706941     4148.267540           4148.267540   \n",
       "4741  187075.057346  353916.760095   -36321.642616         -36321.642616   \n",
       "4742  186971.449635  354019.813248   -75578.971929         -75578.971929   \n",
       "\n",
       "      additive_terms_upper          daily    daily_lower    daily_upper  \\\n",
       "0           -151550.666423 -141490.096711 -141490.096711 -141490.096711   \n",
       "1           -185018.570962 -176032.786756 -176032.786756 -176032.786756   \n",
       "2           -205000.793856 -197110.555484 -197110.555484 -197110.555484   \n",
       "3           -200618.877538 -193828.670361 -193828.670361 -193828.670361   \n",
       "4           -167104.534971 -161402.868337 -161402.868337 -161402.868337   \n",
       "...                    ...            ...            ...            ...   \n",
       "4738          92301.510801   61641.601781   61641.601781   61641.601781   \n",
       "4739          47763.367671   17495.304860   17495.304860   17495.304860   \n",
       "4740           4148.267540  -25490.097838  -25490.097838  -25490.097838   \n",
       "4741         -36321.642616  -65093.634253  -65093.634253  -65093.634253   \n",
       "4742         -75578.971929 -103251.650102 -103251.650102 -103251.650102   \n",
       "\n",
       "            weekly  weekly_lower  weekly_upper  multiplicative_terms  \\\n",
       "0    -10060.569712 -10060.569712 -10060.569712                   0.0   \n",
       "1     -8985.784206  -8985.784206  -8985.784206                   0.0   \n",
       "2     -7890.238372  -7890.238372  -7890.238372                   0.0   \n",
       "3     -6790.207177  -6790.207177  -6790.207177                   0.0   \n",
       "4     -5701.666634  -5701.666634  -5701.666634                   0.0   \n",
       "...            ...           ...           ...                   ...   \n",
       "4738  30659.909019  30659.909019  30659.909019                   0.0   \n",
       "4739  30268.062811  30268.062811  30268.062811                   0.0   \n",
       "4740  29638.365378  29638.365378  29638.365378                   0.0   \n",
       "4741  28771.991637  28771.991637  28771.991637                   0.0   \n",
       "4742  27672.678172  27672.678172  27672.678172                   0.0   \n",
       "\n",
       "      multiplicative_terms_lower  multiplicative_terms_upper           yhat  \n",
       "0                            0.0                         0.0   66469.382279  \n",
       "1                            0.0                         0.0   33121.812752  \n",
       "2                            0.0                         0.0   13259.924869  \n",
       "3                            0.0                         0.0   17762.176199  \n",
       "4                            0.0                         0.0   51396.853777  \n",
       "...                          ...                         ...            ...  \n",
       "4738                         0.0                         0.0  363469.666709  \n",
       "4739                         0.0                         0.0  318948.405255  \n",
       "4740                         0.0                         0.0  275350.186800  \n",
       "4741                         0.0                         0.0  234897.158320  \n",
       "4742                         0.0                         0.0  195656.710683  \n",
       "\n",
       "[4743 rows x 19 columns]"
      ]
     },
     "execution_count": 34,
     "metadata": {},
     "output_type": "execute_result"
    }
   ],
   "source": [
    "fcst"
   ]
  },
  {
   "cell_type": "markdown",
   "id": "b5dd1326-cbec-41ba-adf2-ef3ce0697fc8",
   "metadata": {},
   "source": [
    "### 예측데이터 확인"
   ]
  },
  {
   "cell_type": "code",
   "execution_count": 45,
   "id": "f7739cc5-43ba-42d0-ad8e-a38d3b721af9",
   "metadata": {},
   "outputs": [],
   "source": [
    "pred = fcst.query(\"ds >= '2020-05-25' and ds <='2020-05-31 23:00'\")\n",
    "pred_yhat = pred.loc[:,[\"ds\",\"yhat\"]]"
   ]
  },
  {
   "cell_type": "code",
   "execution_count": null,
   "id": "9f04a514-d831-41c3-83da-eb9f4486aca3",
   "metadata": {},
   "outputs": [],
   "source": [
    "pred_df = fcst.iloc[3447:3615]\n",
    "pred_yhat = pred_df.loc[:,[\"ds\",\"yhat\"]]"
   ]
  },
  {
   "cell_type": "code",
   "execution_count": 93,
   "id": "65e6599f-5af5-4ec3-a20a-5244611ec996",
   "metadata": {},
   "outputs": [
    {
     "data": {
      "text/html": [
       "<div>\n",
       "<style scoped>\n",
       "    .dataframe tbody tr th:only-of-type {\n",
       "        vertical-align: middle;\n",
       "    }\n",
       "\n",
       "    .dataframe tbody tr th {\n",
       "        vertical-align: top;\n",
       "    }\n",
       "\n",
       "    .dataframe thead th {\n",
       "        text-align: right;\n",
       "    }\n",
       "</style>\n",
       "<table border=\"1\" class=\"dataframe\">\n",
       "  <thead>\n",
       "    <tr style=\"text-align: right;\">\n",
       "      <th></th>\n",
       "      <th>ds</th>\n",
       "      <th>trend</th>\n",
       "      <th>yhat_lower</th>\n",
       "      <th>yhat_upper</th>\n",
       "      <th>trend_lower</th>\n",
       "      <th>trend_upper</th>\n",
       "      <th>additive_terms</th>\n",
       "      <th>additive_terms_lower</th>\n",
       "      <th>additive_terms_upper</th>\n",
       "      <th>daily</th>\n",
       "      <th>daily_lower</th>\n",
       "      <th>daily_upper</th>\n",
       "      <th>weekly</th>\n",
       "      <th>weekly_lower</th>\n",
       "      <th>weekly_upper</th>\n",
       "      <th>multiplicative_terms</th>\n",
       "      <th>multiplicative_terms_lower</th>\n",
       "      <th>multiplicative_terms_upper</th>\n",
       "      <th>yhat</th>\n",
       "    </tr>\n",
       "  </thead>\n",
       "  <tbody>\n",
       "    <tr>\n",
       "      <th>3447</th>\n",
       "      <td>2020-05-25 00:00:00</td>\n",
       "      <td>249373.912272</td>\n",
       "      <td>62948.168529</td>\n",
       "      <td>161605.551392</td>\n",
       "      <td>246495.636093</td>\n",
       "      <td>252373.141845</td>\n",
       "      <td>-135430.692109</td>\n",
       "      <td>-135430.692109</td>\n",
       "      <td>-135430.692109</td>\n",
       "      <td>-141490.096711</td>\n",
       "      <td>-141490.096711</td>\n",
       "      <td>-141490.096711</td>\n",
       "      <td>6059.404602</td>\n",
       "      <td>6059.404602</td>\n",
       "      <td>6059.404602</td>\n",
       "      <td>0.0</td>\n",
       "      <td>0.0</td>\n",
       "      <td>0.0</td>\n",
       "      <td>113943.220163</td>\n",
       "    </tr>\n",
       "    <tr>\n",
       "      <th>3448</th>\n",
       "      <td>2020-05-25 01:00:00</td>\n",
       "      <td>249390.793948</td>\n",
       "      <td>31701.452869</td>\n",
       "      <td>133750.941586</td>\n",
       "      <td>246490.772068</td>\n",
       "      <td>252417.400583</td>\n",
       "      <td>-168289.726366</td>\n",
       "      <td>-168289.726366</td>\n",
       "      <td>-168289.726366</td>\n",
       "      <td>-176032.786756</td>\n",
       "      <td>-176032.786756</td>\n",
       "      <td>-176032.786756</td>\n",
       "      <td>7743.060390</td>\n",
       "      <td>7743.060390</td>\n",
       "      <td>7743.060390</td>\n",
       "      <td>0.0</td>\n",
       "      <td>0.0</td>\n",
       "      <td>0.0</td>\n",
       "      <td>81101.067582</td>\n",
       "    </tr>\n",
       "    <tr>\n",
       "      <th>3449</th>\n",
       "      <td>2020-05-25 02:00:00</td>\n",
       "      <td>249407.675624</td>\n",
       "      <td>11144.085197</td>\n",
       "      <td>113457.444880</td>\n",
       "      <td>246485.908044</td>\n",
       "      <td>252472.010242</td>\n",
       "      <td>-187840.428170</td>\n",
       "      <td>-187840.428170</td>\n",
       "      <td>-187840.428170</td>\n",
       "      <td>-197110.555484</td>\n",
       "      <td>-197110.555484</td>\n",
       "      <td>-197110.555484</td>\n",
       "      <td>9270.127314</td>\n",
       "      <td>9270.127314</td>\n",
       "      <td>9270.127314</td>\n",
       "      <td>0.0</td>\n",
       "      <td>0.0</td>\n",
       "      <td>0.0</td>\n",
       "      <td>61567.247454</td>\n",
       "    </tr>\n",
       "    <tr>\n",
       "      <th>3450</th>\n",
       "      <td>2020-05-25 03:00:00</td>\n",
       "      <td>249424.557300</td>\n",
       "      <td>15815.775707</td>\n",
       "      <td>116852.459698</td>\n",
       "      <td>246481.044020</td>\n",
       "      <td>252514.404671</td>\n",
       "      <td>-183202.879623</td>\n",
       "      <td>-183202.879623</td>\n",
       "      <td>-183202.879623</td>\n",
       "      <td>-193828.670362</td>\n",
       "      <td>-193828.670362</td>\n",
       "      <td>-193828.670362</td>\n",
       "      <td>10625.790739</td>\n",
       "      <td>10625.790739</td>\n",
       "      <td>10625.790739</td>\n",
       "      <td>0.0</td>\n",
       "      <td>0.0</td>\n",
       "      <td>0.0</td>\n",
       "      <td>66221.677677</td>\n",
       "    </tr>\n",
       "    <tr>\n",
       "      <th>3451</th>\n",
       "      <td>2020-05-25 04:00:00</td>\n",
       "      <td>249441.438976</td>\n",
       "      <td>45832.680004</td>\n",
       "      <td>150258.748340</td>\n",
       "      <td>246467.513546</td>\n",
       "      <td>252555.772387</td>\n",
       "      <td>-149605.469198</td>\n",
       "      <td>-149605.469198</td>\n",
       "      <td>-149605.469198</td>\n",
       "      <td>-161402.868337</td>\n",
       "      <td>-161402.868337</td>\n",
       "      <td>-161402.868337</td>\n",
       "      <td>11797.399139</td>\n",
       "      <td>11797.399139</td>\n",
       "      <td>11797.399139</td>\n",
       "      <td>0.0</td>\n",
       "      <td>0.0</td>\n",
       "      <td>0.0</td>\n",
       "      <td>99835.969778</td>\n",
       "    </tr>\n",
       "    <tr>\n",
       "      <th>...</th>\n",
       "      <td>...</td>\n",
       "      <td>...</td>\n",
       "      <td>...</td>\n",
       "      <td>...</td>\n",
       "      <td>...</td>\n",
       "      <td>...</td>\n",
       "      <td>...</td>\n",
       "      <td>...</td>\n",
       "      <td>...</td>\n",
       "      <td>...</td>\n",
       "      <td>...</td>\n",
       "      <td>...</td>\n",
       "      <td>...</td>\n",
       "      <td>...</td>\n",
       "      <td>...</td>\n",
       "      <td>...</td>\n",
       "      <td>...</td>\n",
       "      <td>...</td>\n",
       "      <td>...</td>\n",
       "    </tr>\n",
       "    <tr>\n",
       "      <th>3610</th>\n",
       "      <td>2020-05-31 19:00:00</td>\n",
       "      <td>252125.625450</td>\n",
       "      <td>254870.611035</td>\n",
       "      <td>363905.707082</td>\n",
       "      <td>243663.173634</td>\n",
       "      <td>261244.984717</td>\n",
       "      <td>57582.599875</td>\n",
       "      <td>57582.599875</td>\n",
       "      <td>57582.599875</td>\n",
       "      <td>61641.601780</td>\n",
       "      <td>61641.601780</td>\n",
       "      <td>61641.601780</td>\n",
       "      <td>-4059.001905</td>\n",
       "      <td>-4059.001905</td>\n",
       "      <td>-4059.001905</td>\n",
       "      <td>0.0</td>\n",
       "      <td>0.0</td>\n",
       "      <td>0.0</td>\n",
       "      <td>309708.225326</td>\n",
       "    </tr>\n",
       "    <tr>\n",
       "      <th>3611</th>\n",
       "      <td>2020-05-31 20:00:00</td>\n",
       "      <td>252142.507126</td>\n",
       "      <td>216328.295071</td>\n",
       "      <td>320474.738261</td>\n",
       "      <td>243644.717016</td>\n",
       "      <td>261306.801453</td>\n",
       "      <td>15616.983430</td>\n",
       "      <td>15616.983430</td>\n",
       "      <td>15616.983430</td>\n",
       "      <td>17495.304860</td>\n",
       "      <td>17495.304860</td>\n",
       "      <td>17495.304860</td>\n",
       "      <td>-1878.321430</td>\n",
       "      <td>-1878.321430</td>\n",
       "      <td>-1878.321430</td>\n",
       "      <td>0.0</td>\n",
       "      <td>0.0</td>\n",
       "      <td>0.0</td>\n",
       "      <td>267759.490556</td>\n",
       "    </tr>\n",
       "    <tr>\n",
       "      <th>3612</th>\n",
       "      <td>2020-05-31 21:00:00</td>\n",
       "      <td>252159.388802</td>\n",
       "      <td>175494.272185</td>\n",
       "      <td>278403.361551</td>\n",
       "      <td>243616.209834</td>\n",
       "      <td>261361.448943</td>\n",
       "      <td>-25243.972967</td>\n",
       "      <td>-25243.972967</td>\n",
       "      <td>-25243.972967</td>\n",
       "      <td>-25490.097838</td>\n",
       "      <td>-25490.097838</td>\n",
       "      <td>-25490.097838</td>\n",
       "      <td>246.124872</td>\n",
       "      <td>246.124872</td>\n",
       "      <td>246.124872</td>\n",
       "      <td>0.0</td>\n",
       "      <td>0.0</td>\n",
       "      <td>0.0</td>\n",
       "      <td>226915.415835</td>\n",
       "    </tr>\n",
       "    <tr>\n",
       "      <th>3613</th>\n",
       "      <td>2020-05-31 22:00:00</td>\n",
       "      <td>252176.270478</td>\n",
       "      <td>134964.527183</td>\n",
       "      <td>238987.381451</td>\n",
       "      <td>243587.702652</td>\n",
       "      <td>261403.869568</td>\n",
       "      <td>-62802.172676</td>\n",
       "      <td>-62802.172676</td>\n",
       "      <td>-62802.172676</td>\n",
       "      <td>-65093.634253</td>\n",
       "      <td>-65093.634253</td>\n",
       "      <td>-65093.634253</td>\n",
       "      <td>2291.461578</td>\n",
       "      <td>2291.461578</td>\n",
       "      <td>2291.461578</td>\n",
       "      <td>0.0</td>\n",
       "      <td>0.0</td>\n",
       "      <td>0.0</td>\n",
       "      <td>189374.097802</td>\n",
       "    </tr>\n",
       "    <tr>\n",
       "      <th>3614</th>\n",
       "      <td>2020-05-31 23:00:00</td>\n",
       "      <td>252193.152154</td>\n",
       "      <td>99312.574169</td>\n",
       "      <td>205047.672453</td>\n",
       "      <td>243559.195470</td>\n",
       "      <td>261431.706120</td>\n",
       "      <td>-99015.664711</td>\n",
       "      <td>-99015.664711</td>\n",
       "      <td>-99015.664711</td>\n",
       "      <td>-103251.650100</td>\n",
       "      <td>-103251.650100</td>\n",
       "      <td>-103251.650100</td>\n",
       "      <td>4235.985389</td>\n",
       "      <td>4235.985389</td>\n",
       "      <td>4235.985389</td>\n",
       "      <td>0.0</td>\n",
       "      <td>0.0</td>\n",
       "      <td>0.0</td>\n",
       "      <td>153177.487443</td>\n",
       "    </tr>\n",
       "  </tbody>\n",
       "</table>\n",
       "<p>168 rows × 19 columns</p>\n",
       "</div>"
      ],
      "text/plain": [
       "                      ds          trend     yhat_lower     yhat_upper  \\\n",
       "3447 2020-05-25 00:00:00  249373.912272   62948.168529  161605.551392   \n",
       "3448 2020-05-25 01:00:00  249390.793948   31701.452869  133750.941586   \n",
       "3449 2020-05-25 02:00:00  249407.675624   11144.085197  113457.444880   \n",
       "3450 2020-05-25 03:00:00  249424.557300   15815.775707  116852.459698   \n",
       "3451 2020-05-25 04:00:00  249441.438976   45832.680004  150258.748340   \n",
       "...                  ...            ...            ...            ...   \n",
       "3610 2020-05-31 19:00:00  252125.625450  254870.611035  363905.707082   \n",
       "3611 2020-05-31 20:00:00  252142.507126  216328.295071  320474.738261   \n",
       "3612 2020-05-31 21:00:00  252159.388802  175494.272185  278403.361551   \n",
       "3613 2020-05-31 22:00:00  252176.270478  134964.527183  238987.381451   \n",
       "3614 2020-05-31 23:00:00  252193.152154   99312.574169  205047.672453   \n",
       "\n",
       "        trend_lower    trend_upper  additive_terms  additive_terms_lower  \\\n",
       "3447  246495.636093  252373.141845  -135430.692109        -135430.692109   \n",
       "3448  246490.772068  252417.400583  -168289.726366        -168289.726366   \n",
       "3449  246485.908044  252472.010242  -187840.428170        -187840.428170   \n",
       "3450  246481.044020  252514.404671  -183202.879623        -183202.879623   \n",
       "3451  246467.513546  252555.772387  -149605.469198        -149605.469198   \n",
       "...             ...            ...             ...                   ...   \n",
       "3610  243663.173634  261244.984717    57582.599875          57582.599875   \n",
       "3611  243644.717016  261306.801453    15616.983430          15616.983430   \n",
       "3612  243616.209834  261361.448943   -25243.972967         -25243.972967   \n",
       "3613  243587.702652  261403.869568   -62802.172676         -62802.172676   \n",
       "3614  243559.195470  261431.706120   -99015.664711         -99015.664711   \n",
       "\n",
       "      additive_terms_upper          daily    daily_lower    daily_upper  \\\n",
       "3447        -135430.692109 -141490.096711 -141490.096711 -141490.096711   \n",
       "3448        -168289.726366 -176032.786756 -176032.786756 -176032.786756   \n",
       "3449        -187840.428170 -197110.555484 -197110.555484 -197110.555484   \n",
       "3450        -183202.879623 -193828.670362 -193828.670362 -193828.670362   \n",
       "3451        -149605.469198 -161402.868337 -161402.868337 -161402.868337   \n",
       "...                    ...            ...            ...            ...   \n",
       "3610          57582.599875   61641.601780   61641.601780   61641.601780   \n",
       "3611          15616.983430   17495.304860   17495.304860   17495.304860   \n",
       "3612         -25243.972967  -25490.097838  -25490.097838  -25490.097838   \n",
       "3613         -62802.172676  -65093.634253  -65093.634253  -65093.634253   \n",
       "3614         -99015.664711 -103251.650100 -103251.650100 -103251.650100   \n",
       "\n",
       "            weekly  weekly_lower  weekly_upper  multiplicative_terms  \\\n",
       "3447   6059.404602   6059.404602   6059.404602                   0.0   \n",
       "3448   7743.060390   7743.060390   7743.060390                   0.0   \n",
       "3449   9270.127314   9270.127314   9270.127314                   0.0   \n",
       "3450  10625.790739  10625.790739  10625.790739                   0.0   \n",
       "3451  11797.399139  11797.399139  11797.399139                   0.0   \n",
       "...            ...           ...           ...                   ...   \n",
       "3610  -4059.001905  -4059.001905  -4059.001905                   0.0   \n",
       "3611  -1878.321430  -1878.321430  -1878.321430                   0.0   \n",
       "3612    246.124872    246.124872    246.124872                   0.0   \n",
       "3613   2291.461578   2291.461578   2291.461578                   0.0   \n",
       "3614   4235.985389   4235.985389   4235.985389                   0.0   \n",
       "\n",
       "      multiplicative_terms_lower  multiplicative_terms_upper           yhat  \n",
       "3447                         0.0                         0.0  113943.220163  \n",
       "3448                         0.0                         0.0   81101.067582  \n",
       "3449                         0.0                         0.0   61567.247454  \n",
       "3450                         0.0                         0.0   66221.677677  \n",
       "3451                         0.0                         0.0   99835.969778  \n",
       "...                          ...                         ...            ...  \n",
       "3610                         0.0                         0.0  309708.225326  \n",
       "3611                         0.0                         0.0  267759.490556  \n",
       "3612                         0.0                         0.0  226915.415835  \n",
       "3613                         0.0                         0.0  189374.097802  \n",
       "3614                         0.0                         0.0  153177.487443  \n",
       "\n",
       "[168 rows x 19 columns]"
      ]
     },
     "execution_count": 93,
     "metadata": {},
     "output_type": "execute_result"
    }
   ],
   "source": [
    "pred_df # yhat이 Prophet모델에서의 예측값이다."
   ]
  },
  {
   "cell_type": "markdown",
   "id": "ed36dd16-76e8-4887-8d09-011415653fe1",
   "metadata": {},
   "source": [
    "# Prophet 모델 학습(전체 도로)"
   ]
  },
  {
   "cell_type": "code",
   "execution_count": 102,
   "id": "4bd6197b-ba87-4f29-a28f-795223ff98b2",
   "metadata": {},
   "outputs": [
    {
     "name": "stderr",
     "output_type": "stream",
     "text": [
      "INFO:fbprophet:Disabling yearly seasonality. Run prophet with yearly_seasonality=True to override this.\n",
      "/opt/conda/lib/python3.8/site-packages/fbprophet/forecaster.py:891: FutureWarning: The frame.append method is deprecated and will be removed from pandas in a future version. Use pandas.concat instead.\n",
      "  components = components.append(new_comp)\n"
     ]
    },
    {
     "name": "stdout",
     "output_type": "stream",
     "text": [
      "Initial log joint probability = -141.231\n",
      "    Iter      log prob        ||dx||      ||grad||       alpha      alpha0  # evals  Notes \n",
      "      99       7111.31    0.00159191       325.441      0.9087      0.9087      116   \n",
      "    Iter      log prob        ||dx||      ||grad||       alpha      alpha0  # evals  Notes \n",
      "     199       7120.65     0.0151125       607.119           1           1      237   \n",
      "    Iter      log prob        ||dx||      ||grad||       alpha      alpha0  # evals  Notes \n",
      "     225       7123.08   0.000108578       126.264    7.18e-07       0.001      317  LS failed, Hessian reset \n",
      "     299       7124.18   0.000669176       95.9236      0.7428      0.7428      415   \n",
      "    Iter      log prob        ||dx||      ||grad||       alpha      alpha0  # evals  Notes \n",
      "     399       7125.37   7.03839e-05       53.7414      0.7892      0.7892      533   \n",
      "    Iter      log prob        ||dx||      ||grad||       alpha      alpha0  # evals  Notes \n",
      "     460        7126.1   0.000180513       103.876   4.328e-07       0.001      649  LS failed, Hessian reset \n",
      "     499       7126.89   3.77668e-05       67.6315      0.4072      0.4072      697   \n",
      "    Iter      log prob        ||dx||      ||grad||       alpha      alpha0  # evals  Notes \n",
      "     599       7127.34   0.000809563       75.5149           1           1      820   \n",
      "    Iter      log prob        ||dx||      ||grad||       alpha      alpha0  # evals  Notes \n",
      "     648       7127.59   0.000288475       79.9591   3.978e-06       0.001      948  LS failed, Hessian reset \n",
      "     699       7128.11   0.000430164       56.3337      0.7284      0.7284     1003   \n",
      "    Iter      log prob        ||dx||      ||grad||       alpha      alpha0  # evals  Notes \n",
      "     716       7128.18   7.84655e-05       89.8297   5.461e-07       0.001     1070  LS failed, Hessian reset \n",
      "     798       7128.31    0.00020503       139.865   2.422e-06       0.001     1222  LS failed, Hessian reset \n",
      "     799       7128.32    0.00014036       54.8118           1           1     1223   \n",
      "    Iter      log prob        ||dx||      ||grad||       alpha      alpha0  # evals  Notes \n",
      "     853       7128.37   2.29235e-06        49.084    3.15e-08       0.001     1345  LS failed, Hessian reset \n",
      "     856       7128.37   3.54805e-07       60.6519      0.9022      0.9022     1348   \n",
      "Optimization terminated normally: \n",
      "  Convergence detected: relative gradient magnitude is below tolerance\n"
     ]
    },
    {
     "name": "stderr",
     "output_type": "stream",
     "text": [
      "/opt/conda/lib/python3.8/site-packages/fbprophet/forecaster.py:891: FutureWarning: The frame.append method is deprecated and will be removed from pandas in a future version. Use pandas.concat instead.\n",
      "  components = components.append(new_comp)\n",
      "/opt/conda/lib/python3.8/site-packages/fbprophet/forecaster.py:891: FutureWarning: The frame.append method is deprecated and will be removed from pandas in a future version. Use pandas.concat instead.\n",
      "  components = components.append(new_comp)\n",
      "INFO:fbprophet:Disabling yearly seasonality. Run prophet with yearly_seasonality=True to override this.\n"
     ]
    },
    {
     "name": "stdout",
     "output_type": "stream",
     "text": [
      "10 Forecasting....\n"
     ]
    },
    {
     "name": "stderr",
     "output_type": "stream",
     "text": [
      "/opt/conda/lib/python3.8/site-packages/fbprophet/forecaster.py:891: FutureWarning: The frame.append method is deprecated and will be removed from pandas in a future version. Use pandas.concat instead.\n",
      "  components = components.append(new_comp)\n"
     ]
    },
    {
     "name": "stdout",
     "output_type": "stream",
     "text": [
      "Initial log joint probability = -149.186\n",
      "    Iter      log prob        ||dx||      ||grad||       alpha      alpha0  # evals  Notes \n",
      "      99       7075.52     0.0082706       403.745           1           1      120   \n",
      "    Iter      log prob        ||dx||      ||grad||       alpha      alpha0  # evals  Notes \n",
      "     189       7079.16   0.000160482       165.005   8.679e-07       0.001      264  LS failed, Hessian reset \n",
      "     199       7079.34    0.00177834       102.104           1           1      277   \n",
      "    Iter      log prob        ||dx||      ||grad||       alpha      alpha0  # evals  Notes \n",
      "     299       7080.03   0.000589739       78.9996      0.8854      0.8854      408   \n",
      "    Iter      log prob        ||dx||      ||grad||       alpha      alpha0  # evals  Notes \n",
      "     399       7080.58   6.93582e-05        77.669      0.7297      0.7297      534   \n",
      "    Iter      log prob        ||dx||      ||grad||       alpha      alpha0  # evals  Notes \n",
      "     417       7080.61    0.00013624       83.3276   2.167e-06       0.001      606  LS failed, Hessian reset \n",
      "     499       7080.69   2.81406e-05       84.1025           1           1      713   \n",
      "    Iter      log prob        ||dx||      ||grad||       alpha      alpha0  # evals  Notes \n",
      "     599       7080.75   1.60554e-06        76.055           1           1      838   \n",
      "    Iter      log prob        ||dx||      ||grad||       alpha      alpha0  # evals  Notes \n",
      "     602       7080.75   1.67981e-06       63.6994           1           1      841   \n",
      "Optimization terminated normally: \n",
      "  Convergence detected: relative gradient magnitude is below tolerance\n"
     ]
    },
    {
     "name": "stderr",
     "output_type": "stream",
     "text": [
      "/opt/conda/lib/python3.8/site-packages/fbprophet/forecaster.py:891: FutureWarning: The frame.append method is deprecated and will be removed from pandas in a future version. Use pandas.concat instead.\n",
      "  components = components.append(new_comp)\n",
      "/opt/conda/lib/python3.8/site-packages/fbprophet/forecaster.py:891: FutureWarning: The frame.append method is deprecated and will be removed from pandas in a future version. Use pandas.concat instead.\n",
      "  components = components.append(new_comp)\n",
      "INFO:fbprophet:Disabling yearly seasonality. Run prophet with yearly_seasonality=True to override this.\n"
     ]
    },
    {
     "name": "stdout",
     "output_type": "stream",
     "text": [
      "100 Forecasting....\n"
     ]
    },
    {
     "name": "stderr",
     "output_type": "stream",
     "text": [
      "/opt/conda/lib/python3.8/site-packages/fbprophet/forecaster.py:891: FutureWarning: The frame.append method is deprecated and will be removed from pandas in a future version. Use pandas.concat instead.\n",
      "  components = components.append(new_comp)\n"
     ]
    },
    {
     "name": "stdout",
     "output_type": "stream",
     "text": [
      "Initial log joint probability = -43.1592\n",
      "    Iter      log prob        ||dx||      ||grad||       alpha      alpha0  # evals  Notes \n",
      "      99       7773.49     0.0018962       234.557      0.3109      0.3109      124   \n",
      "    Iter      log prob        ||dx||      ||grad||       alpha      alpha0  # evals  Notes \n",
      "     175       7781.31   7.52953e-05       121.981   4.288e-07       0.001      253  LS failed, Hessian reset \n",
      "     199       7782.29    0.00240265       129.183           1           1      280   \n",
      "    Iter      log prob        ||dx||      ||grad||       alpha      alpha0  # evals  Notes \n",
      "     217       7783.01   8.16724e-05       109.723   3.351e-07       0.001      345  LS failed, Hessian reset \n",
      "     292       7785.28   0.000116291       153.507   1.181e-06       0.001      503  LS failed, Hessian reset \n",
      "     299        7785.6    0.00309247       514.396           1           1      510   \n",
      "    Iter      log prob        ||dx||      ||grad||       alpha      alpha0  # evals  Notes \n",
      "     399        7787.3   0.000387313       73.1559      0.5478      0.5478      652   \n",
      "    Iter      log prob        ||dx||      ||grad||       alpha      alpha0  # evals  Notes \n",
      "     407       7787.64   0.000160545       261.476    6.72e-07       0.001      715  LS failed, Hessian reset \n",
      "     421       7787.81   3.18325e-05       48.6326    3.75e-07       0.001      772  LS failed, Hessian reset \n",
      "     459       7787.86   7.31381e-05       81.9017   1.089e-06       0.001      865  LS failed, Hessian reset \n",
      "     499        7787.9    6.8268e-05       57.1494           1           1      920   \n",
      "    Iter      log prob        ||dx||      ||grad||       alpha      alpha0  # evals  Notes \n",
      "     503        7787.9   4.16479e-05       77.2146   6.511e-07       0.001      977  LS failed, Hessian reset \n",
      "     528        7787.9   4.26276e-07       50.2818      0.2006           1     1006   \n",
      "Optimization terminated normally: \n",
      "  Convergence detected: relative gradient magnitude is below tolerance\n"
     ]
    },
    {
     "name": "stderr",
     "output_type": "stream",
     "text": [
      "/opt/conda/lib/python3.8/site-packages/fbprophet/forecaster.py:891: FutureWarning: The frame.append method is deprecated and will be removed from pandas in a future version. Use pandas.concat instead.\n",
      "  components = components.append(new_comp)\n",
      "/opt/conda/lib/python3.8/site-packages/fbprophet/forecaster.py:891: FutureWarning: The frame.append method is deprecated and will be removed from pandas in a future version. Use pandas.concat instead.\n",
      "  components = components.append(new_comp)\n",
      "INFO:fbprophet:Disabling yearly seasonality. Run prophet with yearly_seasonality=True to override this.\n"
     ]
    },
    {
     "name": "stdout",
     "output_type": "stream",
     "text": [
      "101 Forecasting....\n"
     ]
    },
    {
     "name": "stderr",
     "output_type": "stream",
     "text": [
      "/opt/conda/lib/python3.8/site-packages/fbprophet/forecaster.py:891: FutureWarning: The frame.append method is deprecated and will be removed from pandas in a future version. Use pandas.concat instead.\n",
      "  components = components.append(new_comp)\n"
     ]
    },
    {
     "name": "stdout",
     "output_type": "stream",
     "text": [
      "Initial log joint probability = -40.657\n",
      "    Iter      log prob        ||dx||      ||grad||       alpha      alpha0  # evals  Notes \n",
      "      99       7921.46    0.00376728       711.412      0.8103      0.8103      120   \n",
      "    Iter      log prob        ||dx||      ||grad||       alpha      alpha0  # evals  Notes \n",
      "     177       7930.44   4.59901e-05       79.7562    3.55e-07       0.001      260  LS failed, Hessian reset \n",
      "     199       7930.66   0.000286043       100.559      0.4208      0.4208      289   \n",
      "    Iter      log prob        ||dx||      ||grad||       alpha      alpha0  # evals  Notes \n",
      "     259       7932.45   7.41395e-05       136.295   5.435e-07       0.001      409  LS failed, Hessian reset \n",
      "     299       7933.09   0.000485091       59.5228      0.2956      0.2956      461   \n",
      "    Iter      log prob        ||dx||      ||grad||       alpha      alpha0  # evals  Notes \n",
      "     399       7933.42   2.45566e-05       73.9421      0.6885      0.6885      591   \n",
      "    Iter      log prob        ||dx||      ||grad||       alpha      alpha0  # evals  Notes \n",
      "     421        7933.5   0.000108075       177.214   8.214e-07       0.001      663  LS failed, Hessian reset \n",
      "     478       7933.57    1.1407e-05        74.684   1.675e-07       0.001      779  LS failed, Hessian reset \n",
      "     494       7933.57   3.83277e-07        65.393       0.237      0.8698      802   \n",
      "Optimization terminated normally: \n",
      "  Convergence detected: relative gradient magnitude is below tolerance\n"
     ]
    },
    {
     "name": "stderr",
     "output_type": "stream",
     "text": [
      "/opt/conda/lib/python3.8/site-packages/fbprophet/forecaster.py:891: FutureWarning: The frame.append method is deprecated and will be removed from pandas in a future version. Use pandas.concat instead.\n",
      "  components = components.append(new_comp)\n",
      "/opt/conda/lib/python3.8/site-packages/fbprophet/forecaster.py:891: FutureWarning: The frame.append method is deprecated and will be removed from pandas in a future version. Use pandas.concat instead.\n",
      "  components = components.append(new_comp)\n",
      "INFO:fbprophet:Disabling yearly seasonality. Run prophet with yearly_seasonality=True to override this.\n"
     ]
    },
    {
     "name": "stdout",
     "output_type": "stream",
     "text": [
      "120 Forecasting....\n"
     ]
    },
    {
     "name": "stderr",
     "output_type": "stream",
     "text": [
      "/opt/conda/lib/python3.8/site-packages/fbprophet/forecaster.py:891: FutureWarning: The frame.append method is deprecated and will be removed from pandas in a future version. Use pandas.concat instead.\n",
      "  components = components.append(new_comp)\n",
      "/opt/conda/lib/python3.8/site-packages/fbprophet/forecaster.py:891: FutureWarning: The frame.append method is deprecated and will be removed from pandas in a future version. Use pandas.concat instead.\n",
      "  components = components.append(new_comp)\n",
      "/opt/conda/lib/python3.8/site-packages/fbprophet/forecaster.py:891: FutureWarning: The frame.append method is deprecated and will be removed from pandas in a future version. Use pandas.concat instead.\n",
      "  components = components.append(new_comp)\n",
      "INFO:fbprophet:Disabling yearly seasonality. Run prophet with yearly_seasonality=True to override this.\n"
     ]
    },
    {
     "name": "stdout",
     "output_type": "stream",
     "text": [
      "Initial log joint probability = -129.844\n",
      "    Iter      log prob        ||dx||      ||grad||       alpha      alpha0  # evals  Notes \n",
      "      99       6828.49   0.000339723       175.614      0.5831      0.5831      124   \n",
      "    Iter      log prob        ||dx||      ||grad||       alpha      alpha0  # evals  Notes \n",
      "     158        6830.2   0.000154584       97.9917   2.044e-06       0.001      234  LS failed, Hessian reset \n",
      "     199       6830.28   5.49727e-05       56.2546      0.4179           1      288   \n",
      "    Iter      log prob        ||dx||      ||grad||       alpha      alpha0  # evals  Notes \n",
      "     270       6830.31   3.02182e-07       75.5385      0.1435      0.6207      388   \n",
      "Optimization terminated normally: \n",
      "  Convergence detected: relative gradient magnitude is below tolerance\n",
      "121 Forecasting....\n"
     ]
    },
    {
     "name": "stderr",
     "output_type": "stream",
     "text": [
      "/opt/conda/lib/python3.8/site-packages/fbprophet/forecaster.py:891: FutureWarning: The frame.append method is deprecated and will be removed from pandas in a future version. Use pandas.concat instead.\n",
      "  components = components.append(new_comp)\n"
     ]
    },
    {
     "name": "stdout",
     "output_type": "stream",
     "text": [
      "Initial log joint probability = -67.2071\n",
      "    Iter      log prob        ||dx||      ||grad||       alpha      alpha0  # evals  Notes \n",
      "      99       7271.27     0.0154483       129.631           1           1      124   \n",
      "    Iter      log prob        ||dx||      ||grad||       alpha      alpha0  # evals  Notes \n",
      "     119       7274.33   0.000131867       104.311   4.308e-07       0.001      191  LS failed, Hessian reset \n",
      "     168       7276.17   0.000539548       229.791   3.724e-06       0.001      284  LS failed, Hessian reset \n",
      "     199       7276.79   0.000978884       167.029      0.2101           1      323   \n",
      "    Iter      log prob        ||dx||      ||grad||       alpha      alpha0  # evals  Notes \n",
      "     299       7279.36   0.000265355       52.3345           1           1      452   \n",
      "    Iter      log prob        ||dx||      ||grad||       alpha      alpha0  # evals  Notes \n",
      "     345       7279.47   8.22879e-05       106.047   1.104e-06       0.001      559  LS failed, Hessian reset \n",
      "     370       7279.47   7.65252e-07       54.8363           1           1      593   \n",
      "Optimization terminated normally: \n",
      "  Convergence detected: relative gradient magnitude is below tolerance\n"
     ]
    },
    {
     "name": "stderr",
     "output_type": "stream",
     "text": [
      "/opt/conda/lib/python3.8/site-packages/fbprophet/forecaster.py:891: FutureWarning: The frame.append method is deprecated and will be removed from pandas in a future version. Use pandas.concat instead.\n",
      "  components = components.append(new_comp)\n",
      "/opt/conda/lib/python3.8/site-packages/fbprophet/forecaster.py:891: FutureWarning: The frame.append method is deprecated and will be removed from pandas in a future version. Use pandas.concat instead.\n",
      "  components = components.append(new_comp)\n",
      "INFO:fbprophet:Disabling yearly seasonality. Run prophet with yearly_seasonality=True to override this.\n"
     ]
    },
    {
     "name": "stdout",
     "output_type": "stream",
     "text": [
      "140 Forecasting....\n"
     ]
    },
    {
     "name": "stderr",
     "output_type": "stream",
     "text": [
      "/opt/conda/lib/python3.8/site-packages/fbprophet/forecaster.py:891: FutureWarning: The frame.append method is deprecated and will be removed from pandas in a future version. Use pandas.concat instead.\n",
      "  components = components.append(new_comp)\n"
     ]
    },
    {
     "name": "stdout",
     "output_type": "stream",
     "text": [
      "Initial log joint probability = -126.288\n",
      "    Iter      log prob        ||dx||      ||grad||       alpha      alpha0  # evals  Notes \n",
      "      99       6937.18   0.000463972       367.406      0.6942      0.6942      127   \n",
      "    Iter      log prob        ||dx||      ||grad||       alpha      alpha0  # evals  Notes \n",
      "     199       6949.75     0.0135964       141.776           1           1      252   \n",
      "    Iter      log prob        ||dx||      ||grad||       alpha      alpha0  # evals  Notes \n",
      "     246       6952.41   0.000139317       140.854    1.39e-06       0.001      354  LS failed, Hessian reset \n",
      "     299       6953.27   0.000159929       60.3762      0.6438      0.6438      425   \n",
      "    Iter      log prob        ||dx||      ||grad||       alpha      alpha0  # evals  Notes \n",
      "     399       6955.34    0.00247738       97.6055           1           1      554   \n",
      "    Iter      log prob        ||dx||      ||grad||       alpha      alpha0  # evals  Notes \n",
      "     499       6956.01   3.93612e-05       53.1014       0.684       0.684      682   \n",
      "    Iter      log prob        ||dx||      ||grad||       alpha      alpha0  # evals  Notes \n",
      "     508       6956.02    7.7063e-05       78.7152   1.018e-06       0.001      737  LS failed, Hessian reset \n",
      "     542       6956.03   3.50344e-07       50.7545     0.01202           1      786   \n",
      "Optimization terminated normally: \n",
      "  Convergence detected: relative gradient magnitude is below tolerance\n"
     ]
    },
    {
     "name": "stderr",
     "output_type": "stream",
     "text": [
      "/opt/conda/lib/python3.8/site-packages/fbprophet/forecaster.py:891: FutureWarning: The frame.append method is deprecated and will be removed from pandas in a future version. Use pandas.concat instead.\n",
      "  components = components.append(new_comp)\n",
      "/opt/conda/lib/python3.8/site-packages/fbprophet/forecaster.py:891: FutureWarning: The frame.append method is deprecated and will be removed from pandas in a future version. Use pandas.concat instead.\n",
      "  components = components.append(new_comp)\n",
      "INFO:fbprophet:Disabling yearly seasonality. Run prophet with yearly_seasonality=True to override this.\n"
     ]
    },
    {
     "name": "stdout",
     "output_type": "stream",
     "text": [
      "150 Forecasting....\n"
     ]
    },
    {
     "name": "stderr",
     "output_type": "stream",
     "text": [
      "/opt/conda/lib/python3.8/site-packages/fbprophet/forecaster.py:891: FutureWarning: The frame.append method is deprecated and will be removed from pandas in a future version. Use pandas.concat instead.\n",
      "  components = components.append(new_comp)\n"
     ]
    },
    {
     "name": "stdout",
     "output_type": "stream",
     "text": [
      "Initial log joint probability = -126.095\n",
      "    Iter      log prob        ||dx||      ||grad||       alpha      alpha0  # evals  Notes \n",
      "      99       7027.64     0.0106567       262.445           1           1      136   \n",
      "    Iter      log prob        ||dx||      ||grad||       alpha      alpha0  # evals  Notes \n",
      "     187       7032.12   0.000159388       152.672   1.626e-06       0.001      287  LS failed, Hessian reset \n",
      "     199       7032.16   2.53898e-05       68.6017       0.535       0.535      301   \n",
      "    Iter      log prob        ||dx||      ||grad||       alpha      alpha0  # evals  Notes \n",
      "     232       7032.16   3.36259e-07       72.4659      0.5301           1      348   \n",
      "Optimization terminated normally: \n",
      "  Convergence detected: relative gradient magnitude is below tolerance\n"
     ]
    },
    {
     "name": "stderr",
     "output_type": "stream",
     "text": [
      "/opt/conda/lib/python3.8/site-packages/fbprophet/forecaster.py:891: FutureWarning: The frame.append method is deprecated and will be removed from pandas in a future version. Use pandas.concat instead.\n",
      "  components = components.append(new_comp)\n",
      "/opt/conda/lib/python3.8/site-packages/fbprophet/forecaster.py:891: FutureWarning: The frame.append method is deprecated and will be removed from pandas in a future version. Use pandas.concat instead.\n",
      "  components = components.append(new_comp)\n",
      "INFO:fbprophet:Disabling yearly seasonality. Run prophet with yearly_seasonality=True to override this.\n"
     ]
    },
    {
     "name": "stdout",
     "output_type": "stream",
     "text": [
      "160 Forecasting....\n"
     ]
    },
    {
     "name": "stderr",
     "output_type": "stream",
     "text": [
      "/opt/conda/lib/python3.8/site-packages/fbprophet/forecaster.py:891: FutureWarning: The frame.append method is deprecated and will be removed from pandas in a future version. Use pandas.concat instead.\n",
      "  components = components.append(new_comp)\n"
     ]
    },
    {
     "name": "stdout",
     "output_type": "stream",
     "text": [
      "Initial log joint probability = -70.3652\n",
      "    Iter      log prob        ||dx||      ||grad||       alpha      alpha0  # evals  Notes \n",
      "      99       6601.29   0.000195743       161.536      0.1974      0.1974      117   \n",
      "    Iter      log prob        ||dx||      ||grad||       alpha      alpha0  # evals  Notes \n",
      "     199       6604.99    0.00177617       111.008           1           1      240   \n",
      "    Iter      log prob        ||dx||      ||grad||       alpha      alpha0  # evals  Notes \n",
      "     244       6605.76   0.000130556       94.6175   7.439e-07       0.001      336  LS failed, Hessian reset \n",
      "     299       6606.51    0.00148458       153.067           1           1      406   \n",
      "    Iter      log prob        ||dx||      ||grad||       alpha      alpha0  # evals  Notes \n",
      "     314       6606.89   0.000184983       131.983   2.312e-06       0.001      480  LS failed, Hessian reset \n",
      "     378       6607.27   0.000100952       85.5737   7.617e-07       0.001      611  LS failed, Hessian reset \n",
      "     399       6607.31   4.70967e-05       77.6861       0.969       0.969      640   \n",
      "    Iter      log prob        ||dx||      ||grad||       alpha      alpha0  # evals  Notes \n",
      "     439       6607.33   6.92915e-05       97.9352   8.675e-07       0.001      748  LS failed, Hessian reset \n",
      "     490       6607.34   1.99905e-06       63.9664   3.337e-08       0.001      854  LS failed, Hessian reset \n",
      "     499       6607.34   3.85185e-07       64.5385      0.9101      0.9101      866   \n",
      "    Iter      log prob        ||dx||      ||grad||       alpha      alpha0  # evals  Notes \n",
      "     511       6607.34    1.5469e-07       62.0488      0.3896           1      885   \n",
      "Optimization terminated normally: \n",
      "  Convergence detected: relative gradient magnitude is below tolerance\n"
     ]
    },
    {
     "name": "stderr",
     "output_type": "stream",
     "text": [
      "/opt/conda/lib/python3.8/site-packages/fbprophet/forecaster.py:891: FutureWarning: The frame.append method is deprecated and will be removed from pandas in a future version. Use pandas.concat instead.\n",
      "  components = components.append(new_comp)\n",
      "/opt/conda/lib/python3.8/site-packages/fbprophet/forecaster.py:891: FutureWarning: The frame.append method is deprecated and will be removed from pandas in a future version. Use pandas.concat instead.\n",
      "  components = components.append(new_comp)\n",
      "INFO:fbprophet:Disabling yearly seasonality. Run prophet with yearly_seasonality=True to override this.\n"
     ]
    },
    {
     "name": "stdout",
     "output_type": "stream",
     "text": [
      "200 Forecasting....\n"
     ]
    },
    {
     "name": "stderr",
     "output_type": "stream",
     "text": [
      "/opt/conda/lib/python3.8/site-packages/fbprophet/forecaster.py:891: FutureWarning: The frame.append method is deprecated and will be removed from pandas in a future version. Use pandas.concat instead.\n",
      "  components = components.append(new_comp)\n"
     ]
    },
    {
     "name": "stdout",
     "output_type": "stream",
     "text": [
      "Initial log joint probability = -52.0797\n",
      "    Iter      log prob        ||dx||      ||grad||       alpha      alpha0  # evals  Notes \n",
      "      99       7768.22     0.0279853       645.769           1           1      128   \n",
      "    Iter      log prob        ||dx||      ||grad||       alpha      alpha0  # evals  Notes \n",
      "     199       7777.48   0.000257077       99.1056       0.513       0.513      254   \n",
      "    Iter      log prob        ||dx||      ||grad||       alpha      alpha0  # evals  Notes \n",
      "     243        7778.6   0.000161935       212.158   1.036e-06       0.001      347  LS failed, Hessian reset \n",
      "     299       7779.36   0.000139752       70.1567           1           1      418   \n",
      "    Iter      log prob        ||dx||      ||grad||       alpha      alpha0  # evals  Notes \n",
      "     302       7779.37   0.000185112        73.401   2.052e-06       0.001      458  LS failed, Hessian reset \n",
      "     354       7780.07   9.13525e-05       115.771   3.313e-07       0.001      563  LS failed, Hessian reset \n",
      "     399       7781.16   0.000281661       75.2342           1           1      615   \n",
      "    Iter      log prob        ||dx||      ||grad||       alpha      alpha0  # evals  Notes \n",
      "     421       7781.33   0.000170961       216.878   1.457e-06       0.001      690  LS failed, Hessian reset \n",
      "     499       7782.28     0.0238805       592.645           1           1      787   \n",
      "    Iter      log prob        ||dx||      ||grad||       alpha      alpha0  # evals  Notes \n",
      "     511       7782.88   0.000139183       183.363   9.914e-07       0.001      844  LS failed, Hessian reset \n",
      "     599       7784.04   1.20991e-05       84.2916           1           1      958   \n",
      "    Iter      log prob        ||dx||      ||grad||       alpha      alpha0  # evals  Notes \n",
      "     699       7784.24   9.90388e-05       80.5994           1           1     1082   \n",
      "    Iter      log prob        ||dx||      ||grad||       alpha      alpha0  # evals  Notes \n",
      "     719       7784.24   8.77884e-07       63.8999           1           1     1109   \n",
      "Optimization terminated normally: \n",
      "  Convergence detected: relative gradient magnitude is below tolerance\n"
     ]
    },
    {
     "name": "stderr",
     "output_type": "stream",
     "text": [
      "/opt/conda/lib/python3.8/site-packages/fbprophet/forecaster.py:891: FutureWarning: The frame.append method is deprecated and will be removed from pandas in a future version. Use pandas.concat instead.\n",
      "  components = components.append(new_comp)\n",
      "/opt/conda/lib/python3.8/site-packages/fbprophet/forecaster.py:891: FutureWarning: The frame.append method is deprecated and will be removed from pandas in a future version. Use pandas.concat instead.\n",
      "  components = components.append(new_comp)\n",
      "INFO:fbprophet:Disabling yearly seasonality. Run prophet with yearly_seasonality=True to override this.\n"
     ]
    },
    {
     "name": "stdout",
     "output_type": "stream",
     "text": [
      "201 Forecasting....\n"
     ]
    },
    {
     "name": "stderr",
     "output_type": "stream",
     "text": [
      "/opt/conda/lib/python3.8/site-packages/fbprophet/forecaster.py:891: FutureWarning: The frame.append method is deprecated and will be removed from pandas in a future version. Use pandas.concat instead.\n",
      "  components = components.append(new_comp)\n"
     ]
    },
    {
     "name": "stdout",
     "output_type": "stream",
     "text": [
      "Initial log joint probability = -107.56\n",
      "    Iter      log prob        ||dx||      ||grad||       alpha      alpha0  # evals  Notes \n",
      "      99        7287.1    0.00641892       216.136           1           1      121   \n",
      "    Iter      log prob        ||dx||      ||grad||       alpha      alpha0  # evals  Notes \n",
      "     199       7302.21    0.00408003       126.134           1           1      240   \n",
      "    Iter      log prob        ||dx||      ||grad||       alpha      alpha0  # evals  Notes \n",
      "     299        7305.4    0.00177773       130.803           1           1      368   \n",
      "    Iter      log prob        ||dx||      ||grad||       alpha      alpha0  # evals  Notes \n",
      "     305       7305.47    8.4069e-05       107.262   7.246e-07       0.001      415  LS failed, Hessian reset \n",
      "     346       7305.55   2.06846e-07       61.9435      0.4774      0.4774      465   \n",
      "Optimization terminated normally: \n",
      "  Convergence detected: relative gradient magnitude is below tolerance\n"
     ]
    },
    {
     "name": "stderr",
     "output_type": "stream",
     "text": [
      "/opt/conda/lib/python3.8/site-packages/fbprophet/forecaster.py:891: FutureWarning: The frame.append method is deprecated and will be removed from pandas in a future version. Use pandas.concat instead.\n",
      "  components = components.append(new_comp)\n",
      "/opt/conda/lib/python3.8/site-packages/fbprophet/forecaster.py:891: FutureWarning: The frame.append method is deprecated and will be removed from pandas in a future version. Use pandas.concat instead.\n",
      "  components = components.append(new_comp)\n",
      "INFO:fbprophet:Disabling yearly seasonality. Run prophet with yearly_seasonality=True to override this.\n"
     ]
    },
    {
     "name": "stdout",
     "output_type": "stream",
     "text": [
      "251 Forecasting....\n"
     ]
    },
    {
     "name": "stderr",
     "output_type": "stream",
     "text": [
      "/opt/conda/lib/python3.8/site-packages/fbprophet/forecaster.py:891: FutureWarning: The frame.append method is deprecated and will be removed from pandas in a future version. Use pandas.concat instead.\n",
      "  components = components.append(new_comp)\n"
     ]
    },
    {
     "name": "stdout",
     "output_type": "stream",
     "text": [
      "Initial log joint probability = -76.2234\n",
      "    Iter      log prob        ||dx||      ||grad||       alpha      alpha0  # evals  Notes \n",
      "      99       6970.32    0.00236813       583.517      0.1119           1      120   \n",
      "    Iter      log prob        ||dx||      ||grad||       alpha      alpha0  # evals  Notes \n",
      "     151       6980.54   7.97352e-05        67.976   5.516e-07       0.001      227  LS failed, Hessian reset \n",
      "     199       6983.27     0.0178299       84.5624           1           1      289   \n",
      "    Iter      log prob        ||dx||      ||grad||       alpha      alpha0  # evals  Notes \n",
      "     243        6985.1    0.00010437       100.886   5.368e-07       0.001      398  LS failed, Hessian reset \n",
      "     299       6985.39     0.0165063       391.466           1           1      474   \n",
      "    Iter      log prob        ||dx||      ||grad||       alpha      alpha0  # evals  Notes \n",
      "     399       6988.85   0.000490681       183.963      0.3154      0.3154      600   \n",
      "    Iter      log prob        ||dx||      ||grad||       alpha      alpha0  # evals  Notes \n",
      "     440       6989.43   0.000229367       175.338   2.769e-06       0.001      694  LS failed, Hessian reset \n",
      "     472        6989.7   0.000256534       181.266   4.428e-06       0.001      773  LS failed, Hessian reset \n",
      "     499       6989.75   1.02739e-05       59.3837      0.7665      0.7665      807   \n",
      "    Iter      log prob        ||dx||      ||grad||       alpha      alpha0  # evals  Notes \n",
      "     556       6989.81   3.87703e-06       57.0285   6.485e-08       0.001      921  LS failed, Hessian reset \n",
      "     574       6989.82   5.89405e-07       44.3522      0.5458      0.5458      946   \n",
      "Optimization terminated normally: \n",
      "  Convergence detected: relative gradient magnitude is below tolerance\n"
     ]
    },
    {
     "name": "stderr",
     "output_type": "stream",
     "text": [
      "/opt/conda/lib/python3.8/site-packages/fbprophet/forecaster.py:891: FutureWarning: The frame.append method is deprecated and will be removed from pandas in a future version. Use pandas.concat instead.\n",
      "  components = components.append(new_comp)\n",
      "/opt/conda/lib/python3.8/site-packages/fbprophet/forecaster.py:891: FutureWarning: The frame.append method is deprecated and will be removed from pandas in a future version. Use pandas.concat instead.\n",
      "  components = components.append(new_comp)\n",
      "INFO:fbprophet:Disabling yearly seasonality. Run prophet with yearly_seasonality=True to override this.\n"
     ]
    },
    {
     "name": "stdout",
     "output_type": "stream",
     "text": [
      "270 Forecasting....\n"
     ]
    },
    {
     "name": "stderr",
     "output_type": "stream",
     "text": [
      "/opt/conda/lib/python3.8/site-packages/fbprophet/forecaster.py:891: FutureWarning: The frame.append method is deprecated and will be removed from pandas in a future version. Use pandas.concat instead.\n",
      "  components = components.append(new_comp)\n"
     ]
    },
    {
     "name": "stdout",
     "output_type": "stream",
     "text": [
      "Initial log joint probability = -44.7027\n",
      "    Iter      log prob        ||dx||      ||grad||       alpha      alpha0  # evals  Notes \n",
      "      99       7136.58   0.000714615       447.806      0.6811      0.6811      124   \n",
      "    Iter      log prob        ||dx||      ||grad||       alpha      alpha0  # evals  Notes \n",
      "     199       7142.34    0.00272037       169.401     0.08527     0.08527      241   \n",
      "    Iter      log prob        ||dx||      ||grad||       alpha      alpha0  # evals  Notes \n",
      "     288       7144.22   8.28696e-05       94.6107   7.307e-07       0.001      388  LS failed, Hessian reset \n",
      "     299       7144.42   0.000558693       105.443      0.3819           1      401   \n",
      "    Iter      log prob        ||dx||      ||grad||       alpha      alpha0  # evals  Notes \n",
      "     399       7145.34    0.00019676       90.4113      0.2782      0.2782      529   \n",
      "    Iter      log prob        ||dx||      ||grad||       alpha      alpha0  # evals  Notes \n",
      "     471       7146.58   9.87449e-05       120.454   8.388e-07       0.001      677  LS failed, Hessian reset \n",
      "     496       7147.42   8.23027e-05       83.5045   5.139e-07       0.001      749  LS failed, Hessian reset \n",
      "     499        7147.5   0.000273691       105.558      0.6613      0.6613      753   \n",
      "    Iter      log prob        ||dx||      ||grad||       alpha      alpha0  # evals  Notes \n",
      "     567       7148.03   0.000276615        190.52     3.5e-06       0.001      871  LS failed, Hessian reset \n",
      "     599       7148.18   1.41417e-05       64.3585           1           1      910   \n",
      "    Iter      log prob        ||dx||      ||grad||       alpha      alpha0  # evals  Notes \n",
      "     637       7148.23   0.000113269       95.2207    4.86e-07       0.001     1002  LS failed, Hessian reset \n",
      "     667       7148.27    5.2743e-07       58.1197           1           1     1044   \n",
      "Optimization terminated normally: \n",
      "  Convergence detected: relative gradient magnitude is below tolerance\n"
     ]
    },
    {
     "name": "stderr",
     "output_type": "stream",
     "text": [
      "/opt/conda/lib/python3.8/site-packages/fbprophet/forecaster.py:891: FutureWarning: The frame.append method is deprecated and will be removed from pandas in a future version. Use pandas.concat instead.\n",
      "  components = components.append(new_comp)\n",
      "/opt/conda/lib/python3.8/site-packages/fbprophet/forecaster.py:891: FutureWarning: The frame.append method is deprecated and will be removed from pandas in a future version. Use pandas.concat instead.\n",
      "  components = components.append(new_comp)\n",
      "INFO:fbprophet:Disabling yearly seasonality. Run prophet with yearly_seasonality=True to override this.\n"
     ]
    },
    {
     "name": "stdout",
     "output_type": "stream",
     "text": [
      "300 Forecasting....\n"
     ]
    },
    {
     "name": "stderr",
     "output_type": "stream",
     "text": [
      "/opt/conda/lib/python3.8/site-packages/fbprophet/forecaster.py:891: FutureWarning: The frame.append method is deprecated and will be removed from pandas in a future version. Use pandas.concat instead.\n",
      "  components = components.append(new_comp)\n"
     ]
    },
    {
     "name": "stdout",
     "output_type": "stream",
     "text": [
      "Initial log joint probability = -85.2043\n",
      "    Iter      log prob        ||dx||      ||grad||       alpha      alpha0  # evals  Notes \n",
      "      99       6761.42    0.00809042       208.464           1           1      117   \n",
      "    Iter      log prob        ||dx||      ||grad||       alpha      alpha0  # evals  Notes \n",
      "     199       6765.23     0.0083996       194.754           1           1      243   \n",
      "    Iter      log prob        ||dx||      ||grad||       alpha      alpha0  # evals  Notes \n",
      "     299        6767.2   0.000560057        103.35      0.6666      0.6666      363   \n",
      "    Iter      log prob        ||dx||      ||grad||       alpha      alpha0  # evals  Notes \n",
      "     322       6767.56   9.51277e-05       66.4819   6.116e-07       0.001      438  LS failed, Hessian reset \n",
      "     399       6767.86   7.46534e-06       59.2188      0.4743           1      553   \n",
      "    Iter      log prob        ||dx||      ||grad||       alpha      alpha0  # evals  Notes \n",
      "     426       6767.87   3.27735e-07       57.1678      0.1946      0.6438      593   \n",
      "Optimization terminated normally: \n",
      "  Convergence detected: relative gradient magnitude is below tolerance\n"
     ]
    },
    {
     "name": "stderr",
     "output_type": "stream",
     "text": [
      "/opt/conda/lib/python3.8/site-packages/fbprophet/forecaster.py:891: FutureWarning: The frame.append method is deprecated and will be removed from pandas in a future version. Use pandas.concat instead.\n",
      "  components = components.append(new_comp)\n",
      "/opt/conda/lib/python3.8/site-packages/fbprophet/forecaster.py:891: FutureWarning: The frame.append method is deprecated and will be removed from pandas in a future version. Use pandas.concat instead.\n",
      "  components = components.append(new_comp)\n",
      "INFO:fbprophet:Disabling yearly seasonality. Run prophet with yearly_seasonality=True to override this.\n"
     ]
    },
    {
     "name": "stdout",
     "output_type": "stream",
     "text": [
      "301 Forecasting....\n"
     ]
    },
    {
     "name": "stderr",
     "output_type": "stream",
     "text": [
      "/opt/conda/lib/python3.8/site-packages/fbprophet/forecaster.py:891: FutureWarning: The frame.append method is deprecated and will be removed from pandas in a future version. Use pandas.concat instead.\n",
      "  components = components.append(new_comp)\n"
     ]
    },
    {
     "name": "stdout",
     "output_type": "stream",
     "text": [
      "Initial log joint probability = -63.1118\n",
      "    Iter      log prob        ||dx||      ||grad||       alpha      alpha0  # evals  Notes \n",
      "      99       6984.54    0.00347766       339.503      0.5407      0.5407      130   \n",
      "    Iter      log prob        ||dx||      ||grad||       alpha      alpha0  # evals  Notes \n",
      "     199       6989.35    0.00100235       121.126           1           1      250   \n",
      "    Iter      log prob        ||dx||      ||grad||       alpha      alpha0  # evals  Notes \n",
      "     269       6991.02   9.55883e-05        95.199   6.343e-07       0.001      380  LS failed, Hessian reset \n",
      "     299        6991.1    1.6454e-05       56.6221           1           1      418   \n",
      "    Iter      log prob        ||dx||      ||grad||       alpha      alpha0  # evals  Notes \n",
      "     399       6993.94   0.000247553       278.849      0.1924      0.1924      536   \n",
      "    Iter      log prob        ||dx||      ||grad||       alpha      alpha0  # evals  Notes \n",
      "     499       6995.87   0.000252464       61.2905      0.9359      0.9359      669   \n",
      "    Iter      log prob        ||dx||      ||grad||       alpha      alpha0  # evals  Notes \n",
      "     599       6996.66   0.000595445       56.7467           1           1      793   \n",
      "    Iter      log prob        ||dx||      ||grad||       alpha      alpha0  # evals  Notes \n",
      "     638       6996.92    0.00012869       82.9657   2.202e-06       0.001      883  LS failed, Hessian reset \n",
      "     699       6997.05   8.68443e-05       58.5508           1           1      971   \n",
      "    Iter      log prob        ||dx||      ||grad||       alpha      alpha0  # evals  Notes \n",
      "     728       6997.05   5.40011e-07       48.5935     0.06085           1     1011   \n",
      "Optimization terminated normally: \n",
      "  Convergence detected: relative gradient magnitude is below tolerance\n"
     ]
    },
    {
     "name": "stderr",
     "output_type": "stream",
     "text": [
      "/opt/conda/lib/python3.8/site-packages/fbprophet/forecaster.py:891: FutureWarning: The frame.append method is deprecated and will be removed from pandas in a future version. Use pandas.concat instead.\n",
      "  components = components.append(new_comp)\n",
      "/opt/conda/lib/python3.8/site-packages/fbprophet/forecaster.py:891: FutureWarning: The frame.append method is deprecated and will be removed from pandas in a future version. Use pandas.concat instead.\n",
      "  components = components.append(new_comp)\n",
      "INFO:fbprophet:Disabling yearly seasonality. Run prophet with yearly_seasonality=True to override this.\n"
     ]
    },
    {
     "name": "stdout",
     "output_type": "stream",
     "text": [
      "351 Forecasting....\n"
     ]
    },
    {
     "name": "stderr",
     "output_type": "stream",
     "text": [
      "/opt/conda/lib/python3.8/site-packages/fbprophet/forecaster.py:891: FutureWarning: The frame.append method is deprecated and will be removed from pandas in a future version. Use pandas.concat instead.\n",
      "  components = components.append(new_comp)\n"
     ]
    },
    {
     "name": "stdout",
     "output_type": "stream",
     "text": [
      "Initial log joint probability = -159.87\n",
      "    Iter      log prob        ||dx||      ||grad||       alpha      alpha0  # evals  Notes \n",
      "      99       6606.42     0.0045523       123.726           1           1      132   \n",
      "    Iter      log prob        ||dx||      ||grad||       alpha      alpha0  # evals  Notes \n",
      "     125       6610.48   0.000126994       105.128   9.095e-07       0.001      206  LS failed, Hessian reset \n",
      "     199       6613.06    0.00125956       277.794   1.842e-05       0.001      342  LS failed, Hessian reset \n",
      "    Iter      log prob        ||dx||      ||grad||       alpha      alpha0  # evals  Notes \n",
      "     299       6613.59    0.00185706       63.9264           1           1      470   \n",
      "    Iter      log prob        ||dx||      ||grad||       alpha      alpha0  # evals  Notes \n",
      "     399       6615.34   0.000613573       62.6879       3.144      0.3144      598   \n",
      "    Iter      log prob        ||dx||      ||grad||       alpha      alpha0  # evals  Notes \n",
      "     432       6615.42   0.000139523       112.779   1.738e-06       0.001      688  LS failed, Hessian reset \n",
      "     473       6615.44   3.09197e-06       59.8068   6.444e-08       0.001      788  LS failed, Hessian reset \n",
      "     492       6615.45   2.72123e-07       51.5656      0.5054     0.05054      813   \n",
      "Optimization terminated normally: \n",
      "  Convergence detected: relative gradient magnitude is below tolerance\n"
     ]
    },
    {
     "name": "stderr",
     "output_type": "stream",
     "text": [
      "/opt/conda/lib/python3.8/site-packages/fbprophet/forecaster.py:891: FutureWarning: The frame.append method is deprecated and will be removed from pandas in a future version. Use pandas.concat instead.\n",
      "  components = components.append(new_comp)\n",
      "/opt/conda/lib/python3.8/site-packages/fbprophet/forecaster.py:891: FutureWarning: The frame.append method is deprecated and will be removed from pandas in a future version. Use pandas.concat instead.\n",
      "  components = components.append(new_comp)\n",
      "INFO:fbprophet:Disabling yearly seasonality. Run prophet with yearly_seasonality=True to override this.\n"
     ]
    },
    {
     "name": "stdout",
     "output_type": "stream",
     "text": [
      "352 Forecasting....\n"
     ]
    },
    {
     "name": "stderr",
     "output_type": "stream",
     "text": [
      "/opt/conda/lib/python3.8/site-packages/fbprophet/forecaster.py:891: FutureWarning: The frame.append method is deprecated and will be removed from pandas in a future version. Use pandas.concat instead.\n",
      "  components = components.append(new_comp)\n"
     ]
    },
    {
     "name": "stdout",
     "output_type": "stream",
     "text": [
      "Initial log joint probability = -183.866\n",
      "    Iter      log prob        ||dx||      ||grad||       alpha      alpha0  # evals  Notes \n",
      "      99       6276.74    0.00114493       191.892           1           1      122   \n",
      "    Iter      log prob        ||dx||      ||grad||       alpha      alpha0  # evals  Notes \n",
      "     113       6277.45   0.000326284       175.333   3.526e-06       0.001      171  LS failed, Hessian reset \n",
      "     169       6278.95   0.000191604       140.106   1.954e-06       0.001      291  LS failed, Hessian reset \n",
      "     199        6279.5   0.000232544       71.1328           1           1      329   \n",
      "    Iter      log prob        ||dx||      ||grad||       alpha      alpha0  # evals  Notes \n",
      "     222       6279.51   8.49151e-05       49.6947   9.955e-07       0.001      397  LS failed, Hessian reset \n",
      "     241       6279.52   1.34383e-07       59.4245      0.1564      0.6653      428   \n",
      "Optimization terminated normally: \n",
      "  Convergence detected: relative gradient magnitude is below tolerance\n"
     ]
    },
    {
     "name": "stderr",
     "output_type": "stream",
     "text": [
      "/opt/conda/lib/python3.8/site-packages/fbprophet/forecaster.py:891: FutureWarning: The frame.append method is deprecated and will be removed from pandas in a future version. Use pandas.concat instead.\n",
      "  components = components.append(new_comp)\n",
      "/opt/conda/lib/python3.8/site-packages/fbprophet/forecaster.py:891: FutureWarning: The frame.append method is deprecated and will be removed from pandas in a future version. Use pandas.concat instead.\n",
      "  components = components.append(new_comp)\n",
      "INFO:fbprophet:Disabling yearly seasonality. Run prophet with yearly_seasonality=True to override this.\n"
     ]
    },
    {
     "name": "stdout",
     "output_type": "stream",
     "text": [
      "370 Forecasting....\n"
     ]
    },
    {
     "name": "stderr",
     "output_type": "stream",
     "text": [
      "/opt/conda/lib/python3.8/site-packages/fbprophet/forecaster.py:891: FutureWarning: The frame.append method is deprecated and will be removed from pandas in a future version. Use pandas.concat instead.\n",
      "  components = components.append(new_comp)\n"
     ]
    },
    {
     "name": "stdout",
     "output_type": "stream",
     "text": [
      "Initial log joint probability = -127.387\n",
      "    Iter      log prob        ||dx||      ||grad||       alpha      alpha0  # evals  Notes \n",
      "      99       6875.48    0.00271474       107.343      0.0362      0.4012      124   \n",
      "    Iter      log prob        ||dx||      ||grad||       alpha      alpha0  # evals  Notes \n",
      "     199       6880.41   0.000676946       63.3066           1           1      252   \n",
      "    Iter      log prob        ||dx||      ||grad||       alpha      alpha0  # evals  Notes \n",
      "     242          6881   0.000136529        109.34    5.92e-07       0.001      348  LS failed, Hessian reset \n",
      "     299       6881.58   2.80194e-06       57.5499           1           1      428   \n",
      "    Iter      log prob        ||dx||      ||grad||       alpha      alpha0  # evals  Notes \n",
      "     356       6881.97   0.000140509       89.2093   5.425e-07       0.001      548  LS failed, Hessian reset \n",
      "     380       6882.59   0.000581232       129.177   7.885e-06       0.001      614  LS failed, Hessian reset \n",
      "     399       6882.63   6.28252e-05       62.3391           1           1      646   \n",
      "    Iter      log prob        ||dx||      ||grad||       alpha      alpha0  # evals  Notes \n",
      "     403       6882.63   6.11696e-05       61.7753   1.145e-06       0.001      687  LS failed, Hessian reset \n",
      "     454       6882.68   8.89537e-05       69.8604    1.23e-06       0.001      803  LS failed, Hessian reset \n",
      "     499       6882.72   6.49757e-05       53.8004      0.6739      0.6739      857   \n",
      "    Iter      log prob        ||dx||      ||grad||       alpha      alpha0  # evals  Notes \n",
      "     531       6882.72   1.91907e-05       67.9421    2.17e-07       0.001      944  LS failed, Hessian reset \n",
      "     558       6882.72   1.08815e-07       63.1175      0.2067      0.2067      982   \n",
      "Optimization terminated normally: \n",
      "  Convergence detected: relative gradient magnitude is below tolerance\n"
     ]
    },
    {
     "name": "stderr",
     "output_type": "stream",
     "text": [
      "/opt/conda/lib/python3.8/site-packages/fbprophet/forecaster.py:891: FutureWarning: The frame.append method is deprecated and will be removed from pandas in a future version. Use pandas.concat instead.\n",
      "  components = components.append(new_comp)\n",
      "/opt/conda/lib/python3.8/site-packages/fbprophet/forecaster.py:891: FutureWarning: The frame.append method is deprecated and will be removed from pandas in a future version. Use pandas.concat instead.\n",
      "  components = components.append(new_comp)\n",
      "INFO:fbprophet:Disabling yearly seasonality. Run prophet with yearly_seasonality=True to override this.\n"
     ]
    },
    {
     "name": "stdout",
     "output_type": "stream",
     "text": [
      "400 Forecasting....\n"
     ]
    },
    {
     "name": "stderr",
     "output_type": "stream",
     "text": [
      "/opt/conda/lib/python3.8/site-packages/fbprophet/forecaster.py:891: FutureWarning: The frame.append method is deprecated and will be removed from pandas in a future version. Use pandas.concat instead.\n",
      "  components = components.append(new_comp)\n"
     ]
    },
    {
     "name": "stdout",
     "output_type": "stream",
     "text": [
      "Initial log joint probability = -86.6467\n",
      "    Iter      log prob        ||dx||      ||grad||       alpha      alpha0  # evals  Notes \n",
      "      99        7297.5     0.0245982       162.468           1           1      127   \n",
      "    Iter      log prob        ||dx||      ||grad||       alpha      alpha0  # evals  Notes \n",
      "     199       7307.77   0.000317628       106.321      0.1892      0.9522      248   \n",
      "    Iter      log prob        ||dx||      ||grad||       alpha      alpha0  # evals  Notes \n",
      "     297       7310.56   7.71999e-05       101.954   7.301e-07       0.001      413  LS failed, Hessian reset \n",
      "     299       7310.57   0.000115375       58.7443           1           1      415   \n",
      "    Iter      log prob        ||dx||      ||grad||       alpha      alpha0  # evals  Notes \n",
      "     316       7310.67   0.000101379       103.738   1.391e-06       0.001      477  LS failed, Hessian reset \n",
      "     347       7310.71   1.17744e-05       71.5769   1.807e-07       0.001      556  LS failed, Hessian reset \n",
      "     366       7310.71   4.00236e-07       56.0069      0.2154      0.5074      581   \n",
      "Optimization terminated normally: \n",
      "  Convergence detected: relative gradient magnitude is below tolerance\n"
     ]
    },
    {
     "name": "stderr",
     "output_type": "stream",
     "text": [
      "/opt/conda/lib/python3.8/site-packages/fbprophet/forecaster.py:891: FutureWarning: The frame.append method is deprecated and will be removed from pandas in a future version. Use pandas.concat instead.\n",
      "  components = components.append(new_comp)\n",
      "/opt/conda/lib/python3.8/site-packages/fbprophet/forecaster.py:891: FutureWarning: The frame.append method is deprecated and will be removed from pandas in a future version. Use pandas.concat instead.\n",
      "  components = components.append(new_comp)\n",
      "INFO:fbprophet:Disabling yearly seasonality. Run prophet with yearly_seasonality=True to override this.\n"
     ]
    },
    {
     "name": "stdout",
     "output_type": "stream",
     "text": [
      "450 Forecasting....\n"
     ]
    },
    {
     "name": "stderr",
     "output_type": "stream",
     "text": [
      "/opt/conda/lib/python3.8/site-packages/fbprophet/forecaster.py:891: FutureWarning: The frame.append method is deprecated and will be removed from pandas in a future version. Use pandas.concat instead.\n",
      "  components = components.append(new_comp)\n"
     ]
    },
    {
     "name": "stdout",
     "output_type": "stream",
     "text": [
      "Initial log joint probability = -115.528\n",
      "    Iter      log prob        ||dx||      ||grad||       alpha      alpha0  # evals  Notes \n",
      "      99       7050.34    0.00203902        142.88       0.521           1      125   \n",
      "    Iter      log prob        ||dx||      ||grad||       alpha      alpha0  # evals  Notes \n",
      "     199       7055.52   0.000300043       79.1549           1           1      244   \n",
      "    Iter      log prob        ||dx||      ||grad||       alpha      alpha0  # evals  Notes \n",
      "     299       7055.78   4.29053e-06       69.5176      0.4597      0.4597      373   \n",
      "    Iter      log prob        ||dx||      ||grad||       alpha      alpha0  # evals  Notes \n",
      "     331       7055.78   4.32801e-07       68.6807       0.197           1      411   \n",
      "Optimization terminated normally: \n",
      "  Convergence detected: relative gradient magnitude is below tolerance\n"
     ]
    },
    {
     "name": "stderr",
     "output_type": "stream",
     "text": [
      "/opt/conda/lib/python3.8/site-packages/fbprophet/forecaster.py:891: FutureWarning: The frame.append method is deprecated and will be removed from pandas in a future version. Use pandas.concat instead.\n",
      "  components = components.append(new_comp)\n",
      "/opt/conda/lib/python3.8/site-packages/fbprophet/forecaster.py:891: FutureWarning: The frame.append method is deprecated and will be removed from pandas in a future version. Use pandas.concat instead.\n",
      "  components = components.append(new_comp)\n",
      "INFO:fbprophet:Disabling yearly seasonality. Run prophet with yearly_seasonality=True to override this.\n"
     ]
    },
    {
     "name": "stdout",
     "output_type": "stream",
     "text": [
      "500 Forecasting....\n"
     ]
    },
    {
     "name": "stderr",
     "output_type": "stream",
     "text": [
      "/opt/conda/lib/python3.8/site-packages/fbprophet/forecaster.py:891: FutureWarning: The frame.append method is deprecated and will be removed from pandas in a future version. Use pandas.concat instead.\n",
      "  components = components.append(new_comp)\n"
     ]
    },
    {
     "name": "stdout",
     "output_type": "stream",
     "text": [
      "Initial log joint probability = -70.5063\n",
      "    Iter      log prob        ||dx||      ||grad||       alpha      alpha0  # evals  Notes \n",
      "      99       6915.44     0.0105514       312.228           1           1      127   \n",
      "    Iter      log prob        ||dx||      ||grad||       alpha      alpha0  # evals  Notes \n",
      "     132       6924.61    0.00016266       154.565   6.677e-07       0.001      208  LS failed, Hessian reset \n",
      "     199       6930.12   0.000415586       72.0291           1           1      288   \n",
      "    Iter      log prob        ||dx||      ||grad||       alpha      alpha0  # evals  Notes \n",
      "     241       6931.69   0.000525627       240.821   3.655e-06       0.001      390  LS failed, Hessian reset \n",
      "     290       6933.53   0.000115639       112.951   6.227e-07       0.001      503  LS failed, Hessian reset \n",
      "     299       6933.67   0.000580553       75.8454        3.42      0.7623      514   \n",
      "    Iter      log prob        ||dx||      ||grad||       alpha      alpha0  # evals  Notes \n",
      "     379       6936.45   0.000119177       130.223   7.793e-07       0.001      659  LS failed, Hessian reset \n",
      "     399       6937.66    0.00570568       566.129      0.2849           1      681   \n",
      "    Iter      log prob        ||dx||      ||grad||       alpha      alpha0  # evals  Notes \n",
      "     451       6939.11   8.16405e-05       101.465   9.923e-07       0.001      783  LS failed, Hessian reset \n",
      "     481       6939.13   2.49424e-07       59.6927      0.3749           1      827   \n",
      "Optimization terminated normally: \n",
      "  Convergence detected: relative gradient magnitude is below tolerance\n"
     ]
    },
    {
     "name": "stderr",
     "output_type": "stream",
     "text": [
      "/opt/conda/lib/python3.8/site-packages/fbprophet/forecaster.py:891: FutureWarning: The frame.append method is deprecated and will be removed from pandas in a future version. Use pandas.concat instead.\n",
      "  components = components.append(new_comp)\n",
      "/opt/conda/lib/python3.8/site-packages/fbprophet/forecaster.py:891: FutureWarning: The frame.append method is deprecated and will be removed from pandas in a future version. Use pandas.concat instead.\n",
      "  components = components.append(new_comp)\n",
      "INFO:fbprophet:Disabling yearly seasonality. Run prophet with yearly_seasonality=True to override this.\n"
     ]
    },
    {
     "name": "stdout",
     "output_type": "stream",
     "text": [
      "550 Forecasting....\n"
     ]
    },
    {
     "name": "stderr",
     "output_type": "stream",
     "text": [
      "/opt/conda/lib/python3.8/site-packages/fbprophet/forecaster.py:891: FutureWarning: The frame.append method is deprecated and will be removed from pandas in a future version. Use pandas.concat instead.\n",
      "  components = components.append(new_comp)\n",
      "/opt/conda/lib/python3.8/site-packages/fbprophet/forecaster.py:891: FutureWarning: The frame.append method is deprecated and will be removed from pandas in a future version. Use pandas.concat instead.\n",
      "  components = components.append(new_comp)\n",
      "/opt/conda/lib/python3.8/site-packages/fbprophet/forecaster.py:891: FutureWarning: The frame.append method is deprecated and will be removed from pandas in a future version. Use pandas.concat instead.\n",
      "  components = components.append(new_comp)\n",
      "INFO:fbprophet:Disabling yearly seasonality. Run prophet with yearly_seasonality=True to override this.\n"
     ]
    },
    {
     "name": "stdout",
     "output_type": "stream",
     "text": [
      "Initial log joint probability = -70.1942\n",
      "    Iter      log prob        ||dx||      ||grad||       alpha      alpha0  # evals  Notes \n",
      "      99       6253.61   0.000190586       63.0209      0.8527      0.8527      127   \n",
      "    Iter      log prob        ||dx||      ||grad||       alpha      alpha0  # evals  Notes \n",
      "     123       6254.04    0.00180086       189.708   2.458e-05       0.001      189  LS failed, Hessian reset \n",
      "     156        6254.2   0.000106213       95.5119   1.255e-06       0.001      269  LS failed, Hessian reset \n",
      "     199       6254.23   2.22287e-06       70.6165      0.3603      0.3603      331   \n",
      "    Iter      log prob        ||dx||      ||grad||       alpha      alpha0  # evals  Notes \n",
      "     208       6254.23   8.59807e-06       75.9317   1.096e-07       0.001      386  LS failed, Hessian reset \n",
      "     247       6254.23   1.16649e-06       56.6263      0.5249      0.5249      433   \n",
      "Optimization terminated normally: \n",
      "  Convergence detected: relative gradient magnitude is below tolerance\n",
      "600 Forecasting....\n"
     ]
    },
    {
     "name": "stderr",
     "output_type": "stream",
     "text": [
      "/opt/conda/lib/python3.8/site-packages/fbprophet/forecaster.py:891: FutureWarning: The frame.append method is deprecated and will be removed from pandas in a future version. Use pandas.concat instead.\n",
      "  components = components.append(new_comp)\n"
     ]
    },
    {
     "name": "stdout",
     "output_type": "stream",
     "text": [
      "Initial log joint probability = -59.1701\n",
      "    Iter      log prob        ||dx||      ||grad||       alpha      alpha0  # evals  Notes \n",
      "      99       6930.95    0.00501008       107.319           1           1      128   \n",
      "    Iter      log prob        ||dx||      ||grad||       alpha      alpha0  # evals  Notes \n",
      "     199       6934.36    0.00018228       92.3743           1           1      250   \n",
      "    Iter      log prob        ||dx||      ||grad||       alpha      alpha0  # evals  Notes \n",
      "     299       6937.51    0.00598553       219.334           1           1      374   \n",
      "    Iter      log prob        ||dx||      ||grad||       alpha      alpha0  # evals  Notes \n",
      "     312       6938.01   0.000116885       115.021   7.538e-07       0.001      431  LS failed, Hessian reset \n",
      "     399       6938.88   1.52604e-06       71.2091      0.4003      0.4003      552   \n",
      "    Iter      log prob        ||dx||      ||grad||       alpha      alpha0  # evals  Notes \n",
      "     431       6938.91   8.59203e-05        62.294   1.294e-06       0.001      631  LS failed, Hessian reset \n",
      "     461       6938.92   1.81215e-07       65.4497      0.3453      0.3453      672   \n",
      "Optimization terminated normally: \n",
      "  Convergence detected: relative gradient magnitude is below tolerance\n"
     ]
    },
    {
     "name": "stderr",
     "output_type": "stream",
     "text": [
      "/opt/conda/lib/python3.8/site-packages/fbprophet/forecaster.py:891: FutureWarning: The frame.append method is deprecated and will be removed from pandas in a future version. Use pandas.concat instead.\n",
      "  components = components.append(new_comp)\n",
      "/opt/conda/lib/python3.8/site-packages/fbprophet/forecaster.py:891: FutureWarning: The frame.append method is deprecated and will be removed from pandas in a future version. Use pandas.concat instead.\n",
      "  components = components.append(new_comp)\n",
      "INFO:fbprophet:Disabling yearly seasonality. Run prophet with yearly_seasonality=True to override this.\n"
     ]
    },
    {
     "name": "stdout",
     "output_type": "stream",
     "text": [
      "650 Forecasting....\n"
     ]
    },
    {
     "name": "stderr",
     "output_type": "stream",
     "text": [
      "/opt/conda/lib/python3.8/site-packages/fbprophet/forecaster.py:891: FutureWarning: The frame.append method is deprecated and will be removed from pandas in a future version. Use pandas.concat instead.\n",
      "  components = components.append(new_comp)\n"
     ]
    },
    {
     "name": "stdout",
     "output_type": "stream",
     "text": [
      "Initial log joint probability = -46.8704\n",
      "    Iter      log prob        ||dx||      ||grad||       alpha      alpha0  # evals  Notes \n",
      "      99        7766.1     0.0113809       172.555           1           1      127   \n",
      "    Iter      log prob        ||dx||      ||grad||       alpha      alpha0  # evals  Notes \n",
      "     152       7768.05   0.000213761       179.382   2.851e-06       0.001      239  LS failed, Hessian reset \n",
      "     199       7768.19   0.000250564        88.269           1           1      293   \n",
      "    Iter      log prob        ||dx||      ||grad||       alpha      alpha0  # evals  Notes \n",
      "     299       7768.99     0.0105859       139.406      0.6077           1      411   \n",
      "    Iter      log prob        ||dx||      ||grad||       alpha      alpha0  # evals  Notes \n",
      "     370       7769.39   5.66952e-07       88.9819      0.5907      0.5907      502   \n",
      "Optimization terminated normally: \n",
      "  Convergence detected: relative gradient magnitude is below tolerance\n"
     ]
    },
    {
     "name": "stderr",
     "output_type": "stream",
     "text": [
      "/opt/conda/lib/python3.8/site-packages/fbprophet/forecaster.py:891: FutureWarning: The frame.append method is deprecated and will be removed from pandas in a future version. Use pandas.concat instead.\n",
      "  components = components.append(new_comp)\n",
      "/opt/conda/lib/python3.8/site-packages/fbprophet/forecaster.py:891: FutureWarning: The frame.append method is deprecated and will be removed from pandas in a future version. Use pandas.concat instead.\n",
      "  components = components.append(new_comp)\n",
      "INFO:fbprophet:Disabling yearly seasonality. Run prophet with yearly_seasonality=True to override this.\n"
     ]
    },
    {
     "name": "stdout",
     "output_type": "stream",
     "text": [
      "652 Forecasting....\n"
     ]
    },
    {
     "name": "stderr",
     "output_type": "stream",
     "text": [
      "/opt/conda/lib/python3.8/site-packages/fbprophet/forecaster.py:891: FutureWarning: The frame.append method is deprecated and will be removed from pandas in a future version. Use pandas.concat instead.\n",
      "  components = components.append(new_comp)\n"
     ]
    },
    {
     "name": "stdout",
     "output_type": "stream",
     "text": [
      "Initial log joint probability = -250.227\n",
      "    Iter      log prob        ||dx||      ||grad||       alpha      alpha0  # evals  Notes \n",
      "      99       6203.33   7.58594e-05       67.9327      0.2124           1      123   \n",
      "    Iter      log prob        ||dx||      ||grad||       alpha      alpha0  # evals  Notes \n",
      "     114       6203.37   0.000134825          90.7   1.603e-06       0.001      182  LS failed, Hessian reset \n",
      "     128       6203.39   8.29644e-05       68.7934   1.474e-06       0.001      239  LS failed, Hessian reset \n",
      "     146       6203.39   2.56765e-07       59.0912      0.3325           1      275   \n",
      "Optimization terminated normally: \n",
      "  Convergence detected: relative gradient magnitude is below tolerance\n"
     ]
    },
    {
     "name": "stderr",
     "output_type": "stream",
     "text": [
      "/opt/conda/lib/python3.8/site-packages/fbprophet/forecaster.py:891: FutureWarning: The frame.append method is deprecated and will be removed from pandas in a future version. Use pandas.concat instead.\n",
      "  components = components.append(new_comp)\n",
      "/opt/conda/lib/python3.8/site-packages/fbprophet/forecaster.py:891: FutureWarning: The frame.append method is deprecated and will be removed from pandas in a future version. Use pandas.concat instead.\n",
      "  components = components.append(new_comp)\n",
      "INFO:fbprophet:Disabling yearly seasonality. Run prophet with yearly_seasonality=True to override this.\n"
     ]
    },
    {
     "name": "stdout",
     "output_type": "stream",
     "text": [
      "1000 Forecasting....\n"
     ]
    },
    {
     "name": "stderr",
     "output_type": "stream",
     "text": [
      "/opt/conda/lib/python3.8/site-packages/fbprophet/forecaster.py:891: FutureWarning: The frame.append method is deprecated and will be removed from pandas in a future version. Use pandas.concat instead.\n",
      "  components = components.append(new_comp)\n"
     ]
    },
    {
     "name": "stdout",
     "output_type": "stream",
     "text": [
      "Initial log joint probability = -107.379\n",
      "    Iter      log prob        ||dx||      ||grad||       alpha      alpha0  # evals  Notes \n",
      "      99       6579.12    0.00191657       236.926           1           1      130   \n",
      "    Iter      log prob        ||dx||      ||grad||       alpha      alpha0  # evals  Notes \n",
      "     199       6582.36   0.000796467       87.8485      0.3896           1      255   \n",
      "    Iter      log prob        ||dx||      ||grad||       alpha      alpha0  # evals  Notes \n",
      "     213       6582.46   0.000175916       144.313   1.742e-06       0.001      306  LS failed, Hessian reset \n",
      "     271       6582.52   4.66775e-05       82.3535   5.655e-07       0.001      425  LS failed, Hessian reset \n",
      "     299       6582.53   1.52247e-06       80.8227      0.8644      0.8644      459   \n",
      "    Iter      log prob        ||dx||      ||grad||       alpha      alpha0  # evals  Notes \n",
      "     334       6582.54    1.0375e-05       77.9328   1.154e-07       0.001      540  LS failed, Hessian reset \n",
      "     348       6582.54   2.62479e-07       79.6937      0.1097      0.4832      560   \n",
      "Optimization terminated normally: \n",
      "  Convergence detected: relative gradient magnitude is below tolerance\n"
     ]
    },
    {
     "name": "stderr",
     "output_type": "stream",
     "text": [
      "/opt/conda/lib/python3.8/site-packages/fbprophet/forecaster.py:891: FutureWarning: The frame.append method is deprecated and will be removed from pandas in a future version. Use pandas.concat instead.\n",
      "  components = components.append(new_comp)\n",
      "/opt/conda/lib/python3.8/site-packages/fbprophet/forecaster.py:891: FutureWarning: The frame.append method is deprecated and will be removed from pandas in a future version. Use pandas.concat instead.\n",
      "  components = components.append(new_comp)\n",
      "INFO:fbprophet:Disabling yearly seasonality. Run prophet with yearly_seasonality=True to override this.\n"
     ]
    },
    {
     "name": "stdout",
     "output_type": "stream",
     "text": [
      "1020 Forecasting....\n"
     ]
    },
    {
     "name": "stderr",
     "output_type": "stream",
     "text": [
      "/opt/conda/lib/python3.8/site-packages/fbprophet/forecaster.py:891: FutureWarning: The frame.append method is deprecated and will be removed from pandas in a future version. Use pandas.concat instead.\n",
      "  components = components.append(new_comp)\n"
     ]
    },
    {
     "name": "stdout",
     "output_type": "stream",
     "text": [
      "Initial log joint probability = -203.253\n",
      "    Iter      log prob        ||dx||      ||grad||       alpha      alpha0  # evals  Notes \n",
      "      99       6726.58    0.00593894       186.719           1           1      132   \n",
      "    Iter      log prob        ||dx||      ||grad||       alpha      alpha0  # evals  Notes \n",
      "     149       6727.04   0.000240747       81.1776   3.116e-06       0.001      237  LS failed, Hessian reset \n",
      "     199       6727.12     3.587e-05       82.4408           1           1      298   \n",
      "    Iter      log prob        ||dx||      ||grad||       alpha      alpha0  # evals  Notes \n",
      "     233       6727.89   0.000126408       114.774   9.044e-07       0.001      386  LS failed, Hessian reset \n",
      "     263       6727.98    3.6527e-05       85.5544   4.492e-07       0.001      467  LS failed, Hessian reset \n",
      "     299       6727.98   2.44835e-06       71.8866      0.2984           1      515   \n",
      "    Iter      log prob        ||dx||      ||grad||       alpha      alpha0  # evals  Notes \n",
      "     309       6727.99   6.13274e-06        82.234    7.61e-08       0.001      563  LS failed, Hessian reset \n",
      "     321       6727.99   2.95151e-07       68.5717      0.7415      0.7415      579   \n",
      "Optimization terminated normally: \n",
      "  Convergence detected: relative gradient magnitude is below tolerance\n"
     ]
    },
    {
     "name": "stderr",
     "output_type": "stream",
     "text": [
      "/opt/conda/lib/python3.8/site-packages/fbprophet/forecaster.py:891: FutureWarning: The frame.append method is deprecated and will be removed from pandas in a future version. Use pandas.concat instead.\n",
      "  components = components.append(new_comp)\n",
      "/opt/conda/lib/python3.8/site-packages/fbprophet/forecaster.py:891: FutureWarning: The frame.append method is deprecated and will be removed from pandas in a future version. Use pandas.concat instead.\n",
      "  components = components.append(new_comp)\n",
      "INFO:fbprophet:Disabling yearly seasonality. Run prophet with yearly_seasonality=True to override this.\n"
     ]
    },
    {
     "name": "stdout",
     "output_type": "stream",
     "text": [
      "1040 Forecasting....\n"
     ]
    },
    {
     "name": "stderr",
     "output_type": "stream",
     "text": [
      "/opt/conda/lib/python3.8/site-packages/fbprophet/forecaster.py:891: FutureWarning: The frame.append method is deprecated and will be removed from pandas in a future version. Use pandas.concat instead.\n",
      "  components = components.append(new_comp)\n"
     ]
    },
    {
     "name": "stdout",
     "output_type": "stream",
     "text": [
      "Initial log joint probability = -146.143\n",
      "    Iter      log prob        ||dx||      ||grad||       alpha      alpha0  # evals  Notes \n",
      "      99       6423.62   0.000300558       214.279       0.231       0.231      130   \n",
      "    Iter      log prob        ||dx||      ||grad||       alpha      alpha0  # evals  Notes \n",
      "     152       6424.92   0.000224112       145.773   2.672e-06       0.001      247  LS failed, Hessian reset \n",
      "     199       6425.46    0.00734572       120.357      0.8795      0.8795      311   \n",
      "    Iter      log prob        ||dx||      ||grad||       alpha      alpha0  # evals  Notes \n",
      "     212       6425.63   0.000114276       86.9241   9.924e-07       0.001      375  LS failed, Hessian reset \n",
      "     299       6425.87    0.00221453       133.508           1           1      493   \n",
      "    Iter      log prob        ||dx||      ||grad||       alpha      alpha0  # evals  Notes \n",
      "     399       6426.04   3.62251e-05       59.0019      0.4503      0.4503      622   \n",
      "    Iter      log prob        ||dx||      ||grad||       alpha      alpha0  # evals  Notes \n",
      "     499       6426.07   0.000187529        46.147      0.7878      0.7878      757   \n",
      "    Iter      log prob        ||dx||      ||grad||       alpha      alpha0  # evals  Notes \n",
      "     599       6426.11   7.70798e-05       61.3525           1           1      890   \n",
      "    Iter      log prob        ||dx||      ||grad||       alpha      alpha0  # evals  Notes \n",
      "     671       6426.88   0.000100269       58.0128   7.637e-07       0.001     1055  LS failed, Hessian reset \n",
      "     699       6426.96   1.88918e-05       35.9184           1           1     1105   \n",
      "    Iter      log prob        ||dx||      ||grad||       alpha      alpha0  # evals  Notes \n",
      "     715       6426.96   9.84529e-06       65.6867   2.037e-07       0.001     1170  LS failed, Hessian reset \n",
      "     747       6426.96   5.18963e-07       52.2488      0.3033           1     1216   \n",
      "Optimization terminated normally: \n",
      "  Convergence detected: relative gradient magnitude is below tolerance\n"
     ]
    },
    {
     "name": "stderr",
     "output_type": "stream",
     "text": [
      "/opt/conda/lib/python3.8/site-packages/fbprophet/forecaster.py:891: FutureWarning: The frame.append method is deprecated and will be removed from pandas in a future version. Use pandas.concat instead.\n",
      "  components = components.append(new_comp)\n",
      "/opt/conda/lib/python3.8/site-packages/fbprophet/forecaster.py:891: FutureWarning: The frame.append method is deprecated and will be removed from pandas in a future version. Use pandas.concat instead.\n",
      "  components = components.append(new_comp)\n",
      "INFO:fbprophet:Disabling yearly seasonality. Run prophet with yearly_seasonality=True to override this.\n"
     ]
    },
    {
     "name": "stdout",
     "output_type": "stream",
     "text": [
      "1100 Forecasting....\n"
     ]
    },
    {
     "name": "stderr",
     "output_type": "stream",
     "text": [
      "/opt/conda/lib/python3.8/site-packages/fbprophet/forecaster.py:891: FutureWarning: The frame.append method is deprecated and will be removed from pandas in a future version. Use pandas.concat instead.\n",
      "  components = components.append(new_comp)\n"
     ]
    },
    {
     "name": "stdout",
     "output_type": "stream",
     "text": [
      "Initial log joint probability = -130.651\n",
      "    Iter      log prob        ||dx||      ||grad||       alpha      alpha0  # evals  Notes \n",
      "      99       6594.11   0.000595339       81.1483      0.2797           1      134   \n",
      "    Iter      log prob        ||dx||      ||grad||       alpha      alpha0  # evals  Notes \n",
      "     154       6594.46   8.41762e-05       82.4323   9.355e-07       0.001      245  LS failed, Hessian reset \n",
      "     199       6594.54   4.15874e-05        77.206           1           1      299   \n",
      "    Iter      log prob        ||dx||      ||grad||       alpha      alpha0  # evals  Notes \n",
      "     222       6594.56   0.000104622       89.7528   1.123e-06       0.001      362  LS failed, Hessian reset \n",
      "     248       6594.56   1.46629e-07       68.4759      0.1262      0.6149      397   \n",
      "Optimization terminated normally: \n",
      "  Convergence detected: relative gradient magnitude is below tolerance\n"
     ]
    },
    {
     "name": "stderr",
     "output_type": "stream",
     "text": [
      "/opt/conda/lib/python3.8/site-packages/fbprophet/forecaster.py:891: FutureWarning: The frame.append method is deprecated and will be removed from pandas in a future version. Use pandas.concat instead.\n",
      "  components = components.append(new_comp)\n",
      "/opt/conda/lib/python3.8/site-packages/fbprophet/forecaster.py:891: FutureWarning: The frame.append method is deprecated and will be removed from pandas in a future version. Use pandas.concat instead.\n",
      "  components = components.append(new_comp)\n",
      "INFO:fbprophet:Disabling yearly seasonality. Run prophet with yearly_seasonality=True to override this.\n"
     ]
    },
    {
     "name": "stdout",
     "output_type": "stream",
     "text": [
      "1200 Forecasting....\n"
     ]
    },
    {
     "name": "stderr",
     "output_type": "stream",
     "text": [
      "/opt/conda/lib/python3.8/site-packages/fbprophet/forecaster.py:891: FutureWarning: The frame.append method is deprecated and will be removed from pandas in a future version. Use pandas.concat instead.\n",
      "  components = components.append(new_comp)\n"
     ]
    },
    {
     "name": "stdout",
     "output_type": "stream",
     "text": [
      "Initial log joint probability = -55.3004\n",
      "    Iter      log prob        ||dx||      ||grad||       alpha      alpha0  # evals  Notes \n",
      "      99       6490.83    0.00249965       336.242      0.2556      0.2556      123   \n",
      "    Iter      log prob        ||dx||      ||grad||       alpha      alpha0  # evals  Notes \n",
      "     194       6502.43   0.000146695        91.183    2.35e-06       0.001      276  LS failed, Hessian reset \n",
      "     199        6502.5   0.000905849       94.1556           1           1      281   \n",
      "    Iter      log prob        ||dx||      ||grad||       alpha      alpha0  # evals  Notes \n",
      "     299       6506.97     0.0082102       109.543      0.8355      0.8355      426   \n",
      "    Iter      log prob        ||dx||      ||grad||       alpha      alpha0  # evals  Notes \n",
      "     303       6507.18   0.000253025       179.164   1.559e-06       0.001      477  LS failed, Hessian reset \n",
      "     399        6509.5     0.0351907        175.96           1           1      592   \n",
      "    Iter      log prob        ||dx||      ||grad||       alpha      alpha0  # evals  Notes \n",
      "     471       6511.21    8.0583e-05       67.4225   1.143e-06       0.001      730  LS failed, Hessian reset \n",
      "     499       6511.27   0.000107741       58.1033      0.4245           1      773   \n",
      "    Iter      log prob        ||dx||      ||grad||       alpha      alpha0  # evals  Notes \n",
      "     558       6511.37   3.49238e-06       28.7072   6.531e-08       0.001      898  LS failed, Hessian reset \n",
      "     564       6511.37   1.09661e-06       28.3621   3.781e-08       0.001      944  LS failed, Hessian reset \n",
      "     568       6511.37   5.64855e-07       42.4925       0.596       0.596      950   \n",
      "Optimization terminated normally: \n",
      "  Convergence detected: relative gradient magnitude is below tolerance\n"
     ]
    },
    {
     "name": "stderr",
     "output_type": "stream",
     "text": [
      "/opt/conda/lib/python3.8/site-packages/fbprophet/forecaster.py:891: FutureWarning: The frame.append method is deprecated and will be removed from pandas in a future version. Use pandas.concat instead.\n",
      "  components = components.append(new_comp)\n",
      "/opt/conda/lib/python3.8/site-packages/fbprophet/forecaster.py:891: FutureWarning: The frame.append method is deprecated and will be removed from pandas in a future version. Use pandas.concat instead.\n",
      "  components = components.append(new_comp)\n",
      "INFO:fbprophet:Disabling yearly seasonality. Run prophet with yearly_seasonality=True to override this.\n"
     ]
    },
    {
     "name": "stdout",
     "output_type": "stream",
     "text": [
      "1510 Forecasting....\n"
     ]
    },
    {
     "name": "stderr",
     "output_type": "stream",
     "text": [
      "/opt/conda/lib/python3.8/site-packages/fbprophet/forecaster.py:891: FutureWarning: The frame.append method is deprecated and will be removed from pandas in a future version. Use pandas.concat instead.\n",
      "  components = components.append(new_comp)\n"
     ]
    },
    {
     "name": "stdout",
     "output_type": "stream",
     "text": [
      "Initial log joint probability = -142.913\n",
      "    Iter      log prob        ||dx||      ||grad||       alpha      alpha0  # evals  Notes \n",
      "      99       6417.92    0.00641275       144.413           1           1      123   \n",
      "    Iter      log prob        ||dx||      ||grad||       alpha      alpha0  # evals  Notes \n",
      "     161       6422.69   0.000308071       160.142   7.519e-07       0.001      236  LS failed, Hessian reset \n",
      "     199       6423.79   5.51106e-05       72.3156           1           1      284   \n",
      "    Iter      log prob        ||dx||      ||grad||       alpha      alpha0  # evals  Notes \n",
      "     246        6424.1   0.000137283       83.3646   7.841e-07       0.001      392  LS failed, Hessian reset \n",
      "     287       6424.32   0.000181172       78.2469   2.242e-06       0.001      481  LS failed, Hessian reset \n",
      "     299       6424.32   4.40792e-06       81.7951      0.3477           1      496   \n",
      "    Iter      log prob        ||dx||      ||grad||       alpha      alpha0  # evals  Notes \n",
      "     319       6424.32   3.85206e-07       61.5058      0.6883      0.6883      525   \n",
      "Optimization terminated normally: \n",
      "  Convergence detected: relative gradient magnitude is below tolerance\n"
     ]
    },
    {
     "name": "stderr",
     "output_type": "stream",
     "text": [
      "/opt/conda/lib/python3.8/site-packages/fbprophet/forecaster.py:891: FutureWarning: The frame.append method is deprecated and will be removed from pandas in a future version. Use pandas.concat instead.\n",
      "  components = components.append(new_comp)\n",
      "/opt/conda/lib/python3.8/site-packages/fbprophet/forecaster.py:891: FutureWarning: The frame.append method is deprecated and will be removed from pandas in a future version. Use pandas.concat instead.\n",
      "  components = components.append(new_comp)\n",
      "INFO:fbprophet:Disabling yearly seasonality. Run prophet with yearly_seasonality=True to override this.\n"
     ]
    },
    {
     "name": "stdout",
     "output_type": "stream",
     "text": [
      "2510 Forecasting....\n"
     ]
    },
    {
     "name": "stderr",
     "output_type": "stream",
     "text": [
      "/opt/conda/lib/python3.8/site-packages/fbprophet/forecaster.py:891: FutureWarning: The frame.append method is deprecated and will be removed from pandas in a future version. Use pandas.concat instead.\n",
      "  components = components.append(new_comp)\n"
     ]
    },
    {
     "name": "stdout",
     "output_type": "stream",
     "text": [
      "Initial log joint probability = -96.8446\n",
      "    Iter      log prob        ||dx||      ||grad||       alpha      alpha0  # evals  Notes \n",
      "      99       6275.31    0.00949696       440.664      0.1532           1      120   \n",
      "    Iter      log prob        ||dx||      ||grad||       alpha      alpha0  # evals  Notes \n",
      "     187       6284.13   0.000313626       190.971   2.898e-06       0.001      267  LS failed, Hessian reset \n",
      "     199       6285.13    0.00020778       50.3454      0.3555           1      284   \n",
      "    Iter      log prob        ||dx||      ||grad||       alpha      alpha0  # evals  Notes \n",
      "     219       6285.28   0.000113203       89.8174   1.378e-06       0.001      355  LS failed, Hessian reset \n",
      "     294       6285.61    8.7056e-05        69.989   1.093e-06       0.001      501  LS failed, Hessian reset \n",
      "     299       6285.63   0.000109108       84.1514      0.9264      0.9264      506   \n",
      "    Iter      log prob        ||dx||      ||grad||       alpha      alpha0  # evals  Notes \n",
      "     338       6285.68   5.67809e-07       56.6169      0.2805      0.2805      558   \n",
      "Optimization terminated normally: \n",
      "  Convergence detected: relative gradient magnitude is below tolerance\n"
     ]
    },
    {
     "name": "stderr",
     "output_type": "stream",
     "text": [
      "/opt/conda/lib/python3.8/site-packages/fbprophet/forecaster.py:891: FutureWarning: The frame.append method is deprecated and will be removed from pandas in a future version. Use pandas.concat instead.\n",
      "  components = components.append(new_comp)\n",
      "/opt/conda/lib/python3.8/site-packages/fbprophet/forecaster.py:891: FutureWarning: The frame.append method is deprecated and will be removed from pandas in a future version. Use pandas.concat instead.\n",
      "  components = components.append(new_comp)\n",
      "INFO:fbprophet:Disabling yearly seasonality. Run prophet with yearly_seasonality=True to override this.\n"
     ]
    },
    {
     "name": "stdout",
     "output_type": "stream",
     "text": [
      "3000 Forecasting....\n"
     ]
    },
    {
     "name": "stderr",
     "output_type": "stream",
     "text": [
      "/opt/conda/lib/python3.8/site-packages/fbprophet/forecaster.py:891: FutureWarning: The frame.append method is deprecated and will be removed from pandas in a future version. Use pandas.concat instead.\n",
      "  components = components.append(new_comp)\n"
     ]
    },
    {
     "name": "stdout",
     "output_type": "stream",
     "text": [
      "Initial log joint probability = -148.299\n",
      "    Iter      log prob        ||dx||      ||grad||       alpha      alpha0  # evals  Notes \n",
      "      99       6626.44    0.00367965       156.208           1           1      123   \n",
      "    Iter      log prob        ||dx||      ||grad||       alpha      alpha0  # evals  Notes \n",
      "     195       6630.81   0.000211816        148.49   1.628e-06       0.001      283  LS failed, Hessian reset \n",
      "     199       6630.86   0.000435877       68.0478           1           1      287   \n",
      "    Iter      log prob        ||dx||      ||grad||       alpha      alpha0  # evals  Notes \n",
      "     278       6631.29   1.80822e-07       62.4235      0.3227      0.3227      389   \n",
      "Optimization terminated normally: \n",
      "  Convergence detected: relative gradient magnitude is below tolerance\n"
     ]
    },
    {
     "name": "stderr",
     "output_type": "stream",
     "text": [
      "/opt/conda/lib/python3.8/site-packages/fbprophet/forecaster.py:891: FutureWarning: The frame.append method is deprecated and will be removed from pandas in a future version. Use pandas.concat instead.\n",
      "  components = components.append(new_comp)\n",
      "/opt/conda/lib/python3.8/site-packages/fbprophet/forecaster.py:891: FutureWarning: The frame.append method is deprecated and will be removed from pandas in a future version. Use pandas.concat instead.\n",
      "  components = components.append(new_comp)\n",
      "INFO:fbprophet:Disabling yearly seasonality. Run prophet with yearly_seasonality=True to override this.\n"
     ]
    },
    {
     "name": "stdout",
     "output_type": "stream",
     "text": [
      "4510 Forecasting....\n"
     ]
    },
    {
     "name": "stderr",
     "output_type": "stream",
     "text": [
      "/opt/conda/lib/python3.8/site-packages/fbprophet/forecaster.py:891: FutureWarning: The frame.append method is deprecated and will be removed from pandas in a future version. Use pandas.concat instead.\n",
      "  components = components.append(new_comp)\n"
     ]
    },
    {
     "name": "stdout",
     "output_type": "stream",
     "text": [
      "Initial log joint probability = -204.253\n",
      "    Iter      log prob        ||dx||      ||grad||       alpha      alpha0  # evals  Notes \n",
      "      96       6254.24   0.000701898        198.64   5.391e-06       0.001      155  LS failed, Hessian reset \n",
      "      99       6254.29   0.000305456       112.335           1           1      158   \n",
      "    Iter      log prob        ||dx||      ||grad||       alpha      alpha0  # evals  Notes \n",
      "     182       6255.78   0.000360175        188.85   3.511e-06       0.001      291  LS failed, Hessian reset \n",
      "     199       6256.14   5.69223e-05       65.2584      0.2897           1      315   \n",
      "    Iter      log prob        ||dx||      ||grad||       alpha      alpha0  # evals  Notes \n",
      "     266       6256.26   5.15902e-05       83.4075   6.049e-07       0.001      469  LS failed, Hessian reset \n",
      "     299       6256.34   9.60852e-06       62.6815           1           1      514   \n",
      "    Iter      log prob        ||dx||      ||grad||       alpha      alpha0  # evals  Notes \n",
      "     326       6256.34   4.06537e-07       73.4118      0.5637      0.5637      547   \n",
      "Optimization terminated normally: \n",
      "  Convergence detected: relative gradient magnitude is below tolerance\n"
     ]
    },
    {
     "name": "stderr",
     "output_type": "stream",
     "text": [
      "/opt/conda/lib/python3.8/site-packages/fbprophet/forecaster.py:891: FutureWarning: The frame.append method is deprecated and will be removed from pandas in a future version. Use pandas.concat instead.\n",
      "  components = components.append(new_comp)\n",
      "/opt/conda/lib/python3.8/site-packages/fbprophet/forecaster.py:891: FutureWarning: The frame.append method is deprecated and will be removed from pandas in a future version. Use pandas.concat instead.\n",
      "  components = components.append(new_comp)\n",
      "INFO:fbprophet:Disabling yearly seasonality. Run prophet with yearly_seasonality=True to override this.\n"
     ]
    },
    {
     "name": "stdout",
     "output_type": "stream",
     "text": [
      "5510 Forecasting....\n"
     ]
    },
    {
     "name": "stderr",
     "output_type": "stream",
     "text": [
      "/opt/conda/lib/python3.8/site-packages/fbprophet/forecaster.py:891: FutureWarning: The frame.append method is deprecated and will be removed from pandas in a future version. Use pandas.concat instead.\n",
      "  components = components.append(new_comp)\n"
     ]
    },
    {
     "name": "stdout",
     "output_type": "stream",
     "text": [
      "Initial log joint probability = -219.909\n",
      "    Iter      log prob        ||dx||      ||grad||       alpha      alpha0  # evals  Notes \n",
      "      99       6323.36    0.00302665       107.464           1           1      126   \n",
      "    Iter      log prob        ||dx||      ||grad||       alpha      alpha0  # evals  Notes \n",
      "     102       6323.45   0.000164492       78.4953   7.849e-07       0.001      166  LS failed, Hessian reset \n",
      "     119       6323.74   0.000275066        156.97   2.914e-06       0.001      233  LS failed, Hessian reset \n",
      "     185        6324.2   0.000286447       124.171   3.276e-06       0.001      370  LS failed, Hessian reset \n",
      "     199       6324.22   5.62146e-05       77.9654           1           1      386   \n",
      "    Iter      log prob        ||dx||      ||grad||       alpha      alpha0  # evals  Notes \n",
      "     247       6324.26   4.11352e-07       75.9032      0.2626      0.9145      460   \n",
      "Optimization terminated normally: \n",
      "  Convergence detected: relative gradient magnitude is below tolerance\n"
     ]
    },
    {
     "name": "stderr",
     "output_type": "stream",
     "text": [
      "/opt/conda/lib/python3.8/site-packages/fbprophet/forecaster.py:891: FutureWarning: The frame.append method is deprecated and will be removed from pandas in a future version. Use pandas.concat instead.\n",
      "  components = components.append(new_comp)\n",
      "/opt/conda/lib/python3.8/site-packages/fbprophet/forecaster.py:891: FutureWarning: The frame.append method is deprecated and will be removed from pandas in a future version. Use pandas.concat instead.\n",
      "  components = components.append(new_comp)\n"
     ]
    },
    {
     "name": "stdout",
     "output_type": "stream",
     "text": [
      "6000 Forecasting....\n"
     ]
    }
   ],
   "source": [
    "for col in submission_df.columns[1:]:              # submission_df의 timestamp열을 제외하고 모두 제거\n",
    "    submission_df = submission_df.drop(col, axis=1)\n",
    "\n",
    "for col in train_df.columns[1:].tolist():          # 각각의 도로별로 나누어, model fit시킨다.\n",
    "    train_df2 = train_df[['날짜',col]]\n",
    "    train_df2.columns = ['ds','y']\n",
    "    \n",
    "    model = Prophet()      \n",
    "    model.fit(train_df2)   # 모델 fit\n",
    "    \n",
    "    future = model.make_future_dataframe(periods = 1464, freq = 'H')     # predict\n",
    "    forecast = model.predict(future)\n",
    "    print(f'{col} Forecasting....')\n",
    "    \n",
    "    pred_df = forecast.iloc[3447:3615]                    # 예측값에 해당하는 날짜 df\n",
    "    pred_yhat = pred_df.loc[:,[\"ds\",\"yhat\"]]              # df에서 날짜와 예측값만 추출\n",
    "    pred_yhat = pred_yhat[[\"yhat\"]]                       \n",
    "    pred_yhat = pred_yhat.reset_index()                   # 예측값의 index를 초기화\n",
    "    pred = pred_yhat.drop([\"index\"], axis=1)\n",
    "    pred.rename(columns = {\"yhat\":col},inplace=True)      # index열을 삭제한뒤, yhat컬럼명을 각 도로명으로 변경\n",
    "    \n",
    "    submission_df = pd.concat([submission_df, pred], axis = 1)     #submission_df에 timestamp옆에 각 도로별 예측값을 합쳐준다."
   ]
  },
  {
   "cell_type": "markdown",
   "id": "0d9c3b0f-6c2e-461a-a703-76e70203961d",
   "metadata": {},
   "source": [
    "### 결과 저장"
   ]
  },
  {
   "cell_type": "code",
   "execution_count": 103,
   "id": "86635363-2ddc-4ebb-a797-0d74a6fe0da7",
   "metadata": {},
   "outputs": [
    {
     "data": {
      "text/html": [
       "<div>\n",
       "<style scoped>\n",
       "    .dataframe tbody tr th:only-of-type {\n",
       "        vertical-align: middle;\n",
       "    }\n",
       "\n",
       "    .dataframe tbody tr th {\n",
       "        vertical-align: top;\n",
       "    }\n",
       "\n",
       "    .dataframe thead th {\n",
       "        text-align: right;\n",
       "    }\n",
       "</style>\n",
       "<table border=\"1\" class=\"dataframe\">\n",
       "  <thead>\n",
       "    <tr style=\"text-align: right;\">\n",
       "      <th></th>\n",
       "      <th>timestamp</th>\n",
       "      <th>10</th>\n",
       "      <th>100</th>\n",
       "      <th>101</th>\n",
       "      <th>120</th>\n",
       "      <th>121</th>\n",
       "      <th>140</th>\n",
       "      <th>150</th>\n",
       "      <th>160</th>\n",
       "      <th>200</th>\n",
       "      <th>...</th>\n",
       "      <th>1020</th>\n",
       "      <th>1040</th>\n",
       "      <th>1100</th>\n",
       "      <th>1200</th>\n",
       "      <th>1510</th>\n",
       "      <th>2510</th>\n",
       "      <th>3000</th>\n",
       "      <th>4510</th>\n",
       "      <th>5510</th>\n",
       "      <th>6000</th>\n",
       "    </tr>\n",
       "  </thead>\n",
       "  <tbody>\n",
       "    <tr>\n",
       "      <th>0</th>\n",
       "      <td>20200525_0</td>\n",
       "      <td>113943.220163</td>\n",
       "      <td>28353.143937</td>\n",
       "      <td>3409.591884</td>\n",
       "      <td>10368.901023</td>\n",
       "      <td>2611.950097</td>\n",
       "      <td>2654.301064</td>\n",
       "      <td>50888.482337</td>\n",
       "      <td>1999.456548</td>\n",
       "      <td>7151.460485</td>\n",
       "      <td>...</td>\n",
       "      <td>2038.584212</td>\n",
       "      <td>4540.768711</td>\n",
       "      <td>10256.733903</td>\n",
       "      <td>4852.847425</td>\n",
       "      <td>3926.998492</td>\n",
       "      <td>8312.492292</td>\n",
       "      <td>836.348929</td>\n",
       "      <td>3426.951716</td>\n",
       "      <td>3153.974286</td>\n",
       "      <td>5053.268438</td>\n",
       "    </tr>\n",
       "    <tr>\n",
       "      <th>1</th>\n",
       "      <td>20200525_1</td>\n",
       "      <td>81101.067582</td>\n",
       "      <td>21694.833453</td>\n",
       "      <td>2838.407023</td>\n",
       "      <td>8966.926880</td>\n",
       "      <td>2064.872920</td>\n",
       "      <td>2337.352703</td>\n",
       "      <td>37528.412626</td>\n",
       "      <td>1560.579218</td>\n",
       "      <td>6043.621382</td>\n",
       "      <td>...</td>\n",
       "      <td>1627.463375</td>\n",
       "      <td>3301.055838</td>\n",
       "      <td>6749.132713</td>\n",
       "      <td>2607.036764</td>\n",
       "      <td>3409.691141</td>\n",
       "      <td>7060.894905</td>\n",
       "      <td>719.386538</td>\n",
       "      <td>2693.286791</td>\n",
       "      <td>2496.046072</td>\n",
       "      <td>3962.184042</td>\n",
       "    </tr>\n",
       "    <tr>\n",
       "      <th>2</th>\n",
       "      <td>20200525_2</td>\n",
       "      <td>61567.247454</td>\n",
       "      <td>17619.910009</td>\n",
       "      <td>2447.918587</td>\n",
       "      <td>8284.936943</td>\n",
       "      <td>1379.357457</td>\n",
       "      <td>2031.281771</td>\n",
       "      <td>31255.350715</td>\n",
       "      <td>1238.379164</td>\n",
       "      <td>5317.632581</td>\n",
       "      <td>...</td>\n",
       "      <td>1155.231485</td>\n",
       "      <td>2391.041811</td>\n",
       "      <td>4068.608199</td>\n",
       "      <td>933.741499</td>\n",
       "      <td>3238.479069</td>\n",
       "      <td>6202.137772</td>\n",
       "      <td>440.871612</td>\n",
       "      <td>1527.663963</td>\n",
       "      <td>1785.073986</td>\n",
       "      <td>2918.299958</td>\n",
       "    </tr>\n",
       "    <tr>\n",
       "      <th>3</th>\n",
       "      <td>20200525_3</td>\n",
       "      <td>66221.677677</td>\n",
       "      <td>19542.471319</td>\n",
       "      <td>2505.904300</td>\n",
       "      <td>8601.088882</td>\n",
       "      <td>1089.865651</td>\n",
       "      <td>1940.395011</td>\n",
       "      <td>34989.762949</td>\n",
       "      <td>1242.950874</td>\n",
       "      <td>5310.031697</td>\n",
       "      <td>...</td>\n",
       "      <td>1014.032952</td>\n",
       "      <td>2588.838923</td>\n",
       "      <td>4942.196255</td>\n",
       "      <td>1136.242774</td>\n",
       "      <td>3352.485288</td>\n",
       "      <td>6193.094520</td>\n",
       "      <td>253.744544</td>\n",
       "      <td>1172.982296</td>\n",
       "      <td>1730.324770</td>\n",
       "      <td>3038.490613</td>\n",
       "    </tr>\n",
       "    <tr>\n",
       "      <th>4</th>\n",
       "      <td>20200525_4</td>\n",
       "      <td>99835.969778</td>\n",
       "      <td>29339.959929</td>\n",
       "      <td>3181.673000</td>\n",
       "      <td>9973.748374</td>\n",
       "      <td>1780.965606</td>\n",
       "      <td>2266.524965</td>\n",
       "      <td>48755.205851</td>\n",
       "      <td>1744.725968</td>\n",
       "      <td>6125.698831</td>\n",
       "      <td>...</td>\n",
       "      <td>1619.214920</td>\n",
       "      <td>4552.726384</td>\n",
       "      <td>11186.853242</td>\n",
       "      <td>4089.670481</td>\n",
       "      <td>3593.223919</td>\n",
       "      <td>7471.473846</td>\n",
       "      <td>494.035397</td>\n",
       "      <td>3076.452287</td>\n",
       "      <td>2961.265917</td>\n",
       "      <td>5238.540611</td>\n",
       "    </tr>\n",
       "    <tr>\n",
       "      <th>...</th>\n",
       "      <td>...</td>\n",
       "      <td>...</td>\n",
       "      <td>...</td>\n",
       "      <td>...</td>\n",
       "      <td>...</td>\n",
       "      <td>...</td>\n",
       "      <td>...</td>\n",
       "      <td>...</td>\n",
       "      <td>...</td>\n",
       "      <td>...</td>\n",
       "      <td>...</td>\n",
       "      <td>...</td>\n",
       "      <td>...</td>\n",
       "      <td>...</td>\n",
       "      <td>...</td>\n",
       "      <td>...</td>\n",
       "      <td>...</td>\n",
       "      <td>...</td>\n",
       "      <td>...</td>\n",
       "      <td>...</td>\n",
       "      <td>...</td>\n",
       "    </tr>\n",
       "    <tr>\n",
       "      <th>163</th>\n",
       "      <td>20200531_19</td>\n",
       "      <td>309708.225326</td>\n",
       "      <td>93075.450323</td>\n",
       "      <td>10465.409248</td>\n",
       "      <td>27878.195370</td>\n",
       "      <td>9731.379826</td>\n",
       "      <td>7810.016899</td>\n",
       "      <td>139610.241200</td>\n",
       "      <td>6330.245482</td>\n",
       "      <td>19966.155561</td>\n",
       "      <td>...</td>\n",
       "      <td>7484.965284</td>\n",
       "      <td>14866.330629</td>\n",
       "      <td>36551.825534</td>\n",
       "      <td>17128.532739</td>\n",
       "      <td>8942.004032</td>\n",
       "      <td>23092.068297</td>\n",
       "      <td>3548.629159</td>\n",
       "      <td>16009.099883</td>\n",
       "      <td>10818.075314</td>\n",
       "      <td>19277.541864</td>\n",
       "    </tr>\n",
       "    <tr>\n",
       "      <th>164</th>\n",
       "      <td>20200531_20</td>\n",
       "      <td>267759.490556</td>\n",
       "      <td>73422.895819</td>\n",
       "      <td>7942.228110</td>\n",
       "      <td>22201.729188</td>\n",
       "      <td>7094.515194</td>\n",
       "      <td>5972.478595</td>\n",
       "      <td>119733.604850</td>\n",
       "      <td>5025.696814</td>\n",
       "      <td>15786.027354</td>\n",
       "      <td>...</td>\n",
       "      <td>5428.421522</td>\n",
       "      <td>12389.092795</td>\n",
       "      <td>29606.688070</td>\n",
       "      <td>14626.982950</td>\n",
       "      <td>7647.159792</td>\n",
       "      <td>18649.667845</td>\n",
       "      <td>2483.411306</td>\n",
       "      <td>11630.686961</td>\n",
       "      <td>8011.403573</td>\n",
       "      <td>14090.368215</td>\n",
       "    </tr>\n",
       "    <tr>\n",
       "      <th>165</th>\n",
       "      <td>20200531_21</td>\n",
       "      <td>226915.415835</td>\n",
       "      <td>56836.408821</td>\n",
       "      <td>6075.363723</td>\n",
       "      <td>17968.524231</td>\n",
       "      <td>4924.753072</td>\n",
       "      <td>4497.583715</td>\n",
       "      <td>101783.471845</td>\n",
       "      <td>3917.015427</td>\n",
       "      <td>12474.682320</td>\n",
       "      <td>...</td>\n",
       "      <td>3807.374604</td>\n",
       "      <td>9777.499795</td>\n",
       "      <td>22492.161423</td>\n",
       "      <td>11718.108081</td>\n",
       "      <td>6627.773803</td>\n",
       "      <td>14882.483051</td>\n",
       "      <td>1520.281437</td>\n",
       "      <td>7488.774111</td>\n",
       "      <td>5668.969925</td>\n",
       "      <td>9802.774966</td>\n",
       "    </tr>\n",
       "    <tr>\n",
       "      <th>166</th>\n",
       "      <td>20200531_22</td>\n",
       "      <td>189374.097802</td>\n",
       "      <td>45248.120125</td>\n",
       "      <td>4950.235632</td>\n",
       "      <td>15145.227975</td>\n",
       "      <td>3639.571985</td>\n",
       "      <td>3598.561269</td>\n",
       "      <td>85242.115960</td>\n",
       "      <td>3128.276987</td>\n",
       "      <td>10290.296838</td>\n",
       "      <td>...</td>\n",
       "      <td>2880.508314</td>\n",
       "      <td>7613.324372</td>\n",
       "      <td>17173.151171</td>\n",
       "      <td>9125.403958</td>\n",
       "      <td>5773.681996</td>\n",
       "      <td>12177.913052</td>\n",
       "      <td>956.031603</td>\n",
       "      <td>4878.053139</td>\n",
       "      <td>4302.857635</td>\n",
       "      <td>7269.597345</td>\n",
       "    </tr>\n",
       "    <tr>\n",
       "      <th>167</th>\n",
       "      <td>20200531_23</td>\n",
       "      <td>153177.487443</td>\n",
       "      <td>37197.667070</td>\n",
       "      <td>4269.346344</td>\n",
       "      <td>13094.375566</td>\n",
       "      <td>3089.308962</td>\n",
       "      <td>3147.421119</td>\n",
       "      <td>68706.780729</td>\n",
       "      <td>2584.048803</td>\n",
       "      <td>8838.496740</td>\n",
       "      <td>...</td>\n",
       "      <td>2480.169137</td>\n",
       "      <td>6035.282669</td>\n",
       "      <td>13679.187444</td>\n",
       "      <td>6962.421611</td>\n",
       "      <td>4956.106497</td>\n",
       "      <td>10314.086746</td>\n",
       "      <td>803.209784</td>\n",
       "      <td>3925.115051</td>\n",
       "      <td>3727.570501</td>\n",
       "      <td>6134.359056</td>\n",
       "    </tr>\n",
       "  </tbody>\n",
       "</table>\n",
       "<p>168 rows × 36 columns</p>\n",
       "</div>"
      ],
      "text/plain": [
       "       timestamp             10           100           101           120  \\\n",
       "0     20200525_0  113943.220163  28353.143937   3409.591884  10368.901023   \n",
       "1     20200525_1   81101.067582  21694.833453   2838.407023   8966.926880   \n",
       "2     20200525_2   61567.247454  17619.910009   2447.918587   8284.936943   \n",
       "3     20200525_3   66221.677677  19542.471319   2505.904300   8601.088882   \n",
       "4     20200525_4   99835.969778  29339.959929   3181.673000   9973.748374   \n",
       "..           ...            ...           ...           ...           ...   \n",
       "163  20200531_19  309708.225326  93075.450323  10465.409248  27878.195370   \n",
       "164  20200531_20  267759.490556  73422.895819   7942.228110  22201.729188   \n",
       "165  20200531_21  226915.415835  56836.408821   6075.363723  17968.524231   \n",
       "166  20200531_22  189374.097802  45248.120125   4950.235632  15145.227975   \n",
       "167  20200531_23  153177.487443  37197.667070   4269.346344  13094.375566   \n",
       "\n",
       "             121          140            150          160           200  ...  \\\n",
       "0    2611.950097  2654.301064   50888.482337  1999.456548   7151.460485  ...   \n",
       "1    2064.872920  2337.352703   37528.412626  1560.579218   6043.621382  ...   \n",
       "2    1379.357457  2031.281771   31255.350715  1238.379164   5317.632581  ...   \n",
       "3    1089.865651  1940.395011   34989.762949  1242.950874   5310.031697  ...   \n",
       "4    1780.965606  2266.524965   48755.205851  1744.725968   6125.698831  ...   \n",
       "..           ...          ...            ...          ...           ...  ...   \n",
       "163  9731.379826  7810.016899  139610.241200  6330.245482  19966.155561  ...   \n",
       "164  7094.515194  5972.478595  119733.604850  5025.696814  15786.027354  ...   \n",
       "165  4924.753072  4497.583715  101783.471845  3917.015427  12474.682320  ...   \n",
       "166  3639.571985  3598.561269   85242.115960  3128.276987  10290.296838  ...   \n",
       "167  3089.308962  3147.421119   68706.780729  2584.048803   8838.496740  ...   \n",
       "\n",
       "            1020          1040          1100          1200         1510  \\\n",
       "0    2038.584212   4540.768711  10256.733903   4852.847425  3926.998492   \n",
       "1    1627.463375   3301.055838   6749.132713   2607.036764  3409.691141   \n",
       "2    1155.231485   2391.041811   4068.608199    933.741499  3238.479069   \n",
       "3    1014.032952   2588.838923   4942.196255   1136.242774  3352.485288   \n",
       "4    1619.214920   4552.726384  11186.853242   4089.670481  3593.223919   \n",
       "..           ...           ...           ...           ...          ...   \n",
       "163  7484.965284  14866.330629  36551.825534  17128.532739  8942.004032   \n",
       "164  5428.421522  12389.092795  29606.688070  14626.982950  7647.159792   \n",
       "165  3807.374604   9777.499795  22492.161423  11718.108081  6627.773803   \n",
       "166  2880.508314   7613.324372  17173.151171   9125.403958  5773.681996   \n",
       "167  2480.169137   6035.282669  13679.187444   6962.421611  4956.106497   \n",
       "\n",
       "             2510         3000          4510          5510          6000  \n",
       "0     8312.492292   836.348929   3426.951716   3153.974286   5053.268438  \n",
       "1     7060.894905   719.386538   2693.286791   2496.046072   3962.184042  \n",
       "2     6202.137772   440.871612   1527.663963   1785.073986   2918.299958  \n",
       "3     6193.094520   253.744544   1172.982296   1730.324770   3038.490613  \n",
       "4     7471.473846   494.035397   3076.452287   2961.265917   5238.540611  \n",
       "..            ...          ...           ...           ...           ...  \n",
       "163  23092.068297  3548.629159  16009.099883  10818.075314  19277.541864  \n",
       "164  18649.667845  2483.411306  11630.686961   8011.403573  14090.368215  \n",
       "165  14882.483051  1520.281437   7488.774111   5668.969925   9802.774966  \n",
       "166  12177.913052   956.031603   4878.053139   4302.857635   7269.597345  \n",
       "167  10314.086746   803.209784   3925.115051   3727.570501   6134.359056  \n",
       "\n",
       "[168 rows x 36 columns]"
      ]
     },
     "execution_count": 103,
     "metadata": {},
     "output_type": "execute_result"
    }
   ],
   "source": [
    "submission_df"
   ]
  },
  {
   "cell_type": "code",
   "execution_count": 104,
   "id": "2282f029-407c-4dac-8df3-ff948eeac32f",
   "metadata": {},
   "outputs": [],
   "source": [
    "submission_df.to_csv('prophet_pred.csv', index=False)"
   ]
  }
 ],
 "metadata": {
  "kernelspec": {
   "display_name": "Python 3 (ipykernel)",
   "language": "python",
   "name": "python3"
  },
  "language_info": {
   "codemirror_mode": {
    "name": "ipython",
    "version": 3
   },
   "file_extension": ".py",
   "mimetype": "text/x-python",
   "name": "python",
   "nbconvert_exporter": "python",
   "pygments_lexer": "ipython3",
   "version": "3.8.5"
  }
 },
 "nbformat": 4,
 "nbformat_minor": 5
}

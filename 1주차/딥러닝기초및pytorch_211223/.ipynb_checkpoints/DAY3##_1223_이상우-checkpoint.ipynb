{
 "cells": [
  {
   "cell_type": "markdown",
   "metadata": {
    "id": "IvNKy8wnIWnC"
   },
   "source": [
    "## Binary Classification - Titanic: Machine Learning from Disaster\n",
    "\n",
    "https://www.kaggle.com/c/titanic\n",
    "\n",
    "- 유명한 자료인 타이타닉 데이터 셋으로 생존과 사망에 대한 분류 문제를 풀어보도록 하겠습니다."
   ]
  },
  {
   "cell_type": "markdown",
   "metadata": {
    "id": "e_E7j0LNIWnL"
   },
   "source": [
    "![대체 텍스트](figures/binary.png)"
   ]
  },
  {
   "cell_type": "code",
   "execution_count": 1,
   "metadata": {
    "ExecuteTime": {
     "end_time": "2018-10-28T07:34:29.202719Z",
     "start_time": "2018-10-28T07:34:29.192102Z"
    },
    "id": "agnpS74dIWnN",
    "scrolled": true
   },
   "outputs": [
    {
     "data": {
      "text/plain": [
       "<torch._C.Generator at 0x2c442900450>"
      ]
     },
     "execution_count": 1,
     "metadata": {},
     "output_type": "execute_result"
    }
   ],
   "source": [
    "import torch\n",
    "import torch.nn as nn\n",
    "import torch.optim as optim\n",
    "import numpy as np\n",
    "import random\n",
    "import pandas as pd\n",
    "import matplotlib.pyplot as plt \n",
    "\n",
    "random.seed(1215)\n",
    "torch.manual_seed(1215)"
   ]
  },
  {
   "cell_type": "code",
   "execution_count": 2,
   "metadata": {
    "ExecuteTime": {
     "end_time": "2018-10-28T06:53:30.685976Z",
     "start_time": "2018-10-28T06:53:25.255348Z"
    },
    "id": "u7zoHxKMIWnR"
   },
   "outputs": [],
   "source": [
    "from torch.utils.data import Dataset\n",
    "from torch.utils.data import DataLoader\n",
    "\n",
    "from sklearn.preprocessing import StandardScaler\n",
    "from sklearn.metrics import accuracy_score\n",
    "from sklearn.model_selection import train_test_split"
   ]
  },
  {
   "cell_type": "markdown",
   "metadata": {
    "id": "_PNAJqoBIWnS"
   },
   "source": [
    "# Load Data"
   ]
  },
  {
   "cell_type": "code",
   "execution_count": 3,
   "metadata": {
    "ExecuteTime": {
     "end_time": "2018-10-28T07:48:19.716052Z",
     "start_time": "2018-10-28T07:48:19.695224Z"
    },
    "id": "cKCmYPNKIWnT"
   },
   "outputs": [],
   "source": [
    "import pandas as pd\n",
    "\n",
    "train_data = pd.read_csv(\"./data/titanic/train.csv\")\n",
    "test_data = pd.read_csv(\"./data/titanic/test.csv\")"
   ]
  },
  {
   "cell_type": "code",
   "execution_count": 4,
   "metadata": {
    "ExecuteTime": {
     "end_time": "2018-10-28T07:48:20.005530Z",
     "start_time": "2018-10-28T07:48:19.985459Z"
    },
    "id": "mrFf4fedIWnU"
   },
   "outputs": [
    {
     "data": {
      "text/html": [
       "<div>\n",
       "<style scoped>\n",
       "    .dataframe tbody tr th:only-of-type {\n",
       "        vertical-align: middle;\n",
       "    }\n",
       "\n",
       "    .dataframe tbody tr th {\n",
       "        vertical-align: top;\n",
       "    }\n",
       "\n",
       "    .dataframe thead th {\n",
       "        text-align: right;\n",
       "    }\n",
       "</style>\n",
       "<table border=\"1\" class=\"dataframe\">\n",
       "  <thead>\n",
       "    <tr style=\"text-align: right;\">\n",
       "      <th></th>\n",
       "      <th>PassengerId</th>\n",
       "      <th>Survived</th>\n",
       "      <th>Pclass</th>\n",
       "      <th>Name</th>\n",
       "      <th>Sex</th>\n",
       "      <th>Age</th>\n",
       "      <th>SibSp</th>\n",
       "      <th>Parch</th>\n",
       "      <th>Ticket</th>\n",
       "      <th>Fare</th>\n",
       "      <th>Cabin</th>\n",
       "      <th>Embarked</th>\n",
       "    </tr>\n",
       "  </thead>\n",
       "  <tbody>\n",
       "    <tr>\n",
       "      <th>0</th>\n",
       "      <td>1</td>\n",
       "      <td>0</td>\n",
       "      <td>3</td>\n",
       "      <td>Braund, Mr. Owen Harris</td>\n",
       "      <td>male</td>\n",
       "      <td>22.0</td>\n",
       "      <td>1</td>\n",
       "      <td>0</td>\n",
       "      <td>A/5 21171</td>\n",
       "      <td>7.2500</td>\n",
       "      <td>NaN</td>\n",
       "      <td>S</td>\n",
       "    </tr>\n",
       "    <tr>\n",
       "      <th>1</th>\n",
       "      <td>2</td>\n",
       "      <td>1</td>\n",
       "      <td>1</td>\n",
       "      <td>Cumings, Mrs. John Bradley (Florence Briggs Th...</td>\n",
       "      <td>female</td>\n",
       "      <td>38.0</td>\n",
       "      <td>1</td>\n",
       "      <td>0</td>\n",
       "      <td>PC 17599</td>\n",
       "      <td>71.2833</td>\n",
       "      <td>C85</td>\n",
       "      <td>C</td>\n",
       "    </tr>\n",
       "    <tr>\n",
       "      <th>2</th>\n",
       "      <td>3</td>\n",
       "      <td>1</td>\n",
       "      <td>3</td>\n",
       "      <td>Heikkinen, Miss. Laina</td>\n",
       "      <td>female</td>\n",
       "      <td>26.0</td>\n",
       "      <td>0</td>\n",
       "      <td>0</td>\n",
       "      <td>STON/O2. 3101282</td>\n",
       "      <td>7.9250</td>\n",
       "      <td>NaN</td>\n",
       "      <td>S</td>\n",
       "    </tr>\n",
       "    <tr>\n",
       "      <th>3</th>\n",
       "      <td>4</td>\n",
       "      <td>1</td>\n",
       "      <td>1</td>\n",
       "      <td>Futrelle, Mrs. Jacques Heath (Lily May Peel)</td>\n",
       "      <td>female</td>\n",
       "      <td>35.0</td>\n",
       "      <td>1</td>\n",
       "      <td>0</td>\n",
       "      <td>113803</td>\n",
       "      <td>53.1000</td>\n",
       "      <td>C123</td>\n",
       "      <td>S</td>\n",
       "    </tr>\n",
       "    <tr>\n",
       "      <th>4</th>\n",
       "      <td>5</td>\n",
       "      <td>0</td>\n",
       "      <td>3</td>\n",
       "      <td>Allen, Mr. William Henry</td>\n",
       "      <td>male</td>\n",
       "      <td>35.0</td>\n",
       "      <td>0</td>\n",
       "      <td>0</td>\n",
       "      <td>373450</td>\n",
       "      <td>8.0500</td>\n",
       "      <td>NaN</td>\n",
       "      <td>S</td>\n",
       "    </tr>\n",
       "    <tr>\n",
       "      <th>5</th>\n",
       "      <td>6</td>\n",
       "      <td>0</td>\n",
       "      <td>3</td>\n",
       "      <td>Moran, Mr. James</td>\n",
       "      <td>male</td>\n",
       "      <td>NaN</td>\n",
       "      <td>0</td>\n",
       "      <td>0</td>\n",
       "      <td>330877</td>\n",
       "      <td>8.4583</td>\n",
       "      <td>NaN</td>\n",
       "      <td>Q</td>\n",
       "    </tr>\n",
       "    <tr>\n",
       "      <th>6</th>\n",
       "      <td>7</td>\n",
       "      <td>0</td>\n",
       "      <td>1</td>\n",
       "      <td>McCarthy, Mr. Timothy J</td>\n",
       "      <td>male</td>\n",
       "      <td>54.0</td>\n",
       "      <td>0</td>\n",
       "      <td>0</td>\n",
       "      <td>17463</td>\n",
       "      <td>51.8625</td>\n",
       "      <td>E46</td>\n",
       "      <td>S</td>\n",
       "    </tr>\n",
       "    <tr>\n",
       "      <th>7</th>\n",
       "      <td>8</td>\n",
       "      <td>0</td>\n",
       "      <td>3</td>\n",
       "      <td>Palsson, Master. Gosta Leonard</td>\n",
       "      <td>male</td>\n",
       "      <td>2.0</td>\n",
       "      <td>3</td>\n",
       "      <td>1</td>\n",
       "      <td>349909</td>\n",
       "      <td>21.0750</td>\n",
       "      <td>NaN</td>\n",
       "      <td>S</td>\n",
       "    </tr>\n",
       "    <tr>\n",
       "      <th>8</th>\n",
       "      <td>9</td>\n",
       "      <td>1</td>\n",
       "      <td>3</td>\n",
       "      <td>Johnson, Mrs. Oscar W (Elisabeth Vilhelmina Berg)</td>\n",
       "      <td>female</td>\n",
       "      <td>27.0</td>\n",
       "      <td>0</td>\n",
       "      <td>2</td>\n",
       "      <td>347742</td>\n",
       "      <td>11.1333</td>\n",
       "      <td>NaN</td>\n",
       "      <td>S</td>\n",
       "    </tr>\n",
       "    <tr>\n",
       "      <th>9</th>\n",
       "      <td>10</td>\n",
       "      <td>1</td>\n",
       "      <td>2</td>\n",
       "      <td>Nasser, Mrs. Nicholas (Adele Achem)</td>\n",
       "      <td>female</td>\n",
       "      <td>14.0</td>\n",
       "      <td>1</td>\n",
       "      <td>0</td>\n",
       "      <td>237736</td>\n",
       "      <td>30.0708</td>\n",
       "      <td>NaN</td>\n",
       "      <td>C</td>\n",
       "    </tr>\n",
       "  </tbody>\n",
       "</table>\n",
       "</div>"
      ],
      "text/plain": [
       "   PassengerId  Survived  Pclass  \\\n",
       "0            1         0       3   \n",
       "1            2         1       1   \n",
       "2            3         1       3   \n",
       "3            4         1       1   \n",
       "4            5         0       3   \n",
       "5            6         0       3   \n",
       "6            7         0       1   \n",
       "7            8         0       3   \n",
       "8            9         1       3   \n",
       "9           10         1       2   \n",
       "\n",
       "                                                Name     Sex   Age  SibSp  \\\n",
       "0                            Braund, Mr. Owen Harris    male  22.0      1   \n",
       "1  Cumings, Mrs. John Bradley (Florence Briggs Th...  female  38.0      1   \n",
       "2                             Heikkinen, Miss. Laina  female  26.0      0   \n",
       "3       Futrelle, Mrs. Jacques Heath (Lily May Peel)  female  35.0      1   \n",
       "4                           Allen, Mr. William Henry    male  35.0      0   \n",
       "5                                   Moran, Mr. James    male   NaN      0   \n",
       "6                            McCarthy, Mr. Timothy J    male  54.0      0   \n",
       "7                     Palsson, Master. Gosta Leonard    male   2.0      3   \n",
       "8  Johnson, Mrs. Oscar W (Elisabeth Vilhelmina Berg)  female  27.0      0   \n",
       "9                Nasser, Mrs. Nicholas (Adele Achem)  female  14.0      1   \n",
       "\n",
       "   Parch            Ticket     Fare Cabin Embarked  \n",
       "0      0         A/5 21171   7.2500   NaN        S  \n",
       "1      0          PC 17599  71.2833   C85        C  \n",
       "2      0  STON/O2. 3101282   7.9250   NaN        S  \n",
       "3      0            113803  53.1000  C123        S  \n",
       "4      0            373450   8.0500   NaN        S  \n",
       "5      0            330877   8.4583   NaN        Q  \n",
       "6      0             17463  51.8625   E46        S  \n",
       "7      1            349909  21.0750   NaN        S  \n",
       "8      2            347742  11.1333   NaN        S  \n",
       "9      0            237736  30.0708   NaN        C  "
      ]
     },
     "execution_count": 4,
     "metadata": {},
     "output_type": "execute_result"
    }
   ],
   "source": [
    "train_data.head(10)"
   ]
  },
  {
   "cell_type": "code",
   "execution_count": 5,
   "metadata": {
    "id": "r_q5oZyMIWnW"
   },
   "outputs": [
    {
     "data": {
      "text/html": [
       "<div>\n",
       "<style scoped>\n",
       "    .dataframe tbody tr th:only-of-type {\n",
       "        vertical-align: middle;\n",
       "    }\n",
       "\n",
       "    .dataframe tbody tr th {\n",
       "        vertical-align: top;\n",
       "    }\n",
       "\n",
       "    .dataframe thead th {\n",
       "        text-align: right;\n",
       "    }\n",
       "</style>\n",
       "<table border=\"1\" class=\"dataframe\">\n",
       "  <thead>\n",
       "    <tr style=\"text-align: right;\">\n",
       "      <th></th>\n",
       "      <th>PassengerId</th>\n",
       "      <th>Pclass</th>\n",
       "      <th>Name</th>\n",
       "      <th>Sex</th>\n",
       "      <th>Age</th>\n",
       "      <th>SibSp</th>\n",
       "      <th>Parch</th>\n",
       "      <th>Ticket</th>\n",
       "      <th>Fare</th>\n",
       "      <th>Cabin</th>\n",
       "      <th>Embarked</th>\n",
       "    </tr>\n",
       "  </thead>\n",
       "  <tbody>\n",
       "    <tr>\n",
       "      <th>0</th>\n",
       "      <td>892</td>\n",
       "      <td>3</td>\n",
       "      <td>Kelly, Mr. James</td>\n",
       "      <td>male</td>\n",
       "      <td>34.5</td>\n",
       "      <td>0</td>\n",
       "      <td>0</td>\n",
       "      <td>330911</td>\n",
       "      <td>7.8292</td>\n",
       "      <td>NaN</td>\n",
       "      <td>Q</td>\n",
       "    </tr>\n",
       "    <tr>\n",
       "      <th>1</th>\n",
       "      <td>893</td>\n",
       "      <td>3</td>\n",
       "      <td>Wilkes, Mrs. James (Ellen Needs)</td>\n",
       "      <td>female</td>\n",
       "      <td>47.0</td>\n",
       "      <td>1</td>\n",
       "      <td>0</td>\n",
       "      <td>363272</td>\n",
       "      <td>7.0000</td>\n",
       "      <td>NaN</td>\n",
       "      <td>S</td>\n",
       "    </tr>\n",
       "    <tr>\n",
       "      <th>2</th>\n",
       "      <td>894</td>\n",
       "      <td>2</td>\n",
       "      <td>Myles, Mr. Thomas Francis</td>\n",
       "      <td>male</td>\n",
       "      <td>62.0</td>\n",
       "      <td>0</td>\n",
       "      <td>0</td>\n",
       "      <td>240276</td>\n",
       "      <td>9.6875</td>\n",
       "      <td>NaN</td>\n",
       "      <td>Q</td>\n",
       "    </tr>\n",
       "    <tr>\n",
       "      <th>3</th>\n",
       "      <td>895</td>\n",
       "      <td>3</td>\n",
       "      <td>Wirz, Mr. Albert</td>\n",
       "      <td>male</td>\n",
       "      <td>27.0</td>\n",
       "      <td>0</td>\n",
       "      <td>0</td>\n",
       "      <td>315154</td>\n",
       "      <td>8.6625</td>\n",
       "      <td>NaN</td>\n",
       "      <td>S</td>\n",
       "    </tr>\n",
       "    <tr>\n",
       "      <th>4</th>\n",
       "      <td>896</td>\n",
       "      <td>3</td>\n",
       "      <td>Hirvonen, Mrs. Alexander (Helga E Lindqvist)</td>\n",
       "      <td>female</td>\n",
       "      <td>22.0</td>\n",
       "      <td>1</td>\n",
       "      <td>1</td>\n",
       "      <td>3101298</td>\n",
       "      <td>12.2875</td>\n",
       "      <td>NaN</td>\n",
       "      <td>S</td>\n",
       "    </tr>\n",
       "    <tr>\n",
       "      <th>5</th>\n",
       "      <td>897</td>\n",
       "      <td>3</td>\n",
       "      <td>Svensson, Mr. Johan Cervin</td>\n",
       "      <td>male</td>\n",
       "      <td>14.0</td>\n",
       "      <td>0</td>\n",
       "      <td>0</td>\n",
       "      <td>7538</td>\n",
       "      <td>9.2250</td>\n",
       "      <td>NaN</td>\n",
       "      <td>S</td>\n",
       "    </tr>\n",
       "    <tr>\n",
       "      <th>6</th>\n",
       "      <td>898</td>\n",
       "      <td>3</td>\n",
       "      <td>Connolly, Miss. Kate</td>\n",
       "      <td>female</td>\n",
       "      <td>30.0</td>\n",
       "      <td>0</td>\n",
       "      <td>0</td>\n",
       "      <td>330972</td>\n",
       "      <td>7.6292</td>\n",
       "      <td>NaN</td>\n",
       "      <td>Q</td>\n",
       "    </tr>\n",
       "    <tr>\n",
       "      <th>7</th>\n",
       "      <td>899</td>\n",
       "      <td>2</td>\n",
       "      <td>Caldwell, Mr. Albert Francis</td>\n",
       "      <td>male</td>\n",
       "      <td>26.0</td>\n",
       "      <td>1</td>\n",
       "      <td>1</td>\n",
       "      <td>248738</td>\n",
       "      <td>29.0000</td>\n",
       "      <td>NaN</td>\n",
       "      <td>S</td>\n",
       "    </tr>\n",
       "    <tr>\n",
       "      <th>8</th>\n",
       "      <td>900</td>\n",
       "      <td>3</td>\n",
       "      <td>Abrahim, Mrs. Joseph (Sophie Halaut Easu)</td>\n",
       "      <td>female</td>\n",
       "      <td>18.0</td>\n",
       "      <td>0</td>\n",
       "      <td>0</td>\n",
       "      <td>2657</td>\n",
       "      <td>7.2292</td>\n",
       "      <td>NaN</td>\n",
       "      <td>C</td>\n",
       "    </tr>\n",
       "    <tr>\n",
       "      <th>9</th>\n",
       "      <td>901</td>\n",
       "      <td>3</td>\n",
       "      <td>Davies, Mr. John Samuel</td>\n",
       "      <td>male</td>\n",
       "      <td>21.0</td>\n",
       "      <td>2</td>\n",
       "      <td>0</td>\n",
       "      <td>A/4 48871</td>\n",
       "      <td>24.1500</td>\n",
       "      <td>NaN</td>\n",
       "      <td>S</td>\n",
       "    </tr>\n",
       "  </tbody>\n",
       "</table>\n",
       "</div>"
      ],
      "text/plain": [
       "   PassengerId  Pclass                                          Name     Sex  \\\n",
       "0          892       3                              Kelly, Mr. James    male   \n",
       "1          893       3              Wilkes, Mrs. James (Ellen Needs)  female   \n",
       "2          894       2                     Myles, Mr. Thomas Francis    male   \n",
       "3          895       3                              Wirz, Mr. Albert    male   \n",
       "4          896       3  Hirvonen, Mrs. Alexander (Helga E Lindqvist)  female   \n",
       "5          897       3                    Svensson, Mr. Johan Cervin    male   \n",
       "6          898       3                          Connolly, Miss. Kate  female   \n",
       "7          899       2                  Caldwell, Mr. Albert Francis    male   \n",
       "8          900       3     Abrahim, Mrs. Joseph (Sophie Halaut Easu)  female   \n",
       "9          901       3                       Davies, Mr. John Samuel    male   \n",
       "\n",
       "    Age  SibSp  Parch     Ticket     Fare Cabin Embarked  \n",
       "0  34.5      0      0     330911   7.8292   NaN        Q  \n",
       "1  47.0      1      0     363272   7.0000   NaN        S  \n",
       "2  62.0      0      0     240276   9.6875   NaN        Q  \n",
       "3  27.0      0      0     315154   8.6625   NaN        S  \n",
       "4  22.0      1      1    3101298  12.2875   NaN        S  \n",
       "5  14.0      0      0       7538   9.2250   NaN        S  \n",
       "6  30.0      0      0     330972   7.6292   NaN        Q  \n",
       "7  26.0      1      1     248738  29.0000   NaN        S  \n",
       "8  18.0      0      0       2657   7.2292   NaN        C  \n",
       "9  21.0      2      0  A/4 48871  24.1500   NaN        S  "
      ]
     },
     "execution_count": 5,
     "metadata": {},
     "output_type": "execute_result"
    }
   ],
   "source": [
    "test_data.head(10)"
   ]
  },
  {
   "cell_type": "markdown",
   "metadata": {
    "id": "yYihLkpKIWnX"
   },
   "source": [
    "# Preprocessing\n",
    "- Pclass, Sex, Age, SibSp, Parch, Fare 총 6개의 feature를 사용하겠습니다.\n",
    "- 별도의 feature engineering은 하지 않겠습니다.\n",
    "- kaggle data이기 때문에 test_data의 \"Survived\" 열은 없습니다.\n",
    "- 우리가 예측한 결과를 csv 파일로 제출하는 형태입니다."
   ]
  },
  {
   "cell_type": "markdown",
   "metadata": {
    "id": "d6Vc2-lyIWnY"
   },
   "source": [
    "### categorical variable 처리"
   ]
  },
  {
   "cell_type": "code",
   "execution_count": 6,
   "metadata": {
    "id": "7an9HpYhIWnZ"
   },
   "outputs": [
    {
     "data": {
      "text/plain": [
       "0      male\n",
       "1    female\n",
       "2    female\n",
       "3    female\n",
       "4      male\n",
       "5      male\n",
       "6      male\n",
       "7      male\n",
       "8    female\n",
       "9    female\n",
       "Name: Sex, dtype: object"
      ]
     },
     "execution_count": 6,
     "metadata": {},
     "output_type": "execute_result"
    }
   ],
   "source": [
    "train_data[\"Sex\"].head(10)"
   ]
  },
  {
   "cell_type": "code",
   "execution_count": 7,
   "metadata": {
    "id": "CNufUnrUIWnZ"
   },
   "outputs": [],
   "source": [
    "train_data[\"Sex\"] = train_data[\"Sex\"].map({\"male\": 1, \"female\": 0})\n",
    "test_data[\"Sex\"] = test_data[\"Sex\"].map({\"male\": 1, \"female\": 0})"
   ]
  },
  {
   "cell_type": "code",
   "execution_count": 8,
   "metadata": {
    "id": "JPv-O0k1IWna"
   },
   "outputs": [
    {
     "data": {
      "text/plain": [
       "0    1\n",
       "1    0\n",
       "2    0\n",
       "3    0\n",
       "4    1\n",
       "5    1\n",
       "6    1\n",
       "7    1\n",
       "8    0\n",
       "9    0\n",
       "Name: Sex, dtype: int64"
      ]
     },
     "execution_count": 8,
     "metadata": {},
     "output_type": "execute_result"
    }
   ],
   "source": [
    "train_data[\"Sex\"].head(10)"
   ]
  },
  {
   "cell_type": "markdown",
   "metadata": {
    "id": "_5vPQ8CTIWnb"
   },
   "source": [
    "### 데이터셋 구성"
   ]
  },
  {
   "cell_type": "code",
   "execution_count": 9,
   "metadata": {
    "ExecuteTime": {
     "end_time": "2018-10-28T07:48:21.754377Z",
     "start_time": "2018-10-28T07:48:21.739961Z"
    },
    "id": "TQZS1Y07IWnb"
   },
   "outputs": [],
   "source": [
    "data_X = train_data[[\"Pclass\", \"Sex\", \"Age\", \"SibSp\", \"Parch\", \"Fare\"]]\n",
    "data_y = train_data[\"Survived\"]"
   ]
  },
  {
   "cell_type": "code",
   "execution_count": 10,
   "metadata": {
    "id": "1T29NlfMIWnc"
   },
   "outputs": [
    {
     "data": {
      "text/plain": [
       "891"
      ]
     },
     "execution_count": 10,
     "metadata": {},
     "output_type": "execute_result"
    }
   ],
   "source": [
    "len(data_X)"
   ]
  },
  {
   "cell_type": "code",
   "execution_count": 11,
   "metadata": {
    "id": "ZQM82nxWIWnc"
   },
   "outputs": [],
   "source": [
    "train_X, test_X, train_y, test_y = train_test_split(data_X, data_y, test_size=0.3)"
   ]
  },
  {
   "cell_type": "code",
   "execution_count": 12,
   "metadata": {
    "id": "1t6EyPQKIWnd"
   },
   "outputs": [
    {
     "data": {
      "text/plain": [
       "(623, 623.6999999999999)"
      ]
     },
     "execution_count": 12,
     "metadata": {},
     "output_type": "execute_result"
    }
   ],
   "source": [
    "len(train_X), len(data_X)*.7"
   ]
  },
  {
   "cell_type": "code",
   "execution_count": 13,
   "metadata": {
    "id": "__8HHWx_IWnd"
   },
   "outputs": [
    {
     "data": {
      "text/plain": [
       "(268, 267.3)"
      ]
     },
     "execution_count": 13,
     "metadata": {},
     "output_type": "execute_result"
    }
   ],
   "source": [
    "len(test_X), len(data_X)*.3"
   ]
  },
  {
   "cell_type": "markdown",
   "metadata": {
    "id": "xMbyXoCwIWnd"
   },
   "source": [
    "### null 값 확인 (결측값)"
   ]
  },
  {
   "cell_type": "code",
   "execution_count": 14,
   "metadata": {
    "ExecuteTime": {
     "end_time": "2018-10-28T07:48:22.020698Z",
     "start_time": "2018-10-28T07:48:22.006813Z"
    },
    "id": "wkDUFZzeIWne"
   },
   "outputs": [
    {
     "name": "stdout",
     "output_type": "stream",
     "text": [
      "Number of null in train_X: Pclass      0\n",
      "Sex         0\n",
      "Age       128\n",
      "SibSp       0\n",
      "Parch       0\n",
      "Fare        0\n",
      "dtype: int64\n",
      "\n",
      " Number of null in test_X: Pclass     0\n",
      "Sex        0\n",
      "Age       49\n",
      "SibSp      0\n",
      "Parch      0\n",
      "Fare       0\n",
      "dtype: int64\n",
      "\n",
      " Number of nullin train y: 0\n",
      "\n",
      " Number of nullin train y: 0\n",
      "\n",
      " 29.86937373737374\n"
     ]
    }
   ],
   "source": [
    "print('Number of null in train_X:', train_X.isnull().sum())\n",
    "print(\"\\n\",'Number of null in test_X:', test_X.isnull().sum())\n",
    "print(\"\\n\",'Number of nullin train y:', train_y.isnull().sum())\n",
    "print(\"\\n\",'Number of nullin train y:', test_y.isnull().sum())\n",
    "\n",
    "print(\"\\n\",np.mean(train_X[\"Age\"]))"
   ]
  },
  {
   "cell_type": "markdown",
   "metadata": {
    "id": "TiPNWr54IWnf"
   },
   "source": [
    "- 간단하게 age와 fare의 na 값은 평균으로 대체"
   ]
  },
  {
   "cell_type": "code",
   "execution_count": 15,
   "metadata": {
    "ExecuteTime": {
     "end_time": "2018-10-28T07:48:23.836865Z",
     "start_time": "2018-10-28T07:48:23.823969Z"
    },
    "id": "tHBvPlH-IWnf",
    "scrolled": false
   },
   "outputs": [],
   "source": [
    "pd.options.mode.chained_assignment = None\n",
    "\n",
    "train_X.loc[:,\"Age\"] = train_X.loc[:,\"Age\"].replace(np.nan,30)\n",
    "test_X.loc[:,\"Age\"] = test_X.loc[:,\"Age\"].replace(np.nan,30)"
   ]
  },
  {
   "cell_type": "code",
   "execution_count": 16,
   "metadata": {
    "ExecuteTime": {
     "end_time": "2018-10-28T07:48:24.418285Z",
     "start_time": "2018-10-28T07:48:24.406782Z"
    },
    "id": "SVlMFybQIWng"
   },
   "outputs": [
    {
     "name": "stdout",
     "output_type": "stream",
     "text": [
      "Number of null: Pclass    0\n",
      "Sex       0\n",
      "Age       0\n",
      "SibSp     0\n",
      "Parch     0\n",
      "Fare      0\n",
      "dtype: int64\n",
      "\n",
      " Number of null: Pclass    0\n",
      "Sex       0\n",
      "Age       0\n",
      "SibSp     0\n",
      "Parch     0\n",
      "Fare      0\n",
      "dtype: int64\n"
     ]
    }
   ],
   "source": [
    "print('Number of null:', train_X.isnull().sum())\n",
    "print(\"\\n\",'Number of null:', test_X.isnull().sum())"
   ]
  },
  {
   "cell_type": "code",
   "execution_count": 17,
   "metadata": {
    "ExecuteTime": {
     "end_time": "2018-10-28T07:48:26.498112Z",
     "start_time": "2018-10-28T07:48:26.492656Z"
    },
    "id": "gY--K_7NIWng"
   },
   "outputs": [
    {
     "data": {
      "text/plain": [
       "553    1\n",
       "256    1\n",
       "509    1\n",
       "369    1\n",
       "542    0\n",
       "Name: Survived, dtype: int64"
      ]
     },
     "execution_count": 17,
     "metadata": {},
     "output_type": "execute_result"
    }
   ],
   "source": [
    "train_y.head()"
   ]
  },
  {
   "cell_type": "code",
   "execution_count": 18,
   "metadata": {
    "ExecuteTime": {
     "end_time": "2018-10-28T07:48:27.198668Z",
     "start_time": "2018-10-28T07:48:27.192577Z"
    },
    "id": "V4hSGO6JIWnh"
   },
   "outputs": [
    {
     "data": {
      "text/plain": [
       "(623, 268, 623, 268)"
      ]
     },
     "execution_count": 18,
     "metadata": {},
     "output_type": "execute_result"
    }
   ],
   "source": [
    "len(train_X), len(test_X), len(train_y), len(test_y)"
   ]
  },
  {
   "cell_type": "markdown",
   "metadata": {
    "id": "9YyBT2WpIWnh"
   },
   "source": [
    "# Train model (PyTorch)\n",
    "1. dataset, dataloader 정의\n",
    "2. 모델 정의\n",
    "3. 모델 학습 \n",
    "4. 모델 평가"
   ]
  },
  {
   "cell_type": "markdown",
   "metadata": {
    "id": "ogKQzIswIWnh"
   },
   "source": [
    "- train, test dataset을 출력할 수 있는 class를 만듭니다."
   ]
  },
  {
   "cell_type": "code",
   "execution_count": 19,
   "metadata": {
    "ExecuteTime": {
     "end_time": "2018-10-28T07:48:30.938583Z",
     "start_time": "2018-10-28T07:48:30.931143Z"
    },
    "id": "JU8tNqFHIWni"
   },
   "outputs": [],
   "source": [
    "class simple_dataset(Dataset):\n",
    "    \n",
    "    def __init__(self, X_data, y_data):\n",
    "        self.X_data = X_data\n",
    "        self.y_data = y_data\n",
    "        \n",
    "    def __getitem__(self, index):\n",
    "        return self.X_data[index], self.y_data[index]\n",
    "        \n",
    "    def __len__ (self):\n",
    "        return len(self.X_data)"
   ]
  },
  {
   "cell_type": "code",
   "execution_count": 20,
   "metadata": {
    "id": "Ho6fpa9NIWni"
   },
   "outputs": [
    {
     "data": {
      "text/plain": [
       "pandas.core.frame.DataFrame"
      ]
     },
     "execution_count": 20,
     "metadata": {},
     "output_type": "execute_result"
    }
   ],
   "source": [
    "type(test_X)"
   ]
  },
  {
   "cell_type": "code",
   "execution_count": 21,
   "metadata": {
    "ExecuteTime": {
     "end_time": "2018-10-28T07:48:32.125111Z",
     "start_time": "2018-10-28T07:48:32.117187Z"
    },
    "id": "ute7KeA2IWnj"
   },
   "outputs": [],
   "source": [
    "# 정규화합니다\n",
    "scaler = StandardScaler()\n",
    "train_data = simple_dataset(torch.FloatTensor(scaler.fit_transform(train_X.to_numpy())), torch.LongTensor(train_y.to_numpy()))\n",
    "test_data = simple_dataset(torch.FloatTensor(scaler.fit_transform(test_X.to_numpy())), torch.LongTensor(test_y.to_numpy()))"
   ]
  },
  {
   "cell_type": "code",
   "execution_count": 22,
   "metadata": {
    "id": "twkMiNWqIWnj"
   },
   "outputs": [
    {
     "data": {
      "text/plain": [
       "(623, 268)"
      ]
     },
     "execution_count": 22,
     "metadata": {},
     "output_type": "execute_result"
    }
   ],
   "source": [
    "len(train_data), len(test_data)"
   ]
  },
  {
   "cell_type": "code",
   "execution_count": 23,
   "metadata": {
    "ExecuteTime": {
     "end_time": "2018-10-28T07:48:51.854783Z",
     "start_time": "2018-10-28T07:48:51.849359Z"
    },
    "id": "zczxV0qXIWnj"
   },
   "outputs": [
    {
     "data": {
      "text/plain": [
       "(tensor([ 0.8194,  0.7441, -0.6200, -0.4803, -0.4640, -0.4894]), tensor(1))"
      ]
     },
     "execution_count": 23,
     "metadata": {},
     "output_type": "execute_result"
    }
   ],
   "source": [
    "train_data.__getitem__(0)"
   ]
  },
  {
   "cell_type": "code",
   "execution_count": 24,
   "metadata": {
    "id": "-A9dtRJHIWnk"
   },
   "outputs": [
    {
     "data": {
      "text/plain": [
       "(tensor([ 0.8194,  0.7441, -0.6200, -0.4803, -0.4640, -0.4894]), tensor(1))"
      ]
     },
     "execution_count": 24,
     "metadata": {},
     "output_type": "execute_result"
    }
   ],
   "source": [
    "train_data[0]"
   ]
  },
  {
   "cell_type": "code",
   "execution_count": null,
   "metadata": {
    "id": "XEkoBp4MIWnk"
   },
   "outputs": [],
   "source": []
  },
  {
   "cell_type": "markdown",
   "metadata": {
    "id": "DhyjBTm0IWnl"
   },
   "source": [
    "## Modeling"
   ]
  },
  {
   "cell_type": "code",
   "execution_count": 25,
   "metadata": {
    "ExecuteTime": {
     "end_time": "2018-10-28T08:24:00.698892Z",
     "start_time": "2018-10-28T08:24:00.685532Z"
    },
    "id": "ulVgLBTmIWnl"
   },
   "outputs": [],
   "source": [
    "class Binary_Classification(nn.Module):\n",
    "    \n",
    "    def __init__(self, num_features, num_classes):\n",
    "        super(Binary_Classification, self).__init__()\n",
    "        \n",
    "        self.Layer_1 = nn.Linear(num_features, 30)\n",
    "        \n",
    "        \n",
    "        ################################################\n",
    "        #       TODO                                   #\n",
    "        ################################################\n",
    "        \n",
    "        self.Layer_2 = nn.Linear(30, 15)\n",
    "        self.Layer_3 = nn.Linear(15, 8)\n",
    "        self.Layer_out = nn.Linear(8, num_classes)\n",
    "        self.relu = nn.ReLU()\n",
    "        \n",
    "    def forward(self, inputs):\n",
    "        \n",
    "        x = self.Layer_1(inputs)\n",
    "        x = self.relu(x)\n",
    "        \n",
    "        ################################################\n",
    "        #       TODO                                   #\n",
    "        ################################################\n",
    "        x = self.Layer_2(x)\n",
    "        x = self.relu(x)\n",
    "        x = self.Layer_3(x)\n",
    "        x = self.relu(x)\n",
    "        x = self.Layer_out(x)\n",
    "\n",
    "        return x"
   ]
  },
  {
   "cell_type": "code",
   "execution_count": null,
   "metadata": {
    "id": "4VJiDT-aIWnl"
   },
   "outputs": [],
   "source": []
  },
  {
   "cell_type": "code",
   "execution_count": null,
   "metadata": {
    "id": "TBPceNy8IWnm"
   },
   "outputs": [],
   "source": []
  },
  {
   "cell_type": "markdown",
   "metadata": {
    "id": "z_APaY49IWnm"
   },
   "source": [
    "## Training"
   ]
  },
  {
   "cell_type": "code",
   "execution_count": 26,
   "metadata": {
    "id": "18Nsx8XHIWnm"
   },
   "outputs": [],
   "source": [
    "EPOCHS = 3000\n",
    "BATCH_SIZE = 891\n",
    "\n",
    "train_loader = DataLoader(dataset=train_data, batch_size=BATCH_SIZE, shuffle=True)\n",
    "test_loader = DataLoader(dataset=test_data, batch_size=1, shuffle=False)\n",
    "\n",
    "model = Binary_Classification(num_features=6, num_classes=2)\n",
    "\n",
    "criterion = nn.CrossEntropyLoss() # https://pytorch.org/docs/stable/nn.html\n",
    "optimizer = optim.Adam(model.parameters(), lr=0.001)"
   ]
  },
  {
   "cell_type": "markdown",
   "metadata": {
    "id": "uo4sqcq2IWnm"
   },
   "source": [
    "### 데이터 사이즈 확인 "
   ]
  },
  {
   "cell_type": "code",
   "execution_count": 27,
   "metadata": {
    "id": "68y7M5JSIWnn"
   },
   "outputs": [
    {
     "name": "stdout",
     "output_type": "stream",
     "text": [
      "torch.Size([623, 6]) torch.Size([623])\n"
     ]
    }
   ],
   "source": [
    "for epoch in range(EPOCHS):\n",
    "    for X_batch, y_batch in train_loader:\n",
    "        print(X_batch.size(), y_batch.size())\n",
    "        break\n",
    "    break"
   ]
  },
  {
   "cell_type": "code",
   "execution_count": 28,
   "metadata": {
    "ExecuteTime": {
     "end_time": "2018-10-28T08:26:29.145512Z",
     "start_time": "2018-10-28T08:24:02.302520Z"
    },
    "id": "oYWDKFQTIWnn",
    "scrolled": true
   },
   "outputs": [
    {
     "name": "stdout",
     "output_type": "stream",
     "text": [
      "Epoch [30/3000] Step [1/1] Loss: [0.6896] Train ACC [40.61%]\n",
      "Epoch [60/3000] Step [1/1] Loss: [0.6005] Train ACC [80.26%]\n",
      "Epoch [90/3000] Step [1/1] Loss: [0.4702] Train ACC [82.02%]\n",
      "Epoch [120/3000] Step [1/1] Loss: [0.4151] Train ACC [82.50%]\n",
      "Epoch [150/3000] Step [1/1] Loss: [0.4012] Train ACC [82.99%]\n",
      "Epoch [180/3000] Step [1/1] Loss: [0.3930] Train ACC [83.31%]\n",
      "Epoch [210/3000] Step [1/1] Loss: [0.3861] Train ACC [83.15%]\n",
      "Epoch [240/3000] Step [1/1] Loss: [0.3799] Train ACC [84.27%]\n",
      "Epoch [270/3000] Step [1/1] Loss: [0.3744] Train ACC [84.75%]\n",
      "Epoch [300/3000] Step [1/1] Loss: [0.3691] Train ACC [84.59%]\n",
      "Epoch [330/3000] Step [1/1] Loss: [0.3643] Train ACC [85.07%]\n",
      "Epoch [360/3000] Step [1/1] Loss: [0.3594] Train ACC [85.71%]\n",
      "Epoch [390/3000] Step [1/1] Loss: [0.3551] Train ACC [85.87%]\n",
      "Epoch [420/3000] Step [1/1] Loss: [0.3507] Train ACC [85.55%]\n",
      "Epoch [450/3000] Step [1/1] Loss: [0.3457] Train ACC [85.71%]\n",
      "Epoch [480/3000] Step [1/1] Loss: [0.3408] Train ACC [86.52%]\n",
      "Epoch [510/3000] Step [1/1] Loss: [0.3355] Train ACC [86.68%]\n",
      "Epoch [540/3000] Step [1/1] Loss: [0.3302] Train ACC [86.68%]\n",
      "Epoch [570/3000] Step [1/1] Loss: [0.3248] Train ACC [86.68%]\n",
      "Epoch [600/3000] Step [1/1] Loss: [0.3190] Train ACC [87.00%]\n",
      "Epoch [630/3000] Step [1/1] Loss: [0.3131] Train ACC [87.80%]\n",
      "Epoch [660/3000] Step [1/1] Loss: [0.3067] Train ACC [87.64%]\n",
      "Epoch [690/3000] Step [1/1] Loss: [0.3006] Train ACC [88.28%]\n",
      "Epoch [720/3000] Step [1/1] Loss: [0.2947] Train ACC [88.60%]\n",
      "Epoch [750/3000] Step [1/1] Loss: [0.2880] Train ACC [89.25%]\n",
      "Epoch [780/3000] Step [1/1] Loss: [0.2821] Train ACC [89.57%]\n",
      "Epoch [810/3000] Step [1/1] Loss: [0.2760] Train ACC [89.57%]\n",
      "Epoch [840/3000] Step [1/1] Loss: [0.2702] Train ACC [89.57%]\n",
      "Epoch [870/3000] Step [1/1] Loss: [0.2653] Train ACC [89.41%]\n",
      "Epoch [900/3000] Step [1/1] Loss: [0.2608] Train ACC [89.41%]\n",
      "Epoch [930/3000] Step [1/1] Loss: [0.2565] Train ACC [89.41%]\n",
      "Epoch [960/3000] Step [1/1] Loss: [0.2524] Train ACC [89.41%]\n",
      "Epoch [990/3000] Step [1/1] Loss: [0.2485] Train ACC [89.89%]\n",
      "Epoch [1020/3000] Step [1/1] Loss: [0.2446] Train ACC [89.89%]\n",
      "Epoch [1050/3000] Step [1/1] Loss: [0.2409] Train ACC [90.53%]\n",
      "Epoch [1080/3000] Step [1/1] Loss: [0.2373] Train ACC [90.53%]\n",
      "Epoch [1110/3000] Step [1/1] Loss: [0.2334] Train ACC [90.69%]\n",
      "Epoch [1140/3000] Step [1/1] Loss: [0.2298] Train ACC [90.85%]\n",
      "Epoch [1170/3000] Step [1/1] Loss: [0.2262] Train ACC [90.85%]\n",
      "Epoch [1200/3000] Step [1/1] Loss: [0.2231] Train ACC [91.17%]\n",
      "Epoch [1230/3000] Step [1/1] Loss: [0.2203] Train ACC [91.01%]\n",
      "Epoch [1260/3000] Step [1/1] Loss: [0.2180] Train ACC [91.17%]\n",
      "Epoch [1290/3000] Step [1/1] Loss: [0.2155] Train ACC [91.01%]\n",
      "Epoch [1320/3000] Step [1/1] Loss: [0.2133] Train ACC [90.85%]\n",
      "Epoch [1350/3000] Step [1/1] Loss: [0.2115] Train ACC [91.17%]\n",
      "Epoch [1380/3000] Step [1/1] Loss: [0.2098] Train ACC [91.33%]\n",
      "Epoch [1410/3000] Step [1/1] Loss: [0.2085] Train ACC [91.65%]\n",
      "Epoch [1440/3000] Step [1/1] Loss: [0.2068] Train ACC [91.33%]\n",
      "Epoch [1470/3000] Step [1/1] Loss: [0.2051] Train ACC [91.65%]\n",
      "Epoch [1500/3000] Step [1/1] Loss: [0.2037] Train ACC [91.65%]\n",
      "Epoch [1530/3000] Step [1/1] Loss: [0.2025] Train ACC [91.65%]\n",
      "Epoch [1560/3000] Step [1/1] Loss: [0.2013] Train ACC [91.81%]\n",
      "Epoch [1590/3000] Step [1/1] Loss: [0.2003] Train ACC [91.81%]\n",
      "Epoch [1620/3000] Step [1/1] Loss: [0.1992] Train ACC [91.97%]\n",
      "Epoch [1650/3000] Step [1/1] Loss: [0.1981] Train ACC [91.81%]\n",
      "Epoch [1680/3000] Step [1/1] Loss: [0.1970] Train ACC [91.81%]\n",
      "Epoch [1710/3000] Step [1/1] Loss: [0.1962] Train ACC [92.30%]\n",
      "Epoch [1740/3000] Step [1/1] Loss: [0.1940] Train ACC [92.30%]\n",
      "Epoch [1770/3000] Step [1/1] Loss: [0.1930] Train ACC [92.13%]\n",
      "Epoch [1800/3000] Step [1/1] Loss: [0.1918] Train ACC [92.13%]\n",
      "Epoch [1830/3000] Step [1/1] Loss: [0.1914] Train ACC [91.97%]\n",
      "Epoch [1860/3000] Step [1/1] Loss: [0.1900] Train ACC [92.13%]\n",
      "Epoch [1890/3000] Step [1/1] Loss: [0.1891] Train ACC [92.13%]\n",
      "Epoch [1920/3000] Step [1/1] Loss: [0.1883] Train ACC [92.30%]\n",
      "Epoch [1950/3000] Step [1/1] Loss: [0.1877] Train ACC [92.13%]\n",
      "Epoch [1980/3000] Step [1/1] Loss: [0.1870] Train ACC [92.13%]\n",
      "Epoch [2010/3000] Step [1/1] Loss: [0.1863] Train ACC [92.13%]\n",
      "Epoch [2040/3000] Step [1/1] Loss: [0.1857] Train ACC [92.13%]\n",
      "Epoch [2070/3000] Step [1/1] Loss: [0.1853] Train ACC [92.13%]\n",
      "Epoch [2100/3000] Step [1/1] Loss: [0.1848] Train ACC [92.13%]\n",
      "Epoch [2130/3000] Step [1/1] Loss: [0.1842] Train ACC [92.13%]\n",
      "Epoch [2160/3000] Step [1/1] Loss: [0.1837] Train ACC [92.46%]\n",
      "Epoch [2190/3000] Step [1/1] Loss: [0.1832] Train ACC [92.46%]\n",
      "Epoch [2220/3000] Step [1/1] Loss: [0.1831] Train ACC [92.78%]\n",
      "Epoch [2250/3000] Step [1/1] Loss: [0.1823] Train ACC [92.62%]\n",
      "Epoch [2280/3000] Step [1/1] Loss: [0.1818] Train ACC [92.30%]\n",
      "Epoch [2310/3000] Step [1/1] Loss: [0.1816] Train ACC [92.30%]\n",
      "Epoch [2340/3000] Step [1/1] Loss: [0.1807] Train ACC [92.46%]\n",
      "Epoch [2370/3000] Step [1/1] Loss: [0.1802] Train ACC [92.62%]\n",
      "Epoch [2400/3000] Step [1/1] Loss: [0.1793] Train ACC [92.62%]\n",
      "Epoch [2430/3000] Step [1/1] Loss: [0.1791] Train ACC [92.46%]\n",
      "Epoch [2460/3000] Step [1/1] Loss: [0.1785] Train ACC [92.78%]\n",
      "Epoch [2490/3000] Step [1/1] Loss: [0.1779] Train ACC [92.78%]\n",
      "Epoch [2520/3000] Step [1/1] Loss: [0.1772] Train ACC [93.10%]\n",
      "Epoch [2550/3000] Step [1/1] Loss: [0.1764] Train ACC [92.94%]\n",
      "Epoch [2580/3000] Step [1/1] Loss: [0.1760] Train ACC [92.62%]\n",
      "Epoch [2610/3000] Step [1/1] Loss: [0.1756] Train ACC [92.78%]\n",
      "Epoch [2640/3000] Step [1/1] Loss: [0.1748] Train ACC [92.94%]\n",
      "Epoch [2670/3000] Step [1/1] Loss: [0.1744] Train ACC [92.94%]\n",
      "Epoch [2700/3000] Step [1/1] Loss: [0.1742] Train ACC [92.78%]\n",
      "Epoch [2730/3000] Step [1/1] Loss: [0.1735] Train ACC [92.62%]\n",
      "Epoch [2760/3000] Step [1/1] Loss: [0.1730] Train ACC [93.10%]\n",
      "Epoch [2790/3000] Step [1/1] Loss: [0.1731] Train ACC [92.62%]\n",
      "Epoch [2820/3000] Step [1/1] Loss: [0.1720] Train ACC [92.94%]\n",
      "Epoch [2850/3000] Step [1/1] Loss: [0.1717] Train ACC [93.42%]\n",
      "Epoch [2880/3000] Step [1/1] Loss: [0.1714] Train ACC [92.94%]\n",
      "Epoch [2910/3000] Step [1/1] Loss: [0.1714] Train ACC [92.78%]\n",
      "Epoch [2940/3000] Step [1/1] Loss: [0.1705] Train ACC [93.10%]\n",
      "Epoch [2970/3000] Step [1/1] Loss: [0.1704] Train ACC [93.10%]\n",
      "Epoch [3000/3000] Step [1/1] Loss: [0.1699] Train ACC [93.10%]\n"
     ]
    }
   ],
   "source": [
    "loss_list = []\n",
    "acc_list = []\n",
    "for epoch in range(EPOCHS):\n",
    "    for i, (X_batch, y_batch) in enumerate(train_loader):\n",
    "        \n",
    "        #Forward \n",
    "        y_output = model(X_batch)\n",
    "        loss = criterion(y_output, y_batch) #CELoss: The input is expected to contain raw, unnormalized scores for each class.\n",
    "        \n",
    "        #Backward\n",
    "        optimizer.zero_grad()\n",
    "        loss.backward()\n",
    "        optimizer.step()\n",
    "        \n",
    "        #misc (acc 계산, etc) \n",
    "        y_pred = torch.max(y_output, 1)[1]\n",
    "        acc = accuracy_score(y_pred.data.cpu(), y_batch.data.cpu())\n",
    "        loss_list.append(loss.item())\n",
    "        acc_list.append(acc)\n",
    "\n",
    "    if (epoch+1) % 30 == 0:\n",
    "        print('Epoch [{}/{}] Step [{}/{}] Loss: [{:.4f}] Train ACC [{:.2f}%]'.format(epoch+1, EPOCHS, \\\n",
    "                                                                                   i+1, len(train_loader), loss.item(), acc*100))"
   ]
  },
  {
   "cell_type": "code",
   "execution_count": 29,
   "metadata": {
    "id": "nt8_rTpKIWnn"
   },
   "outputs": [
    {
     "data": {
      "text/plain": [
       "[<matplotlib.lines.Line2D at 0x251154fc5c8>]"
      ]
     },
     "execution_count": 29,
     "metadata": {},
     "output_type": "execute_result"
    },
    {
     "data": {
      "image/png": "[encoded data removed]",
      "text/plain": [
       "<Figure size 432x288 with 1 Axes>"
      ]
     },
     "metadata": {
      "needs_background": "light"
     },
     "output_type": "display_data"
    }
   ],
   "source": [
    "plt.plot(loss_list)"
   ]
  },
  {
   "cell_type": "code",
   "execution_count": 30,
   "metadata": {
    "id": "UNyiCLTaIWno"
   },
   "outputs": [
    {
     "data": {
      "text/plain": [
       "[<matplotlib.lines.Line2D at 0x2512b4dfdc8>]"
      ]
     },
     "execution_count": 30,
     "metadata": {},
     "output_type": "execute_result"
    },
    {
     "data": {
      "image/png": "[encoded data removed]",
      "text/plain": [
       "<Figure size 432x288 with 1 Axes>"
      ]
     },
     "metadata": {
      "needs_background": "light"
     },
     "output_type": "display_data"
    }
   ],
   "source": [
    "plt.plot(acc_list)"
   ]
  },
  {
   "cell_type": "code",
   "execution_count": null,
   "metadata": {
    "id": "mo1y3M1DIWno"
   },
   "outputs": [],
   "source": []
  },
  {
   "cell_type": "markdown",
   "metadata": {
    "id": "EQnDA546IWno"
   },
   "source": [
    "## Test"
   ]
  },
  {
   "cell_type": "code",
   "execution_count": 31,
   "metadata": {
    "ExecuteTime": {
     "end_time": "2018-10-28T08:26:31.968976Z",
     "start_time": "2018-10-28T08:26:31.839523Z"
    },
    "id": "rc7KvXo9IWno"
   },
   "outputs": [
    {
     "name": "stdout",
     "output_type": "stream",
     "text": [
      "Test ACC: [58.21%]\n"
     ]
    }
   ],
   "source": [
    "test_y_pred = []\n",
    "test_acc_list = []\n",
    "with torch.no_grad():\n",
    "\n",
    "    for X_batch, y_batch in test_loader:    \n",
    "        #Forward\n",
    "        y_output = model(X_batch)\n",
    "        \n",
    "        #misc (acc 계산, etc) \n",
    "        y_pred = torch.max(y_output, 1)[1]\n",
    "        test_y_pred.append(y_pred) ##\n",
    "        \n",
    "        acc = accuracy_score(y_pred.data.cpu(), y_batch.data.cpu())\n",
    "        test_acc_list.append(acc)\n",
    "    test_acc = np.mean(test_acc_list)\n",
    "print('Test ACC: [{:.2f}%]'.format(test_acc*100))"
   ]
  },
  {
   "cell_type": "code",
   "execution_count": 32,
   "metadata": {
    "id": "Nprk6vB0IWnp"
   },
   "outputs": [],
   "source": [
    "# 위에 테스트는 정확도 90퍼정도 나왔는데 아래에서는 72퍼나왔는거 과적합이 일어날건로 보인다."
   ]
  },
  {
   "cell_type": "code",
   "execution_count": 33,
   "metadata": {
    "id": "Fyd662TbIWnp"
   },
   "outputs": [
    {
     "data": {
      "text/plain": [
       "(268,\n",
       " [tensor([0]),\n",
       "  tensor([1]),\n",
       "  tensor([1]),\n",
       "  tensor([1]),\n",
       "  tensor([0]),\n",
       "  tensor([0]),\n",
       "  tensor([0]),\n",
       "  tensor([0]),\n",
       "  tensor([0]),\n",
       "  tensor([0])])"
      ]
     },
     "execution_count": 33,
     "metadata": {},
     "output_type": "execute_result"
    }
   ],
   "source": [
    "len(test_y_pred), test_y_pred[:10]"
   ]
  },
  {
   "cell_type": "code",
   "execution_count": null,
   "metadata": {
    "id": "CNq2fjt0IWnp"
   },
   "outputs": [],
   "source": []
  },
  {
   "cell_type": "markdown",
   "metadata": {
    "id": "Jxs6VnCWIWnp"
   },
   "source": [
    "# Assignment"
   ]
  },
  {
   "cell_type": "code",
   "execution_count": 25,
   "metadata": {
    "id": "xHUn8ZzFIWnp"
   },
   "outputs": [],
   "source": [
    "class Binary_Classification_layer(nn.Module):\n",
    "    \n",
    "    def __init__(self, num_features, num_classes):\n",
    "        super(Binary_Classification_layer, self).__init__()\n",
    "        \n",
    "        self.relu = nn.ReLU()\n",
    "        self.Layer_1 = nn.Sequential(\n",
    "                                nn.Linear(num_features, 30),\n",
    "                                nn.ReLU()\n",
    "                            )\n",
    "        self.Layer_2 = nn.Sequential(\n",
    "                                nn.Linear(30, 15),\n",
    "                                nn.ReLU()\n",
    "                            )\n",
    "        self.Layer_3 = nn.Sequential(\n",
    "                                nn.Linear(15, 8),\n",
    "                                nn.ReLU()\n",
    "                            )\n",
    "        \n",
    "        ################################################\n",
    "        #       TODO                                   #\n",
    "        ################################################\n",
    "        \n",
    "        self.Layer_out = nn.Linear(8, num_classes)\n",
    "\n",
    "    def forward(self, inputs):\n",
    "        x = self.Layer_1(inputs)  \n",
    "        x = self.Layer_2(x)\n",
    "        x = self.Layer_3(x)\n",
    "       \n",
    "        ################################################\n",
    "        #       TODO                                   #\n",
    "        ################################################    \n",
    "        \n",
    "        x = self.Layer_out(x)\n",
    "\n",
    "        return x"
   ]
  },
  {
   "cell_type": "code",
   "execution_count": 38,
   "metadata": {
    "id": "-t6i8Xn_IWnq"
   },
   "outputs": [],
   "source": [
    "EPOCHS = 5000\n",
    "BATCH_SIZE = 480\n",
    "train_loader = DataLoader(dataset=train_data, batch_size=BATCH_SIZE, shuffle=True)\n",
    "test_loader = DataLoader(dataset=test_data, batch_size=1, shuffle=False)\n",
    "\n",
    "model = Binary_Classification_layer(num_features=6, num_classes=2)\n",
    "\n",
    "criterion = nn.CrossEntropyLoss() # https://pytorch.org/docs/stable/nn.html\n",
    "optimizer = optim.Adam(model.parameters(), lr=0.001)"
   ]
  },
  {
   "cell_type": "code",
   "execution_count": 39,
   "metadata": {
    "id": "LU_anXJlIWnq",
    "scrolled": false
   },
   "outputs": [
    {
     "name": "stdout",
     "output_type": "stream",
     "text": [
      "Epoch [30/5000] Step [2/2] Loss: [0.6434] Train avg ACC [62.14%] Test ACC [63.36%]\n",
      "Epoch [60/5000] Step [2/2] Loss: [0.5400] Train avg ACC [71.45%] Test ACC [72.14%]\n",
      "Epoch [90/5000] Step [2/2] Loss: [0.4939] Train avg ACC [75.15%] Test ACC [75.77%]\n",
      "Epoch [120/5000] Step [2/2] Loss: [0.4683] Train avg ACC [77.22%] Test ACC [77.80%]\n",
      "Epoch [150/5000] Step [2/2] Loss: [0.4528] Train avg ACC [78.49%] Test ACC [78.92%]\n",
      "Epoch [180/5000] Step [2/2] Loss: [0.4402] Train avg ACC [79.46%] Test ACC [79.93%]\n",
      "Epoch [210/5000] Step [2/2] Loss: [0.4307] Train avg ACC [80.09%] Test ACC [80.46%]\n",
      "Epoch [240/5000] Step [2/2] Loss: [0.4240] Train avg ACC [80.57%] Test ACC [80.87%]\n",
      "Epoch [270/5000] Step [2/2] Loss: [0.4177] Train avg ACC [80.97%] Test ACC [81.23%]\n",
      "Epoch [300/5000] Step [2/2] Loss: [0.4118] Train avg ACC [81.29%] Test ACC [81.54%]\n",
      "Epoch [330/5000] Step [2/2] Loss: [0.4072] Train avg ACC [81.59%] Test ACC [81.80%]\n",
      "Epoch [360/5000] Step [2/2] Loss: [0.4028] Train avg ACC [81.88%] Test ACC [82.12%]\n",
      "Epoch [390/5000] Step [2/2] Loss: [0.3988] Train avg ACC [82.14%] Test ACC [82.34%]\n",
      "Epoch [420/5000] Step [2/2] Loss: [0.3948] Train avg ACC [82.36%] Test ACC [82.56%]\n",
      "Epoch [450/5000] Step [2/2] Loss: [0.3912] Train avg ACC [82.56%] Test ACC [82.76%]\n",
      "Epoch [480/5000] Step [2/2] Loss: [0.3874] Train avg ACC [82.77%] Test ACC [83.00%]\n",
      "Epoch [510/5000] Step [2/2] Loss: [0.3842] Train avg ACC [82.94%] Test ACC [83.17%]\n",
      "Epoch [540/5000] Step [2/2] Loss: [0.3813] Train avg ACC [83.10%] Test ACC [83.33%]\n",
      "Epoch [570/5000] Step [2/2] Loss: [0.3784] Train avg ACC [83.26%] Test ACC [83.49%]\n",
      "Epoch [600/5000] Step [2/2] Loss: [0.3757] Train avg ACC [83.37%] Test ACC [83.58%]\n",
      "Epoch [630/5000] Step [2/2] Loss: [0.3728] Train avg ACC [83.51%] Test ACC [83.74%]\n",
      "Epoch [660/5000] Step [2/2] Loss: [0.3702] Train avg ACC [83.65%] Test ACC [83.88%]\n",
      "Epoch [690/5000] Step [2/2] Loss: [0.3678] Train avg ACC [83.78%] Test ACC [84.00%]\n",
      "Epoch [720/5000] Step [2/2] Loss: [0.3652] Train avg ACC [83.92%] Test ACC [84.17%]\n",
      "Epoch [750/5000] Step [2/2] Loss: [0.3628] Train avg ACC [84.05%] Test ACC [84.31%]\n",
      "Epoch [780/5000] Step [2/2] Loss: [0.3605] Train avg ACC [84.17%] Test ACC [84.44%]\n",
      "Epoch [810/5000] Step [2/2] Loss: [0.3583] Train avg ACC [84.28%] Test ACC [84.55%]\n",
      "Epoch [840/5000] Step [2/2] Loss: [0.3563] Train avg ACC [84.38%] Test ACC [84.63%]\n",
      "Epoch [870/5000] Step [2/2] Loss: [0.3544] Train avg ACC [84.48%] Test ACC [84.71%]\n",
      "Epoch [900/5000] Step [2/2] Loss: [0.3523] Train avg ACC [84.58%] Test ACC [84.83%]\n",
      "Epoch [930/5000] Step [2/2] Loss: [0.3502] Train avg ACC [84.68%] Test ACC [84.93%]\n",
      "Epoch [960/5000] Step [2/2] Loss: [0.3484] Train avg ACC [84.76%] Test ACC [85.00%]\n",
      "Epoch [990/5000] Step [2/2] Loss: [0.3465] Train avg ACC [84.84%] Test ACC [85.08%]\n",
      "Epoch [1020/5000] Step [2/2] Loss: [0.3447] Train avg ACC [84.93%] Test ACC [85.15%]\n",
      "Epoch [1050/5000] Step [2/2] Loss: [0.3429] Train avg ACC [85.01%] Test ACC [85.24%]\n",
      "Epoch [1080/5000] Step [2/2] Loss: [0.3411] Train avg ACC [85.09%] Test ACC [85.32%]\n",
      "Epoch [1110/5000] Step [2/2] Loss: [0.3394] Train avg ACC [85.16%] Test ACC [85.39%]\n",
      "Epoch [1140/5000] Step [2/2] Loss: [0.3375] Train avg ACC [85.24%] Test ACC [85.48%]\n",
      "Epoch [1170/5000] Step [2/2] Loss: [0.3359] Train avg ACC [85.32%] Test ACC [85.56%]\n",
      "Epoch [1200/5000] Step [2/2] Loss: [0.3344] Train avg ACC [85.38%] Test ACC [85.61%]\n",
      "Epoch [1230/5000] Step [2/2] Loss: [0.3328] Train avg ACC [85.44%] Test ACC [85.68%]\n",
      "Epoch [1260/5000] Step [2/2] Loss: [0.3312] Train avg ACC [85.51%] Test ACC [85.75%]\n",
      "Epoch [1290/5000] Step [2/2] Loss: [0.3298] Train avg ACC [85.57%] Test ACC [85.79%]\n",
      "Epoch [1320/5000] Step [2/2] Loss: [0.3283] Train avg ACC [85.63%] Test ACC [85.86%]\n",
      "Epoch [1350/5000] Step [2/2] Loss: [0.3268] Train avg ACC [85.69%] Test ACC [85.91%]\n",
      "Epoch [1380/5000] Step [2/2] Loss: [0.3254] Train avg ACC [85.76%] Test ACC [85.97%]\n",
      "Epoch [1410/5000] Step [2/2] Loss: [0.3240] Train avg ACC [85.82%] Test ACC [86.03%]\n",
      "Epoch [1440/5000] Step [2/2] Loss: [0.3226] Train avg ACC [85.89%] Test ACC [86.11%]\n",
      "Epoch [1470/5000] Step [2/2] Loss: [0.3212] Train avg ACC [85.95%] Test ACC [86.17%]\n",
      "Epoch [1500/5000] Step [2/2] Loss: [0.3199] Train avg ACC [86.00%] Test ACC [86.22%]\n",
      "Epoch [1530/5000] Step [2/2] Loss: [0.3187] Train avg ACC [86.06%] Test ACC [86.27%]\n",
      "Epoch [1560/5000] Step [2/2] Loss: [0.3174] Train avg ACC [86.12%] Test ACC [86.33%]\n",
      "Epoch [1590/5000] Step [2/2] Loss: [0.3161] Train avg ACC [86.17%] Test ACC [86.39%]\n",
      "Epoch [1620/5000] Step [2/2] Loss: [0.3148] Train avg ACC [86.23%] Test ACC [86.46%]\n",
      "Epoch [1650/5000] Step [2/2] Loss: [0.3136] Train avg ACC [86.29%] Test ACC [86.51%]\n",
      "Epoch [1680/5000] Step [2/2] Loss: [0.3124] Train avg ACC [86.34%] Test ACC [86.56%]\n",
      "Epoch [1710/5000] Step [2/2] Loss: [0.3112] Train avg ACC [86.39%] Test ACC [86.61%]\n",
      "Epoch [1740/5000] Step [2/2] Loss: [0.3101] Train avg ACC [86.44%] Test ACC [86.66%]\n",
      "Epoch [1770/5000] Step [2/2] Loss: [0.3090] Train avg ACC [86.48%] Test ACC [86.71%]\n",
      "Epoch [1800/5000] Step [2/2] Loss: [0.3079] Train avg ACC [86.53%] Test ACC [86.75%]\n",
      "Epoch [1830/5000] Step [2/2] Loss: [0.3068] Train avg ACC [86.58%] Test ACC [86.81%]\n",
      "Epoch [1860/5000] Step [2/2] Loss: [0.3057] Train avg ACC [86.62%] Test ACC [86.85%]\n",
      "Epoch [1890/5000] Step [2/2] Loss: [0.3047] Train avg ACC [86.67%] Test ACC [86.90%]\n",
      "Epoch [1920/5000] Step [2/2] Loss: [0.3037] Train avg ACC [86.71%] Test ACC [86.93%]\n",
      "Epoch [1950/5000] Step [2/2] Loss: [0.3027] Train avg ACC [86.75%] Test ACC [86.97%]\n",
      "Epoch [1980/5000] Step [2/2] Loss: [0.3017] Train avg ACC [86.79%] Test ACC [87.01%]\n",
      "Epoch [2010/5000] Step [2/2] Loss: [0.3007] Train avg ACC [86.83%] Test ACC [87.04%]\n",
      "Epoch [2040/5000] Step [2/2] Loss: [0.2998] Train avg ACC [86.87%] Test ACC [87.09%]\n",
      "Epoch [2070/5000] Step [2/2] Loss: [0.2988] Train avg ACC [86.91%] Test ACC [87.13%]\n",
      "Epoch [2100/5000] Step [2/2] Loss: [0.2979] Train avg ACC [86.95%] Test ACC [87.17%]\n",
      "Epoch [2130/5000] Step [2/2] Loss: [0.2970] Train avg ACC [86.99%] Test ACC [87.21%]\n",
      "Epoch [2160/5000] Step [2/2] Loss: [0.2960] Train avg ACC [87.03%] Test ACC [87.26%]\n",
      "Epoch [2190/5000] Step [2/2] Loss: [0.2951] Train avg ACC [87.07%] Test ACC [87.29%]\n",
      "Epoch [2220/5000] Step [2/2] Loss: [0.2942] Train avg ACC [87.11%] Test ACC [87.33%]\n",
      "Epoch [2250/5000] Step [2/2] Loss: [0.2934] Train avg ACC [87.15%] Test ACC [87.37%]\n",
      "Epoch [2280/5000] Step [2/2] Loss: [0.2925] Train avg ACC [87.19%] Test ACC [87.42%]\n",
      "Epoch [2310/5000] Step [2/2] Loss: [0.2917] Train avg ACC [87.22%] Test ACC [87.45%]\n",
      "Epoch [2340/5000] Step [2/2] Loss: [0.2909] Train avg ACC [87.25%] Test ACC [87.49%]\n",
      "Epoch [2370/5000] Step [2/2] Loss: [0.2901] Train avg ACC [87.29%] Test ACC [87.52%]\n",
      "Epoch [2400/5000] Step [2/2] Loss: [0.2893] Train avg ACC [87.32%] Test ACC [87.55%]\n",
      "Epoch [2430/5000] Step [2/2] Loss: [0.2885] Train avg ACC [87.36%] Test ACC [87.59%]\n",
      "Epoch [2460/5000] Step [2/2] Loss: [0.2877] Train avg ACC [87.39%] Test ACC [87.63%]\n",
      "Epoch [2490/5000] Step [2/2] Loss: [0.2869] Train avg ACC [87.43%] Test ACC [87.67%]\n",
      "Epoch [2520/5000] Step [2/2] Loss: [0.2862] Train avg ACC [87.46%] Test ACC [87.70%]\n",
      "Epoch [2550/5000] Step [2/2] Loss: [0.2855] Train avg ACC [87.50%] Test ACC [87.73%]\n",
      "Epoch [2580/5000] Step [2/2] Loss: [0.2847] Train avg ACC [87.53%] Test ACC [87.77%]\n",
      "Epoch [2610/5000] Step [2/2] Loss: [0.2840] Train avg ACC [87.56%] Test ACC [87.80%]\n",
      "Epoch [2640/5000] Step [2/2] Loss: [0.2833] Train avg ACC [87.59%] Test ACC [87.83%]\n",
      "Epoch [2670/5000] Step [2/2] Loss: [0.2826] Train avg ACC [87.62%] Test ACC [87.87%]\n",
      "Epoch [2700/5000] Step [2/2] Loss: [0.2819] Train avg ACC [87.65%] Test ACC [87.90%]\n",
      "Epoch [2730/5000] Step [2/2] Loss: [0.2812] Train avg ACC [87.68%] Test ACC [87.93%]\n",
      "Epoch [2760/5000] Step [2/2] Loss: [0.2806] Train avg ACC [87.71%] Test ACC [87.96%]\n",
      "Epoch [2790/5000] Step [2/2] Loss: [0.2799] Train avg ACC [87.75%] Test ACC [87.99%]\n",
      "Epoch [2820/5000] Step [2/2] Loss: [0.2792] Train avg ACC [87.78%] Test ACC [88.02%]\n",
      "Epoch [2850/5000] Step [2/2] Loss: [0.2786] Train avg ACC [87.81%] Test ACC [88.05%]\n",
      "Epoch [2880/5000] Step [2/2] Loss: [0.2779] Train avg ACC [87.84%] Test ACC [88.09%]\n",
      "Epoch [2910/5000] Step [2/2] Loss: [0.2772] Train avg ACC [87.87%] Test ACC [88.12%]\n"
     ]
    },
    {
     "name": "stdout",
     "output_type": "stream",
     "text": [
      "Epoch [2940/5000] Step [2/2] Loss: [0.2766] Train avg ACC [87.90%] Test ACC [88.15%]\n",
      "Epoch [2970/5000] Step [2/2] Loss: [0.2760] Train avg ACC [87.93%] Test ACC [88.18%]\n",
      "Epoch [3000/5000] Step [2/2] Loss: [0.2754] Train avg ACC [87.95%] Test ACC [88.21%]\n",
      "Epoch [3030/5000] Step [2/2] Loss: [0.2748] Train avg ACC [87.98%] Test ACC [88.23%]\n",
      "Epoch [3060/5000] Step [2/2] Loss: [0.2742] Train avg ACC [88.01%] Test ACC [88.26%]\n",
      "Epoch [3090/5000] Step [2/2] Loss: [0.2737] Train avg ACC [88.03%] Test ACC [88.28%]\n",
      "Epoch [3120/5000] Step [2/2] Loss: [0.2731] Train avg ACC [88.06%] Test ACC [88.30%]\n",
      "Epoch [3150/5000] Step [2/2] Loss: [0.2726] Train avg ACC [88.08%] Test ACC [88.32%]\n",
      "Epoch [3180/5000] Step [2/2] Loss: [0.2720] Train avg ACC [88.11%] Test ACC [88.35%]\n",
      "Epoch [3210/5000] Step [2/2] Loss: [0.2714] Train avg ACC [88.14%] Test ACC [88.38%]\n",
      "Epoch [3240/5000] Step [2/2] Loss: [0.2709] Train avg ACC [88.16%] Test ACC [88.40%]\n",
      "Epoch [3270/5000] Step [2/2] Loss: [0.2704] Train avg ACC [88.18%] Test ACC [88.43%]\n",
      "Epoch [3300/5000] Step [2/2] Loss: [0.2699] Train avg ACC [88.21%] Test ACC [88.45%]\n",
      "Epoch [3330/5000] Step [2/2] Loss: [0.2693] Train avg ACC [88.23%] Test ACC [88.48%]\n",
      "Epoch [3360/5000] Step [2/2] Loss: [0.2688] Train avg ACC [88.26%] Test ACC [88.50%]\n",
      "Epoch [3390/5000] Step [2/2] Loss: [0.2683] Train avg ACC [88.28%] Test ACC [88.52%]\n",
      "Epoch [3420/5000] Step [2/2] Loss: [0.2678] Train avg ACC [88.30%] Test ACC [88.54%]\n",
      "Epoch [3450/5000] Step [2/2] Loss: [0.2673] Train avg ACC [88.32%] Test ACC [88.57%]\n",
      "Epoch [3480/5000] Step [2/2] Loss: [0.2668] Train avg ACC [88.35%] Test ACC [88.59%]\n",
      "Epoch [3510/5000] Step [2/2] Loss: [0.2663] Train avg ACC [88.37%] Test ACC [88.61%]\n",
      "Epoch [3540/5000] Step [2/2] Loss: [0.2658] Train avg ACC [88.39%] Test ACC [88.63%]\n",
      "Epoch [3570/5000] Step [2/2] Loss: [0.2653] Train avg ACC [88.41%] Test ACC [88.65%]\n",
      "Epoch [3600/5000] Step [2/2] Loss: [0.2649] Train avg ACC [88.43%] Test ACC [88.67%]\n",
      "Epoch [3630/5000] Step [2/2] Loss: [0.2644] Train avg ACC [88.45%] Test ACC [88.69%]\n",
      "Epoch [3660/5000] Step [2/2] Loss: [0.2639] Train avg ACC [88.47%] Test ACC [88.70%]\n",
      "Epoch [3690/5000] Step [2/2] Loss: [0.2635] Train avg ACC [88.49%] Test ACC [88.72%]\n",
      "Epoch [3720/5000] Step [2/2] Loss: [0.2630] Train avg ACC [88.51%] Test ACC [88.75%]\n",
      "Epoch [3750/5000] Step [2/2] Loss: [0.2625] Train avg ACC [88.53%] Test ACC [88.77%]\n",
      "Epoch [3780/5000] Step [2/2] Loss: [0.2621] Train avg ACC [88.55%] Test ACC [88.79%]\n",
      "Epoch [3810/5000] Step [2/2] Loss: [0.2617] Train avg ACC [88.57%] Test ACC [88.81%]\n",
      "Epoch [3840/5000] Step [2/2] Loss: [0.2612] Train avg ACC [88.59%] Test ACC [88.83%]\n",
      "Epoch [3870/5000] Step [2/2] Loss: [0.2608] Train avg ACC [88.61%] Test ACC [88.85%]\n",
      "Epoch [3900/5000] Step [2/2] Loss: [0.2603] Train avg ACC [88.63%] Test ACC [88.87%]\n",
      "Epoch [3930/5000] Step [2/2] Loss: [0.2599] Train avg ACC [88.65%] Test ACC [88.89%]\n",
      "Epoch [3960/5000] Step [2/2] Loss: [0.2595] Train avg ACC [88.67%] Test ACC [88.91%]\n",
      "Epoch [3990/5000] Step [2/2] Loss: [0.2591] Train avg ACC [88.69%] Test ACC [88.93%]\n",
      "Epoch [4020/5000] Step [2/2] Loss: [0.2587] Train avg ACC [88.70%] Test ACC [88.95%]\n",
      "Epoch [4050/5000] Step [2/2] Loss: [0.2583] Train avg ACC [88.72%] Test ACC [88.96%]\n",
      "Epoch [4080/5000] Step [2/2] Loss: [0.2579] Train avg ACC [88.74%] Test ACC [88.98%]\n",
      "Epoch [4110/5000] Step [2/2] Loss: [0.2575] Train avg ACC [88.75%] Test ACC [88.99%]\n",
      "Epoch [4140/5000] Step [2/2] Loss: [0.2571] Train avg ACC [88.77%] Test ACC [89.00%]\n",
      "Epoch [4170/5000] Step [2/2] Loss: [0.2567] Train avg ACC [88.79%] Test ACC [89.02%]\n",
      "Epoch [4200/5000] Step [2/2] Loss: [0.2563] Train avg ACC [88.80%] Test ACC [89.04%]\n",
      "Epoch [4230/5000] Step [2/2] Loss: [0.2559] Train avg ACC [88.82%] Test ACC [89.06%]\n",
      "Epoch [4260/5000] Step [2/2] Loss: [0.2555] Train avg ACC [88.84%] Test ACC [89.08%]\n",
      "Epoch [4290/5000] Step [2/2] Loss: [0.2551] Train avg ACC [88.86%] Test ACC [89.09%]\n",
      "Epoch [4320/5000] Step [2/2] Loss: [0.2547] Train avg ACC [88.87%] Test ACC [89.11%]\n",
      "Epoch [4350/5000] Step [2/2] Loss: [0.2544] Train avg ACC [88.89%] Test ACC [89.12%]\n",
      "Epoch [4380/5000] Step [2/2] Loss: [0.2540] Train avg ACC [88.91%] Test ACC [89.14%]\n",
      "Epoch [4410/5000] Step [2/2] Loss: [0.2536] Train avg ACC [88.92%] Test ACC [89.16%]\n",
      "Epoch [4440/5000] Step [2/2] Loss: [0.2532] Train avg ACC [88.94%] Test ACC [89.18%]\n",
      "Epoch [4470/5000] Step [2/2] Loss: [0.2529] Train avg ACC [88.95%] Test ACC [89.20%]\n",
      "Epoch [4500/5000] Step [2/2] Loss: [0.2525] Train avg ACC [88.97%] Test ACC [89.21%]\n",
      "Epoch [4530/5000] Step [2/2] Loss: [0.2522] Train avg ACC [88.98%] Test ACC [89.23%]\n",
      "Epoch [4560/5000] Step [2/2] Loss: [0.2518] Train avg ACC [89.00%] Test ACC [89.24%]\n",
      "Epoch [4590/5000] Step [2/2] Loss: [0.2515] Train avg ACC [89.02%] Test ACC [89.26%]\n",
      "Epoch [4620/5000] Step [2/2] Loss: [0.2511] Train avg ACC [89.03%] Test ACC [89.27%]\n",
      "Epoch [4650/5000] Step [2/2] Loss: [0.2507] Train avg ACC [89.05%] Test ACC [89.29%]\n",
      "Epoch [4680/5000] Step [2/2] Loss: [0.2504] Train avg ACC [89.06%] Test ACC [89.30%]\n",
      "Epoch [4710/5000] Step [2/2] Loss: [0.2500] Train avg ACC [89.08%] Test ACC [89.32%]\n",
      "Epoch [4740/5000] Step [2/2] Loss: [0.2497] Train avg ACC [89.09%] Test ACC [89.33%]\n",
      "Epoch [4770/5000] Step [2/2] Loss: [0.2494] Train avg ACC [89.11%] Test ACC [89.34%]\n",
      "Epoch [4800/5000] Step [2/2] Loss: [0.2490] Train avg ACC [89.12%] Test ACC [89.36%]\n",
      "Epoch [4830/5000] Step [2/2] Loss: [0.2487] Train avg ACC [89.13%] Test ACC [89.37%]\n",
      "Epoch [4860/5000] Step [2/2] Loss: [0.2483] Train avg ACC [89.15%] Test ACC [89.39%]\n",
      "Epoch [4890/5000] Step [2/2] Loss: [0.2480] Train avg ACC [89.16%] Test ACC [89.40%]\n",
      "Epoch [4920/5000] Step [2/2] Loss: [0.2477] Train avg ACC [89.18%] Test ACC [89.42%]\n",
      "Epoch [4950/5000] Step [2/2] Loss: [0.2473] Train avg ACC [89.19%] Test ACC [89.43%]\n",
      "Epoch [4980/5000] Step [2/2] Loss: [0.2470] Train avg ACC [89.20%] Test ACC [89.45%]\n"
     ]
    }
   ],
   "source": [
    "train_loss_list = []\n",
    "train_acc_list = []\n",
    "\n",
    "test_acc_list = []\n",
    "\n",
    "for epoch in range(EPOCHS):\n",
    "    # train\n",
    "    for i, (X_batch, y_batch) in enumerate(train_loader): \n",
    "        ################################################\n",
    "        #       TODO                                   #\n",
    "        ################################################ \n",
    "        \n",
    "        \n",
    "        #Forward \n",
    "        y_output = model(X_batch)\n",
    "        loss = criterion(y_output, y_batch) #CELoss: The input is expected to contain raw, unnormalized scores for each class.\n",
    "        \n",
    "        #Backward\n",
    "        optimizer.zero_grad()\n",
    "        loss.backward()\n",
    "        optimizer.step()\n",
    "        \n",
    "        #misc (acc 계산, etc) \n",
    "        y_pred = torch.max(y_output, 1)[1]\n",
    "        train_acc = accuracy_score(y_pred.data.cpu(), y_batch.data.cpu())\n",
    "        \n",
    "        train_loss_list.append(loss.item())\n",
    "        train_acc_list.append(train_acc)\n",
    "\n",
    "    \n",
    "        \n",
    "    # test\n",
    "    with torch.no_grad():\n",
    "        ################################################\n",
    "        #       TODO                                   #\n",
    "        ################################################ \n",
    "        #Forward\n",
    "        y_output = model(X_batch)\n",
    "        \n",
    "        #misc (acc 계산, etc) \n",
    "        y_pred = torch.max(y_output, 1)[1]\n",
    "\n",
    "        \n",
    "        test_acc = accuracy_score(y_pred.data.cpu(), y_batch.data.cpu())\n",
    "        test_acc_list.append(test_acc)\n",
    "        \n",
    "\n",
    "    \n",
    "    if (epoch+1) % 30 == 0:\n",
    "        print('Epoch [{}/{}] Step [{}/{}] Loss: [{:.4f}] Train avg ACC [{:.2f}%] Test ACC [{:.2f}%]'.format(epoch+1, EPOCHS, \\\n",
    "                                                                                   i+1, len(train_loader), np.mean(train_loss_list), \\\n",
    "                                                                                                        np.mean(train_acc_list)*100, np.mean(test_acc_list)*100))"
   ]
  },
  {
   "cell_type": "code",
   "execution_count": 43,
   "metadata": {},
   "outputs": [
    {
     "data": {
      "text/plain": [
       "224"
      ]
     },
     "execution_count": 43,
     "metadata": {},
     "output_type": "execute_result"
    }
   ],
   "source": [
    "train_y.sum()"
   ]
  },
  {
   "cell_type": "code",
   "execution_count": 69,
   "metadata": {},
   "outputs": [
    {
     "data": {
      "text/plain": [
       "109"
      ]
     },
     "execution_count": 69,
     "metadata": {},
     "output_type": "execute_result"
    }
   ],
   "source": [
    "test_y.sum()"
   ]
  },
  {
   "cell_type": "code",
   "execution_count": null,
   "metadata": {},
   "outputs": [],
   "source": []
  }
 ],
 "metadata": {
  "colab": {
   "name": "3_Binary_Classification_Neural_Net.ipynb",
   "provenance": []
  },
  "kernelspec": {
   "display_name": "Python 3 (ipykernel)",
   "language": "python",
   "name": "python3"
  },
  "language_info": {
   "codemirror_mode": {
    "name": "ipython",
    "version": 3
   },
   "file_extension": ".py",
   "mimetype": "text/x-python",
   "name": "python",
   "nbconvert_exporter": "python",
   "pygments_lexer": "ipython3",
   "version": "3.7.9"
  },
  "latex_envs": {
   "LaTeX_envs_menu_present": true,
   "autoclose": false,
   "autocomplete": true,
   "bibliofile": "biblio.bib",
   "cite_by": "apalike",
   "current_citInitial": 1,
   "eqLabelWithNumbers": true,
   "eqNumInitial": 1,
   "hotkeys": {
    "equation": "Ctrl-E",
    "itemize": "Ctrl-I"
   },
   "labels_anchors": false,
   "latex_user_defs": false,
   "report_style_numbering": false,
   "user_envs_cfg": false
  },
  "toc": {
   "base_numbering": 1,
   "nav_menu": {},
   "number_sections": true,
   "sideBar": true,
   "skip_h1_title": false,
   "title_cell": "Table of Contents",
   "title_sidebar": "Contents",
   "toc_cell": false,
   "toc_position": {},
   "toc_section_display": true,
   "toc_window_display": false
  },
  "varInspector": {
   "cols": {
    "lenName": 16,
    "lenType": 16,
    "lenVar": 40
   },
   "kernels_config": {
    "python": {
     "delete_cmd_postfix": "",
     "delete_cmd_prefix": "del ",
     "library": "var_list.py",
     "varRefreshCmd": "print(var_dic_list())"
    },
    "r": {
     "delete_cmd_postfix": ") ",
     "delete_cmd_prefix": "rm(",
     "library": "var_list.r",
     "varRefreshCmd": "cat(var_dic_list()) "
    }
   },
   "types_to_exclude": [
    "module",
    "function",
    "builtin_function_or_method",
    "instance",
    "_Feature"
   ],
   "window_display": false
  }
 },
 "nbformat": 4,
 "nbformat_minor": 1
}

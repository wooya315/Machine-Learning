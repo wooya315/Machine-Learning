{
 "cells": [
  {
   "cell_type": "markdown",
   "metadata": {
    "id": "STf-uhqiiD-O"
   },
   "source": [
    "# Pytorch\n",
    " - Define-by-Run"
   ]
  },
  {
   "cell_type": "markdown",
   "metadata": {
    "id": "dPUyqTxmiD-R"
   },
   "source": [
    "# Pytorch Packages\n",
    "\n",
    " - **torch**\n",
    " - torch.autograd\n",
    " - torch.nn\n",
    " - torch.optim\n",
    " - torch.multiprocessing\n",
    " - torch.utils\n",
    " - torch.legact"
   ]
  },
  {
   "cell_type": "markdown",
   "metadata": {
    "id": "a1ewdtcbiD-S"
   },
   "source": [
    "# Pytorch Tensor Basic Usage\n",
    "\n",
    "- Create Tensor\n",
    "- Indexing, Joining, Slicing\n",
    "- Initialization\n",
    "- Math Operations"
   ]
  },
  {
   "cell_type": "markdown",
   "metadata": {
    "id": "ojml6OwriD-T"
   },
   "source": [
    "## 1. Create Tensor"
   ]
  },
  {
   "cell_type": "markdown",
   "metadata": {
    "id": "lHkPb7HKiD-T"
   },
   "source": [
    "### 1) random numbers"
   ]
  },
  {
   "cell_type": "code",
   "execution_count": 2,
   "metadata": {
    "scrolled": true
   },
   "outputs": [
    {
     "name": "stdout",
     "output_type": "stream",
     "text": [
      "Collecting torch\n",
      "  Downloading torch-1.10.1-cp37-cp37m-win_amd64.whl (226.6 MB)\n",
      "Requirement already satisfied: typing-extensions in c:\\users\\wooya2075\\appdata\\local\\programs\\python\\python37\\lib\\site-packages (from torch) (3.10.0.2)\n",
      "Installing collected packages: torch\n",
      "Successfully installed torch-1.10.1\n"
     ]
    }
   ],
   "source": [
    "!pip install torch"
   ]
  },
  {
   "cell_type": "code",
   "execution_count": 3,
   "metadata": {
    "ExecuteTime": {
     "end_time": "2018-10-28T08:41:16.573579Z",
     "start_time": "2018-10-28T08:41:16.262616Z"
    },
    "id": "B9XiJKMyiD-U"
   },
   "outputs": [],
   "source": [
    "from __future__ import print_function\n",
    "import torch"
   ]
  },
  {
   "cell_type": "code",
   "execution_count": 4,
   "metadata": {
    "ExecuteTime": {
     "end_time": "2018-10-18T13:49:52.638893Z",
     "start_time": "2018-10-18T13:49:52.631452Z"
    },
    "id": "MO_TXZytiD-V",
    "outputId": "9a0a57e0-f131-4f31-edbc-9e6e73b587a6"
   },
   "outputs": [
    {
     "data": {
      "text/plain": [
       "tensor([[0.6669, 0.1233, 0.1803],\n",
       "        [0.7946, 0.6677, 0.8357]])"
      ]
     },
     "execution_count": 4,
     "metadata": {},
     "output_type": "execute_result"
    }
   ],
   "source": [
    "# torch.rand(size)\n",
    "# 0~1 사이의 연속균등분포에서 값을 뽑아 2x3 텐서를 생성합니다. ~U(0,1)\n",
    "x = torch.rand(2,3)\n",
    "x"
   ]
  },
  {
   "cell_type": "code",
   "execution_count": 5,
   "metadata": {
    "ExecuteTime": {
     "end_time": "2018-10-18T13:49:53.118988Z",
     "start_time": "2018-10-18T13:49:53.110556Z"
    },
    "id": "r1YED2ljiD-X",
    "outputId": "86ed4a86-f921-4a7f-d1a8-dadd777f9675"
   },
   "outputs": [
    {
     "data": {
      "text/plain": [
       "tensor([[ 0.8802,  0.1567, -0.9297],\n",
       "        [ 1.1978,  1.3096, -0.2456]])"
      ]
     },
     "execution_count": 5,
     "metadata": {},
     "output_type": "execute_result"
    }
   ],
   "source": [
    "# torch.randn(size)\n",
    "# randn의 경우 평균은 0, 표준편차는 1인 정규분포에서 값을 가져옵니다. ~z(0,1)\n",
    "x = torch.randn(2,3)\n",
    "x"
   ]
  },
  {
   "cell_type": "code",
   "execution_count": 60,
   "metadata": {
    "ExecuteTime": {
     "end_time": "2018-10-18T13:49:53.762464Z",
     "start_time": "2018-10-18T13:49:53.757526Z"
    },
    "id": "Ecu_IW_uiD-X",
    "outputId": "454db8a0-d11d-4dfb-a459-1f4230342aa5"
   },
   "outputs": [
    {
     "data": {
      "text/plain": [
       "tensor([0, 4, 3, 1, 2])"
      ]
     },
     "execution_count": 60,
     "metadata": {},
     "output_type": "execute_result"
    }
   ],
   "source": [
    "# torch.randperm(n)\n",
    "# 0부터 n-1까지 1씩 늘어나며 값을 랜덤으로 정렬합니다.\n",
    "x = torch.randperm(5)\n",
    "x"
   ]
  },
  {
   "cell_type": "markdown",
   "metadata": {
    "id": "T2mkgEEWiD-Z"
   },
   "source": [
    "### 2) empty, zeros, ones, arange, max"
   ]
  },
  {
   "cell_type": "code",
   "execution_count": 7,
   "metadata": {
    "ExecuteTime": {
     "end_time": "2018-10-18T13:49:54.685975Z",
     "start_time": "2018-10-18T13:49:54.681021Z"
    },
    "id": "SoNszUPwiD-Z",
    "outputId": "f599e635-5977-4c2e-fd7e-d65ef35e9670"
   },
   "outputs": [
    {
     "data": {
      "text/plain": [
       "tensor([0., 0., 0.])"
      ]
     },
     "execution_count": 7,
     "metadata": {},
     "output_type": "execute_result"
    }
   ],
   "source": [
    "# torch.empty(size)\n",
    "# 원하는 크기의 아주 작은 값을 가진 텐서를 생성합니다. dtype은 input에 따라 결정됩니다.\n",
    "x = torch.empty(2,3)\n",
    "x[0]"
   ]
  },
  {
   "cell_type": "code",
   "execution_count": 8,
   "metadata": {
    "id": "oglRspfhiD-a",
    "outputId": "4136062f-170a-4e7b-9cd4-43d92825d99f"
   },
   "outputs": [
    {
     "data": {
      "text/plain": [
       "torch.Size([2, 3])"
      ]
     },
     "execution_count": 8,
     "metadata": {},
     "output_type": "execute_result"
    }
   ],
   "source": [
    "x.size()"
   ]
  },
  {
   "cell_type": "code",
   "execution_count": 9,
   "metadata": {
    "ExecuteTime": {
     "end_time": "2018-10-18T13:49:55.172440Z",
     "start_time": "2018-10-18T13:49:55.168472Z"
    },
    "id": "IlS-C08TiD-a",
    "outputId": "2531e703-c741-41b7-cdd1-3434955d24de"
   },
   "outputs": [
    {
     "data": {
      "text/plain": [
       "tensor([0., 0., 0.])"
      ]
     },
     "execution_count": 9,
     "metadata": {},
     "output_type": "execute_result"
    }
   ],
   "source": [
    "# torch.zeros(size)\n",
    "# 원하는 크기의 0 값을 가진 텐서를 생성합니다.\n",
    "x = torch.zeros(2,3)\n",
    "x[0]"
   ]
  },
  {
   "cell_type": "code",
   "execution_count": 10,
   "metadata": {
    "ExecuteTime": {
     "end_time": "2018-10-18T13:49:55.722504Z",
     "start_time": "2018-10-18T13:49:55.718536Z"
    },
    "id": "9r1v8iBniD-b",
    "outputId": "5fba34d9-cf4a-491f-e799-0465ffd30531"
   },
   "outputs": [
    {
     "data": {
      "text/plain": [
       "tensor([[1., 1., 1.],\n",
       "        [1., 1., 1.]])"
      ]
     },
     "execution_count": 10,
     "metadata": {},
     "output_type": "execute_result"
    }
   ],
   "source": [
    "# torch.ones(size)\n",
    "# 원하는 크기의 1의 값을 가진 텐서를 생성합니다.\n",
    "x = torch.ones(2,3)\n",
    "x"
   ]
  },
  {
   "cell_type": "code",
   "execution_count": 11,
   "metadata": {
    "ExecuteTime": {
     "end_time": "2018-10-18T13:49:56.246613Z",
     "start_time": "2018-10-18T13:49:56.238677Z"
    },
    "id": "hwDYEwu1iD-c",
    "outputId": "0bbbf725-d1ec-4cd6-c7e8-c7b3ce3046fb"
   },
   "outputs": [
    {
     "data": {
      "text/plain": [
       "tensor([0.0000, 0.5000, 1.0000, 1.5000, 2.0000, 2.5000])"
      ]
     },
     "execution_count": 11,
     "metadata": {},
     "output_type": "execute_result"
    }
   ],
   "source": [
    "# torch.arange(start,end,step=1)\n",
    "# start값부터 end값 전까지 step만큼 더하며 텐서를 생성합니다.\n",
    "x = torch.arange(0,3,step=0.5)\n",
    "x"
   ]
  },
  {
   "cell_type": "code",
   "execution_count": 12,
   "metadata": {
    "id": "x_vcYoSeiD-c",
    "outputId": "f593004d-5ec8-4519-b95f-655feacd8249"
   },
   "outputs": [
    {
     "data": {
      "text/plain": [
       "torch.Size([6])"
      ]
     },
     "execution_count": 12,
     "metadata": {},
     "output_type": "execute_result"
    }
   ],
   "source": [
    "x.size()"
   ]
  },
  {
   "cell_type": "code",
   "execution_count": 13,
   "metadata": {
    "id": "UhAs4IQ9iD-d",
    "outputId": "3bacbd53-f6e3-4485-f3e7-e01f7ad3c337"
   },
   "outputs": [
    {
     "name": "stdout",
     "output_type": "stream",
     "text": [
      "tensor([[0.0236, 0.9485, 0.3849],\n",
      "        [0.9828, 0.6252, 0.8237]])\n"
     ]
    }
   ],
   "source": [
    "# torch.max(input, dim, keepdim=False, out=None) -> (Tensor, LongTensor)\n",
    "# tensor의 최대값을 산출합니다.\n",
    "\n",
    "x = torch.rand(2,3)\n",
    "print(x)"
   ]
  },
  {
   "cell_type": "code",
   "execution_count": 14,
   "metadata": {
    "id": "J6GJ9_PTiD-e",
    "outputId": "ba579e98-ed07-493d-d521-85b2e96f5412"
   },
   "outputs": [
    {
     "name": "stdout",
     "output_type": "stream",
     "text": [
      "tensor(0.9828)\n"
     ]
    }
   ],
   "source": [
    "# 최대값을 출력합니다.\n",
    "print(torch.max(x))"
   ]
  },
  {
   "cell_type": "code",
   "execution_count": 15,
   "metadata": {
    "id": "GFPmPM3xiD-f",
    "outputId": "4c2bcc2d-6611-4969-b5dc-cad8615acbbf"
   },
   "outputs": [
    {
     "name": "stdout",
     "output_type": "stream",
     "text": [
      "torch.return_types.max(\n",
      "values=tensor([0.9828, 0.9485, 0.8237]),\n",
      "indices=tensor([1, 0, 1]))\n"
     ]
    }
   ],
   "source": [
    "# 해당 차원에서 최대값과 그 위치를 출력합니다.\n",
    "print(torch.max(x,0))"
   ]
  },
  {
   "cell_type": "code",
   "execution_count": 16,
   "metadata": {
    "id": "nhmaMAHkiD-f",
    "outputId": "146631ba-8231-4d96-a765-26b813d539e8"
   },
   "outputs": [
    {
     "name": "stdout",
     "output_type": "stream",
     "text": [
      "tensor([1, 0, 1])\n",
      "torch.Size([2, 3]) torch.Size([3])\n"
     ]
    }
   ],
   "source": [
    "print(torch.max(x,0)[1])\n",
    "print(x.size(), torch.max(x,0)[1].size())"
   ]
  },
  {
   "cell_type": "code",
   "execution_count": 17,
   "metadata": {
    "ExecuteTime": {
     "end_time": "2018-10-28T08:43:56.357472Z",
     "start_time": "2018-10-28T08:43:56.348021Z"
    },
    "id": "DiI8-j_PiD-g",
    "outputId": "98bb349f-4344-4f7b-87aa-974662dfe2c6",
    "scrolled": true
   },
   "outputs": [
    {
     "name": "stdout",
     "output_type": "stream",
     "text": [
      "tensor([1, 0])\n",
      "torch.Size([2, 3]) torch.Size([2])\n"
     ]
    }
   ],
   "source": [
    "# 위치를 출력합니다.\n",
    "print(torch.max(x,1)[1])\n",
    "print(x.size(), torch.max(x,1)[1].size())"
   ]
  },
  {
   "cell_type": "markdown",
   "metadata": {
    "id": "nEpLscJGiD-g"
   },
   "source": [
    "### 3) Tensor Data Type"
   ]
  },
  {
   "cell_type": "markdown",
   "metadata": {
    "id": "mCukuU_piD-h"
   },
   "source": [
    "| Data type               | dtype                                         | Tensor types                 |\n",
    "|:-------------------------|:-----------------------------------------------|:------------------------------|\n",
    "| 32-bit floating point   | ``` torch.float32 ``` or ``` torch.float ```  | ``` torch.*.FloatTensor ```  |\n",
    "| 64-bit floating point   | ``` torch.float64 ``` or ``` torch.double ``` | ``` torch.*.DoubleTensor ``` |\n",
    "| 16-bit floating point   | ``` torch.float16 ``` or ``` torch.half ```   | ``` torch.*.HalfTensor ```   |\n",
    "| 16-bit integer (signed) | ``` torch.int16 ``` or ``` torch.short ```    | ``` torch.*.ShortTensor ```  |\n",
    "| 32-bit integer (signed) | ``` torch.int32 ``` or ``` torch.int ```      | ``` torch.*.IntTensor ```    |\n",
    "| 64-bit integer (signed) | ``` torch.int64 ``` or ``` torch.long ```     | ``` torch.*.LongTensor ```   |"
   ]
  },
  {
   "cell_type": "code",
   "execution_count": 62,
   "metadata": {
    "ExecuteTime": {
     "end_time": "2018-10-18T13:50:14.106543Z",
     "start_time": "2018-10-18T13:50:14.100075Z"
    },
    "id": "K23yZDrkiD-h",
    "outputId": "0918a7c1-8bcc-4a52-be6e-f42cf94121ca",
    "scrolled": true
   },
   "outputs": [
    {
     "name": "stdout",
     "output_type": "stream",
     "text": [
      "tensor([[0.0000, 2.1250, 0.0000],\n",
      "        [2.3750, 0.0000, 2.5312]])\n",
      "tensor([[0, 0, 0],\n",
      "        [0, 0, 0]])\n",
      "tensor([0.0000, 0.5000, 1.0000, 1.5000, 2.0000, 2.5000], dtype=torch.float64)\n"
     ]
    }
   ],
   "source": [
    "# torch.empty(size, dtype=)\n",
    "# torch.zeros(size, dtype=)\n",
    "# torch.arange(start,end,dtype=)\n",
    "\n",
    "# torch에서 지원하는 다양한 data type을 옵션으로 지정할 수 있습니다.\n",
    "\n",
    "x = torch.empty(2,3, dtype=torch.float)\n",
    "y = torch.zeros(2,3, dtype = torch.long)\n",
    "z = torch.arange(0,3,step=0.5,dtype=torch.double)\n",
    "\n",
    "print(x)\n",
    "print(y)\n",
    "print(z)"
   ]
  },
  {
   "cell_type": "code",
   "execution_count": 19,
   "metadata": {
    "ExecuteTime": {
     "end_time": "2018-10-18T13:52:45.755168Z",
     "start_time": "2018-10-18T13:52:45.748223Z"
    },
    "id": "34YAVyrQiD-i",
    "outputId": "08bbc3b0-b3e9-4bf2-9afc-0bf4055486d4"
   },
   "outputs": [
    {
     "data": {
      "text/plain": [
       "tensor([5.5000, 3.0000])"
      ]
     },
     "execution_count": 19,
     "metadata": {},
     "output_type": "execute_result"
    }
   ],
   "source": [
    "# torch.tensor(size or list, dtype = torch.floattensor) \n",
    "# 원하는 텐서를 바로 생성합니다.\n",
    "x = torch.tensor([5.5,3])\n",
    "x"
   ]
  },
  {
   "cell_type": "code",
   "execution_count": 20,
   "metadata": {
    "ExecuteTime": {
     "end_time": "2018-10-18T14:01:15.180723Z",
     "start_time": "2018-10-18T14:01:15.174242Z"
    },
    "id": "Pb4v_owqiD-j",
    "outputId": "5e2d12db-eea7-4ac2-983f-d77258af9ad5"
   },
   "outputs": [
    {
     "name": "stdout",
     "output_type": "stream",
     "text": [
      "tensor([[0.0000e+00, 1.0000e+00, 4.1303e-08],\n",
      "        [8.2720e-10, 5.2894e+22, 6.7654e+22]])\n",
      "tensor([2., 3.])\n"
     ]
    }
   ],
   "source": [
    "# torch.FloatTensor(size or list)\n",
    "x = torch.FloatTensor(2,3)\n",
    "print(x)\n",
    "x = torch.FloatTensor([2,3])\n",
    "print(x)"
   ]
  },
  {
   "cell_type": "code",
   "execution_count": 21,
   "metadata": {
    "ExecuteTime": {
     "end_time": "2018-10-18T14:01:45.322911Z",
     "start_time": "2018-10-18T14:01:45.306086Z"
    },
    "id": "EhmTPttViD-j",
    "outputId": "e7abeeb1-6295-44db-f43a-9dafdf937709"
   },
   "outputs": [
    {
     "data": {
      "text/plain": [
       "tensor([2, 3], dtype=torch.int32)"
      ]
     },
     "execution_count": 21,
     "metadata": {},
     "output_type": "execute_result"
    }
   ],
   "source": [
    "# tensor.type_as(tensor_type)\n",
    "# tensor 형 변환\n",
    "x = x.type_as(torch.IntTensor())\n",
    "x"
   ]
  },
  {
   "cell_type": "markdown",
   "metadata": {
    "id": "I9da8Vm0iD-k"
   },
   "source": [
    "### 4) Tensor Size"
   ]
  },
  {
   "cell_type": "code",
   "execution_count": 22,
   "metadata": {
    "ExecuteTime": {
     "end_time": "2018-10-18T14:07:04.655354Z",
     "start_time": "2018-10-18T14:07:04.650890Z"
    },
    "id": "AtDJuApKiD-k",
    "outputId": "dccc33a6-fbde-460c-814c-1a6b1262c627"
   },
   "outputs": [
    {
     "name": "stdout",
     "output_type": "stream",
     "text": [
      "torch.Size([10, 12, 3, 3])\n",
      "10\n"
     ]
    }
   ],
   "source": [
    "# tensor.size()\n",
    "\n",
    "x = torch.FloatTensor(10,12,3,3)\n",
    "\n",
    "print(x.size()[:])\n",
    "print(x.size()[0])"
   ]
  },
  {
   "cell_type": "code",
   "execution_count": 23,
   "metadata": {
    "ExecuteTime": {
     "end_time": "2018-10-16T11:39:17.332380Z",
     "start_time": "2018-10-16T11:39:17.325443Z"
    },
    "id": "Ilt0oaxXiD-l",
    "outputId": "7fbbea90-559d-4e65-e07f-bf68881951e6"
   },
   "outputs": [
    {
     "name": "stdout",
     "output_type": "stream",
     "text": [
      "tensor([[1., 1., 1.],\n",
      "        [1., 1., 1.],\n",
      "        [1., 1., 1.],\n",
      "        [1., 1., 1.],\n",
      "        [1., 1., 1.]], dtype=torch.float64)\n",
      "tensor([[ 2.0844,  0.2485, -0.3512],\n",
      "        [ 1.6618, -1.8705, -0.8266],\n",
      "        [ 1.4041, -1.0177,  1.3547],\n",
      "        [-1.3221,  0.0707, -0.9810],\n",
      "        [-0.3446, -0.1818,  0.9965]])\n"
     ]
    }
   ],
   "source": [
    "x = x.new_ones(5,3, dtype=torch.double) #5,3 차원의 새로운 텐서를 생성합니다.\n",
    "print(x)\n",
    "\n",
    "x = torch.randn_like(x,dtype=torch.float) # 같은 size에서 랜덤한 숫자로 채워진 텐서를 생성합니다.\n",
    "print(x)"
   ]
  },
  {
   "cell_type": "markdown",
   "metadata": {
    "id": "0yu0NlVJiD-l"
   },
   "source": [
    "## 2. Math Operations\n",
    "\n",
    "### 1) add, mul, div"
   ]
  },
  {
   "cell_type": "code",
   "execution_count": 24,
   "metadata": {
    "ExecuteTime": {
     "end_time": "2018-10-18T14:13:27.357191Z",
     "start_time": "2018-10-18T14:13:27.348772Z"
    },
    "id": "606RJ_jqiD-l",
    "outputId": "1e63e75b-72ea-4d99-b51d-77df1d163f19"
   },
   "outputs": [
    {
     "data": {
      "text/plain": [
       "(tensor([[1., 2., 3.],\n",
       "         [4., 5., 6.]]),\n",
       " tensor([[1., 2., 3.],\n",
       "         [4., 5., 6.]]),\n",
       " tensor([[ 2.,  4.,  6.],\n",
       "         [ 8., 10., 12.]]),\n",
       " tensor([[ 2.,  4.,  6.],\n",
       "         [ 8., 10., 12.]]),\n",
       " tensor([[0., 0., 0.],\n",
       "         [0., 0., 0.]]))"
      ]
     },
     "execution_count": 24,
     "metadata": {},
     "output_type": "execute_result"
    }
   ],
   "source": [
    "# torch.add()\n",
    "# 텐서의 값끼리 더합니다.\n",
    "\n",
    "x1 = torch.FloatTensor([[1,2,3],[4,5,6]])\n",
    "x2 = torch.FloatTensor([[1,2,3],[4,5,6]])\n",
    "add = torch.add(x1, x2)\n",
    "\n",
    "x1,x2,add,x1+x2,x1-x2"
   ]
  },
  {
   "cell_type": "code",
   "execution_count": 25,
   "metadata": {
    "ExecuteTime": {
     "end_time": "2018-10-16T11:41:37.076027Z",
     "start_time": "2018-10-16T11:41:37.068067Z"
    },
    "id": "JxET0HEeiD-m",
    "outputId": "c603d9e0-d424-46cc-bd21-8e2f6942b57f"
   },
   "outputs": [
    {
     "data": {
      "text/plain": [
       "(tensor([[[0.7396, 0.2220, 0.7082],\n",
       "          [0.0317, 0.0467, 0.4976],\n",
       "          [0.4672, 0.8288, 0.7302],\n",
       "          [0.5534, 0.7906, 0.3120],\n",
       "          [0.6131, 0.0871, 0.2496]]]),\n",
       " tensor([[0.7445, 0.6948, 0.8728],\n",
       "         [0.1183, 0.2094, 0.4099],\n",
       "         [0.8281, 0.7985, 0.5571],\n",
       "         [0.4976, 0.9037, 0.0422],\n",
       "         [0.1983, 0.0994, 0.8588]]),\n",
       " tensor([[[1.4841, 0.9168, 1.5810],\n",
       "          [0.1499, 0.2560, 0.9075],\n",
       "          [1.2954, 1.6273, 1.2874],\n",
       "          [1.0510, 1.6943, 0.3542],\n",
       "          [0.8114, 0.1865, 1.1084]]]))"
      ]
     },
     "execution_count": 25,
     "metadata": {},
     "output_type": "execute_result"
    }
   ],
   "source": [
    "#차원이 다르더라도 안쪽 차원만 같으면 연산이 가능합니다.\n",
    "\n",
    "x = torch.rand(1,5,3)\n",
    "y = torch.rand(5,3)\n",
    "x, y, torch.add(x,y)"
   ]
  },
  {
   "cell_type": "code",
   "execution_count": 26,
   "metadata": {
    "ExecuteTime": {
     "end_time": "2018-10-16T11:47:51.415692Z",
     "start_time": "2018-10-16T11:47:51.411729Z"
    },
    "id": "BkMDh3dYiD-n",
    "outputId": "fb64ddef-e6e5-4fdd-eda6-dafb350f6fad"
   },
   "outputs": [
    {
     "name": "stdout",
     "output_type": "stream",
     "text": [
      "tensor([[1.3998, 0.7285, 1.6031],\n",
      "        [0.4110, 1.1258, 0.9469],\n",
      "        [1.1615, 0.9128, 1.3823],\n",
      "        [1.1584, 1.1100, 0.6978],\n",
      "        [0.3453, 0.9266, 0.9561]])\n"
     ]
    }
   ],
   "source": [
    "# torch.add 말고 add_의 경우에는 이러한 연산 기능이 지원되지 않습니다. 따라서 먼저 x를 같은 차원으로 바꿔줍니다.\n",
    "\n",
    "x = torch.rand(5,3)\n",
    "y.add_(x)\n",
    "print(y)"
   ]
  },
  {
   "cell_type": "code",
   "execution_count": 27,
   "metadata": {
    "ExecuteTime": {
     "end_time": "2018-10-18T14:17:37.639499Z",
     "start_time": "2018-10-18T14:17:37.627620Z"
    },
    "id": "XaIBJd-HiD-n",
    "outputId": "ff3d0307-5fdd-4ecc-bfcb-2f61d8f3629d"
   },
   "outputs": [
    {
     "name": "stdout",
     "output_type": "stream",
     "text": [
      "tensor([[0.6553, 0.0337, 0.7303],\n",
      "        [0.2927, 0.9164, 0.5370],\n",
      "        [0.3333, 0.1143, 0.8252],\n",
      "        [0.6607, 0.2062, 0.6556],\n",
      "        [0.1470, 0.8272, 0.0973]])\n",
      "torch.Size([5, 3])\n",
      "tensor([0.0337, 0.9164, 0.1143, 0.2062, 0.8272])\n",
      "torch.Size([5])\n"
     ]
    }
   ],
   "source": [
    "# x 텐서의 2열을 불러옵니다. numpy 연산이 지원됩니다.\n",
    "\n",
    "print(x)\n",
    "print(x.shape)\n",
    "print(x[:,1])\n",
    "print(x[:,1].shape)"
   ]
  },
  {
   "cell_type": "code",
   "execution_count": 28,
   "metadata": {
    "ExecuteTime": {
     "end_time": "2018-10-18T14:21:21.937483Z",
     "start_time": "2018-10-18T14:21:21.929079Z"
    },
    "id": "5rkbDc-SiD-o",
    "outputId": "78b28f81-506a-42cb-daae-a2c0abaa7fe4"
   },
   "outputs": [
    {
     "data": {
      "text/plain": [
       "(torch.Size([2, 3]),\n",
       " torch.Size([2, 3]),\n",
       " torch.Size([2, 3]),\n",
       " tensor([[1., 2., 3.],\n",
       "         [4., 5., 6.]]),\n",
       " tensor([[1., 2., 3.],\n",
       "         [4., 5., 6.]]),\n",
       " tensor([[ 1.,  4.,  9.],\n",
       "         [16., 25., 36.]]))"
      ]
     },
     "execution_count": 28,
     "metadata": {},
     "output_type": "execute_result"
    }
   ],
   "source": [
    "# torch.mul()\n",
    "# hadamard product, mxn, mxn 행렬 2개를 곱합니다. 덧셈에 대해 분배법칙을 따릅니다.\n",
    "\n",
    "x1 = torch.FloatTensor([[1,2,3],[4,5,6]])\n",
    "x2 = torch.FloatTensor([[1,2,3],[4,5,6]])\n",
    "x3 = torch.mul(x1,x2)\n",
    "\n",
    "x1.size(), x2.size(), x3.size(), x1, x2, x3"
   ]
  },
  {
   "cell_type": "code",
   "execution_count": 29,
   "metadata": {
    "ExecuteTime": {
     "end_time": "2018-10-18T14:22:18.900911Z",
     "start_time": "2018-10-18T14:22:18.894439Z"
    },
    "id": "f00Nz1x9iD-o",
    "outputId": "e7e9ee02-9f72-44e6-e05b-d45aa7266cc0"
   },
   "outputs": [
    {
     "data": {
      "text/plain": [
       "tensor([[10., 20., 30.],\n",
       "        [40., 50., 60.]])"
      ]
     },
     "execution_count": 29,
     "metadata": {},
     "output_type": "execute_result"
    }
   ],
   "source": [
    "# torch.mul()\n",
    "\n",
    "x1 = torch.FloatTensor([[1,2,3,],[4,5,6]])\n",
    "x2 = x1*10\n",
    "\n",
    "x2"
   ]
  },
  {
   "cell_type": "code",
   "execution_count": 30,
   "metadata": {
    "ExecuteTime": {
     "end_time": "2018-10-18T14:22:59.876800Z",
     "start_time": "2018-10-18T14:22:59.868342Z"
    },
    "id": "6mZcbeK_iD-p",
    "outputId": "a5ff7ce0-5c1d-4c51-e2a0-dcff8a7a3f4d"
   },
   "outputs": [
    {
     "data": {
      "text/plain": [
       "tensor([[1., 1., 1.],\n",
       "        [1., 1., 1.]])"
      ]
     },
     "execution_count": 30,
     "metadata": {},
     "output_type": "execute_result"
    }
   ],
   "source": [
    "# torch.div()\n",
    "\n",
    "x1 = torch.FloatTensor([[1,2,3],[4,5,6]])\n",
    "x2 = torch.FloatTensor([[1,2,3],[4,5,6]])\n",
    "x3 = torch.div(x1,x2)\n",
    "\n",
    "x3"
   ]
  },
  {
   "cell_type": "code",
   "execution_count": 31,
   "metadata": {
    "ExecuteTime": {
     "end_time": "2018-10-18T14:24:04.752373Z",
     "start_time": "2018-10-18T14:24:04.739488Z"
    },
    "id": "ion3QnVRiD-p",
    "outputId": "6f953c96-2e68-4937-9acc-fbe25af08adc"
   },
   "outputs": [
    {
     "data": {
      "text/plain": [
       "tensor([[0.2000, 0.4000, 0.6000],\n",
       "        [0.8000, 1.0000, 1.2000]])"
      ]
     },
     "execution_count": 31,
     "metadata": {},
     "output_type": "execute_result"
    }
   ],
   "source": [
    "# torch.div()\n",
    "\n",
    "x1 = torch.FloatTensor([[1,2,3],[4,5,6]])\n",
    "\n",
    "x1/5"
   ]
  },
  {
   "cell_type": "markdown",
   "metadata": {
    "id": "rBlckHWQiD-q"
   },
   "source": [
    "### 2) pow, exp, log"
   ]
  },
  {
   "cell_type": "code",
   "execution_count": 32,
   "metadata": {
    "ExecuteTime": {
     "end_time": "2018-10-18T14:26:45.051237Z",
     "start_time": "2018-10-18T14:26:45.045284Z"
    },
    "id": "JQ0PjKD6iD-q",
    "outputId": "685cb3d7-9222-4d15-8168-dbe47017af7c"
   },
   "outputs": [
    {
     "name": "stdout",
     "output_type": "stream",
     "text": [
      "tensor([[0.7585, 0.4140, 0.1488, 0.2514],\n",
      "        [0.7895, 0.6426, 0.8136, 0.1358],\n",
      "        [0.2608, 0.1537, 0.2055, 0.0186]])\n",
      "tensor([[5.7531e-01, 1.7144e-01, 2.2153e-02, 6.3225e-02],\n",
      "        [6.2327e-01, 4.1299e-01, 6.6196e-01, 1.8445e-02],\n",
      "        [6.8040e-02, 2.3628e-02, 4.2212e-02, 3.4434e-04]]) \n",
      " tensor([[5.7531e-01, 1.7144e-01, 2.2153e-02, 6.3225e-02],\n",
      "        [6.2327e-01, 4.1299e-01, 6.6196e-01, 1.8445e-02],\n",
      "        [6.8040e-02, 2.3628e-02, 4.2212e-02, 3.4434e-04]])\n"
     ]
    }
   ],
   "source": [
    "# torch.pow(input,exponent)\n",
    "\n",
    "x1 = torch.rand(3,4)\n",
    "\n",
    "print(x1)\n",
    "print(torch.pow(x1,2),\"\\n\",x1**2)"
   ]
  },
  {
   "cell_type": "code",
   "execution_count": 33,
   "metadata": {
    "ExecuteTime": {
     "end_time": "2018-10-18T14:27:39.869050Z",
     "start_time": "2018-10-18T14:27:39.864586Z"
    },
    "id": "LhnFb15HiD-r",
    "outputId": "3379ff79-bb57-4a63-975c-79e5250d9700"
   },
   "outputs": [
    {
     "name": "stdout",
     "output_type": "stream",
     "text": [
      "tensor([[0.9843, 0.3875, 0.5026, 0.6257],\n",
      "        [0.9673, 0.2673, 0.9273, 0.1899],\n",
      "        [0.8739, 0.3234, 0.7594, 0.2575]])\n",
      "tensor([[2.6758, 1.4734, 1.6530, 1.8696],\n",
      "        [2.6308, 1.3065, 2.5277, 1.2091],\n",
      "        [2.3962, 1.3819, 2.1371, 1.2937]])\n"
     ]
    }
   ],
   "source": [
    "# torch.exp(tensor,out=None)\n",
    "\n",
    "x1 = torch.rand(3,4)\n",
    "\n",
    "print(x1)\n",
    "print(torch.exp(x1))"
   ]
  },
  {
   "cell_type": "code",
   "execution_count": 34,
   "metadata": {
    "ExecuteTime": {
     "end_time": "2018-10-18T14:28:38.622326Z",
     "start_time": "2018-10-18T14:28:38.607413Z"
    },
    "id": "i5ma5r7ziD-s",
    "outputId": "0ac504b6-d379-4b5c-ee46-ba3e6e8831a8"
   },
   "outputs": [
    {
     "name": "stdout",
     "output_type": "stream",
     "text": [
      "tensor([[0.8584, 0.1964, 0.5868, 0.1823],\n",
      "        [0.9497, 0.1988, 0.6599, 0.4472],\n",
      "        [0.1539, 0.5418, 0.7337, 0.6457]])\n",
      "tensor([[-0.1526, -1.6277, -0.5331, -1.7021],\n",
      "        [-0.0516, -1.6153, -0.4156, -0.8048],\n",
      "        [-1.8717, -0.6128, -0.3097, -0.4374]])\n"
     ]
    }
   ],
   "source": [
    "# torch.log(input,out=None)\n",
    "\n",
    "x1 = torch.rand(3,4)\n",
    "\n",
    "print(x1)\n",
    "print(torch.log(x1))"
   ]
  },
  {
   "cell_type": "code",
   "execution_count": 35,
   "metadata": {
    "ExecuteTime": {
     "end_time": "2018-10-18T14:30:17.992784Z",
     "start_time": "2018-10-18T14:30:17.976412Z"
    },
    "id": "WclvOnOQiD-s",
    "outputId": "0a93dfb2-6a68-4c86-9eca-cc0e221240cf"
   },
   "outputs": [
    {
     "data": {
      "text/plain": [
       "tensor([[1.3862, 2.2947, 1.7963, 1.3396, 2.0538],\n",
       "        [1.1583, 1.7646, 1.6147, 0.9485, 1.5517],\n",
       "        [0.5389, 0.9930, 0.8657, 0.3914, 0.7254]])"
      ]
     },
     "execution_count": 35,
     "metadata": {},
     "output_type": "execute_result"
    }
   ],
   "source": [
    "# torch.mm(matrix1, matrix2)\n",
    "\n",
    "x1 = torch.rand(3,4)\n",
    "x2 = torch.rand(4,5)\n",
    "\n",
    "torch.mm(x1,x2)"
   ]
  },
  {
   "cell_type": "code",
   "execution_count": 36,
   "metadata": {
    "ExecuteTime": {
     "end_time": "2018-10-18T14:31:40.819367Z",
     "start_time": "2018-10-18T14:31:40.815375Z"
    },
    "id": "2lOvwcxSiD-t",
    "outputId": "76d578ac-45ec-4daa-9564-88d4a0377008"
   },
   "outputs": [
    {
     "data": {
      "text/plain": [
       "torch.Size([10, 3, 5])"
      ]
     },
     "execution_count": 36,
     "metadata": {},
     "output_type": "execute_result"
    }
   ],
   "source": [
    "# torch.bmm(batch_matrix1, batch_matrix2)\n",
    "\n",
    "x1 = torch.rand(10,3,4)\n",
    "x2 = torch.rand(10,4,5)\n",
    "\n",
    "torch.bmm(x1,x2).size()"
   ]
  },
  {
   "cell_type": "markdown",
   "metadata": {
    "id": "cikJdV_KiD-u"
   },
   "source": [
    "![img](https://github.com/shwksl101/Pytorch-A-to-Z/blob/master/img/innerproduct.PNG?raw=true)"
   ]
  },
  {
   "cell_type": "code",
   "execution_count": 37,
   "metadata": {
    "ExecuteTime": {
     "end_time": "2018-10-18T14:35:25.100038Z",
     "start_time": "2018-10-18T14:35:25.092602Z"
    },
    "id": "SDBuaJgkiD-u",
    "outputId": "23995c3d-b202-45d1-f909-1ba10fbf843e"
   },
   "outputs": [
    {
     "data": {
      "text/plain": [
       "tensor(7)"
      ]
     },
     "execution_count": 37,
     "metadata": {},
     "output_type": "execute_result"
    }
   ],
   "source": [
    "# torch.dot(tensor1, tensor2)\n",
    "\n",
    "torch.dot(torch.tensor([2,3]), torch.tensor([2,1]))"
   ]
  },
  {
   "cell_type": "code",
   "execution_count": 38,
   "metadata": {
    "ExecuteTime": {
     "end_time": "2018-10-18T14:42:57.524955Z",
     "start_time": "2018-10-18T14:42:57.514572Z"
    },
    "id": "Q549cuG5iD-v",
    "outputId": "f28995a1-c817-4b85-d28f-658c1d25b72a"
   },
   "outputs": [
    {
     "name": "stdout",
     "output_type": "stream",
     "text": [
      "torch.Size([3, 4]) torch.Size([4, 3])\n"
     ]
    }
   ],
   "source": [
    "# torch.t(matrix)\n",
    "# tranpose\n",
    "\n",
    "x1 = torch.rand(3,4)\n",
    "print(x1.size(), x1.t().size())"
   ]
  },
  {
   "cell_type": "code",
   "execution_count": 39,
   "metadata": {
    "id": "y-vHPcBeiD-v",
    "outputId": "b7fc5b4c-f201-43a2-b342-4152f4c2361a"
   },
   "outputs": [
    {
     "data": {
      "text/plain": [
       "(torch.Size([10, 3, 4]), torch.Size([10, 4, 3]), torch.Size([10, 4, 3]))"
      ]
     },
     "execution_count": 39,
     "metadata": {},
     "output_type": "execute_result"
    }
   ],
   "source": [
    "# torch.transpose(input,dim0,dim1)\n",
    "\n",
    "x1 = torch.rand(10,3,4)\n",
    "x1.size(), torch.transpose(x1,1,2).size(), x1.transpose(1,2).size() #contiguous"
   ]
  },
  {
   "cell_type": "code",
   "execution_count": 40,
   "metadata": {
    "ExecuteTime": {
     "end_time": "2018-10-18T14:44:18.688704Z",
     "start_time": "2018-10-18T14:44:18.679781Z"
    },
    "id": "tsD-WOoSiD-v",
    "outputId": "4151b77d-5f53-42e1-b755-19f6c693e31a"
   },
   "outputs": [
    {
     "name": "stdout",
     "output_type": "stream",
     "text": [
      "tensor([[0.9444, 0.0832],\n",
      "        [0.4578, 0.5318]]) \n",
      " torch.return_types.eig(\n",
      "eigenvalues=tensor([[1.0220, 0.0000],\n",
      "        [0.4542, 0.0000]]),\n",
      "eigenvectors=tensor([[ 0.7308, -0.1673],\n",
      "        [ 0.6826,  0.9859]]))\n"
     ]
    },
    {
     "name": "stderr",
     "output_type": "stream",
     "text": [
      "c:\\users\\wooya2075\\appdata\\local\\programs\\python\\python37\\lib\\site-packages\\ipykernel_launcher.py:6: UserWarning: torch.eig is deprecated in favor of torch.linalg.eig and will be removed in a future PyTorch release.\n",
      "torch.linalg.eig returns complex tensors of dtype cfloat or cdouble rather than real tensors mimicking complex tensors.\n",
      "L, _ = torch.eig(A)\n",
      "should be replaced with\n",
      "L_complex = torch.linalg.eigvals(A)\n",
      "and\n",
      "L, V = torch.eig(A, eigenvectors=True)\n",
      "should be replaced with\n",
      "L_complex, V_complex = torch.linalg.eig(A) (Triggered internally at  ..\\aten\\src\\ATen\\native\\BatchLinearAlgebra.cpp:2894.)\n",
      "  \n"
     ]
    }
   ],
   "source": [
    "# torch.eig(a,eigenvectors=Flase)\n",
    "# eigen_value, eigen_vector\n",
    "\n",
    "x1 = torch.rand(2,2)\n",
    "\n",
    "print(x1,\"\\n\",torch.eig(x1,True))"
   ]
  },
  {
   "cell_type": "markdown",
   "metadata": {
    "id": "DzkIkJRMiD-w"
   },
   "source": [
    "### 3) view, item"
   ]
  },
  {
   "cell_type": "code",
   "execution_count": 41,
   "metadata": {
    "ExecuteTime": {
     "end_time": "2018-10-16T11:51:42.774580Z",
     "start_time": "2018-10-16T11:51:42.767140Z"
    },
    "id": "1qL9R0HPiD-w",
    "outputId": "0eb1be43-9de6-4e27-d71e-f1afea9d130f"
   },
   "outputs": [
    {
     "name": "stdout",
     "output_type": "stream",
     "text": [
      "torch.Size([4, 4])\n",
      "torch.Size([16]) tensor([ 2.0998,  1.7503,  0.5213,  2.0986,  0.8504,  1.1723,  0.4134, -0.4731,\n",
      "        -0.5676, -0.3531, -0.0238,  1.9403, -0.8730,  1.1628,  0.1780, -1.4592])\n",
      "torch.Size([2, 8]) tensor([[ 2.0998,  1.7503,  0.5213,  2.0986,  0.8504,  1.1723,  0.4134, -0.4731],\n",
      "        [-0.5676, -0.3531, -0.0238,  1.9403, -0.8730,  1.1628,  0.1780, -1.4592]])\n"
     ]
    }
   ],
   "source": [
    "# view()\n",
    "\n",
    "x = torch.randn(4,4)\n",
    "y = x.view(16)\n",
    "z = x.view(-1,8) # -1의 경우 다른 차원들로 유추합니다. 이 경우에는 2로 유추합니다.\n",
    "print(x.size())\n",
    "print(y.size(),y)\n",
    "print(z.size(),z)"
   ]
  },
  {
   "cell_type": "code",
   "execution_count": 42,
   "metadata": {
    "ExecuteTime": {
     "end_time": "2018-10-16T11:54:28.425390Z",
     "start_time": "2018-10-16T11:54:28.417952Z"
    },
    "id": "sKsKBGRgiD-w",
    "outputId": "d5a8dd20-1aae-4451-8dac-6f3708111cd9"
   },
   "outputs": [
    {
     "name": "stdout",
     "output_type": "stream",
     "text": [
      "tensor([0.9084])\n",
      "0.908434271812439\n"
     ]
    }
   ],
   "source": [
    "# item()\n",
    "\n",
    "x = torch.randn(1)\n",
    "print(x)\n",
    "print(x.item())"
   ]
  },
  {
   "cell_type": "markdown",
   "metadata": {
    "id": "q9n-7vOOiD-w"
   },
   "source": [
    "- 더 많은 연산은 다음의 링크에서 참고하세요 https://pytorch.org/docs/stable/torch.html"
   ]
  },
  {
   "cell_type": "markdown",
   "metadata": {
    "id": "P6Msld3oiD-x"
   },
   "source": [
    "## 3. Tensor to Numpy, Numpy to Tensor"
   ]
  },
  {
   "cell_type": "code",
   "execution_count": 43,
   "metadata": {
    "ExecuteTime": {
     "end_time": "2018-10-16T12:05:14.994111Z",
     "start_time": "2018-10-16T12:05:14.990154Z"
    },
    "id": "2luTaSG6iD-x"
   },
   "outputs": [],
   "source": [
    "import numpy as np"
   ]
  },
  {
   "cell_type": "code",
   "execution_count": 44,
   "metadata": {
    "ExecuteTime": {
     "end_time": "2018-10-16T12:03:49.835180Z",
     "start_time": "2018-10-16T12:03:49.830247Z"
    },
    "id": "Jhs5KMGZiD-x",
    "outputId": "06b7a7e1-45c1-4b72-f7e3-0149c82fcbb1"
   },
   "outputs": [
    {
     "name": "stdout",
     "output_type": "stream",
     "text": [
      "tensor([1., 1., 1., 1., 1.])\n"
     ]
    }
   ],
   "source": [
    "a = torch.ones(5) # 1로 채워진 텐서를 생성합니다.\n",
    "print(a)"
   ]
  },
  {
   "cell_type": "code",
   "execution_count": 45,
   "metadata": {
    "ExecuteTime": {
     "end_time": "2018-10-16T12:04:03.331822Z",
     "start_time": "2018-10-16T12:04:03.320915Z"
    },
    "id": "jJZY340giD-x",
    "outputId": "81827810-4613-4f01-e3ec-6af7728abc27"
   },
   "outputs": [
    {
     "name": "stdout",
     "output_type": "stream",
     "text": [
      "[1. 1. 1. 1. 1.]\n"
     ]
    }
   ],
   "source": [
    "# tensor.numpy()\n",
    "\n",
    "b = a.numpy()\n",
    "print(b)"
   ]
  },
  {
   "cell_type": "code",
   "execution_count": 46,
   "metadata": {
    "ExecuteTime": {
     "end_time": "2018-10-16T12:05:53.759506Z",
     "start_time": "2018-10-16T12:05:53.752563Z"
    },
    "id": "N-BrhQXXiD-y",
    "outputId": "6fa6dc9b-7bfa-45a5-c647-b257fb54ac93"
   },
   "outputs": [
    {
     "name": "stdout",
     "output_type": "stream",
     "text": [
      "[2. 2. 2. 2. 2.]\n",
      "tensor([2., 2., 2., 2., 2.], dtype=torch.float64)\n"
     ]
    }
   ],
   "source": [
    "# torch.from_numpy(ndarray)\n",
    "\n",
    "a = np.ones(5) #a와 b는 연동됩니다.\n",
    "b = torch.from_numpy(a)\n",
    "\n",
    "np.add(a,1,out=a)\n",
    "\n",
    "print(a)\n",
    "print(b) #chartensor를 제외한 모든 tensor는 numpy로의 변환을 지원합니다."
   ]
  },
  {
   "cell_type": "markdown",
   "metadata": {
    "id": "zZPeI6pIiD-y"
   },
   "source": [
    "## 4. Tensor on GPU"
   ]
  },
  {
   "cell_type": "code",
   "execution_count": 65,
   "metadata": {},
   "outputs": [
    {
     "data": {
      "text/plain": [
       "False"
      ]
     },
     "execution_count": 65,
     "metadata": {},
     "output_type": "execute_result"
    }
   ],
   "source": [
    "torch.cuda.is_available()"
   ]
  },
  {
   "cell_type": "code",
   "execution_count": 47,
   "metadata": {
    "ExecuteTime": {
     "end_time": "2018-10-18T14:52:44.993367Z",
     "start_time": "2018-10-18T14:52:44.988429Z"
    },
    "id": "Irq2zuZyiD-y",
    "outputId": "178ef041-3ff7-4f2b-9e8b-1d2c623a1ed0"
   },
   "outputs": [
    {
     "name": "stdout",
     "output_type": "stream",
     "text": [
      "tensor([[1., 2., 3.],\n",
      "        [4., 5., 6.]])\n"
     ]
    }
   ],
   "source": [
    "x= torch.FloatTensor([[1,2,3],[4,5,6]])\n",
    "\n",
    "if torch.cuda.is_available():\n",
    "    x_cuda = x.cuda()\n",
    "else:\n",
    "    x_cuda = x.cpu()\n",
    "    \n",
    "print(x_cuda)"
   ]
  },
  {
   "cell_type": "code",
   "execution_count": 63,
   "metadata": {
    "ExecuteTime": {
     "end_time": "2018-10-16T12:09:27.092831Z",
     "start_time": "2018-10-16T12:09:27.086847Z"
    },
    "id": "w9IdLZOViD-y",
    "outputId": "22dbe287-e249-422d-b8e6-5aeb5be44f78"
   },
   "outputs": [],
   "source": [
    "if torch.cuda.is_available():\n",
    "    device = torch.device(\"cuda\")\n",
    "    \n",
    "    y = torch.ones_like(x,device=device)\n",
    "    x = x.to(device)\n",
    "    z = x+y\n",
    "    print(z)\n",
    "    print(z.to(\"cpu\")) #.to 기능을 tensor를 GPU로 연산할 수 있습니다\n",
    "    print(z.to(\"cuda\"))"
   ]
  },
  {
   "cell_type": "markdown",
   "metadata": {
    "id": "0kvKIhD3iD-z"
   },
   "source": [
    "## 5. Indexing, Slicing, Joining\n",
    "\n",
    "### 1) Indexing"
   ]
  },
  {
   "cell_type": "code",
   "execution_count": 49,
   "metadata": {
    "ExecuteTime": {
     "end_time": "2018-10-18T14:56:58.868223Z",
     "start_time": "2018-10-18T14:56:58.861290Z"
    },
    "id": "bipjiNdCiD-z",
    "outputId": "1bffbb48-9448-43b9-8fac-23751588cfcf"
   },
   "outputs": [
    {
     "name": "stdout",
     "output_type": "stream",
     "text": [
      "torch.Size([4, 3]) torch.Size([2, 3])\n",
      "tensor([[0.1487, 0.9054, 0.1701],\n",
      "        [0.7845, 0.2550, 0.9267],\n",
      "        [0.1161, 0.3284, 0.9105],\n",
      "        [0.5545, 0.5552, 0.0495]]) \n",
      " tensor([[0.1487, 0.9054, 0.1701],\n",
      "        [0.5545, 0.5552, 0.0495]])\n"
     ]
    }
   ],
   "source": [
    "# tensor.index_select(input,dim,index)\n",
    "\n",
    "x = torch.rand(4,3)\n",
    "#꼭 LongTensor가 들어가야 한다.\n",
    "out = torch.index_select(x,0,torch.LongTensor([0,3]))\n",
    "# index는 꼭 Longtensor로 입력해야 합니다.\n",
    "\n",
    "print(x.size(), out.size())\n",
    "print(x, \"\\n\", out)"
   ]
  },
  {
   "cell_type": "code",
   "execution_count": 50,
   "metadata": {
    "ExecuteTime": {
     "end_time": "2018-10-18T14:58:17.485947Z",
     "start_time": "2018-10-18T14:58:17.476527Z"
    },
    "id": "tXAtpGwxiD-z",
    "outputId": "eb60f31d-7da8-4d00-f980-c8bdefbd3e2e"
   },
   "outputs": [
    {
     "name": "stdout",
     "output_type": "stream",
     "text": [
      "torch.Size([4, 3]) \n",
      " tensor([[0.1487, 0.9054, 0.1701],\n",
      "        [0.7845, 0.2550, 0.9267],\n",
      "        [0.1161, 0.3284, 0.9105],\n",
      "        [0.5545, 0.5552, 0.0495]])\n",
      "torch.Size([4]) tensor([0.1487, 0.7845, 0.1161, 0.5545])\n",
      "torch.Size([3]) tensor([0.1487, 0.9054, 0.1701])\n",
      "torch.Size([2, 2]) \n",
      " tensor([[0.1487, 0.9054],\n",
      "        [0.7845, 0.2550]])\n"
     ]
    }
   ],
   "source": [
    "print(x.size(),'\\n', x)\n",
    "print(x[:,0].size(),x[:,0])\n",
    "print(x[0,:].size(),x[0,:])\n",
    "print(x[0:2,0:2].size(),'\\n', x[0:2,0:2])"
   ]
  },
  {
   "cell_type": "markdown",
   "metadata": {
    "id": "GCxNhVkGiD-z"
   },
   "source": [
    "### 2) Joining"
   ]
  },
  {
   "cell_type": "code",
   "execution_count": 51,
   "metadata": {
    "ExecuteTime": {
     "end_time": "2018-10-18T15:03:42.155801Z",
     "start_time": "2018-10-18T15:03:42.147864Z"
    },
    "id": "vFpM7kvriD-z",
    "outputId": "b9d68da1-437e-47dc-8655-199f17c10382"
   },
   "outputs": [
    {
     "name": "stdout",
     "output_type": "stream",
     "text": [
      "tensor([[1., 2., 3.],\n",
      "        [4., 5., 6.]])\n",
      "tensor([[ 7.,  8.,  9.],\n",
      "        [10., 11., 12.]])\n",
      "tensor([[ 1.,  2.,  3.],\n",
      "        [ 4.,  5.,  6.],\n",
      "        [ 7.,  8.,  9.],\n",
      "        [10., 11., 12.]])\n",
      "tensor([[ 1.,  2.,  3.,  7.,  8.,  9.],\n",
      "        [ 4.,  5.,  6., 10., 11., 12.]])\n"
     ]
    }
   ],
   "source": [
    "# torch.cat(seq, dim=0)\n",
    "# dim을 기준으로 tensor를 합칩니다.\n",
    "# dim = 0은 행, dim = 1은 열 기준입니다.\n",
    "\n",
    "x = torch.FloatTensor([[1,2,3],\n",
    "                       [4,5,6]])\n",
    "y = torch.FloatTensor([[7,8,9],\n",
    "                       [10,11,12]])\n",
    "z1 = torch.cat([x,y],dim = 0)\n",
    "z2 = torch.cat([x,y],dim = 1)\n",
    "\n",
    "print(x)\n",
    "print(y)\n",
    "print(z1)\n",
    "print(z2)"
   ]
  },
  {
   "cell_type": "code",
   "execution_count": 52,
   "metadata": {
    "ExecuteTime": {
     "end_time": "2018-10-18T15:06:42.528676Z",
     "start_time": "2018-10-18T15:06:42.521732Z"
    },
    "id": "U8eTHItiiD-0"
   },
   "outputs": [
    {
     "name": "stdout",
     "output_type": "stream",
     "text": [
      "tensor([[1., 2., 3.],\n",
      "        [1., 2., 3.]]) \n",
      " tensor([[1., 1.],\n",
      "        [2., 2.],\n",
      "        [3., 3.]])\n"
     ]
    }
   ],
   "source": [
    "# torch.stack(sequence,dim=0)\n",
    "# dim을 기준으로 쌓습니다.\n",
    "\n",
    "x = torch.FloatTensor([1,2,3])\n",
    "x_stack = torch.stack([x,x],dim=0)\n",
    "x_stack2 = torch.stack([x,x],dim=1)\n",
    "\n",
    "print(x_stack,\"\\n\",x_stack2)"
   ]
  },
  {
   "cell_type": "markdown",
   "metadata": {
    "id": "2KumFIRkiD-0"
   },
   "source": [
    "### 3) Slicing"
   ]
  },
  {
   "cell_type": "code",
   "execution_count": 53,
   "metadata": {
    "ExecuteTime": {
     "end_time": "2018-10-18T15:26:40.350021Z",
     "start_time": "2018-10-18T15:26:40.340105Z"
    },
    "id": "iRWB28EkiD-0",
    "outputId": "bab56fae-03c3-4dc1-aa29-e1c511cdee64"
   },
   "outputs": [
    {
     "name": "stdout",
     "output_type": "stream",
     "text": [
      "tensor([[ 1.,  2.,  3.],\n",
      "        [ 4.,  5.,  6.],\n",
      "        [ 7.,  8.,  9.],\n",
      "        [10., 11., 12.]])\n",
      "tensor([[1., 2., 3.],\n",
      "        [4., 5., 6.]])\n",
      "tensor([[ 7.,  8.,  9.],\n",
      "        [10., 11., 12.]])\n",
      "tensor([[ 1.],\n",
      "        [ 4.],\n",
      "        [ 7.],\n",
      "        [10.]])\n",
      "tensor([[ 2.],\n",
      "        [ 5.],\n",
      "        [ 8.],\n",
      "        [11.]])\n",
      "tensor([[ 3.],\n",
      "        [ 6.],\n",
      "        [ 9.],\n",
      "        [12.]])\n"
     ]
    }
   ],
   "source": [
    "# torch.chunk(tensor, chunks, dim=0)\n",
    "# tensor를 chunk 단위로 쪼갭니다. chunk 개수 만큼 생성합니다.\n",
    "\n",
    "x = torch.FloatTensor([[1,2,3],\n",
    "                       [4,5,6]])\n",
    "y = torch.FloatTensor([[7,8,9],\n",
    "                       [10,11,12]])\n",
    "z1 = torch.cat([x,y],dim = 0)\n",
    "\n",
    "x_1, x_2 = torch.chunk(z1,2,dim=0)\n",
    "y_1, y_2, y_3 = torch.chunk(z1,3,dim=1)\n",
    "\n",
    "print(z1)\n",
    "print(x_1)\n",
    "print(x_2)\n",
    "print(y_1)\n",
    "print(y_2)\n",
    "print(y_3)"
   ]
  },
  {
   "cell_type": "code",
   "execution_count": 54,
   "metadata": {
    "ExecuteTime": {
     "end_time": "2018-10-18T15:30:36.566401Z",
     "start_time": "2018-10-18T15:30:36.560913Z"
    },
    "id": "dF_gGKR_iD-0",
    "outputId": "6f5bfaab-f9b7-4bf3-ffad-2bfc73d3b59c"
   },
   "outputs": [
    {
     "name": "stdout",
     "output_type": "stream",
     "text": [
      "tensor([[ 1.,  2.,  3.],\n",
      "        [ 4.,  5.,  6.],\n",
      "        [ 7.,  8.,  9.],\n",
      "        [10., 11., 12.]])\n",
      "tensor([[1., 2., 3.],\n",
      "        [4., 5., 6.]])\n",
      "tensor([[ 7.,  8.,  9.],\n",
      "        [10., 11., 12.]])\n",
      "tensor([[ 1.,  2.],\n",
      "        [ 4.,  5.],\n",
      "        [ 7.,  8.],\n",
      "        [10., 11.]])\n",
      "tensor([[ 3.],\n",
      "        [ 6.],\n",
      "        [ 9.],\n",
      "        [12.]])\n"
     ]
    }
   ],
   "source": [
    "# torch.split(tensor,split_size,dim=0) 각 size가 split_size만큼인 것을 생성합니다.\n",
    "\n",
    "x = torch.FloatTensor([[1,2,3],\n",
    "                       [4,5,6]])\n",
    "y = torch.FloatTensor([[7,8,9],\n",
    "                       [10,11,12]])\n",
    "z1 = torch.cat([x,y],dim = 0)\n",
    "\n",
    "x1,x2 = torch.split(z1,2,dim=0)\n",
    "y1,y2 = torch.split(z1,2,dim=1)\n",
    "\n",
    "print(z1)\n",
    "print(x1)\n",
    "print(x2)\n",
    "print(y1)\n",
    "print(y2)"
   ]
  },
  {
   "cell_type": "markdown",
   "metadata": {
    "id": "y3w7s4CBiD-1"
   },
   "source": [
    "### 4) squeezing"
   ]
  },
  {
   "cell_type": "code",
   "execution_count": 55,
   "metadata": {
    "ExecuteTime": {
     "end_time": "2018-10-18T15:32:18.274598Z",
     "start_time": "2018-10-18T15:32:18.270607Z"
    },
    "id": "XSQKfw3kiD-1"
   },
   "outputs": [
    {
     "data": {
      "text/plain": [
       "(torch.Size([10, 1, 3, 1, 4]), torch.Size([10, 3, 4]))"
      ]
     },
     "execution_count": 55,
     "metadata": {},
     "output_type": "execute_result"
    }
   ],
   "source": [
    "# torch.squeeze(input, dim=None)\n",
    "# 1짜리 차원을 줄입니다.\n",
    "\n",
    "x1 = torch.FloatTensor(10,1,3,1,4)\n",
    "x2 = torch.squeeze(x1)\n",
    "\n",
    "x1.size(), x2.size()"
   ]
  },
  {
   "cell_type": "code",
   "execution_count": 56,
   "metadata": {
    "ExecuteTime": {
     "end_time": "2018-10-18T15:33:42.680785Z",
     "start_time": "2018-10-18T15:33:42.668846Z"
    },
    "id": "y4VGLdoeiD-1"
   },
   "outputs": [
    {
     "data": {
      "text/plain": [
       "(torch.Size([2, 3]), torch.Size([1, 10, 3, 4]))"
      ]
     },
     "execution_count": 56,
     "metadata": {},
     "output_type": "execute_result"
    }
   ],
   "source": [
    "# torch.unsqueeze(input,dim=None)\n",
    "# 1짜리 차원을 더합니다.\n",
    "\n",
    "x1 = torch.FloatTensor(10,3,4)\n",
    "x2 = torch.unsqueeze(x1,dim=0)\n",
    "\n",
    "x.size(), x2.size()"
   ]
  },
  {
   "cell_type": "markdown",
   "metadata": {
    "id": "lylpl-6TiD-1"
   },
   "source": [
    "## 6. Initialization"
   ]
  },
  {
   "cell_type": "code",
   "execution_count": 57,
   "metadata": {
    "ExecuteTime": {
     "end_time": "2018-10-18T15:34:35.243740Z",
     "start_time": "2018-10-18T15:34:35.234338Z"
    },
    "id": "fTZfAo-ziD-1",
    "outputId": "f7ff2402-69bf-44b9-9729-888501599658"
   },
   "outputs": [
    {
     "data": {
      "text/plain": [
       "(tensor([[7.6463, 7.6400, 3.8694, 8.9925],\n",
       "         [0.2801, 0.1913, 8.0660, 4.3659],\n",
       "         [3.4551, 5.7380, 5.4065, 8.0093]]),\n",
       " tensor([[ 0.0796,  0.1277, -0.3970,  0.2332],\n",
       "         [-0.0021,  0.0855, -0.0370,  0.1918],\n",
       "         [ 0.2203,  0.1729, -0.0498,  0.0302]]),\n",
       " tensor([[3.1415, 3.1415, 3.1415, 3.1415],\n",
       "         [3.1415, 3.1415, 3.1415, 3.1415],\n",
       "         [3.1415, 3.1415, 3.1415, 3.1415]]))"
      ]
     },
     "execution_count": 57,
     "metadata": {},
     "output_type": "execute_result"
    }
   ],
   "source": [
    "import torch.nn.init as init\n",
    "\n",
    "x1 = init.uniform_(torch.FloatTensor(3,4),a=0,b=9) \n",
    "x2 = init.normal_(torch.FloatTensor(3,4),std=0.2)\n",
    "x3 = init.constant_(torch.FloatTensor(3,4),3.1415)\n",
    "\n",
    "x1,x2,x3"
   ]
  },
  {
   "cell_type": "code",
   "execution_count": null,
   "metadata": {
    "id": "M0hx_UqciD-2"
   },
   "outputs": [],
   "source": []
  }
 ],
 "metadata": {
  "colab": {
   "name": "1_torch_package.ipynb",
   "provenance": []
  },
  "kernelspec": {
   "display_name": "Python 3 (ipykernel)",
   "language": "python",
   "name": "python3"
  },
  "language_info": {
   "codemirror_mode": {
    "name": "ipython",
    "version": 3
   },
   "file_extension": ".py",
   "mimetype": "text/x-python",
   "name": "python",
   "nbconvert_exporter": "python",
   "pygments_lexer": "ipython3",
   "version": "3.7.9"
  },
  "latex_envs": {
   "LaTeX_envs_menu_present": true,
   "autoclose": false,
   "autocomplete": true,
   "bibliofile": "biblio.bib",
   "cite_by": "apalike",
   "current_citInitial": 1,
   "eqLabelWithNumbers": true,
   "eqNumInitial": 1,
   "hotkeys": {
    "equation": "Ctrl-E",
    "itemize": "Ctrl-I"
   },
   "labels_anchors": false,
   "latex_user_defs": false,
   "report_style_numbering": false,
   "user_envs_cfg": false
  },
  "toc": {
   "base_numbering": 1,
   "nav_menu": {},
   "number_sections": false,
   "sideBar": true,
   "skip_h1_title": false,
   "title_cell": "Table of Contents",
   "title_sidebar": "Contents",
   "toc_cell": false,
   "toc_position": {},
   "toc_section_display": true,
   "toc_window_display": false
  },
  "varInspector": {
   "cols": {
    "lenName": 16,
    "lenType": 16,
    "lenVar": 40
   },
   "kernels_config": {
    "python": {
     "delete_cmd_postfix": "",
     "delete_cmd_prefix": "del ",
     "library": "var_list.py",
     "varRefreshCmd": "print(var_dic_list())"
    },
    "r": {
     "delete_cmd_postfix": ") ",
     "delete_cmd_prefix": "rm(",
     "library": "var_list.r",
     "varRefreshCmd": "cat(var_dic_list()) "
    }
   },
   "types_to_exclude": [
    "module",
    "function",
    "builtin_function_or_method",
    "instance",
    "_Feature"
   ],
   "window_display": false
  }
 },
 "nbformat": 4,
 "nbformat_minor": 1
}
